{
  "nbformat": 4,
  "nbformat_minor": 0,
  "metadata": {
    "colab": {
      "name": "Example VQE.ipynb",
      "provenance": [],
      "collapsed_sections": [],
      "toc_visible": true,
      "authorship_tag": "ABX9TyMxn4Fn8AL7WA9HSwsF/SDg",
      "include_colab_link": true
    },
    "kernelspec": {
      "name": "python3",
      "display_name": "Python 3"
    }
  },
  "cells": [
    {
      "cell_type": "markdown",
      "metadata": {
        "id": "view-in-github",
        "colab_type": "text"
      },
      "source": [
        "<a href=\"https://colab.research.google.com/github/enriqueasegura/Quantum-X/blob/master/Example_VQE.ipynb\" target=\"_parent\"><img src=\"https://colab.research.google.com/assets/colab-badge.svg\" alt=\"Open In Colab\"/></a>"
      ]
    },
    {
      "cell_type": "code",
      "metadata": {
        "id": "OxjShhacCdyK",
        "colab_type": "code",
        "outputId": "49887596-1be9-4d78-87a4-5e461ca28255",
        "colab": {
          "base_uri": "https://localhost:8080/",
          "height": 1000
        }
      },
      "source": [
        "import numpy as np\n",
        "!pip install git+https://github.com/quantumlib/Cirq\n",
        "  \n",
        "import matplotlib.pyplot as plt\n",
        "from pandas import DataFrame\n",
        "import cirq\n",
        "from cirq.ops import CNOT, TOFFOLI\n",
        "from cirq import Simulator\n",
        "import random\n",
        "from sympy import Symbol\n",
        "from cirq.circuits import InsertStrategy\n",
        "\n",
        "import matplotlib\n",
        "\n",
        "#!wget https://github.com/Phonbopit/sarabun-webfont/raw/master/fonts/thsarabunnew-webfont.ttf -P /usr/local/lib/python3.6/dist-packages/matplotlib/mpl-data/fonts/ttf\n",
        "\n",
        "\n",
        "! sudo apt-get install texlive-latex-recommended #1\n",
        "! sudo apt-get install dvipng texlive-fonts-recommended #2\n",
        "! wget http://mirrors.ctan.org/macros/latex/contrib/type1cm.zip #3\n",
        "! unzip type1cm.zip -d /tmp/type1cm #4\n",
        "! cd /tmp/type1cm/type1cm/ && sudo latex type1cm.ins  #5\n",
        "! sudo mkdir /usr/share/texmf/tex/latex/type1cm #6\n",
        "! sudo cp /tmp/type1cm/type1cm/type1cm.sty /usr/share/texmf/tex/latex/type1cm #7\n",
        "! sudo texhash #8\n"
      ],
      "execution_count": 1,
      "outputs": [
        {
          "output_type": "stream",
          "text": [
            "Collecting git+https://github.com/quantumlib/Cirq\n",
            "  Cloning https://github.com/quantumlib/Cirq to /tmp/pip-req-build-4o99wci4\n",
            "  Running command git clone -q https://github.com/quantumlib/Cirq /tmp/pip-req-build-4o99wci4\n",
            "Requirement already satisfied (use --upgrade to upgrade): cirq==0.8.0.dev0 from git+https://github.com/quantumlib/Cirq in /usr/local/lib/python3.6/dist-packages\n",
            "Requirement already satisfied: google-api-core[grpc]<2.0.0dev,>=1.14.0 in /usr/local/lib/python3.6/dist-packages (from cirq==0.8.0.dev0) (1.16.0)\n",
            "Requirement already satisfied: matplotlib~=3.0 in /usr/local/lib/python3.6/dist-packages (from cirq==0.8.0.dev0) (3.1.3)\n",
            "Requirement already satisfied: networkx~=2.4 in /usr/local/lib/python3.6/dist-packages (from cirq==0.8.0.dev0) (2.4)\n",
            "Requirement already satisfied: numpy~=1.16 in /usr/local/lib/python3.6/dist-packages (from cirq==0.8.0.dev0) (1.17.5)\n",
            "Requirement already satisfied: pandas~=0.25 in /usr/local/lib/python3.6/dist-packages (from cirq==0.8.0.dev0) (0.25.3)\n",
            "Requirement already satisfied: protobuf==3.8.0 in /usr/local/lib/python3.6/dist-packages (from cirq==0.8.0.dev0) (3.8.0)\n",
            "Requirement already satisfied: requests~=2.18 in /usr/local/lib/python3.6/dist-packages (from cirq==0.8.0.dev0) (2.21.0)\n",
            "Requirement already satisfied: sortedcontainers~=2.0 in /usr/local/lib/python3.6/dist-packages (from cirq==0.8.0.dev0) (2.1.0)\n",
            "Requirement already satisfied: scipy in /usr/local/lib/python3.6/dist-packages (from cirq==0.8.0.dev0) (1.4.1)\n",
            "Requirement already satisfied: sympy in /usr/local/lib/python3.6/dist-packages (from cirq==0.8.0.dev0) (1.5.1)\n",
            "Requirement already satisfied: typing_extensions in /usr/local/lib/python3.6/dist-packages (from cirq==0.8.0.dev0) (3.6.6)\n",
            "Requirement already satisfied: dataclasses in /usr/local/lib/python3.6/dist-packages (from cirq==0.8.0.dev0) (0.7)\n",
            "Requirement already satisfied: google-auth<2.0dev,>=0.4.0 in /usr/local/lib/python3.6/dist-packages (from google-api-core[grpc]<2.0.0dev,>=1.14.0->cirq==0.8.0.dev0) (1.7.2)\n",
            "Requirement already satisfied: six>=1.10.0 in /usr/local/lib/python3.6/dist-packages (from google-api-core[grpc]<2.0.0dev,>=1.14.0->cirq==0.8.0.dev0) (1.12.0)\n",
            "Requirement already satisfied: pytz in /usr/local/lib/python3.6/dist-packages (from google-api-core[grpc]<2.0.0dev,>=1.14.0->cirq==0.8.0.dev0) (2018.9)\n",
            "Requirement already satisfied: googleapis-common-protos<2.0dev,>=1.6.0 in /usr/local/lib/python3.6/dist-packages (from google-api-core[grpc]<2.0.0dev,>=1.14.0->cirq==0.8.0.dev0) (1.51.0)\n",
            "Requirement already satisfied: setuptools>=34.0.0 in /usr/local/lib/python3.6/dist-packages (from google-api-core[grpc]<2.0.0dev,>=1.14.0->cirq==0.8.0.dev0) (45.1.0)\n",
            "Requirement already satisfied: grpcio<2.0dev,>=1.8.2; extra == \"grpc\" in /usr/local/lib/python3.6/dist-packages (from google-api-core[grpc]<2.0.0dev,>=1.14.0->cirq==0.8.0.dev0) (1.27.1)\n",
            "Requirement already satisfied: kiwisolver>=1.0.1 in /usr/local/lib/python3.6/dist-packages (from matplotlib~=3.0->cirq==0.8.0.dev0) (1.1.0)\n",
            "Requirement already satisfied: python-dateutil>=2.1 in /usr/local/lib/python3.6/dist-packages (from matplotlib~=3.0->cirq==0.8.0.dev0) (2.6.1)\n",
            "Requirement already satisfied: pyparsing!=2.0.4,!=2.1.2,!=2.1.6,>=2.0.1 in /usr/local/lib/python3.6/dist-packages (from matplotlib~=3.0->cirq==0.8.0.dev0) (2.4.6)\n",
            "Requirement already satisfied: cycler>=0.10 in /usr/local/lib/python3.6/dist-packages (from matplotlib~=3.0->cirq==0.8.0.dev0) (0.10.0)\n",
            "Requirement already satisfied: decorator>=4.3.0 in /usr/local/lib/python3.6/dist-packages (from networkx~=2.4->cirq==0.8.0.dev0) (4.4.1)\n",
            "Requirement already satisfied: urllib3<1.25,>=1.21.1 in /usr/local/lib/python3.6/dist-packages (from requests~=2.18->cirq==0.8.0.dev0) (1.24.3)\n",
            "Requirement already satisfied: idna<2.9,>=2.5 in /usr/local/lib/python3.6/dist-packages (from requests~=2.18->cirq==0.8.0.dev0) (2.8)\n",
            "Requirement already satisfied: chardet<3.1.0,>=3.0.2 in /usr/local/lib/python3.6/dist-packages (from requests~=2.18->cirq==0.8.0.dev0) (3.0.4)\n",
            "Requirement already satisfied: certifi>=2017.4.17 in /usr/local/lib/python3.6/dist-packages (from requests~=2.18->cirq==0.8.0.dev0) (2019.11.28)\n",
            "Requirement already satisfied: mpmath>=0.19 in /usr/local/lib/python3.6/dist-packages (from sympy->cirq==0.8.0.dev0) (1.1.0)\n",
            "Requirement already satisfied: pyasn1-modules>=0.2.1 in /usr/local/lib/python3.6/dist-packages (from google-auth<2.0dev,>=0.4.0->google-api-core[grpc]<2.0.0dev,>=1.14.0->cirq==0.8.0.dev0) (0.2.8)\n",
            "Requirement already satisfied: rsa<4.1,>=3.1.4 in /usr/local/lib/python3.6/dist-packages (from google-auth<2.0dev,>=0.4.0->google-api-core[grpc]<2.0.0dev,>=1.14.0->cirq==0.8.0.dev0) (4.0)\n",
            "Requirement already satisfied: cachetools<3.2,>=2.0.0 in /usr/local/lib/python3.6/dist-packages (from google-auth<2.0dev,>=0.4.0->google-api-core[grpc]<2.0.0dev,>=1.14.0->cirq==0.8.0.dev0) (3.1.1)\n",
            "Requirement already satisfied: pyasn1<0.5.0,>=0.4.6 in /usr/local/lib/python3.6/dist-packages (from pyasn1-modules>=0.2.1->google-auth<2.0dev,>=0.4.0->google-api-core[grpc]<2.0.0dev,>=1.14.0->cirq==0.8.0.dev0) (0.4.8)\n",
            "Building wheels for collected packages: cirq\n",
            "  Building wheel for cirq (setup.py) ... \u001b[?25l\u001b[?25hdone\n",
            "  Created wheel for cirq: filename=cirq-0.8.0.dev0-cp36-none-any.whl size=1303566 sha256=cf39f85ec5124736caff09d9035a9bd983e2a4bf9adb51a67956f2da66a12535\n",
            "  Stored in directory: /tmp/pip-ephem-wheel-cache-v2zn0vkl/wheels/c9/f4/ee/029123a49c5e2d75d08c2a9f937e207b88f045901db04632a7\n",
            "Successfully built cirq\n",
            "Reading package lists... Done\n",
            "Building dependency tree       \n",
            "Reading state information... Done\n",
            "texlive-latex-recommended is already the newest version (2017.20180305-1).\n",
            "The following package was automatically installed and is no longer required:\n",
            "  libnvidia-common-430\n",
            "Use 'sudo apt autoremove' to remove it.\n",
            "0 upgraded, 0 newly installed, 0 to remove and 25 not upgraded.\n",
            "Reading package lists... Done\n",
            "Building dependency tree       \n",
            "Reading state information... Done\n",
            "dvipng is already the newest version (1.15-1).\n",
            "texlive-fonts-recommended is already the newest version (2017.20180305-1).\n",
            "The following package was automatically installed and is no longer required:\n",
            "  libnvidia-common-430\n",
            "Use 'sudo apt autoremove' to remove it.\n",
            "0 upgraded, 0 newly installed, 0 to remove and 25 not upgraded.\n",
            "--2020-02-22 08:03:33--  http://mirrors.ctan.org/macros/latex/contrib/type1cm.zip\n",
            "Resolving mirrors.ctan.org (mirrors.ctan.org)... 5.35.249.60\n",
            "Connecting to mirrors.ctan.org (mirrors.ctan.org)|5.35.249.60|:80... connected.\n",
            "HTTP request sent, awaiting response... 302 Found\n",
            "Location: http://mirrors.rit.edu/CTAN/macros/latex/contrib/type1cm.zip [following]\n",
            "--2020-02-22 08:03:35--  http://mirrors.rit.edu/CTAN/macros/latex/contrib/type1cm.zip\n",
            "Resolving mirrors.rit.edu (mirrors.rit.edu)... 129.21.171.72, 2620:8d:8000:15:225:90ff:fefd:344c\n",
            "Connecting to mirrors.rit.edu (mirrors.rit.edu)|129.21.171.72|:80... connected.\n",
            "HTTP request sent, awaiting response... 200 OK\n",
            "Length: 328566 (321K) [application/zip]\n",
            "Saving to: ‘type1cm.zip.6’\n",
            "\n",
            "type1cm.zip.6       100%[===================>] 320.87K  --.-KB/s    in 0.1s    \n",
            "\n",
            "2020-02-22 08:03:35 (2.13 MB/s) - ‘type1cm.zip.6’ saved [328566/328566]\n",
            "\n",
            "Archive:  type1cm.zip\n",
            "replace /tmp/type1cm/type1cm/type1cm.fdd? [y]es, [n]o, [A]ll, [N]one, [r]ename: N\n",
            "This is pdfTeX, Version 3.14159265-2.6-1.40.18 (TeX Live 2017/Debian) (preloaded format=latex)\n",
            " restricted \\write18 enabled.\n",
            "entering extended mode\n",
            "(./type1cm.ins\n",
            "LaTeX2e <2017-04-15>\n",
            "Babel <3.18> and hyphenation patterns for 3 language(s) loaded.\n",
            "(/usr/share/texlive/texmf-dist/tex/latex/base/docstrip.tex\n",
            "Utility: `docstrip' 2.5e <2014/09/29>\n",
            "English documentation    <2017/03/13>\n",
            "\n",
            "**********************************************************\n",
            "* This program converts documented macro-files into fast *\n",
            "* loadable files by stripping off (nearly) all comments! *\n",
            "**********************************************************\n",
            "\n",
            "********************************************************\n",
            "* No Configuration file found, using default settings. *\n",
            "********************************************************\n",
            "\n",
            "(./type1cm.ins\n",
            "File ./type1cm.sty already exists on the system.\n",
            "Overwrite it? [y/n]\n",
            "\\answer=n\n",
            "Not generating file ./type1cm.sty\n",
            "\n",
            ")\n",
            "\n",
            "****************************************************\n",
            "* First type the extension of your input file(s):  *\n",
            "\\infileext=\n",
            "****************************************************\n",
            "\n",
            "****************************************************\n",
            "* Now type the extension of your output file(s)  : *\n",
            "\\outfileext=\n",
            "****************************************************\n",
            "\n",
            "****************************************************\n",
            "* Now type the name(s) of option(s) to include   : *\n",
            "\\Options=\n",
            "****************************************************\n",
            "\n",
            "****************************************************\n",
            "* Finally give the list of input file(s) without   *\n",
            "* extension separated by commas if necessary     : *\n",
            "\\filelist=\n",
            "****************************************************\n",
            "\n",
            "More files to process (y/n)?\n",
            "\\answer=\n",
            " ) )\n",
            "No pages of output.\n",
            "Transcript written on type1cm.log.\n",
            "mkdir: cannot create directory ‘/usr/share/texmf/tex/latex/type1cm’: File exists\n",
            "texhash: Updating /usr/local/share/texmf/ls-R... \n",
            "texhash: Updating /var/lib/texmf/ls-R-TEXLIVEDIST... \n",
            "texhash: Updating /var/lib/texmf/ls-R-TEXMFMAIN... \n",
            "texhash: Updating /var/lib/texmf/ls-R... \n",
            "texhash: Done.\n"
          ],
          "name": "stdout"
        }
      ]
    },
    {
      "cell_type": "markdown",
      "metadata": {
        "id": "WQuDnd0RCe-U",
        "colab_type": "text"
      },
      "source": [
        "#Find the lowest eigenvalue of the following matrix\n",
        "\n",
        "$\\begin{equation*}\n",
        "H = \n",
        "\\begin{pmatrix}\n",
        "0 & 0 & 0 & 0 \\\\\n",
        "0 & -1 & 1& 0 \\\\\n",
        "0 & 1 & -1& 0 \\\\\\\n",
        "0 & 0 & 0 & 0 \n",
        "\\end{pmatrix}\n",
        "\\end{equation*}\n",
        "$\n",
        "\n",
        "using VQE-like circuits, handwritten by yourself.\n",
        "\n",
        "In general this exercise might be pretty difficult, so below there are a couple of tips. I’ve written them in pale font, so that those of you who embrace the challenge don’t look at them accidentally ;) \n",
        "1. It requires decomposing the matrix to sum of Pauli terms. \n",
        "2. Decomposition involves only terms consisting of the same matrices, i.e.: II, XX, YY, ZZ and the coefficients are +/- 2.\n",
        "3. The ansatz you can use is: (IX) CX (RZ I) (HI) |00>, where angle in RZ is your variational parameter.\n",
        "4. You can find explanation of VQE in this [blogpost](https://www.mustythoughts.com/post/variational-quantum-eigensolver-explained), You can also find links to further resources there.\n",
        "5. You can just search through all angles for RZ, you don’t need to use any optimizers like gradient descent.\n",
        "\n"
      ]
    },
    {
      "cell_type": "markdown",
      "metadata": {
        "id": "edv6NAGeeZPH",
        "colab_type": "text"
      },
      "source": [
        "#Borrowed Code to Decompose Two-Qubit Matrix"
      ]
    },
    {
      "cell_type": "code",
      "metadata": {
        "id": "7Z-fGiNRDaNL",
        "colab_type": "code",
        "colab": {}
      },
      "source": [
        "#borrowed from Michael H. Goerz\n",
        "\n",
        "def HS(M1, M2):\n",
        "    \"\"\"Hilbert-Schmidt-Product of two matrices M1, M2\"\"\"\n",
        "    return (np.dot(M1.conjugate().transpose(), M2)).trace()\n",
        "\n",
        "def c2s(c):\n",
        "    \"\"\"Return a string representation of a complex number c\"\"\"\n",
        "    if c == 0.0:\n",
        "        return \"0\"\n",
        "    if c.imag == 0:\n",
        "        return \"%g\" % c.real\n",
        "    elif c.real == 0:\n",
        "        return \"%gj\" % c.imag\n",
        "    else:\n",
        "        return \"%g+%gj\" % (c.real, c.imag)\n",
        "\n",
        "def decompose(H):\n",
        "    \"\"\"Decompose Hermitian 4x4 matrix H into Pauli matrices\"\"\"\n",
        "    from numpy import kron\n",
        "    sx = np.array([[0, 1],  [ 1, 0]], dtype=np.complex128)\n",
        "    sy = np.array([[0, -1j],[1j, 0]], dtype=np.complex128)\n",
        "    sz = np.array([[1, 0],  [0, -1]], dtype=np.complex128)\n",
        "    id = np.array([[1, 0],  [ 0, 1]], dtype=np.complex128)\n",
        "    S = [id, sx, sy, sz]\n",
        "    labels = ['I', 'sigma_x', 'sigma_y', 'sigma_z']\n",
        "    #modified from his original xrange because it was not working\n",
        "    for i in range(4):\n",
        "        for j in range(4):\n",
        "            label = labels[i] + ' \\otimes ' + labels[j]\n",
        "            a_ij = 0.25 * HS(kron(S[i], S[j]), H)\n",
        "            if a_ij != 0.0:\n",
        "                print(\"%s\\t*\\t( %s )\" % (c2s(a_ij), label))"
      ],
      "execution_count": 0,
      "outputs": []
    },
    {
      "cell_type": "code",
      "metadata": {
        "id": "JQ18jhfiDnPL",
        "colab_type": "code",
        "colab": {
          "base_uri": "https://localhost:8080/",
          "height": 86
        },
        "outputId": "b91c5317-652c-4790-810f-d3cf0d6eebb5"
      },
      "source": [
        "h_initial = np.array([[0,0,0,0], \n",
        "                      [0, -1, 1, 0], \n",
        "                      [0,1,-1,0], \n",
        "                      [0,0,0,0]])\n",
        "\n",
        "h_initial"
      ],
      "execution_count": 3,
      "outputs": [
        {
          "output_type": "execute_result",
          "data": {
            "text/plain": [
              "array([[ 0,  0,  0,  0],\n",
              "       [ 0, -1,  1,  0],\n",
              "       [ 0,  1, -1,  0],\n",
              "       [ 0,  0,  0,  0]])"
            ]
          },
          "metadata": {
            "tags": []
          },
          "execution_count": 3
        }
      ]
    },
    {
      "cell_type": "code",
      "metadata": {
        "id": "kztiUQWUFc4M",
        "colab_type": "code",
        "outputId": "02712de8-a4b7-43cd-b113-02fe805e6e44",
        "colab": {
          "base_uri": "https://localhost:8080/",
          "height": 52
        }
      },
      "source": [
        "#the actual answer from what we know\n",
        "\n",
        "min_eigenvalue = np.min(np.linalg.eigvals(h_initial))\n",
        "print('Eigenvalues of this matrix: ', np.linalg.eigvals(h_initial))\n",
        "print('Minimum eigenvalue in this matrix (the answer we need to get): ', min_eigenvalue)"
      ],
      "execution_count": 4,
      "outputs": [
        {
          "output_type": "stream",
          "text": [
            "Eigenvalues of this matrix:  [ 0. -2.  0.  0.]\n",
            "Minimum eigenvalue in this matrix (the answer we need to get):  -2.0\n"
          ],
          "name": "stdout"
        }
      ]
    },
    {
      "cell_type": "markdown",
      "metadata": {
        "id": "zV_od20OeNlE",
        "colab_type": "text"
      },
      "source": [
        "#Decomposition of Matrix:"
      ]
    },
    {
      "cell_type": "code",
      "metadata": {
        "id": "IhGbYyzvDv37",
        "colab_type": "code",
        "outputId": "e2fb961c-d6f5-4cff-f2db-37bf507180c3",
        "colab": {
          "base_uri": "https://localhost:8080/",
          "height": 86
        }
      },
      "source": [
        "h_decomposed = decompose(h_initial)"
      ],
      "execution_count": 5,
      "outputs": [
        {
          "output_type": "stream",
          "text": [
            "-0.5\t*\t( I \\otimes I )\n",
            "0.5\t*\t( sigma_x \\otimes sigma_x )\n",
            "0.5\t*\t( sigma_y \\otimes sigma_y )\n",
            "0.5\t*\t( sigma_z \\otimes sigma_z )\n"
          ],
          "name": "stdout"
        }
      ]
    },
    {
      "cell_type": "markdown",
      "metadata": {
        "id": "h85LD9S2fYYy",
        "colab_type": "text"
      },
      "source": [
        "Thus we can write the following equation: \n",
        "\n",
        "\\begin{eqnarray}\n",
        "H &=& \\frac{-1}{2} ( I_1 \\otimes I_2 ) +\n",
        "      \\frac{1}{2}  (X_1 \\otimes X_2 ) +\n",
        "      \\frac{1}{2}  (Y_1 \\otimes Y_2) +\n",
        "      \\frac{1}{2} (Z_1 \\otimes Z_2)\n",
        "\\end{eqnarray}\n",
        "\n",
        "This represents the decomposition of the hamiltonian of interest for this task. Each tensor product - minus the first term - will be implemented as a quantum circuit below. \n",
        "\n",
        "Sidenote: \n",
        "\\begin{eqnarray}\n",
        "       \\frac{1}{2}  (X_1 \\otimes X_2 ) +\n",
        "      \\frac{1}{2}  (Y_1 \\otimes Y_2) \n",
        "      \\end{eqnarray}\n",
        "\n",
        "This expression commutes. Thus, we can compress this into a single circuit.\n"
      ]
    },
    {
      "cell_type": "markdown",
      "metadata": {
        "id": "LHuNMlmhhAyn",
        "colab_type": "text"
      },
      "source": [
        "#Test Ansatz\n",
        "\n",
        "(IX) CX (RZ I) (HI) |00> \n",
        "\n",
        "I used [this paper](https://arxiv.org/pdf/1909.05074.pdf), specifically the example given by figure 4, to write the circuit in accordance to this ansatz. "
      ]
    },
    {
      "cell_type": "code",
      "metadata": {
        "id": "jR04Vt5ShAMw",
        "colab_type": "code",
        "colab": {}
      },
      "source": [
        "def ansatz_task(angle, num_qubits):\n",
        "  q = [cirq.LineQubit(i) for i in range(2)]\n",
        "  \n",
        "  yield cirq.H(q[0])\n",
        "  rot = cirq.rz(rads=angle)\n",
        "  yield rot(q[0])\n",
        "\n",
        "  yield cirq.CX(*q)\n",
        "  yield cirq.X(q[1])\n",
        "  #yield cirq.X(q[1])\n",
        "  yield cirq.measure(*q)"
      ],
      "execution_count": 0,
      "outputs": []
    },
    {
      "cell_type": "code",
      "metadata": {
        "id": "JJdxv5qHi-7a",
        "colab_type": "code",
        "colab": {}
      },
      "source": [
        "def ansatz_explorer(num_qubits, num_reps):\n",
        "  angle_range = np.arange(0, 2*np.pi, 0.01)\n",
        "  energy_arr = []\n",
        "  for angle in angle_range:\n",
        "    \n",
        "    #create circuit with current variation\n",
        "    curr_circuit = cirq.Circuit()\n",
        "    curr_circuit.append(ansatz_task(angle, num_qubits))\n",
        "\n",
        "    #simulate this circuit \n",
        "    curr_simulator = cirq.Simulator()\n",
        "\n",
        "    curr_results = curr_simulator.run(curr_circuit, repetitions=num_reps)\n",
        "  \n",
        "    #keep the measured keys and values \n",
        "    s_k, s_v= zip(*curr_results.measurements.items())\n",
        "\n",
        "    #convert into booleans from sp|in values\n",
        "    curr_state_values = 1 - 2*np.array(s_v).astype(np.int32)\n",
        "\n",
        "    #get the expectation value (the average of the counts)\n",
        "    #I keep double the variables because I want to remind myself of the distinction between this task and the context \n",
        "    #of Farhi's paper.\n",
        "    curr_predicted_label_value = np.mean(curr_state_values)\n",
        "\n",
        "    #keep the current expected energy:\n",
        "    curr_energy = np.mean(curr_state_values)\n",
        "    energy_arr.append(curr_energy)\n",
        "    #print('current angle: ', angle, 'current energy: ', curr_energy)\n",
        "\n",
        "  return(angle_range, energy_arr)"
      ],
      "execution_count": 0,
      "outputs": []
    },
    {
      "cell_type": "code",
      "metadata": {
        "id": "htKeyIChigVL",
        "colab_type": "code",
        "colab": {}
      },
      "source": [
        "test_explorer = ansatz_explorer(2, 1000)"
      ],
      "execution_count": 0,
      "outputs": []
    },
    {
      "cell_type": "code",
      "metadata": {
        "id": "pGAm0W3yki9Q",
        "colab_type": "code",
        "colab": {}
      },
      "source": [
        "\"\"\"\n",
        "plt.figure(figsize=(10,5))\n",
        "\n",
        "#plt.plot(test_optimization[0], label=r'$X_1\\otimes X_2$', color='#FF6C0C', linestyle='-')\n",
        "plt.plot(test_explorer[0], test_explorer[1], label=r'$Y_1\\otimes Y_2$', color='crimson', linestyle='-')\n",
        "#plt.plot(test_optimization[6], label=r'$Z_1\\otimes Z_2$', color='#00693e', linestyle='-')\n",
        "\n",
        "plt.legend(fontsize=15, bbox_to_anchor=(1.24,1))\n",
        "\n",
        "plt.tick_params(axis='both', labelsize=15)\n",
        "plt.xlabel('Iterations', fontsize=25)\n",
        "plt.ylabel(r'$\\mathcal{L}$',fontsize=25)\n",
        "\n",
        "plt.title(r'Evolution of $\\mathcal{L}$ as VQE searches for Ground State in $\\mathcal{H}$', fontsize=25)\n",
        "\n",
        "plt.tight_layout()\n",
        "\n",
        "plt.subplots_adjust(top=0.7)\n",
        "\"\"\""
      ],
      "execution_count": 0,
      "outputs": []
    },
    {
      "cell_type": "markdown",
      "metadata": {
        "id": "O1WGVbnBeRe1",
        "colab_type": "text"
      },
      "source": [
        "# Code to Develop Quantum Circuits from Given Matrix to Represent Decomposition:\n",
        "\n",
        "I followed the following [paper](https://arxiv.org/pdf/1108.4318.pdf), as well as Nielsen and Chuang's exercise 4.31 to develop these circuits. "
      ]
    },
    {
      "cell_type": "code",
      "metadata": {
        "id": "YAwkZt_Iwyze",
        "colab_type": "code",
        "colab": {}
      },
      "source": [
        "#this is from the example of the blogs I used to build a sample circuit\n",
        "def ansatz(th, input_q):\n",
        "  rot= cirq.YPowGate(exponent=th)\n",
        "  yield rot(input_q)\n",
        "\n",
        "#after this, I develop the following functions to develop the required circuits to implement the\n",
        "#decomposition circuit shown above. \n",
        "\n",
        "def XX_circuit(th1, num_q):\n",
        "  q = [cirq.LineQubit(i) for i in range(num_q)]\n",
        "\n",
        "  #Change of basis \n",
        "  yield cirq.H(q[0])\n",
        "  yield cirq.H(q[1])\n",
        "  \n",
        "  #first rotation\n",
        "  yield cirq.CNOT(*q)\n",
        "  rot= cirq.rz(rads=th1)\n",
        "  yield rot(q[1])\n",
        "  yield cirq.CNOT(*q)\n",
        "\n",
        "  #Change of basis \n",
        "  yield cirq.H(q[0])\n",
        "  yield cirq.H(q[1])\n",
        "\n",
        "  #second rotation Y since it's an X operator\n",
        "  #rot2 = cirq.ry(th2)\n",
        "  #yield rot2(q[0])\n",
        "  #yield rot2(q[1])\n",
        "\n",
        "  yield cirq.measure(*q)"
      ],
      "execution_count": 0,
      "outputs": []
    },
    {
      "cell_type": "code",
      "metadata": {
        "id": "0588w7AeUWZk",
        "colab_type": "code",
        "colab": {}
      },
      "source": [
        "\"\"\"\n",
        "c = cirq.Circuit()\n",
        "c.append(XX_circuit(1.2, 2))\n",
        "\n",
        "print(c)\n",
        "\n",
        "c_s = cirq.Simulator()\n",
        "\n",
        "r = c_s.run(c, 1000)\n",
        "cirq.plot_state_histogram(r)\n",
        "\"\"\""
      ],
      "execution_count": 0,
      "outputs": []
    },
    {
      "cell_type": "code",
      "metadata": {
        "id": "a7ydeEOzm299",
        "colab_type": "code",
        "colab": {}
      },
      "source": [
        "def YY_circuit(th1, num_q):\n",
        "  c = cirq.Circuit()\n",
        "  q = [cirq.LineQubit(i) for i in range(num_q)]\n",
        "  \n",
        "  #entangle the qubits and take them to the measurement basis \n",
        "  yield cirq.CNOT(q[1], q[0])\n",
        "  yield cirq.H(q[1])\n",
        "\n",
        "  #bring the ansatz \n",
        "  yield cirq.CNOT(q[0], q[1])\n",
        "  rot= cirq.rz(rads=th1)\n",
        "  yield rot(q[1])\n",
        "  yield cirq.CNOT(q[0], q[1])\n",
        "\n",
        "  #and now, start reversing the process \n",
        "  yield cirq.H(q[1])\n",
        "  yield cirq.CNOT(q[1], q[0])\n",
        "\n",
        "  yield cirq.measure(*q)\n",
        "  return c"
      ],
      "execution_count": 0,
      "outputs": []
    },
    {
      "cell_type": "code",
      "metadata": {
        "id": "Fa2ipPjlm42D",
        "colab_type": "code",
        "colab": {}
      },
      "source": [
        "def ZZ_circuit(th1, num_q):\n",
        "  c = cirq.Circuit()\n",
        "  q = [cirq.LineQubit(i) for i in range(num_q)]\n",
        "\n",
        "  yield cirq.H(q[0])\n",
        "  yield cirq.H(q[1])\n",
        "\n",
        "  yield cirq.CNOT(q[0], q[1])\n",
        "  #first rotation \n",
        "\n",
        "  rot = cirq.ZPowGate(exponent=th1)\n",
        "  yield rot(q[1])\n",
        "  #yield rot1(q[1])\n",
        "  yield cirq.CNOT(q[0], q[1])\n",
        "\n",
        "  yield cirq.H(q[0])\n",
        "  yield cirq.H(q[1])\n",
        "\n",
        "  yield cirq.measure(*q)\n",
        "  return c"
      ],
      "execution_count": 0,
      "outputs": []
    },
    {
      "cell_type": "code",
      "metadata": {
        "id": "PgPyqhhUR9Df",
        "colab_type": "code",
        "colab": {}
      },
      "source": [
        "\"\"\"\n",
        "c = cirq.Circuit()\n",
        "c.append(ZZ_circuit(1.3, 2))\n",
        "\n",
        "print(c)\n",
        "\n",
        "c_s = cirq.Simulator()\n",
        "\n",
        "r = c_s.run(c, 1000)\n",
        "cirq.plot_state_histogram(r)\n",
        "\"\"\""
      ],
      "execution_count": 0,
      "outputs": []
    },
    {
      "cell_type": "code",
      "metadata": {
        "id": "Tre1prsEUpQr",
        "colab_type": "code",
        "colab": {}
      },
      "source": [
        "#Since X_1\\otimes X_2 + Y_1 \\otimes Y_2 commute and can be defined into a simple, \n",
        "# much simpler circuit - thanks QCSE!\n",
        "\n",
        "def XX_YY_circuit(th1, num_q):\n",
        "  c = cirq.Circuit()\n",
        "  q = [cirq.LineQubit(i) for i in range(num_q)]\n",
        "\n",
        "  yield cirq.CNOT(q[0], q[1])\n",
        "  #first rotation \n",
        "\n",
        "  rot = cirq.XPowGate(exponent=th1)\n",
        "  yield rot(q[1])\n",
        "  #yield rot1(q[1])\n",
        "  yield cirq.CNOT(q[0], q[1])\n",
        "\n",
        "  yield cirq.measure(*q)\n",
        "  return c "
      ],
      "execution_count": 0,
      "outputs": []
    },
    {
      "cell_type": "markdown",
      "metadata": {
        "id": "mDjhedpHehA3",
        "colab_type": "text"
      },
      "source": [
        "# Function Wrapper"
      ]
    },
    {
      "cell_type": "code",
      "metadata": {
        "id": "0ySo1BwN0s5X",
        "colab_type": "code",
        "colab": {}
      },
      "source": [
        "def VQE_Circuit(th1, th2, num_q):\n",
        "  #the circuits for each hamiltonian\n",
        "  #not to be confused with the quantum gates!!!!!\n",
        "  #cXX = cirq.Circuit()\n",
        "  #cYY = cirq.Circuit()\n",
        "  cXX_YY = cirq.Circuit()\n",
        "  cZZ = cirq.Circuit()\n",
        "\n",
        "  #develop the circuits to represent the hamiltonian\n",
        "  cXX_YY.append(XX_YY_circuit(th1, num_q))\n",
        "  #cYY.append(YY_circuit(th2, num_q))\n",
        "  cZZ.append(ZZ_circuit(th2, num_q))\n",
        "\n",
        "  return(cXX_YY, cZZ)"
      ],
      "execution_count": 0,
      "outputs": []
    },
    {
      "cell_type": "markdown",
      "metadata": {
        "id": "uG5bKNoBemyc",
        "colab_type": "text"
      },
      "source": [
        "#Gradient Descent on Optimization Code\n",
        "\n",
        "Last year, and the first introduction to quantum computing I had, was through Farhi et al's paper on quantum neural networks for state classification. \n",
        "\n",
        "I borrow their implementation of Gradient Descent specifically for this VQE optimization of the circuits. \n",
        "\n",
        "It is worth saying that it matters a great deal the seed values each gate on the quantum circuit representing the ansatz."
      ]
    },
    {
      "cell_type": "code",
      "metadata": {
        "id": "0UIKdaGi2XVs",
        "colab_type": "code",
        "colab": {}
      },
      "source": [
        "def VQE_Optimization(th1, th2, num_q, num_reps):\n",
        "  \n",
        "  #get the holders of the actual data \n",
        "  \n",
        "  angle_rot1_XX_YY = []\n",
        "  angle_rot1_ZZ = []\n",
        "\n",
        "  #keep the energy\n",
        "  energy = []\n",
        "  \n",
        "  #keep the loss for gradient descent and set the learning rate\n",
        "\n",
        "  learning_rate = 0.01\n",
        "  \n",
        "  loss_XX_YY = []\n",
        "  loss_ZZ = [] \n",
        "\n",
        "  energy_XX_YY =[]\n",
        "  energy_ZZ = []\n",
        "  \n",
        "  count = 0 \n",
        "\n",
        "  coef1, coef2, coef3, coef4 = -0.5, 0.5, 0.5, 0.5\n",
        "\n",
        "  status = 'not done'\n",
        "  #a hard cutoff because, let's face it, it's already overkill at 5000 iterations.\n",
        "  while count < 5000:\n",
        "    \n",
        "    #seed values:\n",
        "    angle_rot1_XX_YY.append(th1)\n",
        "    angle_rot1_ZZ.append(th2)\n",
        "\n",
        "\n",
        "    #call the circuit function to make the circuits \n",
        "    current_VQE = VQE_Circuit(th1, th2, num_q)\n",
        "\n",
        "    curr_simulator_XX_YY = cirq.Simulator()\n",
        "    curr_simulator_ZZ = cirq.Simulator()\n",
        "    \n",
        "    results_XX_YY = curr_simulator_XX_YY.run(current_VQE[0], repetitions=num_reps)\n",
        "    results_ZZ = curr_simulator_ZZ.run(current_VQE[1], repetitions=num_reps)\n",
        "    \n",
        "    \n",
        "    s_kXX_YY, s_vXX_YY= zip(*results_XX_YY.measurements.items())\n",
        "    s_kZZ, s_vZZ= zip(*results_ZZ.measurements.items())\n",
        "    \n",
        "    curr_state_values_XX_YY = 1 - 2*np.array(s_vXX_YY).astype(np.int32)\n",
        "    curr_state_values_ZZ = 1 - 2*np.array(s_vZZ).astype(np.int32)\n",
        "\n",
        "    curr_predicted_label_value_XX_YY = np.mean(curr_state_values_XX_YY)\n",
        "    curr_predicted_label_value_ZZ = np.mean(curr_state_values_ZZ)\n",
        "\n",
        "    current_loss_value_XX_YY = 1 - np.square(curr_predicted_label_value_XX_YY)\n",
        "    current_loss_value_ZZ = 1 - np.square(curr_predicted_label_value_ZZ)\n",
        "\n",
        "    loss_XX_YY.append(current_loss_value_XX_YY)\n",
        "    loss_ZZ.append(current_loss_value_ZZ)\n",
        "    \n",
        "    current_gradient_value_XX_YY = 2*curr_predicted_label_value_XX_YY\n",
        "    current_gradient_value_ZZ = 2*curr_predicted_label_value_ZZ\n",
        "    \n",
        "    current_grad_square_XX_YY = np.square(current_gradient_value_XX_YY)\n",
        "    current_grad_square_ZZ = np.square(current_gradient_value_ZZ)\n",
        "    \n",
        "    \"\"\"\n",
        "    Decomposition of Hamiltonian:\n",
        "\n",
        "    -0.5\t*\t( I \\otimes I )\n",
        "    0.5\t*\t( sigma_x \\otimes sigma_x )\n",
        "    0.5\t*\t( sigma_y \\otimes sigma_y )\n",
        "    0.5\t*\t( sigma_z \\otimes sigma_z )\n",
        "    \"\"\"\n",
        "    #laying down the energy expectation terms\n",
        "    term1 = coef1*1\n",
        "    #term2 = coef2*curr_predicted_label_value_XX\n",
        "    term2 = coef2*curr_predicted_label_value_XX_YY\n",
        "    term3 = coef3*curr_predicted_label_value_ZZ\n",
        "\n",
        "    energy_XX_YY.append(curr_predicted_label_value_XX_YY)\n",
        "    energy_ZZ.append(curr_predicted_label_value_ZZ)\n",
        "    \n",
        "    curr_energy = term1 + term2 + term3\n",
        "\n",
        "    #keep energy \n",
        "    energy.append(curr_energy)\n",
        "\n",
        "\n",
        "    #now do the SGD\n",
        "    #print('current count: ', count)\n",
        "    #print('current count: ', count,'current energy:', curr_energy, 'current loss:', [current_loss_value_XX_YY, current_loss_value_ZZ])\n",
        "    #print('current params:', [th1, th2, th3, th4, th5])\n",
        "    #print('current count: ', count,'current energy:', curr_energy)\n",
        "\n",
        "    if np.absolute(current_loss_value_XX_YY) < 1e-5 and np.absolute(current_loss_value_ZZ) < 1e-5:\n",
        "    #elif np.absolute(target_difference) < 1e-3:\n",
        "      status = 'done'\n",
        "      print('Done! Final Weights: ',angle_rot1_XX_YY[-1], angle_rot1_ZZ[-1], 'Final Energy:', energy[-1])\n",
        "      break\n",
        "    \n",
        "    else:\n",
        "\n",
        "      th1 = th1 - learning_rate * (current_loss_value_XX_YY / current_grad_square_XX_YY) * current_gradient_value_XX_YY\n",
        "      \n",
        "      th2 = th2 - learning_rate * (current_loss_value_ZZ / current_grad_square_ZZ) *  current_gradient_value_ZZ\n",
        "      count+=1\n",
        "\n",
        "  return(angle_rot1_XX_YY, angle_rot1_ZZ, loss_XX_YY, loss_ZZ,  energy, energy_XX_YY, energy_ZZ)"
      ],
      "execution_count": 0,
      "outputs": []
    },
    {
      "cell_type": "markdown",
      "metadata": {
        "id": "Yl34chSEfEmR",
        "colab_type": "text"
      },
      "source": [
        "#Testing Optimization Algorithm\n",
        "\n",
        "Below you will find the values used using the blogs linked on the Google doc. \n",
        "\n",
        "For the future: important to work out the optimal repetition."
      ]
    },
    {
      "cell_type": "code",
      "metadata": {
        "id": "rIs6ggcgZ7ZS",
        "colab_type": "code",
        "colab": {}
      },
      "source": [
        "# Arbitrary value of theta\n",
        "th1 = np.random.uniform(0, 2*np.pi)\n",
        "th2 = np.random.uniform(0, 2*np.pi)\n",
        "\n",
        "num_q = 2\n",
        "\n",
        "num_reps = 1000"
      ],
      "execution_count": 0,
      "outputs": []
    },
    {
      "cell_type": "code",
      "metadata": {
        "id": "vHSjw_nS2NTH",
        "colab_type": "code",
        "outputId": "d73a554e-5d0d-41fe-8180-def455841cd6",
        "colab": {
          "base_uri": "https://localhost:8080/",
          "height": 34
        }
      },
      "source": [
        "test_optimization = VQE_Optimization(th1, th2, num_q, num_reps)"
      ],
      "execution_count": 85,
      "outputs": [
        {
          "output_type": "stream",
          "text": [
            "Done! Final Weights:  2.035478082787086 0.017075850749641828 Final Energy: 0.5\n"
          ],
          "name": "stdout"
        }
      ]
    },
    {
      "cell_type": "markdown",
      "metadata": {
        "id": "N9tEAA1af5Ii",
        "colab_type": "text"
      },
      "source": [
        "# Results"
      ]
    },
    {
      "cell_type": "code",
      "metadata": {
        "id": "P4ahx1jXeGpl",
        "colab_type": "code",
        "colab": {}
      },
      "source": [
        "from matplotlib import rc\n",
        "#rc('font',**{'family':'sans-serif','sans-serif':['Helvetica']})\n",
        "## for Palatino and other serif fonts use:\n",
        "rc('font',**{'family':'serif','serif':['Computer Modern Roman']})\n",
        "rc('text', usetex=True)\n",
        "\n",
        "from matplotlib import rcParams\n",
        "rcParams['axes.titlepad'] = 20 "
      ],
      "execution_count": 0,
      "outputs": []
    },
    {
      "cell_type": "code",
      "metadata": {
        "id": "ueOTI_rCxUIS",
        "colab_type": "code",
        "outputId": "a42f8282-a2ae-4edc-c342-2eb2abb7dcc8",
        "colab": {
          "base_uri": "https://localhost:8080/",
          "height": 449
        }
      },
      "source": [
        "plt.figure(figsize=(16,7))\n",
        "\n",
        "plt.plot(test_optimization[2], label=r'$X_1\\otimes X_2 + Y_1\\otimes Y_2$', color='limegreen', linestyle='-')\n",
        "plt.plot(test_optimization[3], label=r'$Z_1\\otimes Z_2$', color='dodgerblue', linestyle='-')\n",
        "\n",
        "plt.legend(fontsize=15, bbox_to_anchor=(1.4,1))\n",
        "\n",
        "plt.tick_params(axis='both', labelsize=15)\n",
        "plt.xlabel('Iterations', fontsize=25)\n",
        "plt.ylabel(r'$\\mathcal{L}$',fontsize=25)\n",
        "\n",
        "plt.title(r'Evolution of $\\mathcal{L}$ as VQE searches for Ground State in $\\mathcal{H}$', fontsize=25)\n",
        "\n",
        "plt.tight_layout()\n",
        "\n",
        "plt.subplots_adjust(top=0.8)"
      ],
      "execution_count": 86,
      "outputs": [
        {
          "output_type": "display_data",
          "data": {
            "image/png": "[encoded data removed]",
            "text/plain": [
              "<Figure size 1152x504 with 1 Axes>"
            ]
          },
          "metadata": {
            "tags": []
          }
        }
      ]
    },
    {
      "cell_type": "code",
      "metadata": {
        "id": "isTu0RdFpjz_",
        "colab_type": "code",
        "colab": {
          "base_uri": "https://localhost:8080/",
          "height": 104
        },
        "outputId": "3be30b60-5f5e-4ace-f7e9-590c74d19629"
      },
      "source": [
        "print('The following quantities are not adjusted by the .5 factor')\n",
        "print('********************')\n",
        "print('Observed Energy on Z \\otimes Z: ', test_optimization[6][-1])\n",
        "print('Observed Energy on X \\otimes X + Y \\otimes Y: ', test_optimization[5][-1])\n",
        "print('Expected Energy from I \\otimes I: ', 1)"
      ],
      "execution_count": 96,
      "outputs": [
        {
          "output_type": "stream",
          "text": [
            "The following quantities are not adjusted by the .5 factor\n",
            "********************\n",
            "Observed Energy on Z \\otimes Z:  1.0\n",
            "Observed Energy on X \\otimes X + Y \\otimes Y:  1.0\n",
            "Expected Energy from I \\otimes I:  1\n"
          ],
          "name": "stdout"
        }
      ]
    },
    {
      "cell_type": "code",
      "metadata": {
        "id": "oHeLbJh0xvYQ",
        "colab_type": "code",
        "outputId": "e61f8a57-c387-467e-e3d6-24cdeaedb841",
        "colab": {
          "base_uri": "https://localhost:8080/",
          "height": 456
        }
      },
      "source": [
        "plt.figure(figsize=(15,7))\n",
        "\n",
        "plt.plot(test_optimization[4], linestyle='-', color='#8c1515', label='$< \\mathcal{E} >$')\n",
        "plt.plot(test_optimization[5], color='#00693e', linestyle='-', label=r'$< X_1 \\otimes X_2> + <Y_1 \\otimes Y_2 >$')\n",
        "plt.plot(test_optimization[6], color='orange', linestyle='-', label=r'$< Z_1 \\otimes Z_2 >$')\n",
        "\n",
        "plt.legend(fontsize=15, bbox_to_anchor=(1.4,1))\n",
        "plt.tick_params(axis='both', labelsize=15)\n",
        "plt.xlabel('Iterations', fontsize=20)\n",
        "plt.ylabel('Measured Energy', fontsize=20)\n",
        "plt.title(r'$<\\mathcal{E}>$ through VQE', fontsize=30)\n",
        "\n",
        "plt.tight_layout()\n",
        "\n",
        "plt.subplots_adjust(top=0.8)"
      ],
      "execution_count": 100,
      "outputs": [
        {
          "output_type": "display_data",
          "data": {
            "image/png": "[encoded data removed]",
            "text/plain": [
              "<Figure size 1080x504 with 1 Axes>"
            ]
          },
          "metadata": {
            "tags": []
          }
        }
      ]
    },
    {
      "cell_type": "markdown",
      "metadata": {
        "id": "aYJideMNgFPt",
        "colab_type": "text"
      },
      "source": [
        "#Resulting Circuits that Comprise Hamiltonian"
      ]
    },
    {
      "cell_type": "code",
      "metadata": {
        "id": "MV2URbEaDwe0",
        "colab_type": "code",
        "outputId": "01911976-2f28-4bdb-8e2b-2607af3ab9a6",
        "colab": {
          "base_uri": "https://localhost:8080/",
          "height": 173
        }
      },
      "source": [
        "#resultant circuits\n",
        "\n",
        "op_c = VQE_Circuit(test_optimization[0][-1],test_optimization[1][-1],num_q)\n",
        "print('XX+YY Circuit:')\n",
        "print(op_c[0])\n",
        "print('*******')\n",
        "print('ZZ Circuit:')\n",
        "print(op_c[1])"
      ],
      "execution_count": 101,
      "outputs": [
        {
          "output_type": "stream",
          "text": [
            "XX+YY Circuit:\n",
            "0: ───@─────────────@───M───\n",
            "      │             │   │\n",
            "1: ───X───X^0.035───X───M───\n",
            "*******\n",
            "ZZ Circuit:\n",
            "0: ───H───@─────────────@───H───M───\n",
            "          │             │       │\n",
            "1: ───H───X───Z^0.017───X───H───M───\n"
          ],
          "name": "stdout"
        }
      ]
    },
    {
      "cell_type": "markdown",
      "metadata": {
        "id": "q9mqPltjkyQX",
        "colab_type": "text"
      },
      "source": [
        "#Visualization of Evolution of Gate Parameters on Circuit"
      ]
    },
    {
      "cell_type": "code",
      "metadata": {
        "id": "ka8boSXfyKW6",
        "colab_type": "code",
        "colab": {
          "base_uri": "https://localhost:8080/",
          "height": 373
        },
        "outputId": "240fcd10-2552-4780-b076-1137a70450a2"
      },
      "source": [
        "plt.figure(figsize=(12,5))\n",
        "\n",
        "plt.subplot(121)\n",
        "plt.plot(np.rad2deg(test_optimization[0]), label=r'$X_1\\otimes X_2 +Y_1\\otimes Y_2$ ', color='blue', linestyle='-')\n",
        "#plt.plot(test_optimization[6], label=r'$Z_1\\otimes Z_2$', color='#00693e', linestyle='-')\n",
        "plt.legend(fontsize=15, loc='best')\n",
        "\n",
        "\n",
        "plt.tick_params(axis='both', labelsize=15)\n",
        "plt.xlabel('Iterations', fontsize=25)\n",
        "plt.ylabel(r'$\\mathcal{\\theta}^\\circ$',fontsize=25)\n",
        "\n",
        "plt.subplot(122)\n",
        "plt.plot(np.rad2deg(test_optimization[1]), label=r'$Z_1\\otimes Z_2$', color='red', linestyle='-')\n",
        "plt.suptitle(r'Evolution of Gate Parameters Through Search for Ground State in $\\mathcal{H}$', fontsize=25)\n",
        "plt.legend(fontsize=15, loc='best')\n",
        "plt.tick_params(axis='both', labelsize=15)\n",
        "plt.xlabel('Iterations', fontsize=25)\n",
        "plt.ylabel(r'$\\mathcal{\\theta} ^\\circ$',fontsize=25)\n",
        "\n",
        "plt.tight_layout()\n",
        "\n",
        "plt.subplots_adjust(top=.9)"
      ],
      "execution_count": 102,
      "outputs": [
        {
          "output_type": "display_data",
          "data": {
            "image/png": "[encoded data removed]",
            "text/plain": [
              "<Figure size 864x360 with 2 Axes>"
            ]
          },
          "metadata": {
            "tags": []
          }
        }
      ]
    }
  ]
}