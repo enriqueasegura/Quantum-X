{
  "nbformat": 4,
  "nbformat_minor": 0,
  "metadata": {
    "colab": {
      "name": "ML QMLHEP.ipynb",
      "provenance": [],
      "collapsed_sections": [],
      "toc_visible": true,
      "authorship_tag": "ABX9TyOZcDduY1ZsmBEFRwHLU3cA",
      "include_colab_link": true
    },
    "kernelspec": {
      "name": "python3",
      "display_name": "Python 3"
    }
  },
  "cells": [
    {
      "cell_type": "markdown",
      "metadata": {
        "id": "view-in-github",
        "colab_type": "text"
      },
      "source": [
        "<a href=\"https://colab.research.google.com/github/enriqueasegura/Quantum-X/blob/master/ML_QMLHEP.ipynb\" target=\"_parent\"><img src=\"https://colab.research.google.com/assets/colab-badge.svg\" alt=\"Open In Colab\"/></a>"
      ]
    },
    {
      "cell_type": "markdown",
      "metadata": {
        "id": "vzGs9NfR2Qiw",
        "colab_type": "text"
      },
      "source": [
        "#Machine Learning Part\n",
        "\n",
        "You will explore how best to apply machine learning algorithms, for example, Neural Network, Boosted Decision Tree (BDT), Support Vector Machine(SVM) to solve a High Energy Data analysis issue, more specifically,  separating the signal events from the background events.\n",
        "\n",
        "A set of input samples (simulated with Delphes) is provided in NumPy NPZ format  [Download Input](https://drive.google.com/open?id=1r_MZB_crfpij6r3SxPDeU_3JD6t6AxAj). In the input file, there are only 100 samples for training and 100 samples for testing so it won’t take much computing resources to accomplish this task. The signal events are labeled with 1 while the background sample are labeled with 0.\n",
        "\n",
        "You can apply one machine learning algorithm to this input but be sure to show that you understand how to fine tune your machine learning model to improve the performance. The performance can be evaluated with classification accuracy or Area Under ROC Curve (AUC).\n"
      ]
    },
    {
      "cell_type": "markdown",
      "metadata": {
        "id": "sbyxR-GyYsWr",
        "colab_type": "text"
      },
      "source": [
        "##Libraries Needed"
      ]
    },
    {
      "cell_type": "code",
      "metadata": {
        "id": "QKKTLKQwLgb5",
        "colab_type": "code",
        "outputId": "b2ca5929-ddd0-4bc1-e7eb-134e68e75a4b",
        "colab": {
          "base_uri": "https://localhost:8080/",
          "height": 190
        }
      },
      "source": [
        "import numpy as np \n",
        "import matplotlib.pyplot as plt\n",
        "%matplotlib inline\n",
        "from google.colab import files\n",
        "import pandas as pd\n",
        "import scipy as sci \n",
        "\n",
        "import matplotlib\n",
        "from matplotlib import rc\n",
        "rc('font',**{'family':'sans-serif','sans-serif':['Helvetica']})\n",
        "## for Palatino and other serif fonts use:\n",
        "#rc('font',**{'family':'serif','serif':['Computer Modern Roman']})\n",
        "rc('text', usetex=True)\n",
        "#matplotlib.rcParams['text.usetex']=True\n",
        "matplotlib.rcParams['text.latex.unicode']=True\n",
        "\n",
        "from matplotlib import rcParams\n",
        "rcParams['axes.titlepad'] = 20 \n",
        "\n",
        "from sklearn.metrics import accuracy_score\n",
        "from matplotlib.pyplot import imshow\n",
        "\n",
        "!sudo dpkg --configure -a\n",
        "!sudo apt-get install dvipng texlive-latex-extra texlive-fonts-recommended "
      ],
      "execution_count": 27,
      "outputs": [
        {
          "output_type": "stream",
          "text": [
            "/usr/local/lib/python3.6/dist-packages/ipykernel_launcher.py:15: MatplotlibDeprecationWarning: \n",
            "The text.latex.unicode rcparam was deprecated in Matplotlib 3.0 and will be removed in 3.2.\n",
            "  from ipykernel import kernelapp as app\n"
          ],
          "name": "stderr"
        },
        {
          "output_type": "stream",
          "text": [
            "Reading package lists... Done\n",
            "Building dependency tree       \n",
            "Reading state information... Done\n",
            "dvipng is already the newest version (1.15-1).\n",
            "texlive-fonts-recommended is already the newest version (2017.20180305-1).\n",
            "texlive-latex-extra is already the newest version (2017.20180305-2).\n",
            "0 upgraded, 0 newly installed, 0 to remove and 25 not upgraded.\n"
          ],
          "name": "stdout"
        }
      ]
    },
    {
      "cell_type": "markdown",
      "metadata": {
        "id": "vTd6AhITYzc6",
        "colab_type": "text"
      },
      "source": [
        "##Upload Sample Files"
      ]
    },
    {
      "cell_type": "markdown",
      "metadata": {
        "id": "Hv13SRXuY3N5",
        "colab_type": "text"
      },
      "source": [
        "##Load Files"
      ]
    },
    {
      "cell_type": "code",
      "metadata": {
        "id": "g8boE_xe1I_C",
        "colab_type": "code",
        "colab": {}
      },
      "source": [
        "#load the files \n",
        "data = np.load('QIS_EXAM_200Events.npz', allow_pickle=True)"
      ],
      "execution_count": 0,
      "outputs": []
    },
    {
      "cell_type": "code",
      "metadata": {
        "id": "p4dZVy5q5RqI",
        "colab_type": "code",
        "outputId": "0524e82c-0260-4e78-be9b-fff9a25b101a",
        "colab": {
          "base_uri": "https://localhost:8080/",
          "height": 34
        }
      },
      "source": [
        "data.files"
      ],
      "execution_count": 29,
      "outputs": [
        {
          "output_type": "execute_result",
          "data": {
            "text/plain": [
              "['training_input', 'test_input']"
            ]
          },
          "metadata": {
            "tags": []
          },
          "execution_count": 29
        }
      ]
    },
    {
      "cell_type": "code",
      "metadata": {
        "id": "usARNUoW1cFs",
        "colab_type": "code",
        "outputId": "b1c92d28-0fbf-4f10-daab-152656a2035a",
        "colab": {
          "base_uri": "https://localhost:8080/",
          "height": 52
        }
      },
      "source": [
        "print('Data:')\n",
        "data.files"
      ],
      "execution_count": 30,
      "outputs": [
        {
          "output_type": "stream",
          "text": [
            "Data:\n"
          ],
          "name": "stdout"
        },
        {
          "output_type": "execute_result",
          "data": {
            "text/plain": [
              "['training_input', 'test_input']"
            ]
          },
          "metadata": {
            "tags": []
          },
          "execution_count": 30
        }
      ]
    },
    {
      "cell_type": "code",
      "metadata": {
        "id": "pgkEni_31c24",
        "colab_type": "code",
        "colab": {}
      },
      "source": [
        "training_data = data['training_input']\n",
        "test_data = data['test_input']"
      ],
      "execution_count": 0,
      "outputs": []
    },
    {
      "cell_type": "markdown",
      "metadata": {
        "id": "ihOVDDnRodnl",
        "colab_type": "text"
      },
      "source": [
        "##Helper Functions\n",
        "\n",
        "I made this parser to go through the data and built the $X$ and $y$ needed to implement a model"
      ]
    },
    {
      "cell_type": "code",
      "metadata": {
        "id": "9wjPqJ34A59E",
        "colab_type": "code",
        "colab": {}
      },
      "source": [
        "def data_X(d):\n",
        "  \"\"\"\n",
        "  This is a helper function\n",
        "  It is meant to illustrate how to take the data from the current form\n",
        "  and make it into something we can use to feed sklearn algorithms\n",
        "\n",
        "  This function creates the NxM matrix X \n",
        "  and the last column is the feature vector which is N x 1\n",
        "\n",
        "  \"\"\"\n",
        "  r, c = 100, 6\n",
        "  r_data = np.ones((r,c))\n",
        "\n",
        "  #print(r_b, c_b)\n",
        "\n",
        "  training_data_background = d.item()['0']\n",
        "  training_data_signal = d.item()['1']\n",
        "\n",
        "  r_b, c_b = np.shape(training_data_background)\n",
        "\n",
        "  #first we loop through the background data and feed it to the resulting data\n",
        "  \n",
        "  for i in range(r_b):\n",
        "    for j in range(c_b):\n",
        "      r_data[i][j] = training_data_background[i][j]\n",
        "    #this is for background \n",
        "    r_data[i][j+1] = 0\n",
        "  \n",
        "  #now with the signal data\n",
        "  for i in range(r_b):\n",
        "    for j in range(c_b):\n",
        "      r_data[r_b + i][j] = training_data_signal[i][j]\n",
        "    #since this is signal, it should be with label 1 \n",
        "  return r_data"
      ],
      "execution_count": 0,
      "outputs": []
    },
    {
      "cell_type": "markdown",
      "metadata": {
        "id": "-jfzvOn-CXOn",
        "colab_type": "text"
      },
      "source": [
        "##Notes to keep in mind \n",
        "\n",
        "Given $N$ data points and $M$ features, you want to create one $N \\times M$ matrix $X$ (your design/feature matrix), and one $N \\times 1$ vector (you label vector)\n",
        "\n",
        "1. Feature matrix $X$ and label vector $y$.\n",
        "2. Feed $X$ and $y$ into some classifier from sklearn.\n",
        "\n",
        "Key point: \n",
        "\n",
        "1. Shuffle data so there are adjacent rows are not correlated. \n",
        "2. Split the data into training/testing sets (usually 80/20 split).\n",
        "\n",
        "Thing to remember: \n",
        "\n",
        "This is a binary classification problem."
      ]
    },
    {
      "cell_type": "code",
      "metadata": {
        "id": "-s1gvtsEA_QA",
        "colab_type": "code",
        "outputId": "8ab65118-6e5b-470b-e29d-6a8ba657fbca",
        "colab": {
          "base_uri": "https://localhost:8080/",
          "height": 441
        }
      },
      "source": [
        "train_data = data_X(training_data)\n",
        "\n",
        "train_data_dataframe = pd.DataFrame(train_data)\n",
        "print('Data set with X : y:')\n",
        "train_data_dataframe"
      ],
      "execution_count": 33,
      "outputs": [
        {
          "output_type": "stream",
          "text": [
            "Data set with X : y:\n"
          ],
          "name": "stdout"
        },
        {
          "output_type": "execute_result",
          "data": {
            "text/html": [
              "<div>\n",
              "<style scoped>\n",
              "    .dataframe tbody tr th:only-of-type {\n",
              "        vertical-align: middle;\n",
              "    }\n",
              "\n",
              "    .dataframe tbody tr th {\n",
              "        vertical-align: top;\n",
              "    }\n",
              "\n",
              "    .dataframe thead th {\n",
              "        text-align: right;\n",
              "    }\n",
              "</style>\n",
              "<table border=\"1\" class=\"dataframe\">\n",
              "  <thead>\n",
              "    <tr style=\"text-align: right;\">\n",
              "      <th></th>\n",
              "      <th>0</th>\n",
              "      <th>1</th>\n",
              "      <th>2</th>\n",
              "      <th>3</th>\n",
              "      <th>4</th>\n",
              "      <th>5</th>\n",
              "    </tr>\n",
              "  </thead>\n",
              "  <tbody>\n",
              "    <tr>\n",
              "      <th>0</th>\n",
              "      <td>-0.430791</td>\n",
              "      <td>0.868348</td>\n",
              "      <td>-0.926147</td>\n",
              "      <td>-0.926620</td>\n",
              "      <td>-0.569009</td>\n",
              "      <td>0.0</td>\n",
              "    </tr>\n",
              "    <tr>\n",
              "      <th>1</th>\n",
              "      <td>0.339242</td>\n",
              "      <td>0.561555</td>\n",
              "      <td>0.930975</td>\n",
              "      <td>-0.916317</td>\n",
              "      <td>-0.544635</td>\n",
              "      <td>0.0</td>\n",
              "    </tr>\n",
              "    <tr>\n",
              "      <th>2</th>\n",
              "      <td>-0.428889</td>\n",
              "      <td>0.870650</td>\n",
              "      <td>-0.927822</td>\n",
              "      <td>-0.775340</td>\n",
              "      <td>-0.583292</td>\n",
              "      <td>0.0</td>\n",
              "    </tr>\n",
              "    <tr>\n",
              "      <th>3</th>\n",
              "      <td>-0.432629</td>\n",
              "      <td>0.861289</td>\n",
              "      <td>-0.922409</td>\n",
              "      <td>-0.880489</td>\n",
              "      <td>-0.499631</td>\n",
              "      <td>0.0</td>\n",
              "    </tr>\n",
              "    <tr>\n",
              "      <th>4</th>\n",
              "      <td>-0.999253</td>\n",
              "      <td>-0.999496</td>\n",
              "      <td>0.077537</td>\n",
              "      <td>-0.842180</td>\n",
              "      <td>-0.514940</td>\n",
              "      <td>0.0</td>\n",
              "    </tr>\n",
              "    <tr>\n",
              "      <th>...</th>\n",
              "      <td>...</td>\n",
              "      <td>...</td>\n",
              "      <td>...</td>\n",
              "      <td>...</td>\n",
              "      <td>...</td>\n",
              "      <td>...</td>\n",
              "    </tr>\n",
              "    <tr>\n",
              "      <th>95</th>\n",
              "      <td>0.927897</td>\n",
              "      <td>-0.906354</td>\n",
              "      <td>-0.647231</td>\n",
              "      <td>-0.616369</td>\n",
              "      <td>-0.534791</td>\n",
              "      <td>1.0</td>\n",
              "    </tr>\n",
              "    <tr>\n",
              "      <th>96</th>\n",
              "      <td>-0.430184</td>\n",
              "      <td>0.865693</td>\n",
              "      <td>-0.925222</td>\n",
              "      <td>-0.723606</td>\n",
              "      <td>-0.505656</td>\n",
              "      <td>1.0</td>\n",
              "    </tr>\n",
              "    <tr>\n",
              "      <th>97</th>\n",
              "      <td>0.349044</td>\n",
              "      <td>0.585557</td>\n",
              "      <td>0.917345</td>\n",
              "      <td>-0.609937</td>\n",
              "      <td>-0.585279</td>\n",
              "      <td>1.0</td>\n",
              "    </tr>\n",
              "    <tr>\n",
              "      <th>98</th>\n",
              "      <td>0.344345</td>\n",
              "      <td>0.566294</td>\n",
              "      <td>0.930266</td>\n",
              "      <td>-0.606098</td>\n",
              "      <td>-0.649302</td>\n",
              "      <td>1.0</td>\n",
              "    </tr>\n",
              "    <tr>\n",
              "      <th>99</th>\n",
              "      <td>0.881251</td>\n",
              "      <td>-0.954380</td>\n",
              "      <td>-0.666644</td>\n",
              "      <td>-0.781876</td>\n",
              "      <td>-0.643458</td>\n",
              "      <td>1.0</td>\n",
              "    </tr>\n",
              "  </tbody>\n",
              "</table>\n",
              "<p>100 rows × 6 columns</p>\n",
              "</div>"
            ],
            "text/plain": [
              "           0         1         2         3         4    5\n",
              "0  -0.430791  0.868348 -0.926147 -0.926620 -0.569009  0.0\n",
              "1   0.339242  0.561555  0.930975 -0.916317 -0.544635  0.0\n",
              "2  -0.428889  0.870650 -0.927822 -0.775340 -0.583292  0.0\n",
              "3  -0.432629  0.861289 -0.922409 -0.880489 -0.499631  0.0\n",
              "4  -0.999253 -0.999496  0.077537 -0.842180 -0.514940  0.0\n",
              "..       ...       ...       ...       ...       ...  ...\n",
              "95  0.927897 -0.906354 -0.647231 -0.616369 -0.534791  1.0\n",
              "96 -0.430184  0.865693 -0.925222 -0.723606 -0.505656  1.0\n",
              "97  0.349044  0.585557  0.917345 -0.609937 -0.585279  1.0\n",
              "98  0.344345  0.566294  0.930266 -0.606098 -0.649302  1.0\n",
              "99  0.881251 -0.954380 -0.666644 -0.781876 -0.643458  1.0\n",
              "\n",
              "[100 rows x 6 columns]"
            ]
          },
          "metadata": {
            "tags": []
          },
          "execution_count": 33
        }
      ]
    },
    {
      "cell_type": "code",
      "metadata": {
        "id": "3KP_l30PBxuL",
        "colab_type": "code",
        "outputId": "2d68bf59-586c-4c99-f34b-7e0622ddfe00",
        "colab": {
          "base_uri": "https://localhost:8080/",
          "height": 441
        }
      },
      "source": [
        "#now shuffle this data randomly \n",
        "\n",
        "train_data_shuffled = np.take(train_data,np.random.permutation(train_data.shape[0]),axis=0,out=train_data)\n",
        "train_data_shuffled_dataframe = pd.DataFrame(train_data_shuffled)\n",
        "print('Shuffled Matrix:')\n",
        "train_data_shuffled_dataframe"
      ],
      "execution_count": 34,
      "outputs": [
        {
          "output_type": "stream",
          "text": [
            "Shuffled Matrix:\n"
          ],
          "name": "stdout"
        },
        {
          "output_type": "execute_result",
          "data": {
            "text/html": [
              "<div>\n",
              "<style scoped>\n",
              "    .dataframe tbody tr th:only-of-type {\n",
              "        vertical-align: middle;\n",
              "    }\n",
              "\n",
              "    .dataframe tbody tr th {\n",
              "        vertical-align: top;\n",
              "    }\n",
              "\n",
              "    .dataframe thead th {\n",
              "        text-align: right;\n",
              "    }\n",
              "</style>\n",
              "<table border=\"1\" class=\"dataframe\">\n",
              "  <thead>\n",
              "    <tr style=\"text-align: right;\">\n",
              "      <th></th>\n",
              "      <th>0</th>\n",
              "      <th>1</th>\n",
              "      <th>2</th>\n",
              "      <th>3</th>\n",
              "      <th>4</th>\n",
              "      <th>5</th>\n",
              "    </tr>\n",
              "  </thead>\n",
              "  <tbody>\n",
              "    <tr>\n",
              "      <th>0</th>\n",
              "      <td>0.341905</td>\n",
              "      <td>0.570194</td>\n",
              "      <td>0.924391</td>\n",
              "      <td>-0.812816</td>\n",
              "      <td>-0.588190</td>\n",
              "      <td>1.0</td>\n",
              "    </tr>\n",
              "    <tr>\n",
              "      <th>1</th>\n",
              "      <td>0.343179</td>\n",
              "      <td>0.571250</td>\n",
              "      <td>0.926386</td>\n",
              "      <td>-0.851134</td>\n",
              "      <td>-0.401706</td>\n",
              "      <td>0.0</td>\n",
              "    </tr>\n",
              "    <tr>\n",
              "      <th>2</th>\n",
              "      <td>0.912135</td>\n",
              "      <td>-0.917330</td>\n",
              "      <td>-0.655287</td>\n",
              "      <td>-0.674486</td>\n",
              "      <td>-0.511992</td>\n",
              "      <td>1.0</td>\n",
              "    </tr>\n",
              "    <tr>\n",
              "      <th>3</th>\n",
              "      <td>0.889269</td>\n",
              "      <td>-0.954213</td>\n",
              "      <td>-0.668423</td>\n",
              "      <td>-0.688062</td>\n",
              "      <td>-0.605786</td>\n",
              "      <td>1.0</td>\n",
              "    </tr>\n",
              "    <tr>\n",
              "      <th>4</th>\n",
              "      <td>-0.995904</td>\n",
              "      <td>-0.997289</td>\n",
              "      <td>0.075275</td>\n",
              "      <td>-0.454780</td>\n",
              "      <td>-0.649376</td>\n",
              "      <td>1.0</td>\n",
              "    </tr>\n",
              "    <tr>\n",
              "      <th>...</th>\n",
              "      <td>...</td>\n",
              "      <td>...</td>\n",
              "      <td>...</td>\n",
              "      <td>...</td>\n",
              "      <td>...</td>\n",
              "      <td>...</td>\n",
              "    </tr>\n",
              "    <tr>\n",
              "      <th>95</th>\n",
              "      <td>-0.428266</td>\n",
              "      <td>0.873867</td>\n",
              "      <td>-0.929425</td>\n",
              "      <td>-0.833866</td>\n",
              "      <td>-0.572305</td>\n",
              "      <td>0.0</td>\n",
              "    </tr>\n",
              "    <tr>\n",
              "      <th>96</th>\n",
              "      <td>-0.998463</td>\n",
              "      <td>-0.999009</td>\n",
              "      <td>0.077035</td>\n",
              "      <td>-0.758266</td>\n",
              "      <td>-0.543520</td>\n",
              "      <td>1.0</td>\n",
              "    </tr>\n",
              "    <tr>\n",
              "      <th>97</th>\n",
              "      <td>-0.430998</td>\n",
              "      <td>0.866513</td>\n",
              "      <td>-0.925269</td>\n",
              "      <td>-0.866988</td>\n",
              "      <td>-0.533468</td>\n",
              "      <td>0.0</td>\n",
              "    </tr>\n",
              "    <tr>\n",
              "      <th>98</th>\n",
              "      <td>-0.999242</td>\n",
              "      <td>-0.999512</td>\n",
              "      <td>0.077521</td>\n",
              "      <td>-0.836076</td>\n",
              "      <td>-0.569812</td>\n",
              "      <td>0.0</td>\n",
              "    </tr>\n",
              "    <tr>\n",
              "      <th>99</th>\n",
              "      <td>0.352584</td>\n",
              "      <td>0.588490</td>\n",
              "      <td>0.920188</td>\n",
              "      <td>-0.621289</td>\n",
              "      <td>-0.587117</td>\n",
              "      <td>1.0</td>\n",
              "    </tr>\n",
              "  </tbody>\n",
              "</table>\n",
              "<p>100 rows × 6 columns</p>\n",
              "</div>"
            ],
            "text/plain": [
              "           0         1         2         3         4    5\n",
              "0   0.341905  0.570194  0.924391 -0.812816 -0.588190  1.0\n",
              "1   0.343179  0.571250  0.926386 -0.851134 -0.401706  0.0\n",
              "2   0.912135 -0.917330 -0.655287 -0.674486 -0.511992  1.0\n",
              "3   0.889269 -0.954213 -0.668423 -0.688062 -0.605786  1.0\n",
              "4  -0.995904 -0.997289  0.075275 -0.454780 -0.649376  1.0\n",
              "..       ...       ...       ...       ...       ...  ...\n",
              "95 -0.428266  0.873867 -0.929425 -0.833866 -0.572305  0.0\n",
              "96 -0.998463 -0.999009  0.077035 -0.758266 -0.543520  1.0\n",
              "97 -0.430998  0.866513 -0.925269 -0.866988 -0.533468  0.0\n",
              "98 -0.999242 -0.999512  0.077521 -0.836076 -0.569812  0.0\n",
              "99  0.352584  0.588490  0.920188 -0.621289 -0.587117  1.0\n",
              "\n",
              "[100 rows x 6 columns]"
            ]
          },
          "metadata": {
            "tags": []
          },
          "execution_count": 34
        }
      ]
    },
    {
      "cell_type": "code",
      "metadata": {
        "id": "NZ2-QNdWoz7G",
        "colab_type": "code",
        "outputId": "a9b91bb4-1317-4cc3-a33a-06c1decd7c62",
        "colab": {
          "base_uri": "https://localhost:8080/",
          "height": 1000
        }
      },
      "source": [
        "! sudo apt-get install texlive-latex-recommended #1\n",
        "! sudo apt-get install dvipng texlive-fonts-recommended #2\n",
        "! wget http://mirrors.ctan.org/macros/latex/contrib/type1cm.zip #3\n",
        "! unzip type1cm.zip -d /tmp/type1cm #4\n",
        "! cd /tmp/type1cm/type1cm/ && sudo latex type1cm.ins  #5\n",
        "! sudo mkdir /usr/share/texmf/tex/latex/type1cm #6\n",
        "! sudo cp /tmp/type1cm/type1cm/type1cm.sty /usr/share/texmf/tex/latex/type1cm #7\n",
        "! sudo texhash #8\n",
        "! sudo apt-get install texlive-latex-extra texlive-fonts-recommended dvipng"
      ],
      "execution_count": 35,
      "outputs": [
        {
          "output_type": "stream",
          "text": [
            "Reading package lists... Done\n",
            "Building dependency tree       \n",
            "Reading state information... Done\n",
            "texlive-latex-recommended is already the newest version (2017.20180305-1).\n",
            "0 upgraded, 0 newly installed, 0 to remove and 25 not upgraded.\n",
            "Reading package lists... Done\n",
            "Building dependency tree       \n",
            "Reading state information... Done\n",
            "dvipng is already the newest version (1.15-1).\n",
            "texlive-fonts-recommended is already the newest version (2017.20180305-1).\n",
            "0 upgraded, 0 newly installed, 0 to remove and 25 not upgraded.\n",
            "--2020-03-18 17:37:02--  http://mirrors.ctan.org/macros/latex/contrib/type1cm.zip\n",
            "Resolving mirrors.ctan.org (mirrors.ctan.org)... 5.35.249.60\n",
            "Connecting to mirrors.ctan.org (mirrors.ctan.org)|5.35.249.60|:80... connected.\n",
            "HTTP request sent, awaiting response... 302 Found\n",
            "Location: http://mirrors.rit.edu/CTAN/macros/latex/contrib/type1cm.zip [following]\n",
            "--2020-03-18 17:37:04--  http://mirrors.rit.edu/CTAN/macros/latex/contrib/type1cm.zip\n",
            "Resolving mirrors.rit.edu (mirrors.rit.edu)... 129.21.171.72, 2620:8d:8000:15:225:90ff:fefd:344c\n",
            "Connecting to mirrors.rit.edu (mirrors.rit.edu)|129.21.171.72|:80... connected.\n",
            "HTTP request sent, awaiting response... 200 OK\n",
            "Length: 328566 (321K) [application/zip]\n",
            "Saving to: ‘type1cm.zip.1’\n",
            "\n",
            "type1cm.zip.1       100%[===================>] 320.87K   340KB/s    in 0.9s    \n",
            "\n",
            "2020-03-18 17:37:05 (340 KB/s) - ‘type1cm.zip.1’ saved [328566/328566]\n",
            "\n",
            "Archive:  type1cm.zip\n",
            "replace /tmp/type1cm/type1cm/type1cm.fdd? [y]es, [n]o, [A]ll, [N]one, [r]ename: N\n",
            "This is pdfTeX, Version 3.14159265-2.6-1.40.18 (TeX Live 2017/Debian) (preloaded format=latex)\n",
            " restricted \\write18 enabled.\n",
            "entering extended mode\n",
            "(./type1cm.ins\n",
            "LaTeX2e <2017-04-15>\n",
            "Babel <3.18> and hyphenation patterns for 3 language(s) loaded.\n",
            "(/usr/share/texlive/texmf-dist/tex/latex/base/docstrip.tex\n",
            "Utility: `docstrip' 2.5e <2014/09/29>\n",
            "English documentation    <2017/03/13>\n",
            "\n",
            "**********************************************************\n",
            "* This program converts documented macro-files into fast *\n",
            "* loadable files by stripping off (nearly) all comments! *\n",
            "**********************************************************\n",
            "\n",
            "********************************************************\n",
            "* No Configuration file found, using default settings. *\n",
            "********************************************************\n",
            "\n",
            "(./type1cm.ins\n",
            "File ./type1cm.sty already exists on the system.\n",
            "Overwrite it? [y/n]\n",
            "\\answer=n\n",
            "Not generating file ./type1cm.sty\n",
            "\n",
            ")\n",
            "\n",
            "****************************************************\n",
            "* First type the extension of your input file(s):  *\n",
            "\\infileext=\n",
            "****************************************************\n",
            "\n",
            "****************************************************\n",
            "* Now type the extension of your output file(s)  : *\n",
            "\\outfileext=\n",
            "****************************************************\n",
            "\n",
            "****************************************************\n",
            "* Now type the name(s) of option(s) to include   : *\n",
            "\\Options=\n",
            "****************************************************\n",
            "\n",
            "****************************************************\n",
            "* Finally give the list of input file(s) without   *\n",
            "* extension separated by commas if necessary     : *\n",
            "\\filelist=\n",
            "****************************************************\n",
            "\n",
            "More files to process (y/n)?\n",
            "\\answer=\n",
            " ) )\n",
            "No pages of output.\n",
            "Transcript written on type1cm.log.\n",
            "mkdir: cannot create directory ‘/usr/share/texmf/tex/latex/type1cm’: File exists\n",
            "texhash: Updating /usr/local/share/texmf/ls-R... \n",
            "texhash: Updating /var/lib/texmf/ls-R-TEXLIVEDIST... \n",
            "texhash: Updating /var/lib/texmf/ls-R-TEXMFMAIN... \n",
            "texhash: Updating /var/lib/texmf/ls-R... \n",
            "texhash: Done.\n",
            "Reading package lists... Done\n",
            "Building dependency tree       \n",
            "Reading state information... Done\n",
            "dvipng is already the newest version (1.15-1).\n",
            "texlive-fonts-recommended is already the newest version (2017.20180305-1).\n",
            "texlive-latex-extra is already the newest version (2017.20180305-2).\n",
            "0 upgraded, 0 newly installed, 0 to remove and 25 not upgraded.\n"
          ],
          "name": "stdout"
        }
      ]
    },
    {
      "cell_type": "code",
      "metadata": {
        "id": "XDBr83pbqEln",
        "colab_type": "code",
        "colab": {}
      },
      "source": [
        "plt.rcParams[\"text.usetex\"] = False"
      ],
      "execution_count": 0,
      "outputs": []
    },
    {
      "cell_type": "code",
      "metadata": {
        "id": "sueIqHwcFoq-",
        "colab_type": "code",
        "outputId": "4204f9ce-861f-4141-c683-3b50ebe0e28b",
        "colab": {
          "base_uri": "https://localhost:8080/",
          "height": 124
        }
      },
      "source": [
        "plt.figure(figsize=(10,10))\n",
        "plt.imshow(np.transpose(train_data_shuffled),                         #numpy array generating the image\n",
        "           cmap = 'jet',             #color map used to specify colors\n",
        "           interpolation='nearest'    #algorithm used to blend square colors; with 'nearest' colors will not be blended\n",
        "          )\n",
        "plt.title('Heat Map of Shuffle Train Data', fontsize=20)\n",
        "plt.tight_layout()"
      ],
      "execution_count": 37,
      "outputs": [
        {
          "output_type": "display_data",
          "data": {
            "image/png": "[encoded data removed]",
            "text/plain": [
              "<Figure size 720x720 with 1 Axes>"
            ]
          },
          "metadata": {
            "tags": []
          }
        }
      ]
    },
    {
      "cell_type": "code",
      "metadata": {
        "id": "55yKyD6lFqnv",
        "colab_type": "code",
        "outputId": "d7007aef-232a-4a54-dd96-dd7586c3a8cd",
        "colab": {
          "base_uri": "https://localhost:8080/",
          "height": 441
        }
      },
      "source": [
        "#extract X matrix\n",
        "X = train_data_shuffled[:,:-1]\n",
        "print('X:')\n",
        "pd.DataFrame(X)"
      ],
      "execution_count": 38,
      "outputs": [
        {
          "output_type": "stream",
          "text": [
            "X:\n"
          ],
          "name": "stdout"
        },
        {
          "output_type": "execute_result",
          "data": {
            "text/html": [
              "<div>\n",
              "<style scoped>\n",
              "    .dataframe tbody tr th:only-of-type {\n",
              "        vertical-align: middle;\n",
              "    }\n",
              "\n",
              "    .dataframe tbody tr th {\n",
              "        vertical-align: top;\n",
              "    }\n",
              "\n",
              "    .dataframe thead th {\n",
              "        text-align: right;\n",
              "    }\n",
              "</style>\n",
              "<table border=\"1\" class=\"dataframe\">\n",
              "  <thead>\n",
              "    <tr style=\"text-align: right;\">\n",
              "      <th></th>\n",
              "      <th>0</th>\n",
              "      <th>1</th>\n",
              "      <th>2</th>\n",
              "      <th>3</th>\n",
              "      <th>4</th>\n",
              "    </tr>\n",
              "  </thead>\n",
              "  <tbody>\n",
              "    <tr>\n",
              "      <th>0</th>\n",
              "      <td>0.341905</td>\n",
              "      <td>0.570194</td>\n",
              "      <td>0.924391</td>\n",
              "      <td>-0.812816</td>\n",
              "      <td>-0.588190</td>\n",
              "    </tr>\n",
              "    <tr>\n",
              "      <th>1</th>\n",
              "      <td>0.343179</td>\n",
              "      <td>0.571250</td>\n",
              "      <td>0.926386</td>\n",
              "      <td>-0.851134</td>\n",
              "      <td>-0.401706</td>\n",
              "    </tr>\n",
              "    <tr>\n",
              "      <th>2</th>\n",
              "      <td>0.912135</td>\n",
              "      <td>-0.917330</td>\n",
              "      <td>-0.655287</td>\n",
              "      <td>-0.674486</td>\n",
              "      <td>-0.511992</td>\n",
              "    </tr>\n",
              "    <tr>\n",
              "      <th>3</th>\n",
              "      <td>0.889269</td>\n",
              "      <td>-0.954213</td>\n",
              "      <td>-0.668423</td>\n",
              "      <td>-0.688062</td>\n",
              "      <td>-0.605786</td>\n",
              "    </tr>\n",
              "    <tr>\n",
              "      <th>4</th>\n",
              "      <td>-0.995904</td>\n",
              "      <td>-0.997289</td>\n",
              "      <td>0.075275</td>\n",
              "      <td>-0.454780</td>\n",
              "      <td>-0.649376</td>\n",
              "    </tr>\n",
              "    <tr>\n",
              "      <th>...</th>\n",
              "      <td>...</td>\n",
              "      <td>...</td>\n",
              "      <td>...</td>\n",
              "      <td>...</td>\n",
              "      <td>...</td>\n",
              "    </tr>\n",
              "    <tr>\n",
              "      <th>95</th>\n",
              "      <td>-0.428266</td>\n",
              "      <td>0.873867</td>\n",
              "      <td>-0.929425</td>\n",
              "      <td>-0.833866</td>\n",
              "      <td>-0.572305</td>\n",
              "    </tr>\n",
              "    <tr>\n",
              "      <th>96</th>\n",
              "      <td>-0.998463</td>\n",
              "      <td>-0.999009</td>\n",
              "      <td>0.077035</td>\n",
              "      <td>-0.758266</td>\n",
              "      <td>-0.543520</td>\n",
              "    </tr>\n",
              "    <tr>\n",
              "      <th>97</th>\n",
              "      <td>-0.430998</td>\n",
              "      <td>0.866513</td>\n",
              "      <td>-0.925269</td>\n",
              "      <td>-0.866988</td>\n",
              "      <td>-0.533468</td>\n",
              "    </tr>\n",
              "    <tr>\n",
              "      <th>98</th>\n",
              "      <td>-0.999242</td>\n",
              "      <td>-0.999512</td>\n",
              "      <td>0.077521</td>\n",
              "      <td>-0.836076</td>\n",
              "      <td>-0.569812</td>\n",
              "    </tr>\n",
              "    <tr>\n",
              "      <th>99</th>\n",
              "      <td>0.352584</td>\n",
              "      <td>0.588490</td>\n",
              "      <td>0.920188</td>\n",
              "      <td>-0.621289</td>\n",
              "      <td>-0.587117</td>\n",
              "    </tr>\n",
              "  </tbody>\n",
              "</table>\n",
              "<p>100 rows × 5 columns</p>\n",
              "</div>"
            ],
            "text/plain": [
              "           0         1         2         3         4\n",
              "0   0.341905  0.570194  0.924391 -0.812816 -0.588190\n",
              "1   0.343179  0.571250  0.926386 -0.851134 -0.401706\n",
              "2   0.912135 -0.917330 -0.655287 -0.674486 -0.511992\n",
              "3   0.889269 -0.954213 -0.668423 -0.688062 -0.605786\n",
              "4  -0.995904 -0.997289  0.075275 -0.454780 -0.649376\n",
              "..       ...       ...       ...       ...       ...\n",
              "95 -0.428266  0.873867 -0.929425 -0.833866 -0.572305\n",
              "96 -0.998463 -0.999009  0.077035 -0.758266 -0.543520\n",
              "97 -0.430998  0.866513 -0.925269 -0.866988 -0.533468\n",
              "98 -0.999242 -0.999512  0.077521 -0.836076 -0.569812\n",
              "99  0.352584  0.588490  0.920188 -0.621289 -0.587117\n",
              "\n",
              "[100 rows x 5 columns]"
            ]
          },
          "metadata": {
            "tags": []
          },
          "execution_count": 38
        }
      ]
    },
    {
      "cell_type": "code",
      "metadata": {
        "id": "6SmKaBDoGKpq",
        "colab_type": "code",
        "outputId": "062655bb-89f1-473c-ec88-8a9c4b1dfec5",
        "colab": {
          "base_uri": "https://localhost:8080/",
          "height": 441
        }
      },
      "source": [
        "#extract y vector \n",
        "y = train_data_shuffled[:,-1]\n",
        "print('y:')\n",
        "pd.DataFrame(y)"
      ],
      "execution_count": 39,
      "outputs": [
        {
          "output_type": "stream",
          "text": [
            "y:\n"
          ],
          "name": "stdout"
        },
        {
          "output_type": "execute_result",
          "data": {
            "text/html": [
              "<div>\n",
              "<style scoped>\n",
              "    .dataframe tbody tr th:only-of-type {\n",
              "        vertical-align: middle;\n",
              "    }\n",
              "\n",
              "    .dataframe tbody tr th {\n",
              "        vertical-align: top;\n",
              "    }\n",
              "\n",
              "    .dataframe thead th {\n",
              "        text-align: right;\n",
              "    }\n",
              "</style>\n",
              "<table border=\"1\" class=\"dataframe\">\n",
              "  <thead>\n",
              "    <tr style=\"text-align: right;\">\n",
              "      <th></th>\n",
              "      <th>0</th>\n",
              "    </tr>\n",
              "  </thead>\n",
              "  <tbody>\n",
              "    <tr>\n",
              "      <th>0</th>\n",
              "      <td>1.0</td>\n",
              "    </tr>\n",
              "    <tr>\n",
              "      <th>1</th>\n",
              "      <td>0.0</td>\n",
              "    </tr>\n",
              "    <tr>\n",
              "      <th>2</th>\n",
              "      <td>1.0</td>\n",
              "    </tr>\n",
              "    <tr>\n",
              "      <th>3</th>\n",
              "      <td>1.0</td>\n",
              "    </tr>\n",
              "    <tr>\n",
              "      <th>4</th>\n",
              "      <td>1.0</td>\n",
              "    </tr>\n",
              "    <tr>\n",
              "      <th>...</th>\n",
              "      <td>...</td>\n",
              "    </tr>\n",
              "    <tr>\n",
              "      <th>95</th>\n",
              "      <td>0.0</td>\n",
              "    </tr>\n",
              "    <tr>\n",
              "      <th>96</th>\n",
              "      <td>1.0</td>\n",
              "    </tr>\n",
              "    <tr>\n",
              "      <th>97</th>\n",
              "      <td>0.0</td>\n",
              "    </tr>\n",
              "    <tr>\n",
              "      <th>98</th>\n",
              "      <td>0.0</td>\n",
              "    </tr>\n",
              "    <tr>\n",
              "      <th>99</th>\n",
              "      <td>1.0</td>\n",
              "    </tr>\n",
              "  </tbody>\n",
              "</table>\n",
              "<p>100 rows × 1 columns</p>\n",
              "</div>"
            ],
            "text/plain": [
              "      0\n",
              "0   1.0\n",
              "1   0.0\n",
              "2   1.0\n",
              "3   1.0\n",
              "4   1.0\n",
              "..  ...\n",
              "95  0.0\n",
              "96  1.0\n",
              "97  0.0\n",
              "98  0.0\n",
              "99  1.0\n",
              "\n",
              "[100 rows x 1 columns]"
            ]
          },
          "metadata": {
            "tags": []
          },
          "execution_count": 39
        }
      ]
    },
    {
      "cell_type": "code",
      "metadata": {
        "id": "WabzSMAcHtRs",
        "colab_type": "code",
        "outputId": "bc499ee9-f7a4-4cff-ac9a-29c4076d6809",
        "colab": {
          "base_uri": "https://localhost:8080/",
          "height": 441
        }
      },
      "source": [
        "#let's now do the same process for the test data file \n",
        "testing_data = data_X(test_data)\n",
        "print('X : y for testing data')\n",
        "pd.DataFrame(testing_data)"
      ],
      "execution_count": 40,
      "outputs": [
        {
          "output_type": "stream",
          "text": [
            "X : y for testing data\n"
          ],
          "name": "stdout"
        },
        {
          "output_type": "execute_result",
          "data": {
            "text/html": [
              "<div>\n",
              "<style scoped>\n",
              "    .dataframe tbody tr th:only-of-type {\n",
              "        vertical-align: middle;\n",
              "    }\n",
              "\n",
              "    .dataframe tbody tr th {\n",
              "        vertical-align: top;\n",
              "    }\n",
              "\n",
              "    .dataframe thead th {\n",
              "        text-align: right;\n",
              "    }\n",
              "</style>\n",
              "<table border=\"1\" class=\"dataframe\">\n",
              "  <thead>\n",
              "    <tr style=\"text-align: right;\">\n",
              "      <th></th>\n",
              "      <th>0</th>\n",
              "      <th>1</th>\n",
              "      <th>2</th>\n",
              "      <th>3</th>\n",
              "      <th>4</th>\n",
              "      <th>5</th>\n",
              "    </tr>\n",
              "  </thead>\n",
              "  <tbody>\n",
              "    <tr>\n",
              "      <th>0</th>\n",
              "      <td>-0.430804</td>\n",
              "      <td>0.863086</td>\n",
              "      <td>-0.923837</td>\n",
              "      <td>-0.728881</td>\n",
              "      <td>-0.539447</td>\n",
              "      <td>0.0</td>\n",
              "    </tr>\n",
              "    <tr>\n",
              "      <th>1</th>\n",
              "      <td>0.339557</td>\n",
              "      <td>0.563784</td>\n",
              "      <td>0.927209</td>\n",
              "      <td>-0.818439</td>\n",
              "      <td>-0.605889</td>\n",
              "      <td>0.0</td>\n",
              "    </tr>\n",
              "    <tr>\n",
              "      <th>2</th>\n",
              "      <td>0.888264</td>\n",
              "      <td>-0.944071</td>\n",
              "      <td>-0.668631</td>\n",
              "      <td>-0.751788</td>\n",
              "      <td>-0.605011</td>\n",
              "      <td>0.0</td>\n",
              "    </tr>\n",
              "    <tr>\n",
              "      <th>3</th>\n",
              "      <td>-0.996989</td>\n",
              "      <td>-0.998307</td>\n",
              "      <td>0.076140</td>\n",
              "      <td>-0.647370</td>\n",
              "      <td>-0.611079</td>\n",
              "      <td>0.0</td>\n",
              "    </tr>\n",
              "    <tr>\n",
              "      <th>4</th>\n",
              "      <td>-0.429876</td>\n",
              "      <td>0.867298</td>\n",
              "      <td>-0.925930</td>\n",
              "      <td>-0.773587</td>\n",
              "      <td>-0.459549</td>\n",
              "      <td>0.0</td>\n",
              "    </tr>\n",
              "    <tr>\n",
              "      <th>...</th>\n",
              "      <td>...</td>\n",
              "      <td>...</td>\n",
              "      <td>...</td>\n",
              "      <td>...</td>\n",
              "      <td>...</td>\n",
              "      <td>...</td>\n",
              "    </tr>\n",
              "    <tr>\n",
              "      <th>95</th>\n",
              "      <td>-0.429849</td>\n",
              "      <td>0.866236</td>\n",
              "      <td>-0.925597</td>\n",
              "      <td>-0.751273</td>\n",
              "      <td>-0.556766</td>\n",
              "      <td>1.0</td>\n",
              "    </tr>\n",
              "    <tr>\n",
              "      <th>96</th>\n",
              "      <td>0.344897</td>\n",
              "      <td>0.568306</td>\n",
              "      <td>0.933503</td>\n",
              "      <td>-0.895925</td>\n",
              "      <td>-0.625205</td>\n",
              "      <td>1.0</td>\n",
              "    </tr>\n",
              "    <tr>\n",
              "      <th>97</th>\n",
              "      <td>0.896302</td>\n",
              "      <td>-0.935064</td>\n",
              "      <td>-0.673095</td>\n",
              "      <td>-0.851844</td>\n",
              "      <td>-0.572966</td>\n",
              "      <td>1.0</td>\n",
              "    </tr>\n",
              "    <tr>\n",
              "      <th>98</th>\n",
              "      <td>0.888122</td>\n",
              "      <td>-0.950066</td>\n",
              "      <td>-0.664741</td>\n",
              "      <td>-0.741957</td>\n",
              "      <td>-0.598255</td>\n",
              "      <td>1.0</td>\n",
              "    </tr>\n",
              "    <tr>\n",
              "      <th>99</th>\n",
              "      <td>0.348157</td>\n",
              "      <td>0.575411</td>\n",
              "      <td>0.929865</td>\n",
              "      <td>-0.813352</td>\n",
              "      <td>-0.612488</td>\n",
              "      <td>1.0</td>\n",
              "    </tr>\n",
              "  </tbody>\n",
              "</table>\n",
              "<p>100 rows × 6 columns</p>\n",
              "</div>"
            ],
            "text/plain": [
              "           0         1         2         3         4    5\n",
              "0  -0.430804  0.863086 -0.923837 -0.728881 -0.539447  0.0\n",
              "1   0.339557  0.563784  0.927209 -0.818439 -0.605889  0.0\n",
              "2   0.888264 -0.944071 -0.668631 -0.751788 -0.605011  0.0\n",
              "3  -0.996989 -0.998307  0.076140 -0.647370 -0.611079  0.0\n",
              "4  -0.429876  0.867298 -0.925930 -0.773587 -0.459549  0.0\n",
              "..       ...       ...       ...       ...       ...  ...\n",
              "95 -0.429849  0.866236 -0.925597 -0.751273 -0.556766  1.0\n",
              "96  0.344897  0.568306  0.933503 -0.895925 -0.625205  1.0\n",
              "97  0.896302 -0.935064 -0.673095 -0.851844 -0.572966  1.0\n",
              "98  0.888122 -0.950066 -0.664741 -0.741957 -0.598255  1.0\n",
              "99  0.348157  0.575411  0.929865 -0.813352 -0.612488  1.0\n",
              "\n",
              "[100 rows x 6 columns]"
            ]
          },
          "metadata": {
            "tags": []
          },
          "execution_count": 40
        }
      ]
    },
    {
      "cell_type": "code",
      "metadata": {
        "id": "Ne6Pf9RdJBpS",
        "colab_type": "code",
        "outputId": "39842ed8-b0c3-476c-9311-9060f48f8dac",
        "colab": {
          "base_uri": "https://localhost:8080/",
          "height": 441
        }
      },
      "source": [
        "testing_data_shuffled = np.take(testing_data,np.random.permutation(testing_data.shape[0]),axis=0,out=testing_data)\n",
        "print('Shuffled Data:')\n",
        "pd.DataFrame(testing_data_shuffled)"
      ],
      "execution_count": 41,
      "outputs": [
        {
          "output_type": "stream",
          "text": [
            "Shuffled Data:\n"
          ],
          "name": "stdout"
        },
        {
          "output_type": "execute_result",
          "data": {
            "text/html": [
              "<div>\n",
              "<style scoped>\n",
              "    .dataframe tbody tr th:only-of-type {\n",
              "        vertical-align: middle;\n",
              "    }\n",
              "\n",
              "    .dataframe tbody tr th {\n",
              "        vertical-align: top;\n",
              "    }\n",
              "\n",
              "    .dataframe thead th {\n",
              "        text-align: right;\n",
              "    }\n",
              "</style>\n",
              "<table border=\"1\" class=\"dataframe\">\n",
              "  <thead>\n",
              "    <tr style=\"text-align: right;\">\n",
              "      <th></th>\n",
              "      <th>0</th>\n",
              "      <th>1</th>\n",
              "      <th>2</th>\n",
              "      <th>3</th>\n",
              "      <th>4</th>\n",
              "      <th>5</th>\n",
              "    </tr>\n",
              "  </thead>\n",
              "  <tbody>\n",
              "    <tr>\n",
              "      <th>0</th>\n",
              "      <td>-0.998421</td>\n",
              "      <td>-0.999006</td>\n",
              "      <td>0.077001</td>\n",
              "      <td>-0.748575</td>\n",
              "      <td>-0.599495</td>\n",
              "      <td>0.0</td>\n",
              "    </tr>\n",
              "    <tr>\n",
              "      <th>1</th>\n",
              "      <td>-0.999081</td>\n",
              "      <td>-0.999355</td>\n",
              "      <td>0.077372</td>\n",
              "      <td>-0.805173</td>\n",
              "      <td>-0.585133</td>\n",
              "      <td>0.0</td>\n",
              "    </tr>\n",
              "    <tr>\n",
              "      <th>2</th>\n",
              "      <td>-0.999540</td>\n",
              "      <td>-0.999708</td>\n",
              "      <td>0.077700</td>\n",
              "      <td>-0.865043</td>\n",
              "      <td>-0.590197</td>\n",
              "      <td>0.0</td>\n",
              "    </tr>\n",
              "    <tr>\n",
              "      <th>3</th>\n",
              "      <td>-0.419104</td>\n",
              "      <td>0.884028</td>\n",
              "      <td>-0.936927</td>\n",
              "      <td>-0.041354</td>\n",
              "      <td>-0.353822</td>\n",
              "      <td>1.0</td>\n",
              "    </tr>\n",
              "    <tr>\n",
              "      <th>4</th>\n",
              "      <td>-0.426953</td>\n",
              "      <td>0.875803</td>\n",
              "      <td>-0.930700</td>\n",
              "      <td>-0.764443</td>\n",
              "      <td>-0.489765</td>\n",
              "      <td>0.0</td>\n",
              "    </tr>\n",
              "    <tr>\n",
              "      <th>...</th>\n",
              "      <td>...</td>\n",
              "      <td>...</td>\n",
              "      <td>...</td>\n",
              "      <td>...</td>\n",
              "      <td>...</td>\n",
              "      <td>...</td>\n",
              "    </tr>\n",
              "    <tr>\n",
              "      <th>95</th>\n",
              "      <td>-0.432781</td>\n",
              "      <td>0.860936</td>\n",
              "      <td>-0.922251</td>\n",
              "      <td>-0.888125</td>\n",
              "      <td>-0.591841</td>\n",
              "      <td>0.0</td>\n",
              "    </tr>\n",
              "    <tr>\n",
              "      <th>96</th>\n",
              "      <td>-0.998377</td>\n",
              "      <td>-0.999109</td>\n",
              "      <td>0.077009</td>\n",
              "      <td>-0.778210</td>\n",
              "      <td>-0.580491</td>\n",
              "      <td>0.0</td>\n",
              "    </tr>\n",
              "    <tr>\n",
              "      <th>97</th>\n",
              "      <td>0.889106</td>\n",
              "      <td>-0.948333</td>\n",
              "      <td>-0.664118</td>\n",
              "      <td>-0.639409</td>\n",
              "      <td>-0.210450</td>\n",
              "      <td>1.0</td>\n",
              "    </tr>\n",
              "    <tr>\n",
              "      <th>98</th>\n",
              "      <td>-0.997567</td>\n",
              "      <td>-0.998469</td>\n",
              "      <td>0.076500</td>\n",
              "      <td>-0.662217</td>\n",
              "      <td>-0.586533</td>\n",
              "      <td>0.0</td>\n",
              "    </tr>\n",
              "    <tr>\n",
              "      <th>99</th>\n",
              "      <td>0.896302</td>\n",
              "      <td>-0.935064</td>\n",
              "      <td>-0.673095</td>\n",
              "      <td>-0.851844</td>\n",
              "      <td>-0.572966</td>\n",
              "      <td>1.0</td>\n",
              "    </tr>\n",
              "  </tbody>\n",
              "</table>\n",
              "<p>100 rows × 6 columns</p>\n",
              "</div>"
            ],
            "text/plain": [
              "           0         1         2         3         4    5\n",
              "0  -0.998421 -0.999006  0.077001 -0.748575 -0.599495  0.0\n",
              "1  -0.999081 -0.999355  0.077372 -0.805173 -0.585133  0.0\n",
              "2  -0.999540 -0.999708  0.077700 -0.865043 -0.590197  0.0\n",
              "3  -0.419104  0.884028 -0.936927 -0.041354 -0.353822  1.0\n",
              "4  -0.426953  0.875803 -0.930700 -0.764443 -0.489765  0.0\n",
              "..       ...       ...       ...       ...       ...  ...\n",
              "95 -0.432781  0.860936 -0.922251 -0.888125 -0.591841  0.0\n",
              "96 -0.998377 -0.999109  0.077009 -0.778210 -0.580491  0.0\n",
              "97  0.889106 -0.948333 -0.664118 -0.639409 -0.210450  1.0\n",
              "98 -0.997567 -0.998469  0.076500 -0.662217 -0.586533  0.0\n",
              "99  0.896302 -0.935064 -0.673095 -0.851844 -0.572966  1.0\n",
              "\n",
              "[100 rows x 6 columns]"
            ]
          },
          "metadata": {
            "tags": []
          },
          "execution_count": 41
        }
      ]
    },
    {
      "cell_type": "markdown",
      "metadata": {
        "id": "xyX_922LqWQ0",
        "colab_type": "text"
      },
      "source": [
        "##Testing Data\n",
        "\n",
        "Below you will find the parsed testing features and labels."
      ]
    },
    {
      "cell_type": "code",
      "metadata": {
        "id": "crbG0uo8G3iX",
        "colab_type": "code",
        "colab": {}
      },
      "source": [
        "y_testing_data = testing_data_shuffled[:,-1]\n",
        "X_testing_data = testing_data_shuffled[:,:-1]"
      ],
      "execution_count": 0,
      "outputs": []
    },
    {
      "cell_type": "markdown",
      "metadata": {
        "id": "2r4YOMyluHnX",
        "colab_type": "text"
      },
      "source": [
        "##Start splitting data"
      ]
    },
    {
      "cell_type": "code",
      "metadata": {
        "id": "DbJ4zrRZjAR0",
        "colab_type": "code",
        "colab": {}
      },
      "source": [
        "from sklearn.model_selection import train_test_split\n",
        "X_train, X_test, y_train, y_test = train_test_split(X, y, test_size = 0.8)"
      ],
      "execution_count": 0,
      "outputs": []
    },
    {
      "cell_type": "markdown",
      "metadata": {
        "id": "pKFxesc5q2l0",
        "colab_type": "text"
      },
      "source": [
        "## Deploy Neural Network Model"
      ]
    },
    {
      "cell_type": "code",
      "metadata": {
        "id": "FfjDXQLajZf5",
        "colab_type": "code",
        "colab": {}
      },
      "source": [
        "from sklearn.neural_network import MLPClassifier"
      ],
      "execution_count": 0,
      "outputs": []
    },
    {
      "cell_type": "code",
      "metadata": {
        "id": "ZeqhW7F6k6nu",
        "colab_type": "code",
        "colab": {}
      },
      "source": [
        "mlp = MLPClassifier(max_iter=2000)"
      ],
      "execution_count": 0,
      "outputs": []
    },
    {
      "cell_type": "markdown",
      "metadata": {
        "id": "KJaCa0uSrGjG",
        "colab_type": "text"
      },
      "source": [
        "##Deploy Parameter Search"
      ]
    },
    {
      "cell_type": "code",
      "metadata": {
        "id": "vfCk3ogAl9f7",
        "colab_type": "code",
        "colab": {}
      },
      "source": [
        "parameter_space = {\n",
        "    'hidden_layer_sizes': [(50,50,50), (50,100,50), (100,)],\n",
        "    'activation': ['tanh', 'relu', 'logistic'],\n",
        "    'solver': ['sgd', 'adam'],\n",
        "    'alpha': [0.0001, 0.1],\n",
        "    'learning_rate': ['constant','adaptive']\n",
        "    }"
      ],
      "execution_count": 0,
      "outputs": []
    },
    {
      "cell_type": "code",
      "metadata": {
        "id": "x8jvTNPnl_IH",
        "colab_type": "code",
        "colab": {}
      },
      "source": [
        "from sklearn.model_selection import GridSearchCV\n",
        "\n",
        "clf = GridSearchCV(mlp, parameter_space, n_jobs=-1, cv=3)"
      ],
      "execution_count": 0,
      "outputs": []
    },
    {
      "cell_type": "code",
      "metadata": {
        "id": "pz0Fh6wgrr4L",
        "colab_type": "code",
        "outputId": "d04c681f-2551-4806-929b-48bba07c6f89",
        "colab": {
          "base_uri": "https://localhost:8080/",
          "height": 398
        }
      },
      "source": [
        "clf.fit(X, y)"
      ],
      "execution_count": 48,
      "outputs": [
        {
          "output_type": "execute_result",
          "data": {
            "text/plain": [
              "GridSearchCV(cv=3, error_score=nan,\n",
              "             estimator=MLPClassifier(activation='relu', alpha=0.0001,\n",
              "                                     batch_size='auto', beta_1=0.9,\n",
              "                                     beta_2=0.999, early_stopping=False,\n",
              "                                     epsilon=1e-08, hidden_layer_sizes=(100,),\n",
              "                                     learning_rate='constant',\n",
              "                                     learning_rate_init=0.001, max_fun=15000,\n",
              "                                     max_iter=2000, momentum=0.9,\n",
              "                                     n_iter_no_change=10,\n",
              "                                     nesterovs_momentum=True, power_t=0.5,\n",
              "                                     random_stat...\n",
              "                                     validation_fraction=0.1, verbose=False,\n",
              "                                     warm_start=False),\n",
              "             iid='deprecated', n_jobs=-1,\n",
              "             param_grid={'activation': ['tanh', 'relu', 'logistic'],\n",
              "                         'alpha': [0.0001, 0.1],\n",
              "                         'hidden_layer_sizes': [(50, 50, 50), (50, 100, 50),\n",
              "                                                (100,)],\n",
              "                         'learning_rate': ['constant', 'adaptive'],\n",
              "                         'solver': ['sgd', 'adam']},\n",
              "             pre_dispatch='2*n_jobs', refit=True, return_train_score=False,\n",
              "             scoring=None, verbose=0)"
            ]
          },
          "metadata": {
            "tags": []
          },
          "execution_count": 48
        }
      ]
    },
    {
      "cell_type": "code",
      "metadata": {
        "id": "sINzsZ1fmM6U",
        "colab_type": "code",
        "colab": {}
      },
      "source": [
        "y_true, y_pred = y , clf.predict(X)"
      ],
      "execution_count": 0,
      "outputs": []
    },
    {
      "cell_type": "code",
      "metadata": {
        "id": "eS8IBeC4mVSJ",
        "colab_type": "code",
        "outputId": "aee159cb-584e-455a-d01b-c554276a7730",
        "colab": {
          "base_uri": "https://localhost:8080/",
          "height": 34
        }
      },
      "source": [
        "print('Score Training Accuracy: ',accuracy_score(y_true, y_pred))"
      ],
      "execution_count": 50,
      "outputs": [
        {
          "output_type": "stream",
          "text": [
            "Score Training Accuracy:  0.86\n"
          ],
          "name": "stdout"
        }
      ]
    },
    {
      "cell_type": "code",
      "metadata": {
        "id": "S422suG-w89z",
        "colab_type": "code",
        "colab": {}
      },
      "source": [
        "y_test_testing_data = testing_data_shuffled[:,-1]"
      ],
      "execution_count": 0,
      "outputs": []
    },
    {
      "cell_type": "code",
      "metadata": {
        "id": "KUWCUfJ3xniq",
        "colab_type": "code",
        "colab": {}
      },
      "source": [
        "#prediction against data \n",
        "model_test_data = clf.predict(X_testing_data)"
      ],
      "execution_count": 0,
      "outputs": []
    },
    {
      "cell_type": "code",
      "metadata": {
        "id": "nlfkgfDVzYHq",
        "colab_type": "code",
        "outputId": "507c13cd-d694-45ba-98f1-28cab8db00d0",
        "colab": {
          "base_uri": "https://localhost:8080/",
          "height": 34
        }
      },
      "source": [
        "print('Score Accuracy Testing: ', accuracy_score(y_testing_data, model_test_data))"
      ],
      "execution_count": 54,
      "outputs": [
        {
          "output_type": "stream",
          "text": [
            "Score Accuracy Testing:  0.69\n"
          ],
          "name": "stdout"
        }
      ]
    }
  ]
}