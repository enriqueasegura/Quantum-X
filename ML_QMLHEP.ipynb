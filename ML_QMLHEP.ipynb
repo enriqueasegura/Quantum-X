{
  "nbformat": 4,
  "nbformat_minor": 0,
  "metadata": {
    "colab": {
      "name": "ML QMLHEP.ipynb",
      "provenance": [],
      "collapsed_sections": [],
      "toc_visible": true,
      "authorship_tag": "ABX9TyM0Fe6BAPphZpNkEfQK/lt1",
      "include_colab_link": true
    },
    "kernelspec": {
      "name": "python3",
      "display_name": "Python 3"
    }
  },
  "cells": [
    {
      "cell_type": "markdown",
      "metadata": {
        "id": "view-in-github",
        "colab_type": "text"
      },
      "source": [
        "<a href=\"https://colab.research.google.com/github/enriqueasegura/Quantum-X/blob/master/ML_QMLHEP.ipynb\" target=\"_parent\"><img src=\"https://colab.research.google.com/assets/colab-badge.svg\" alt=\"Open In Colab\"/></a>"
      ]
    },
    {
      "cell_type": "markdown",
      "metadata": {
        "id": "vzGs9NfR2Qiw",
        "colab_type": "text"
      },
      "source": [
        "#Machine Learning Part\n",
        "\n",
        "You will explore how best to apply machine learning algorithms, for example, Neural Network, Boosted Decision Tree (BDT), Support Vector Machine(SVM) to solve a High Energy Data analysis issue, more specifically,  separating the signal events from the background events.\n",
        "\n",
        "A set of input samples (simulated with Delphes) is provided in NumPy NPZ format  [Download Input](https://drive.google.com/open?id=1r_MZB_crfpij6r3SxPDeU_3JD6t6AxAj). In the input file, there are only 100 samples for training and 100 samples for testing so it won’t take much computing resources to accomplish this task. The signal events are labeled with 1 while the background sample are labeled with 0.\n",
        "\n",
        "You can apply one machine learning algorithm to this input but be sure to show that you understand how to fine tune your machine learning model to improve the performance. The performance can be evaluated with classification accuracy or Area Under ROC Curve (AUC).\n"
      ]
    },
    {
      "cell_type": "markdown",
      "metadata": {
        "id": "sbyxR-GyYsWr",
        "colab_type": "text"
      },
      "source": [
        "##Libraries Needed"
      ]
    },
    {
      "cell_type": "code",
      "metadata": {
        "id": "QKKTLKQwLgb5",
        "colab_type": "code",
        "outputId": "a7bafe32-6c4c-4e7e-8408-667af2c8cd41",
        "colab": {
          "base_uri": "https://localhost:8080/",
          "height": 190
        }
      },
      "source": [
        "import numpy as np \n",
        "import matplotlib.pyplot as plt\n",
        "%matplotlib inline\n",
        "from google.colab import files\n",
        "import pandas as pd\n",
        "import scipy as sci \n",
        "\n",
        "import matplotlib\n",
        "from matplotlib import rc\n",
        "rc('font',**{'family':'sans-serif','sans-serif':['Helvetica']})\n",
        "## for Palatino and other serif fonts use:\n",
        "#rc('font',**{'family':'serif','serif':['Computer Modern Roman']})\n",
        "rc('text', usetex=True)\n",
        "#matplotlib.rcParams['text.usetex']=True\n",
        "matplotlib.rcParams['text.latex.unicode']=True\n",
        "\n",
        "from matplotlib import rcParams\n",
        "rcParams['axes.titlepad'] = 20 \n",
        "\n",
        "from sklearn.metrics import accuracy_score\n",
        "from matplotlib.pyplot import imshow\n",
        "\n",
        "!sudo dpkg --configure -a\n",
        "!sudo apt-get install dvipng texlive-latex-extra texlive-fonts-recommended "
      ],
      "execution_count": 92,
      "outputs": [
        {
          "output_type": "stream",
          "text": [
            "/usr/local/lib/python3.6/dist-packages/ipykernel_launcher.py:15: MatplotlibDeprecationWarning: \n",
            "The text.latex.unicode rcparam was deprecated in Matplotlib 3.0 and will be removed in 3.2.\n",
            "  from ipykernel import kernelapp as app\n"
          ],
          "name": "stderr"
        },
        {
          "output_type": "stream",
          "text": [
            "Reading package lists... Done\n",
            "Building dependency tree       \n",
            "Reading state information... Done\n",
            "dvipng is already the newest version (1.15-1).\n",
            "texlive-fonts-recommended is already the newest version (2017.20180305-1).\n",
            "texlive-latex-extra is already the newest version (2017.20180305-2).\n",
            "0 upgraded, 0 newly installed, 0 to remove and 25 not upgraded.\n"
          ],
          "name": "stdout"
        }
      ]
    },
    {
      "cell_type": "markdown",
      "metadata": {
        "id": "vTd6AhITYzc6",
        "colab_type": "text"
      },
      "source": [
        "##Upload Sample Files"
      ]
    },
    {
      "cell_type": "markdown",
      "metadata": {
        "id": "Hv13SRXuY3N5",
        "colab_type": "text"
      },
      "source": [
        "##Load Files"
      ]
    },
    {
      "cell_type": "code",
      "metadata": {
        "id": "g8boE_xe1I_C",
        "colab_type": "code",
        "colab": {}
      },
      "source": [
        "#load the files \n",
        "data = np.load('QIS_EXAM_200Events.npz', allow_pickle=True)"
      ],
      "execution_count": 0,
      "outputs": []
    },
    {
      "cell_type": "code",
      "metadata": {
        "id": "p4dZVy5q5RqI",
        "colab_type": "code",
        "outputId": "6b1512e4-7cac-43d5-9c49-cb0be235ff67",
        "colab": {
          "base_uri": "https://localhost:8080/",
          "height": 34
        }
      },
      "source": [
        "data.files"
      ],
      "execution_count": 94,
      "outputs": [
        {
          "output_type": "execute_result",
          "data": {
            "text/plain": [
              "['training_input', 'test_input']"
            ]
          },
          "metadata": {
            "tags": []
          },
          "execution_count": 94
        }
      ]
    },
    {
      "cell_type": "code",
      "metadata": {
        "id": "usARNUoW1cFs",
        "colab_type": "code",
        "outputId": "10601686-ecf4-4df9-9b92-9ad17609bc7f",
        "colab": {
          "base_uri": "https://localhost:8080/",
          "height": 52
        }
      },
      "source": [
        "print('Data:')\n",
        "data.files"
      ],
      "execution_count": 95,
      "outputs": [
        {
          "output_type": "stream",
          "text": [
            "Data:\n"
          ],
          "name": "stdout"
        },
        {
          "output_type": "execute_result",
          "data": {
            "text/plain": [
              "['training_input', 'test_input']"
            ]
          },
          "metadata": {
            "tags": []
          },
          "execution_count": 95
        }
      ]
    },
    {
      "cell_type": "code",
      "metadata": {
        "id": "pgkEni_31c24",
        "colab_type": "code",
        "colab": {}
      },
      "source": [
        "training_data = data['training_input']\n",
        "test_data = data['test_input']"
      ],
      "execution_count": 0,
      "outputs": []
    },
    {
      "cell_type": "markdown",
      "metadata": {
        "id": "ihOVDDnRodnl",
        "colab_type": "text"
      },
      "source": [
        "##Helper Functions\n",
        "\n",
        "I made this parser to go through the data and built the $X$ and $y$ needed to implement a model"
      ]
    },
    {
      "cell_type": "code",
      "metadata": {
        "id": "9wjPqJ34A59E",
        "colab_type": "code",
        "colab": {}
      },
      "source": [
        "def data_X(d):\n",
        "  \"\"\"\n",
        "  This is a helper function\n",
        "  It is meant to illustrate how to take the data from the current form\n",
        "  and make it into something we can use to feed sklearn algorithms\n",
        "\n",
        "  This function creates the NxM matrix X \n",
        "  and the last column is the feature vector which is N x 1\n",
        "\n",
        "  \"\"\"\n",
        "  r, c = 100, 6\n",
        "  r_data = np.ones((r,c))\n",
        "\n",
        "  #print(r_b, c_b)\n",
        "\n",
        "  training_data_background = d.item()['0']\n",
        "  training_data_signal = d.item()['1']\n",
        "\n",
        "  r_b, c_b = np.shape(training_data_background)\n",
        "\n",
        "  #first we loop through the background data and feed it to the resulting data\n",
        "  \n",
        "  for i in range(r_b):\n",
        "    for j in range(c_b):\n",
        "      r_data[i][j] = training_data_background[i][j]\n",
        "    #this is for background \n",
        "    r_data[i][j+1] = 0\n",
        "  \n",
        "  #now with the signal data\n",
        "  for i in range(r_b):\n",
        "    for j in range(c_b):\n",
        "      r_data[r_b + i][j] = training_data_signal[i][j]\n",
        "    #since this is signal, it should be with label 1 \n",
        "  return r_data"
      ],
      "execution_count": 0,
      "outputs": []
    },
    {
      "cell_type": "markdown",
      "metadata": {
        "id": "-jfzvOn-CXOn",
        "colab_type": "text"
      },
      "source": [
        "##Notes to keep in mind \n",
        "\n",
        "Given $N$ data points and $M$ features, you want to create one $N \\times M$ matrix $X$ (your design/feature matrix), and one $N \\times 1$ vector (you label vector)\n",
        "\n",
        "1. Feature matrix $X$ and label vector $y$.\n",
        "2. Feed $X$ and $y$ into some classifier from sklearn.\n",
        "\n",
        "Key point: \n",
        "\n",
        "1. Shuffle data so there are adjacent rows are not correlated. \n",
        "2. Split the data into training/testing sets (usually 80/20 split).\n",
        "\n",
        "Thing to remember: \n",
        "\n",
        "This is a binary classification problem."
      ]
    },
    {
      "cell_type": "code",
      "metadata": {
        "id": "-s1gvtsEA_QA",
        "colab_type": "code",
        "outputId": "3954d3b3-e75e-47b1-c440-4a70a1f93fd0",
        "colab": {
          "base_uri": "https://localhost:8080/",
          "height": 441
        }
      },
      "source": [
        "train_data = data_X(training_data)\n",
        "\n",
        "train_data_dataframe = pd.DataFrame(train_data)\n",
        "print('Data set with X : y:')\n",
        "train_data_dataframe"
      ],
      "execution_count": 98,
      "outputs": [
        {
          "output_type": "stream",
          "text": [
            "Data set with X : y:\n"
          ],
          "name": "stdout"
        },
        {
          "output_type": "execute_result",
          "data": {
            "text/html": [
              "<div>\n",
              "<style scoped>\n",
              "    .dataframe tbody tr th:only-of-type {\n",
              "        vertical-align: middle;\n",
              "    }\n",
              "\n",
              "    .dataframe tbody tr th {\n",
              "        vertical-align: top;\n",
              "    }\n",
              "\n",
              "    .dataframe thead th {\n",
              "        text-align: right;\n",
              "    }\n",
              "</style>\n",
              "<table border=\"1\" class=\"dataframe\">\n",
              "  <thead>\n",
              "    <tr style=\"text-align: right;\">\n",
              "      <th></th>\n",
              "      <th>0</th>\n",
              "      <th>1</th>\n",
              "      <th>2</th>\n",
              "      <th>3</th>\n",
              "      <th>4</th>\n",
              "      <th>5</th>\n",
              "    </tr>\n",
              "  </thead>\n",
              "  <tbody>\n",
              "    <tr>\n",
              "      <th>0</th>\n",
              "      <td>-0.430791</td>\n",
              "      <td>0.868348</td>\n",
              "      <td>-0.926147</td>\n",
              "      <td>-0.926620</td>\n",
              "      <td>-0.569009</td>\n",
              "      <td>0.0</td>\n",
              "    </tr>\n",
              "    <tr>\n",
              "      <th>1</th>\n",
              "      <td>0.339242</td>\n",
              "      <td>0.561555</td>\n",
              "      <td>0.930975</td>\n",
              "      <td>-0.916317</td>\n",
              "      <td>-0.544635</td>\n",
              "      <td>0.0</td>\n",
              "    </tr>\n",
              "    <tr>\n",
              "      <th>2</th>\n",
              "      <td>-0.428889</td>\n",
              "      <td>0.870650</td>\n",
              "      <td>-0.927822</td>\n",
              "      <td>-0.775340</td>\n",
              "      <td>-0.583292</td>\n",
              "      <td>0.0</td>\n",
              "    </tr>\n",
              "    <tr>\n",
              "      <th>3</th>\n",
              "      <td>-0.432629</td>\n",
              "      <td>0.861289</td>\n",
              "      <td>-0.922409</td>\n",
              "      <td>-0.880489</td>\n",
              "      <td>-0.499631</td>\n",
              "      <td>0.0</td>\n",
              "    </tr>\n",
              "    <tr>\n",
              "      <th>4</th>\n",
              "      <td>-0.999253</td>\n",
              "      <td>-0.999496</td>\n",
              "      <td>0.077537</td>\n",
              "      <td>-0.842180</td>\n",
              "      <td>-0.514940</td>\n",
              "      <td>0.0</td>\n",
              "    </tr>\n",
              "    <tr>\n",
              "      <th>...</th>\n",
              "      <td>...</td>\n",
              "      <td>...</td>\n",
              "      <td>...</td>\n",
              "      <td>...</td>\n",
              "      <td>...</td>\n",
              "      <td>...</td>\n",
              "    </tr>\n",
              "    <tr>\n",
              "      <th>95</th>\n",
              "      <td>0.927897</td>\n",
              "      <td>-0.906354</td>\n",
              "      <td>-0.647231</td>\n",
              "      <td>-0.616369</td>\n",
              "      <td>-0.534791</td>\n",
              "      <td>1.0</td>\n",
              "    </tr>\n",
              "    <tr>\n",
              "      <th>96</th>\n",
              "      <td>-0.430184</td>\n",
              "      <td>0.865693</td>\n",
              "      <td>-0.925222</td>\n",
              "      <td>-0.723606</td>\n",
              "      <td>-0.505656</td>\n",
              "      <td>1.0</td>\n",
              "    </tr>\n",
              "    <tr>\n",
              "      <th>97</th>\n",
              "      <td>0.349044</td>\n",
              "      <td>0.585557</td>\n",
              "      <td>0.917345</td>\n",
              "      <td>-0.609937</td>\n",
              "      <td>-0.585279</td>\n",
              "      <td>1.0</td>\n",
              "    </tr>\n",
              "    <tr>\n",
              "      <th>98</th>\n",
              "      <td>0.344345</td>\n",
              "      <td>0.566294</td>\n",
              "      <td>0.930266</td>\n",
              "      <td>-0.606098</td>\n",
              "      <td>-0.649302</td>\n",
              "      <td>1.0</td>\n",
              "    </tr>\n",
              "    <tr>\n",
              "      <th>99</th>\n",
              "      <td>0.881251</td>\n",
              "      <td>-0.954380</td>\n",
              "      <td>-0.666644</td>\n",
              "      <td>-0.781876</td>\n",
              "      <td>-0.643458</td>\n",
              "      <td>1.0</td>\n",
              "    </tr>\n",
              "  </tbody>\n",
              "</table>\n",
              "<p>100 rows × 6 columns</p>\n",
              "</div>"
            ],
            "text/plain": [
              "           0         1         2         3         4    5\n",
              "0  -0.430791  0.868348 -0.926147 -0.926620 -0.569009  0.0\n",
              "1   0.339242  0.561555  0.930975 -0.916317 -0.544635  0.0\n",
              "2  -0.428889  0.870650 -0.927822 -0.775340 -0.583292  0.0\n",
              "3  -0.432629  0.861289 -0.922409 -0.880489 -0.499631  0.0\n",
              "4  -0.999253 -0.999496  0.077537 -0.842180 -0.514940  0.0\n",
              "..       ...       ...       ...       ...       ...  ...\n",
              "95  0.927897 -0.906354 -0.647231 -0.616369 -0.534791  1.0\n",
              "96 -0.430184  0.865693 -0.925222 -0.723606 -0.505656  1.0\n",
              "97  0.349044  0.585557  0.917345 -0.609937 -0.585279  1.0\n",
              "98  0.344345  0.566294  0.930266 -0.606098 -0.649302  1.0\n",
              "99  0.881251 -0.954380 -0.666644 -0.781876 -0.643458  1.0\n",
              "\n",
              "[100 rows x 6 columns]"
            ]
          },
          "metadata": {
            "tags": []
          },
          "execution_count": 98
        }
      ]
    },
    {
      "cell_type": "code",
      "metadata": {
        "id": "3KP_l30PBxuL",
        "colab_type": "code",
        "outputId": "ebac85e2-f267-41ec-9a11-e5ee1931dbbc",
        "colab": {
          "base_uri": "https://localhost:8080/",
          "height": 441
        }
      },
      "source": [
        "#now shuffle this data randomly \n",
        "\n",
        "train_data_shuffled = np.take(train_data,np.random.permutation(train_data.shape[0]),axis=0,out=train_data)\n",
        "train_data_shuffled_dataframe = pd.DataFrame(train_data_shuffled)\n",
        "print('Shuffled Matrix:')\n",
        "train_data_shuffled_dataframe"
      ],
      "execution_count": 99,
      "outputs": [
        {
          "output_type": "stream",
          "text": [
            "Shuffled Matrix:\n"
          ],
          "name": "stdout"
        },
        {
          "output_type": "execute_result",
          "data": {
            "text/html": [
              "<div>\n",
              "<style scoped>\n",
              "    .dataframe tbody tr th:only-of-type {\n",
              "        vertical-align: middle;\n",
              "    }\n",
              "\n",
              "    .dataframe tbody tr th {\n",
              "        vertical-align: top;\n",
              "    }\n",
              "\n",
              "    .dataframe thead th {\n",
              "        text-align: right;\n",
              "    }\n",
              "</style>\n",
              "<table border=\"1\" class=\"dataframe\">\n",
              "  <thead>\n",
              "    <tr style=\"text-align: right;\">\n",
              "      <th></th>\n",
              "      <th>0</th>\n",
              "      <th>1</th>\n",
              "      <th>2</th>\n",
              "      <th>3</th>\n",
              "      <th>4</th>\n",
              "      <th>5</th>\n",
              "    </tr>\n",
              "  </thead>\n",
              "  <tbody>\n",
              "    <tr>\n",
              "      <th>0</th>\n",
              "      <td>-0.428889</td>\n",
              "      <td>0.870650</td>\n",
              "      <td>-0.927822</td>\n",
              "      <td>-0.775340</td>\n",
              "      <td>-0.583292</td>\n",
              "      <td>0.0</td>\n",
              "    </tr>\n",
              "    <tr>\n",
              "      <th>1</th>\n",
              "      <td>-0.999437</td>\n",
              "      <td>-0.999603</td>\n",
              "      <td>0.077619</td>\n",
              "      <td>-0.848979</td>\n",
              "      <td>-0.572516</td>\n",
              "      <td>0.0</td>\n",
              "    </tr>\n",
              "    <tr>\n",
              "      <th>2</th>\n",
              "      <td>0.897605</td>\n",
              "      <td>-0.947747</td>\n",
              "      <td>-0.666486</td>\n",
              "      <td>-0.654641</td>\n",
              "      <td>-0.523454</td>\n",
              "      <td>1.0</td>\n",
              "    </tr>\n",
              "    <tr>\n",
              "      <th>3</th>\n",
              "      <td>-0.425853</td>\n",
              "      <td>0.867645</td>\n",
              "      <td>-0.927563</td>\n",
              "      <td>-0.320383</td>\n",
              "      <td>-0.505551</td>\n",
              "      <td>1.0</td>\n",
              "    </tr>\n",
              "    <tr>\n",
              "      <th>4</th>\n",
              "      <td>-0.422981</td>\n",
              "      <td>0.886309</td>\n",
              "      <td>-0.936612</td>\n",
              "      <td>-0.649443</td>\n",
              "      <td>-0.391935</td>\n",
              "      <td>1.0</td>\n",
              "    </tr>\n",
              "    <tr>\n",
              "      <th>...</th>\n",
              "      <td>...</td>\n",
              "      <td>...</td>\n",
              "      <td>...</td>\n",
              "      <td>...</td>\n",
              "      <td>...</td>\n",
              "      <td>...</td>\n",
              "    </tr>\n",
              "    <tr>\n",
              "      <th>95</th>\n",
              "      <td>0.350718</td>\n",
              "      <td>0.578358</td>\n",
              "      <td>0.930477</td>\n",
              "      <td>-0.738159</td>\n",
              "      <td>-0.534656</td>\n",
              "      <td>1.0</td>\n",
              "    </tr>\n",
              "    <tr>\n",
              "      <th>96</th>\n",
              "      <td>-0.429864</td>\n",
              "      <td>0.866549</td>\n",
              "      <td>-0.925718</td>\n",
              "      <td>-0.738628</td>\n",
              "      <td>-0.586748</td>\n",
              "      <td>0.0</td>\n",
              "    </tr>\n",
              "    <tr>\n",
              "      <th>97</th>\n",
              "      <td>0.341905</td>\n",
              "      <td>0.570194</td>\n",
              "      <td>0.924391</td>\n",
              "      <td>-0.812816</td>\n",
              "      <td>-0.588190</td>\n",
              "      <td>1.0</td>\n",
              "    </tr>\n",
              "    <tr>\n",
              "      <th>98</th>\n",
              "      <td>0.340280</td>\n",
              "      <td>0.560051</td>\n",
              "      <td>0.931456</td>\n",
              "      <td>-0.769966</td>\n",
              "      <td>-0.556146</td>\n",
              "      <td>1.0</td>\n",
              "    </tr>\n",
              "    <tr>\n",
              "      <th>99</th>\n",
              "      <td>0.913616</td>\n",
              "      <td>-0.949723</td>\n",
              "      <td>-0.675854</td>\n",
              "      <td>-0.501457</td>\n",
              "      <td>-0.191172</td>\n",
              "      <td>1.0</td>\n",
              "    </tr>\n",
              "  </tbody>\n",
              "</table>\n",
              "<p>100 rows × 6 columns</p>\n",
              "</div>"
            ],
            "text/plain": [
              "           0         1         2         3         4    5\n",
              "0  -0.428889  0.870650 -0.927822 -0.775340 -0.583292  0.0\n",
              "1  -0.999437 -0.999603  0.077619 -0.848979 -0.572516  0.0\n",
              "2   0.897605 -0.947747 -0.666486 -0.654641 -0.523454  1.0\n",
              "3  -0.425853  0.867645 -0.927563 -0.320383 -0.505551  1.0\n",
              "4  -0.422981  0.886309 -0.936612 -0.649443 -0.391935  1.0\n",
              "..       ...       ...       ...       ...       ...  ...\n",
              "95  0.350718  0.578358  0.930477 -0.738159 -0.534656  1.0\n",
              "96 -0.429864  0.866549 -0.925718 -0.738628 -0.586748  0.0\n",
              "97  0.341905  0.570194  0.924391 -0.812816 -0.588190  1.0\n",
              "98  0.340280  0.560051  0.931456 -0.769966 -0.556146  1.0\n",
              "99  0.913616 -0.949723 -0.675854 -0.501457 -0.191172  1.0\n",
              "\n",
              "[100 rows x 6 columns]"
            ]
          },
          "metadata": {
            "tags": []
          },
          "execution_count": 99
        }
      ]
    },
    {
      "cell_type": "code",
      "metadata": {
        "id": "NZ2-QNdWoz7G",
        "colab_type": "code",
        "outputId": "b98cf0cf-c9cc-421c-f6fa-a77e4f66035c",
        "colab": {
          "base_uri": "https://localhost:8080/",
          "height": 1000
        }
      },
      "source": [
        "! sudo apt-get install texlive-latex-recommended #1\n",
        "! sudo apt-get install dvipng texlive-fonts-recommended #2\n",
        "! wget http://mirrors.ctan.org/macros/latex/contrib/type1cm.zip #3\n",
        "! unzip type1cm.zip -d /tmp/type1cm #4\n",
        "! cd /tmp/type1cm/type1cm/ && sudo latex type1cm.ins  #5\n",
        "! sudo mkdir /usr/share/texmf/tex/latex/type1cm #6\n",
        "! sudo cp /tmp/type1cm/type1cm/type1cm.sty /usr/share/texmf/tex/latex/type1cm #7\n",
        "! sudo texhash #8\n",
        "! sudo apt-get install texlive-latex-extra texlive-fonts-recommended dvipng"
      ],
      "execution_count": 100,
      "outputs": [
        {
          "output_type": "stream",
          "text": [
            "Reading package lists... Done\n",
            "Building dependency tree       \n",
            "Reading state information... Done\n",
            "texlive-latex-recommended is already the newest version (2017.20180305-1).\n",
            "texlive-latex-recommended set to manually installed.\n",
            "0 upgraded, 0 newly installed, 0 to remove and 25 not upgraded.\n",
            "Reading package lists... Done\n",
            "Building dependency tree       \n",
            "Reading state information... Done\n",
            "dvipng is already the newest version (1.15-1).\n",
            "texlive-fonts-recommended is already the newest version (2017.20180305-1).\n",
            "0 upgraded, 0 newly installed, 0 to remove and 25 not upgraded.\n",
            "--2020-03-20 20:42:57--  http://mirrors.ctan.org/macros/latex/contrib/type1cm.zip\n",
            "Resolving mirrors.ctan.org (mirrors.ctan.org)... 5.35.249.60\n",
            "Connecting to mirrors.ctan.org (mirrors.ctan.org)|5.35.249.60|:80... connected.\n",
            "HTTP request sent, awaiting response... 302 Found\n",
            "Location: http://ctan.math.utah.edu/ctan/tex-archive/macros/latex/contrib/type1cm.zip [following]\n",
            "--2020-03-20 20:42:58--  http://ctan.math.utah.edu/ctan/tex-archive/macros/latex/contrib/type1cm.zip\n",
            "Resolving ctan.math.utah.edu (ctan.math.utah.edu)... 155.101.98.136\n",
            "Connecting to ctan.math.utah.edu (ctan.math.utah.edu)|155.101.98.136|:80... connected.\n",
            "HTTP request sent, awaiting response... 200 OK\n",
            "Length: 328566 (321K) [application/zip]\n",
            "Saving to: ‘type1cm.zip’\n",
            "\n",
            "type1cm.zip         100%[===================>] 320.87K  1.12MB/s    in 0.3s    \n",
            "\n",
            "2020-03-20 20:42:58 (1.12 MB/s) - ‘type1cm.zip’ saved [328566/328566]\n",
            "\n",
            "Archive:  type1cm.zip\n",
            "   creating: /tmp/type1cm/type1cm/\n",
            "  inflating: /tmp/type1cm/type1cm/type1cm.fdd  \n",
            "  inflating: /tmp/type1cm/type1cm/type1cm.ins  \n",
            "  inflating: /tmp/type1cm/type1cm/type1cm.txt  \n",
            "  inflating: /tmp/type1cm/type1cm/type1cm-doc.pdf  \n",
            "  inflating: /tmp/type1cm/type1cm/type1cm-doc.tex  \n",
            "This is pdfTeX, Version 3.14159265-2.6-1.40.18 (TeX Live 2017/Debian) (preloaded format=latex)\n",
            " restricted \\write18 enabled.\n",
            "entering extended mode\n",
            "(./type1cm.ins\n",
            "LaTeX2e <2017-04-15>\n",
            "Babel <3.18> and hyphenation patterns for 3 language(s) loaded.\n",
            "(/usr/share/texlive/texmf-dist/tex/latex/base/docstrip.tex\n",
            "Utility: `docstrip' 2.5e <2014/09/29>\n",
            "English documentation    <2017/03/13>\n",
            "\n",
            "**********************************************************\n",
            "* This program converts documented macro-files into fast *\n",
            "* loadable files by stripping off (nearly) all comments! *\n",
            "**********************************************************\n",
            "\n",
            "********************************************************\n",
            "* No Configuration file found, using default settings. *\n",
            "********************************************************\n",
            "\n",
            "(./type1cm.ins\n",
            "\n",
            "Generating file(s) ./type1cm.sty \n",
            "\n",
            "Processing file type1cm.fdd (package,ams) -> type1cm.sty\n",
            "Lines  processed: 410\n",
            "Comments removed: 25\n",
            "Comments  passed: 7\n",
            "Codelines passed: 263\n",
            "\n",
            ") ) )\n",
            "No pages of output.\n",
            "Transcript written on type1cm.log.\n",
            "texhash: Updating /usr/local/share/texmf/ls-R... \n",
            "texhash: Updating /var/lib/texmf/ls-R-TEXLIVEDIST... \n",
            "texhash: Updating /var/lib/texmf/ls-R-TEXMFMAIN... \n",
            "texhash: Updating /var/lib/texmf/ls-R... \n",
            "texhash: Done.\n",
            "Reading package lists... Done\n",
            "Building dependency tree       \n",
            "Reading state information... Done\n",
            "dvipng is already the newest version (1.15-1).\n",
            "texlive-fonts-recommended is already the newest version (2017.20180305-1).\n",
            "texlive-latex-extra is already the newest version (2017.20180305-2).\n",
            "0 upgraded, 0 newly installed, 0 to remove and 25 not upgraded.\n"
          ],
          "name": "stdout"
        }
      ]
    },
    {
      "cell_type": "code",
      "metadata": {
        "id": "XDBr83pbqEln",
        "colab_type": "code",
        "colab": {}
      },
      "source": [
        "plt.rcParams[\"text.usetex\"] = False"
      ],
      "execution_count": 0,
      "outputs": []
    },
    {
      "cell_type": "code",
      "metadata": {
        "id": "sueIqHwcFoq-",
        "colab_type": "code",
        "outputId": "f27a7456-c546-4892-cce6-c5b2f08d7ff9",
        "colab": {
          "base_uri": "https://localhost:8080/",
          "height": 124
        }
      },
      "source": [
        "plt.figure(figsize=(10,10))\n",
        "plt.imshow(np.transpose(train_data_shuffled),                         #numpy array generating the image\n",
        "           cmap = 'jet',             #color map used to specify colors\n",
        "           interpolation='nearest'    #algorithm used to blend square colors; with 'nearest' colors will not be blended\n",
        "          )\n",
        "plt.title('Heat Map of Shuffle Train Data', fontsize=20)\n",
        "plt.tight_layout()"
      ],
      "execution_count": 102,
      "outputs": [
        {
          "output_type": "display_data",
          "data": {
            "image/png": "[encoded data removed]",
            "text/plain": [
              "<Figure size 720x720 with 1 Axes>"
            ]
          },
          "metadata": {
            "tags": []
          }
        }
      ]
    },
    {
      "cell_type": "code",
      "metadata": {
        "id": "55yKyD6lFqnv",
        "colab_type": "code",
        "outputId": "3eb7258c-8cd4-4cbc-eab1-d047dfac4c0a",
        "colab": {
          "base_uri": "https://localhost:8080/",
          "height": 441
        }
      },
      "source": [
        "#extract X matrix\n",
        "X = train_data_shuffled[:,:-1]\n",
        "print('X:')\n",
        "pd.DataFrame(X)"
      ],
      "execution_count": 103,
      "outputs": [
        {
          "output_type": "stream",
          "text": [
            "X:\n"
          ],
          "name": "stdout"
        },
        {
          "output_type": "execute_result",
          "data": {
            "text/html": [
              "<div>\n",
              "<style scoped>\n",
              "    .dataframe tbody tr th:only-of-type {\n",
              "        vertical-align: middle;\n",
              "    }\n",
              "\n",
              "    .dataframe tbody tr th {\n",
              "        vertical-align: top;\n",
              "    }\n",
              "\n",
              "    .dataframe thead th {\n",
              "        text-align: right;\n",
              "    }\n",
              "</style>\n",
              "<table border=\"1\" class=\"dataframe\">\n",
              "  <thead>\n",
              "    <tr style=\"text-align: right;\">\n",
              "      <th></th>\n",
              "      <th>0</th>\n",
              "      <th>1</th>\n",
              "      <th>2</th>\n",
              "      <th>3</th>\n",
              "      <th>4</th>\n",
              "    </tr>\n",
              "  </thead>\n",
              "  <tbody>\n",
              "    <tr>\n",
              "      <th>0</th>\n",
              "      <td>-0.428889</td>\n",
              "      <td>0.870650</td>\n",
              "      <td>-0.927822</td>\n",
              "      <td>-0.775340</td>\n",
              "      <td>-0.583292</td>\n",
              "    </tr>\n",
              "    <tr>\n",
              "      <th>1</th>\n",
              "      <td>-0.999437</td>\n",
              "      <td>-0.999603</td>\n",
              "      <td>0.077619</td>\n",
              "      <td>-0.848979</td>\n",
              "      <td>-0.572516</td>\n",
              "    </tr>\n",
              "    <tr>\n",
              "      <th>2</th>\n",
              "      <td>0.897605</td>\n",
              "      <td>-0.947747</td>\n",
              "      <td>-0.666486</td>\n",
              "      <td>-0.654641</td>\n",
              "      <td>-0.523454</td>\n",
              "    </tr>\n",
              "    <tr>\n",
              "      <th>3</th>\n",
              "      <td>-0.425853</td>\n",
              "      <td>0.867645</td>\n",
              "      <td>-0.927563</td>\n",
              "      <td>-0.320383</td>\n",
              "      <td>-0.505551</td>\n",
              "    </tr>\n",
              "    <tr>\n",
              "      <th>4</th>\n",
              "      <td>-0.422981</td>\n",
              "      <td>0.886309</td>\n",
              "      <td>-0.936612</td>\n",
              "      <td>-0.649443</td>\n",
              "      <td>-0.391935</td>\n",
              "    </tr>\n",
              "    <tr>\n",
              "      <th>...</th>\n",
              "      <td>...</td>\n",
              "      <td>...</td>\n",
              "      <td>...</td>\n",
              "      <td>...</td>\n",
              "      <td>...</td>\n",
              "    </tr>\n",
              "    <tr>\n",
              "      <th>95</th>\n",
              "      <td>0.350718</td>\n",
              "      <td>0.578358</td>\n",
              "      <td>0.930477</td>\n",
              "      <td>-0.738159</td>\n",
              "      <td>-0.534656</td>\n",
              "    </tr>\n",
              "    <tr>\n",
              "      <th>96</th>\n",
              "      <td>-0.429864</td>\n",
              "      <td>0.866549</td>\n",
              "      <td>-0.925718</td>\n",
              "      <td>-0.738628</td>\n",
              "      <td>-0.586748</td>\n",
              "    </tr>\n",
              "    <tr>\n",
              "      <th>97</th>\n",
              "      <td>0.341905</td>\n",
              "      <td>0.570194</td>\n",
              "      <td>0.924391</td>\n",
              "      <td>-0.812816</td>\n",
              "      <td>-0.588190</td>\n",
              "    </tr>\n",
              "    <tr>\n",
              "      <th>98</th>\n",
              "      <td>0.340280</td>\n",
              "      <td>0.560051</td>\n",
              "      <td>0.931456</td>\n",
              "      <td>-0.769966</td>\n",
              "      <td>-0.556146</td>\n",
              "    </tr>\n",
              "    <tr>\n",
              "      <th>99</th>\n",
              "      <td>0.913616</td>\n",
              "      <td>-0.949723</td>\n",
              "      <td>-0.675854</td>\n",
              "      <td>-0.501457</td>\n",
              "      <td>-0.191172</td>\n",
              "    </tr>\n",
              "  </tbody>\n",
              "</table>\n",
              "<p>100 rows × 5 columns</p>\n",
              "</div>"
            ],
            "text/plain": [
              "           0         1         2         3         4\n",
              "0  -0.428889  0.870650 -0.927822 -0.775340 -0.583292\n",
              "1  -0.999437 -0.999603  0.077619 -0.848979 -0.572516\n",
              "2   0.897605 -0.947747 -0.666486 -0.654641 -0.523454\n",
              "3  -0.425853  0.867645 -0.927563 -0.320383 -0.505551\n",
              "4  -0.422981  0.886309 -0.936612 -0.649443 -0.391935\n",
              "..       ...       ...       ...       ...       ...\n",
              "95  0.350718  0.578358  0.930477 -0.738159 -0.534656\n",
              "96 -0.429864  0.866549 -0.925718 -0.738628 -0.586748\n",
              "97  0.341905  0.570194  0.924391 -0.812816 -0.588190\n",
              "98  0.340280  0.560051  0.931456 -0.769966 -0.556146\n",
              "99  0.913616 -0.949723 -0.675854 -0.501457 -0.191172\n",
              "\n",
              "[100 rows x 5 columns]"
            ]
          },
          "metadata": {
            "tags": []
          },
          "execution_count": 103
        }
      ]
    },
    {
      "cell_type": "code",
      "metadata": {
        "id": "6SmKaBDoGKpq",
        "colab_type": "code",
        "outputId": "1b3a0856-bc95-400b-fc91-67623f61a4a0",
        "colab": {
          "base_uri": "https://localhost:8080/",
          "height": 441
        }
      },
      "source": [
        "#extract y vector \n",
        "y = train_data_shuffled[:,-1]\n",
        "print('y:')\n",
        "pd.DataFrame(y)"
      ],
      "execution_count": 104,
      "outputs": [
        {
          "output_type": "stream",
          "text": [
            "y:\n"
          ],
          "name": "stdout"
        },
        {
          "output_type": "execute_result",
          "data": {
            "text/html": [
              "<div>\n",
              "<style scoped>\n",
              "    .dataframe tbody tr th:only-of-type {\n",
              "        vertical-align: middle;\n",
              "    }\n",
              "\n",
              "    .dataframe tbody tr th {\n",
              "        vertical-align: top;\n",
              "    }\n",
              "\n",
              "    .dataframe thead th {\n",
              "        text-align: right;\n",
              "    }\n",
              "</style>\n",
              "<table border=\"1\" class=\"dataframe\">\n",
              "  <thead>\n",
              "    <tr style=\"text-align: right;\">\n",
              "      <th></th>\n",
              "      <th>0</th>\n",
              "    </tr>\n",
              "  </thead>\n",
              "  <tbody>\n",
              "    <tr>\n",
              "      <th>0</th>\n",
              "      <td>0.0</td>\n",
              "    </tr>\n",
              "    <tr>\n",
              "      <th>1</th>\n",
              "      <td>0.0</td>\n",
              "    </tr>\n",
              "    <tr>\n",
              "      <th>2</th>\n",
              "      <td>1.0</td>\n",
              "    </tr>\n",
              "    <tr>\n",
              "      <th>3</th>\n",
              "      <td>1.0</td>\n",
              "    </tr>\n",
              "    <tr>\n",
              "      <th>4</th>\n",
              "      <td>1.0</td>\n",
              "    </tr>\n",
              "    <tr>\n",
              "      <th>...</th>\n",
              "      <td>...</td>\n",
              "    </tr>\n",
              "    <tr>\n",
              "      <th>95</th>\n",
              "      <td>1.0</td>\n",
              "    </tr>\n",
              "    <tr>\n",
              "      <th>96</th>\n",
              "      <td>0.0</td>\n",
              "    </tr>\n",
              "    <tr>\n",
              "      <th>97</th>\n",
              "      <td>1.0</td>\n",
              "    </tr>\n",
              "    <tr>\n",
              "      <th>98</th>\n",
              "      <td>1.0</td>\n",
              "    </tr>\n",
              "    <tr>\n",
              "      <th>99</th>\n",
              "      <td>1.0</td>\n",
              "    </tr>\n",
              "  </tbody>\n",
              "</table>\n",
              "<p>100 rows × 1 columns</p>\n",
              "</div>"
            ],
            "text/plain": [
              "      0\n",
              "0   0.0\n",
              "1   0.0\n",
              "2   1.0\n",
              "3   1.0\n",
              "4   1.0\n",
              "..  ...\n",
              "95  1.0\n",
              "96  0.0\n",
              "97  1.0\n",
              "98  1.0\n",
              "99  1.0\n",
              "\n",
              "[100 rows x 1 columns]"
            ]
          },
          "metadata": {
            "tags": []
          },
          "execution_count": 104
        }
      ]
    },
    {
      "cell_type": "code",
      "metadata": {
        "id": "WabzSMAcHtRs",
        "colab_type": "code",
        "outputId": "afa9b663-b65e-432e-d988-aa499813134e",
        "colab": {
          "base_uri": "https://localhost:8080/",
          "height": 441
        }
      },
      "source": [
        "#let's now do the same process for the test data file \n",
        "testing_data = data_X(test_data)\n",
        "print('X : y for testing data')\n",
        "pd.DataFrame(testing_data)"
      ],
      "execution_count": 105,
      "outputs": [
        {
          "output_type": "stream",
          "text": [
            "X : y for testing data\n"
          ],
          "name": "stdout"
        },
        {
          "output_type": "execute_result",
          "data": {
            "text/html": [
              "<div>\n",
              "<style scoped>\n",
              "    .dataframe tbody tr th:only-of-type {\n",
              "        vertical-align: middle;\n",
              "    }\n",
              "\n",
              "    .dataframe tbody tr th {\n",
              "        vertical-align: top;\n",
              "    }\n",
              "\n",
              "    .dataframe thead th {\n",
              "        text-align: right;\n",
              "    }\n",
              "</style>\n",
              "<table border=\"1\" class=\"dataframe\">\n",
              "  <thead>\n",
              "    <tr style=\"text-align: right;\">\n",
              "      <th></th>\n",
              "      <th>0</th>\n",
              "      <th>1</th>\n",
              "      <th>2</th>\n",
              "      <th>3</th>\n",
              "      <th>4</th>\n",
              "      <th>5</th>\n",
              "    </tr>\n",
              "  </thead>\n",
              "  <tbody>\n",
              "    <tr>\n",
              "      <th>0</th>\n",
              "      <td>-0.430804</td>\n",
              "      <td>0.863086</td>\n",
              "      <td>-0.923837</td>\n",
              "      <td>-0.728881</td>\n",
              "      <td>-0.539447</td>\n",
              "      <td>0.0</td>\n",
              "    </tr>\n",
              "    <tr>\n",
              "      <th>1</th>\n",
              "      <td>0.339557</td>\n",
              "      <td>0.563784</td>\n",
              "      <td>0.927209</td>\n",
              "      <td>-0.818439</td>\n",
              "      <td>-0.605889</td>\n",
              "      <td>0.0</td>\n",
              "    </tr>\n",
              "    <tr>\n",
              "      <th>2</th>\n",
              "      <td>0.888264</td>\n",
              "      <td>-0.944071</td>\n",
              "      <td>-0.668631</td>\n",
              "      <td>-0.751788</td>\n",
              "      <td>-0.605011</td>\n",
              "      <td>0.0</td>\n",
              "    </tr>\n",
              "    <tr>\n",
              "      <th>3</th>\n",
              "      <td>-0.996989</td>\n",
              "      <td>-0.998307</td>\n",
              "      <td>0.076140</td>\n",
              "      <td>-0.647370</td>\n",
              "      <td>-0.611079</td>\n",
              "      <td>0.0</td>\n",
              "    </tr>\n",
              "    <tr>\n",
              "      <th>4</th>\n",
              "      <td>-0.429876</td>\n",
              "      <td>0.867298</td>\n",
              "      <td>-0.925930</td>\n",
              "      <td>-0.773587</td>\n",
              "      <td>-0.459549</td>\n",
              "      <td>0.0</td>\n",
              "    </tr>\n",
              "    <tr>\n",
              "      <th>...</th>\n",
              "      <td>...</td>\n",
              "      <td>...</td>\n",
              "      <td>...</td>\n",
              "      <td>...</td>\n",
              "      <td>...</td>\n",
              "      <td>...</td>\n",
              "    </tr>\n",
              "    <tr>\n",
              "      <th>95</th>\n",
              "      <td>-0.429849</td>\n",
              "      <td>0.866236</td>\n",
              "      <td>-0.925597</td>\n",
              "      <td>-0.751273</td>\n",
              "      <td>-0.556766</td>\n",
              "      <td>1.0</td>\n",
              "    </tr>\n",
              "    <tr>\n",
              "      <th>96</th>\n",
              "      <td>0.344897</td>\n",
              "      <td>0.568306</td>\n",
              "      <td>0.933503</td>\n",
              "      <td>-0.895925</td>\n",
              "      <td>-0.625205</td>\n",
              "      <td>1.0</td>\n",
              "    </tr>\n",
              "    <tr>\n",
              "      <th>97</th>\n",
              "      <td>0.896302</td>\n",
              "      <td>-0.935064</td>\n",
              "      <td>-0.673095</td>\n",
              "      <td>-0.851844</td>\n",
              "      <td>-0.572966</td>\n",
              "      <td>1.0</td>\n",
              "    </tr>\n",
              "    <tr>\n",
              "      <th>98</th>\n",
              "      <td>0.888122</td>\n",
              "      <td>-0.950066</td>\n",
              "      <td>-0.664741</td>\n",
              "      <td>-0.741957</td>\n",
              "      <td>-0.598255</td>\n",
              "      <td>1.0</td>\n",
              "    </tr>\n",
              "    <tr>\n",
              "      <th>99</th>\n",
              "      <td>0.348157</td>\n",
              "      <td>0.575411</td>\n",
              "      <td>0.929865</td>\n",
              "      <td>-0.813352</td>\n",
              "      <td>-0.612488</td>\n",
              "      <td>1.0</td>\n",
              "    </tr>\n",
              "  </tbody>\n",
              "</table>\n",
              "<p>100 rows × 6 columns</p>\n",
              "</div>"
            ],
            "text/plain": [
              "           0         1         2         3         4    5\n",
              "0  -0.430804  0.863086 -0.923837 -0.728881 -0.539447  0.0\n",
              "1   0.339557  0.563784  0.927209 -0.818439 -0.605889  0.0\n",
              "2   0.888264 -0.944071 -0.668631 -0.751788 -0.605011  0.0\n",
              "3  -0.996989 -0.998307  0.076140 -0.647370 -0.611079  0.0\n",
              "4  -0.429876  0.867298 -0.925930 -0.773587 -0.459549  0.0\n",
              "..       ...       ...       ...       ...       ...  ...\n",
              "95 -0.429849  0.866236 -0.925597 -0.751273 -0.556766  1.0\n",
              "96  0.344897  0.568306  0.933503 -0.895925 -0.625205  1.0\n",
              "97  0.896302 -0.935064 -0.673095 -0.851844 -0.572966  1.0\n",
              "98  0.888122 -0.950066 -0.664741 -0.741957 -0.598255  1.0\n",
              "99  0.348157  0.575411  0.929865 -0.813352 -0.612488  1.0\n",
              "\n",
              "[100 rows x 6 columns]"
            ]
          },
          "metadata": {
            "tags": []
          },
          "execution_count": 105
        }
      ]
    },
    {
      "cell_type": "code",
      "metadata": {
        "id": "Ne6Pf9RdJBpS",
        "colab_type": "code",
        "outputId": "bf6df1da-7480-4425-e718-ad1b57ac5eef",
        "colab": {
          "base_uri": "https://localhost:8080/",
          "height": 441
        }
      },
      "source": [
        "testing_data_shuffled = np.take(testing_data,np.random.permutation(testing_data.shape[0]),axis=0,out=testing_data)\n",
        "print('Shuffled Data:')\n",
        "pd.DataFrame(testing_data_shuffled)"
      ],
      "execution_count": 106,
      "outputs": [
        {
          "output_type": "stream",
          "text": [
            "Shuffled Data:\n"
          ],
          "name": "stdout"
        },
        {
          "output_type": "execute_result",
          "data": {
            "text/html": [
              "<div>\n",
              "<style scoped>\n",
              "    .dataframe tbody tr th:only-of-type {\n",
              "        vertical-align: middle;\n",
              "    }\n",
              "\n",
              "    .dataframe tbody tr th {\n",
              "        vertical-align: top;\n",
              "    }\n",
              "\n",
              "    .dataframe thead th {\n",
              "        text-align: right;\n",
              "    }\n",
              "</style>\n",
              "<table border=\"1\" class=\"dataframe\">\n",
              "  <thead>\n",
              "    <tr style=\"text-align: right;\">\n",
              "      <th></th>\n",
              "      <th>0</th>\n",
              "      <th>1</th>\n",
              "      <th>2</th>\n",
              "      <th>3</th>\n",
              "      <th>4</th>\n",
              "      <th>5</th>\n",
              "    </tr>\n",
              "  </thead>\n",
              "  <tbody>\n",
              "    <tr>\n",
              "      <th>0</th>\n",
              "      <td>-0.997880</td>\n",
              "      <td>-0.998631</td>\n",
              "      <td>0.076616</td>\n",
              "      <td>-0.690144</td>\n",
              "      <td>-0.583658</td>\n",
              "      <td>0.0</td>\n",
              "    </tr>\n",
              "    <tr>\n",
              "      <th>1</th>\n",
              "      <td>-0.991268</td>\n",
              "      <td>-0.994751</td>\n",
              "      <td>0.072624</td>\n",
              "      <td>-0.041170</td>\n",
              "      <td>-0.745109</td>\n",
              "      <td>0.0</td>\n",
              "    </tr>\n",
              "    <tr>\n",
              "      <th>2</th>\n",
              "      <td>0.343114</td>\n",
              "      <td>0.565759</td>\n",
              "      <td>0.928887</td>\n",
              "      <td>-0.680977</td>\n",
              "      <td>-0.663481</td>\n",
              "      <td>1.0</td>\n",
              "    </tr>\n",
              "    <tr>\n",
              "      <th>3</th>\n",
              "      <td>0.916722</td>\n",
              "      <td>-0.925215</td>\n",
              "      <td>-0.676579</td>\n",
              "      <td>-0.718358</td>\n",
              "      <td>-0.602142</td>\n",
              "      <td>1.0</td>\n",
              "    </tr>\n",
              "    <tr>\n",
              "      <th>4</th>\n",
              "      <td>-0.999535</td>\n",
              "      <td>-0.999679</td>\n",
              "      <td>0.077722</td>\n",
              "      <td>-0.869711</td>\n",
              "      <td>-0.526912</td>\n",
              "      <td>0.0</td>\n",
              "    </tr>\n",
              "    <tr>\n",
              "      <th>...</th>\n",
              "      <td>...</td>\n",
              "      <td>...</td>\n",
              "      <td>...</td>\n",
              "      <td>...</td>\n",
              "      <td>...</td>\n",
              "      <td>...</td>\n",
              "    </tr>\n",
              "    <tr>\n",
              "      <th>95</th>\n",
              "      <td>-0.428500</td>\n",
              "      <td>0.872741</td>\n",
              "      <td>-0.928847</td>\n",
              "      <td>-0.815275</td>\n",
              "      <td>-0.560767</td>\n",
              "      <td>0.0</td>\n",
              "    </tr>\n",
              "    <tr>\n",
              "      <th>96</th>\n",
              "      <td>-0.998322</td>\n",
              "      <td>-0.998898</td>\n",
              "      <td>0.076977</td>\n",
              "      <td>-0.743078</td>\n",
              "      <td>-0.512600</td>\n",
              "      <td>0.0</td>\n",
              "    </tr>\n",
              "    <tr>\n",
              "      <th>97</th>\n",
              "      <td>-0.998377</td>\n",
              "      <td>-0.999109</td>\n",
              "      <td>0.077009</td>\n",
              "      <td>-0.778210</td>\n",
              "      <td>-0.580491</td>\n",
              "      <td>0.0</td>\n",
              "    </tr>\n",
              "    <tr>\n",
              "      <th>98</th>\n",
              "      <td>0.889065</td>\n",
              "      <td>-0.949926</td>\n",
              "      <td>-0.662964</td>\n",
              "      <td>-0.821950</td>\n",
              "      <td>-0.616120</td>\n",
              "      <td>0.0</td>\n",
              "    </tr>\n",
              "    <tr>\n",
              "      <th>99</th>\n",
              "      <td>-0.998703</td>\n",
              "      <td>-0.999125</td>\n",
              "      <td>0.077155</td>\n",
              "      <td>-0.772134</td>\n",
              "      <td>-0.561202</td>\n",
              "      <td>1.0</td>\n",
              "    </tr>\n",
              "  </tbody>\n",
              "</table>\n",
              "<p>100 rows × 6 columns</p>\n",
              "</div>"
            ],
            "text/plain": [
              "           0         1         2         3         4    5\n",
              "0  -0.997880 -0.998631  0.076616 -0.690144 -0.583658  0.0\n",
              "1  -0.991268 -0.994751  0.072624 -0.041170 -0.745109  0.0\n",
              "2   0.343114  0.565759  0.928887 -0.680977 -0.663481  1.0\n",
              "3   0.916722 -0.925215 -0.676579 -0.718358 -0.602142  1.0\n",
              "4  -0.999535 -0.999679  0.077722 -0.869711 -0.526912  0.0\n",
              "..       ...       ...       ...       ...       ...  ...\n",
              "95 -0.428500  0.872741 -0.928847 -0.815275 -0.560767  0.0\n",
              "96 -0.998322 -0.998898  0.076977 -0.743078 -0.512600  0.0\n",
              "97 -0.998377 -0.999109  0.077009 -0.778210 -0.580491  0.0\n",
              "98  0.889065 -0.949926 -0.662964 -0.821950 -0.616120  0.0\n",
              "99 -0.998703 -0.999125  0.077155 -0.772134 -0.561202  1.0\n",
              "\n",
              "[100 rows x 6 columns]"
            ]
          },
          "metadata": {
            "tags": []
          },
          "execution_count": 106
        }
      ]
    },
    {
      "cell_type": "markdown",
      "metadata": {
        "id": "xyX_922LqWQ0",
        "colab_type": "text"
      },
      "source": [
        "##Testing Data\n",
        "\n",
        "Below you will find the parsed testing features and labels."
      ]
    },
    {
      "cell_type": "code",
      "metadata": {
        "id": "crbG0uo8G3iX",
        "colab_type": "code",
        "colab": {}
      },
      "source": [
        "y_testing_data = testing_data_shuffled[:,-1]\n",
        "X_testing_data = testing_data_shuffled[:,:-1]"
      ],
      "execution_count": 0,
      "outputs": []
    },
    {
      "cell_type": "markdown",
      "metadata": {
        "id": "2r4YOMyluHnX",
        "colab_type": "text"
      },
      "source": [
        "##Start splitting data"
      ]
    },
    {
      "cell_type": "code",
      "metadata": {
        "id": "DbJ4zrRZjAR0",
        "colab_type": "code",
        "colab": {}
      },
      "source": [
        "#from sklearn.model_selection import train_test_split\n",
        "#X_train, X_test, y_train, y_test = train_test_split(X, y, test_size = 0.9)"
      ],
      "execution_count": 0,
      "outputs": []
    },
    {
      "cell_type": "markdown",
      "metadata": {
        "id": "pKFxesc5q2l0",
        "colab_type": "text"
      },
      "source": [
        "## Deploy Neural Network Model"
      ]
    },
    {
      "cell_type": "code",
      "metadata": {
        "id": "FfjDXQLajZf5",
        "colab_type": "code",
        "colab": {}
      },
      "source": [
        "from sklearn.neural_network import MLPClassifier"
      ],
      "execution_count": 0,
      "outputs": []
    },
    {
      "cell_type": "code",
      "metadata": {
        "id": "ZeqhW7F6k6nu",
        "colab_type": "code",
        "colab": {}
      },
      "source": [
        "mlp = MLPClassifier(max_iter=2000)"
      ],
      "execution_count": 0,
      "outputs": []
    },
    {
      "cell_type": "markdown",
      "metadata": {
        "id": "KJaCa0uSrGjG",
        "colab_type": "text"
      },
      "source": [
        "##Deploy Parameter Search"
      ]
    },
    {
      "cell_type": "code",
      "metadata": {
        "id": "vfCk3ogAl9f7",
        "colab_type": "code",
        "colab": {}
      },
      "source": [
        "parameter_space = {\n",
        "    'hidden_layer_sizes': [(50,50,50), (50,100,50), (100,)],\n",
        "    'activation': ['tanh', 'relu', 'logistic'],\n",
        "    'solver': ['sgd', 'adam'],\n",
        "    'alpha': [0.0001, 0.1],\n",
        "    'learning_rate': ['constant','adaptive']\n",
        "    }"
      ],
      "execution_count": 0,
      "outputs": []
    },
    {
      "cell_type": "code",
      "metadata": {
        "id": "x8jvTNPnl_IH",
        "colab_type": "code",
        "colab": {}
      },
      "source": [
        "from sklearn.model_selection import GridSearchCV\n",
        "\n",
        "clf = GridSearchCV(mlp, parameter_space, n_jobs=-1, cv=3)"
      ],
      "execution_count": 0,
      "outputs": []
    },
    {
      "cell_type": "code",
      "metadata": {
        "id": "pz0Fh6wgrr4L",
        "colab_type": "code",
        "outputId": "5137c60c-c1e7-43be-caf2-6bfcdbc594ca",
        "colab": {
          "base_uri": "https://localhost:8080/",
          "height": 398
        }
      },
      "source": [
        "clf.fit(X, y)"
      ],
      "execution_count": 113,
      "outputs": [
        {
          "output_type": "execute_result",
          "data": {
            "text/plain": [
              "GridSearchCV(cv=3, error_score=nan,\n",
              "             estimator=MLPClassifier(activation='relu', alpha=0.0001,\n",
              "                                     batch_size='auto', beta_1=0.9,\n",
              "                                     beta_2=0.999, early_stopping=False,\n",
              "                                     epsilon=1e-08, hidden_layer_sizes=(100,),\n",
              "                                     learning_rate='constant',\n",
              "                                     learning_rate_init=0.001, max_fun=15000,\n",
              "                                     max_iter=2000, momentum=0.9,\n",
              "                                     n_iter_no_change=10,\n",
              "                                     nesterovs_momentum=True, power_t=0.5,\n",
              "                                     random_stat...\n",
              "                                     validation_fraction=0.1, verbose=False,\n",
              "                                     warm_start=False),\n",
              "             iid='deprecated', n_jobs=-1,\n",
              "             param_grid={'activation': ['tanh', 'relu', 'logistic'],\n",
              "                         'alpha': [0.0001, 0.1],\n",
              "                         'hidden_layer_sizes': [(50, 50, 50), (50, 100, 50),\n",
              "                                                (100,)],\n",
              "                         'learning_rate': ['constant', 'adaptive'],\n",
              "                         'solver': ['sgd', 'adam']},\n",
              "             pre_dispatch='2*n_jobs', refit=True, return_train_score=False,\n",
              "             scoring=None, verbose=0)"
            ]
          },
          "metadata": {
            "tags": []
          },
          "execution_count": 113
        }
      ]
    },
    {
      "cell_type": "code",
      "metadata": {
        "id": "sINzsZ1fmM6U",
        "colab_type": "code",
        "colab": {}
      },
      "source": [
        "y_true, y_pred = y , clf.predict(X)"
      ],
      "execution_count": 0,
      "outputs": []
    },
    {
      "cell_type": "code",
      "metadata": {
        "id": "eS8IBeC4mVSJ",
        "colab_type": "code",
        "outputId": "44aa772e-42b0-4fa9-be14-2944e2c19469",
        "colab": {
          "base_uri": "https://localhost:8080/",
          "height": 34
        }
      },
      "source": [
        "print('Score Training Accuracy: ',accuracy_score(y_true, y_pred))"
      ],
      "execution_count": 115,
      "outputs": [
        {
          "output_type": "stream",
          "text": [
            "Score Training Accuracy:  0.83\n"
          ],
          "name": "stdout"
        }
      ]
    },
    {
      "cell_type": "code",
      "metadata": {
        "id": "S422suG-w89z",
        "colab_type": "code",
        "colab": {}
      },
      "source": [
        "y_test_testing_data = testing_data_shuffled[:,-1]"
      ],
      "execution_count": 0,
      "outputs": []
    },
    {
      "cell_type": "code",
      "metadata": {
        "id": "KUWCUfJ3xniq",
        "colab_type": "code",
        "colab": {}
      },
      "source": [
        "#prediction against data \n",
        "model_test_data = clf.predict(X_testing_data)"
      ],
      "execution_count": 0,
      "outputs": []
    },
    {
      "cell_type": "code",
      "metadata": {
        "id": "nlfkgfDVzYHq",
        "colab_type": "code",
        "outputId": "b20a2690-b981-478c-d6c9-71dc42f2ac1e",
        "colab": {
          "base_uri": "https://localhost:8080/",
          "height": 34
        }
      },
      "source": [
        "print('Score Accuracy Testing: ', accuracy_score(y_testing_data, model_test_data))"
      ],
      "execution_count": 118,
      "outputs": [
        {
          "output_type": "stream",
          "text": [
            "Score Accuracy Testing:  0.7\n"
          ],
          "name": "stdout"
        }
      ]
    },
    {
      "cell_type": "code",
      "metadata": {
        "id": "vq87A6asAa58",
        "colab_type": "code",
        "colab": {}
      },
      "source": [
        "from sklearn import svm\n",
        "ml_svm = svm.SVC()"
      ],
      "execution_count": 0,
      "outputs": []
    },
    {
      "cell_type": "code",
      "metadata": {
        "id": "6Ngial7FGYaS",
        "colab_type": "code",
        "outputId": "0e92f7bc-6f8a-462a-9def-50863b948a56",
        "colab": {
          "base_uri": "https://localhost:8080/",
          "height": 34
        }
      },
      "source": [
        "ml_svm.fit(X,y)\n",
        "\n",
        "y_pred_svm = ml_svm.predict(X)\n",
        "\n",
        "print('Score Training Accuracy SVM: ',accuracy_score(y, y_pred_svm))"
      ],
      "execution_count": 120,
      "outputs": [
        {
          "output_type": "stream",
          "text": [
            "Score Training Accuracy SVM:  0.76\n"
          ],
          "name": "stdout"
        }
      ]
    },
    {
      "cell_type": "code",
      "metadata": {
        "id": "OAHgFcpvUSJA",
        "colab_type": "code",
        "colab": {
          "base_uri": "https://localhost:8080/",
          "height": 34
        },
        "outputId": "a09bc6fa-1d90-42e4-a055-883b538743ac"
      },
      "source": [
        "#prediction against data \n",
        "model_test_data_svm = ml_svm.predict(X_testing_data)\n",
        "print('Score Accuracy Testing SVM: ', accuracy_score(y_testing_data, model_test_data_svm))"
      ],
      "execution_count": 121,
      "outputs": [
        {
          "output_type": "stream",
          "text": [
            "Score Accuracy Testing SVM:  0.71\n"
          ],
          "name": "stdout"
        }
      ]
    },
    {
      "cell_type": "code",
      "metadata": {
        "id": "ONounBPwE5G6",
        "colab_type": "code",
        "colab": {}
      },
      "source": [
        "#Set the parameters by cross-validation\n",
        "param_grid = [\n",
        "  {'C': np.arange(1, 1000,.1), 'kernel': ['linear']},\n",
        "  {'C': np.arange(1, 1000,.1), 'gamma': [0.001, 0.0001], 'kernel': ['rbf']},\n",
        "]"
      ],
      "execution_count": 0,
      "outputs": []
    },
    {
      "cell_type": "code",
      "metadata": {
        "id": "0FpGbe3XErz8",
        "colab_type": "code",
        "colab": {}
      },
      "source": [
        "\"\"\"\n",
        "clf_svm = GridSearchCV(estimator=ml_svm, \n",
        "                    param_grid=tuned_parameters,\n",
        "                    cv=5,\n",
        "                    refit=True,\n",
        "                    error_score=0,\n",
        "                    n_jobs=-1)\n",
        "\"\"\"\n",
        "clf_svm = GridSearchCV(ml_svm, param_grid, refit = True, n_jobs=-1, cv=5) "
      ],
      "execution_count": 0,
      "outputs": []
    },
    {
      "cell_type": "code",
      "metadata": {
        "id": "BHExotdnaP0x",
        "colab_type": "code",
        "colab": {
          "base_uri": "https://localhost:8080/",
          "height": 381
        },
        "outputId": "919f6650-2d7a-4a71-da92-dcdab21fcea0"
      },
      "source": [
        "np.arange(1e-8,1e-3+1e-5,1e-5)"
      ],
      "execution_count": 124,
      "outputs": [
        {
          "output_type": "execute_result",
          "data": {
            "text/plain": [
              "array([1.00000e-08, 1.00100e-05, 2.00100e-05, 3.00100e-05, 4.00100e-05,\n",
              "       5.00100e-05, 6.00100e-05, 7.00100e-05, 8.00100e-05, 9.00100e-05,\n",
              "       1.00010e-04, 1.10010e-04, 1.20010e-04, 1.30010e-04, 1.40010e-04,\n",
              "       1.50010e-04, 1.60010e-04, 1.70010e-04, 1.80010e-04, 1.90010e-04,\n",
              "       2.00010e-04, 2.10010e-04, 2.20010e-04, 2.30010e-04, 2.40010e-04,\n",
              "       2.50010e-04, 2.60010e-04, 2.70010e-04, 2.80010e-04, 2.90010e-04,\n",
              "       3.00010e-04, 3.10010e-04, 3.20010e-04, 3.30010e-04, 3.40010e-04,\n",
              "       3.50010e-04, 3.60010e-04, 3.70010e-04, 3.80010e-04, 3.90010e-04,\n",
              "       4.00010e-04, 4.10010e-04, 4.20010e-04, 4.30010e-04, 4.40010e-04,\n",
              "       4.50010e-04, 4.60010e-04, 4.70010e-04, 4.80010e-04, 4.90010e-04,\n",
              "       5.00010e-04, 5.10010e-04, 5.20010e-04, 5.30010e-04, 5.40010e-04,\n",
              "       5.50010e-04, 5.60010e-04, 5.70010e-04, 5.80010e-04, 5.90010e-04,\n",
              "       6.00010e-04, 6.10010e-04, 6.20010e-04, 6.30010e-04, 6.40010e-04,\n",
              "       6.50010e-04, 6.60010e-04, 6.70010e-04, 6.80010e-04, 6.90010e-04,\n",
              "       7.00010e-04, 7.10010e-04, 7.20010e-04, 7.30010e-04, 7.40010e-04,\n",
              "       7.50010e-04, 7.60010e-04, 7.70010e-04, 7.80010e-04, 7.90010e-04,\n",
              "       8.00010e-04, 8.10010e-04, 8.20010e-04, 8.30010e-04, 8.40010e-04,\n",
              "       8.50010e-04, 8.60010e-04, 8.70010e-04, 8.80010e-04, 8.90010e-04,\n",
              "       9.00010e-04, 9.10010e-04, 9.20010e-04, 9.30010e-04, 9.40010e-04,\n",
              "       9.50010e-04, 9.60010e-04, 9.70010e-04, 9.80010e-04, 9.90010e-04,\n",
              "       1.00001e-03])"
            ]
          },
          "metadata": {
            "tags": []
          },
          "execution_count": 124
        }
      ]
    },
    {
      "cell_type": "code",
      "metadata": {
        "id": "eNkhe0E2WVKl",
        "colab_type": "code",
        "colab": {
          "base_uri": "https://localhost:8080/",
          "height": 190
        },
        "outputId": "39194365-6b5c-4c9c-d042-7a6369c106c2"
      },
      "source": [
        "tuned_parameters = [{'kernel': ['rbf', 'linear', 'poly', 'sigmoid'], \n",
        "                     'gamma': [1e-3, 1e-4, 1e-5, 1e-6, 1e-7, 1e-8],\n",
        "                     'C': np.arange(1,200,2)}]\n",
        "\n",
        "scores = ['precision', 'recall']\n",
        "\n",
        "for score in scores:\n",
        "    print(\"# Tuning hyper-parameters for %s\" % score)\n",
        "    print()\n",
        "\n",
        "    clf = GridSearchCV(svm.SVC(), tuned_parameters, cv=5,\n",
        "                       scoring='%s_macro' % score)\n",
        "    clf.fit(X, y)\n",
        "\n",
        "    print(\"Best parameters set found on development set:\")\n",
        "    print()\n",
        "    print(clf.best_params_)"
      ],
      "execution_count": 125,
      "outputs": [
        {
          "output_type": "stream",
          "text": [
            "# Tuning hyper-parameters for precision\n",
            "\n",
            "Best parameters set found on development set:\n",
            "\n",
            "{'C': 33, 'gamma': 0.001, 'kernel': 'linear'}\n",
            "# Tuning hyper-parameters for recall\n",
            "\n",
            "Best parameters set found on development set:\n",
            "\n",
            "{'C': 33, 'gamma': 0.001, 'kernel': 'linear'}\n"
          ],
          "name": "stdout"
        }
      ]
    },
    {
      "cell_type": "code",
      "metadata": {
        "id": "vpt3V28FBDH5",
        "colab_type": "code",
        "outputId": "7b7186b4-b9b5-48b0-b6da-66b5564d085d",
        "colab": {
          "base_uri": "https://localhost:8080/",
          "height": 86
        }
      },
      "source": [
        "op_svm = svm.SVC(C=33, kernel='linear', gamma=0.001)\n",
        "op_svm.fit(X,y)"
      ],
      "execution_count": 131,
      "outputs": [
        {
          "output_type": "execute_result",
          "data": {
            "text/plain": [
              "SVC(C=33, break_ties=False, cache_size=200, class_weight=None, coef0=0.0,\n",
              "    decision_function_shape='ovr', degree=3, gamma=0.001, kernel='linear',\n",
              "    max_iter=-1, probability=False, random_state=None, shrinking=True,\n",
              "    tol=0.001, verbose=False)"
            ]
          },
          "metadata": {
            "tags": []
          },
          "execution_count": 131
        }
      ]
    },
    {
      "cell_type": "code",
      "metadata": {
        "id": "BS6THN1OBKBH",
        "colab_type": "code",
        "colab": {}
      },
      "source": [
        "y_pred_svm = op_svm.predict(X)"
      ],
      "execution_count": 0,
      "outputs": []
    },
    {
      "cell_type": "code",
      "metadata": {
        "id": "wXGqtRFhBT0e",
        "colab_type": "code",
        "outputId": "9779ae95-3527-48cf-b973-580256534286",
        "colab": {
          "base_uri": "https://localhost:8080/",
          "height": 34
        }
      },
      "source": [
        "print('Score Training Accuracy SVM: ',accuracy_score(y, y_pred_svm))"
      ],
      "execution_count": 133,
      "outputs": [
        {
          "output_type": "stream",
          "text": [
            "Score Training Accuracy SVM:  0.82\n"
          ],
          "name": "stdout"
        }
      ]
    },
    {
      "cell_type": "code",
      "metadata": {
        "id": "-tziQuvJBYc2",
        "colab_type": "code",
        "colab": {}
      },
      "source": [
        "#prediction against data \n",
        "model_test_data_svm = op_svm.predict(X_testing_data)"
      ],
      "execution_count": 0,
      "outputs": []
    },
    {
      "cell_type": "code",
      "metadata": {
        "id": "AWmFv5whBe0p",
        "colab_type": "code",
        "outputId": "dec860e0-0b33-403a-edeb-7b23946decbb",
        "colab": {
          "base_uri": "https://localhost:8080/",
          "height": 34
        }
      },
      "source": [
        "print('Score Accuracy Testing SVM: ', accuracy_score(y_testing_data, model_test_data_svm))"
      ],
      "execution_count": 135,
      "outputs": [
        {
          "output_type": "stream",
          "text": [
            "Score Accuracy Testing SVM:  0.71\n"
          ],
          "name": "stdout"
        }
      ]
    },
    {
      "cell_type": "code",
      "metadata": {
        "id": "PEICSML8s1jf",
        "colab_type": "code",
        "colab": {}
      },
      "source": [
        ""
      ],
      "execution_count": 0,
      "outputs": []
    }
  ]
}