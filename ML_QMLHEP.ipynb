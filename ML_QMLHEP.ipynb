{
  "nbformat": 4,
  "nbformat_minor": 0,
  "metadata": {
    "colab": {
      "name": "ML QMLHEP.ipynb",
      "provenance": [],
      "collapsed_sections": [],
      "toc_visible": true,
      "authorship_tag": "ABX9TyN0xQ2HYaRRFty8l1wIiUSW",
      "include_colab_link": true
    },
    "kernelspec": {
      "name": "python3",
      "display_name": "Python 3"
    }
  },
  "cells": [
    {
      "cell_type": "markdown",
      "metadata": {
        "id": "view-in-github",
        "colab_type": "text"
      },
      "source": [
        "<a href=\"https://colab.research.google.com/github/enriqueasegura/Quantum-X/blob/master/ML_QMLHEP.ipynb\" target=\"_parent\"><img src=\"https://colab.research.google.com/assets/colab-badge.svg\" alt=\"Open In Colab\"/></a>"
      ]
    },
    {
      "cell_type": "markdown",
      "metadata": {
        "id": "vzGs9NfR2Qiw",
        "colab_type": "text"
      },
      "source": [
        "#Machine Learning Part\n",
        "\n",
        "You will explore how best to apply machine learning algorithms, for example, Neural Network, Boosted Decision Tree (BDT), Support Vector Machine(SVM) to solve a High Energy Data analysis issue, more specifically,  separating the signal events from the background events.\n",
        "\n",
        "A set of input samples (simulated with Delphes) is provided in NumPy NPZ format  [Download Input](https://drive.google.com/open?id=1r_MZB_crfpij6r3SxPDeU_3JD6t6AxAj). In the input file, there are only 100 samples for training and 100 samples for testing so it won’t take much computing resources to accomplish this task. The signal events are labeled with 1 while the background sample are labeled with 0.\n",
        "\n",
        "You can apply one machine learning algorithm to this input but be sure to show that you understand how to fine tune your machine learning model to improve the performance. The performance can be evaluated with classification accuracy or Area Under ROC Curve (AUC).\n"
      ]
    },
    {
      "cell_type": "markdown",
      "metadata": {
        "id": "sbyxR-GyYsWr",
        "colab_type": "text"
      },
      "source": [
        "##Libraries Needed"
      ]
    },
    {
      "cell_type": "code",
      "metadata": {
        "id": "QKKTLKQwLgb5",
        "colab_type": "code",
        "outputId": "0d163739-455b-4fe0-ce2c-5221ec61a77d",
        "colab": {
          "base_uri": "https://localhost:8080/",
          "height": 201
        }
      },
      "source": [
        "import numpy as np \n",
        "import matplotlib.pyplot as plt\n",
        "%matplotlib inline\n",
        "from google.colab import files\n",
        "import pandas as pd\n",
        "import scipy as sci \n",
        "\n",
        "import matplotlib\n",
        "from matplotlib import rc\n",
        "#rc('font',**{'family':'sans-serif','sans-serif':['Helvetica']})\n",
        "## for Palatino and other serif fonts use:\n",
        "rc('font',**{'family':'serif','serif':['Computer Modern Roman']})\n",
        "rc('text', usetex=True)\n",
        "matplotlib.rcParams['text.usetex']=True\n",
        "matplotlib.rcParams['text.latex.unicode']=True\n",
        "\n",
        "from matplotlib import rcParams\n",
        "rcParams['axes.titlepad'] = 20 \n",
        "\n",
        "from sklearn.metrics import accuracy_score\n",
        "from matplotlib.pyplot import imshow\n",
        "\n",
        "!sudo dpkg --configure -a\n",
        "!sudo apt-get install dvipng texlive-latex-extra texlive-fonts-recommended "
      ],
      "execution_count": 63,
      "outputs": [
        {
          "output_type": "stream",
          "text": [
            "/usr/local/lib/python3.6/dist-packages/ipykernel_launcher.py:15: MatplotlibDeprecationWarning: \n",
            "The text.latex.unicode rcparam was deprecated in Matplotlib 3.0 and will be removed in 3.2.\n",
            "  from ipykernel import kernelapp as app\n"
          ],
          "name": "stderr"
        },
        {
          "output_type": "stream",
          "text": [
            "Reading package lists... Done\n",
            "Building dependency tree       \n",
            "Reading state information... Done\n",
            "dvipng is already the newest version (1.15-1).\n",
            "texlive-fonts-recommended is already the newest version (2017.20180305-1).\n",
            "texlive-latex-extra is already the newest version (2017.20180305-2).\n",
            "0 upgraded, 0 newly installed, 0 to remove and 25 not upgraded.\n"
          ],
          "name": "stdout"
        }
      ]
    },
    {
      "cell_type": "markdown",
      "metadata": {
        "id": "vTd6AhITYzc6",
        "colab_type": "text"
      },
      "source": [
        "##Upload Sample Files"
      ]
    },
    {
      "cell_type": "markdown",
      "metadata": {
        "id": "Hv13SRXuY3N5",
        "colab_type": "text"
      },
      "source": [
        "##Load Files"
      ]
    },
    {
      "cell_type": "code",
      "metadata": {
        "id": "g8boE_xe1I_C",
        "colab_type": "code",
        "colab": {}
      },
      "source": [
        "#load the files \n",
        "data = np.load('QIS_EXAM_200Events.npz', allow_pickle=True)"
      ],
      "execution_count": 0,
      "outputs": []
    },
    {
      "cell_type": "code",
      "metadata": {
        "id": "p4dZVy5q5RqI",
        "colab_type": "code",
        "outputId": "8d06bf43-491f-41c7-904a-82c11704ac3f",
        "colab": {
          "base_uri": "https://localhost:8080/",
          "height": 34
        }
      },
      "source": [
        "data.files"
      ],
      "execution_count": 65,
      "outputs": [
        {
          "output_type": "execute_result",
          "data": {
            "text/plain": [
              "['training_input', 'test_input']"
            ]
          },
          "metadata": {
            "tags": []
          },
          "execution_count": 65
        }
      ]
    },
    {
      "cell_type": "code",
      "metadata": {
        "id": "usARNUoW1cFs",
        "colab_type": "code",
        "outputId": "1eae6421-4818-4d6a-bdec-2162a2dd8c45",
        "colab": {
          "base_uri": "https://localhost:8080/",
          "height": 52
        }
      },
      "source": [
        "print('Data:')\n",
        "data.files"
      ],
      "execution_count": 66,
      "outputs": [
        {
          "output_type": "stream",
          "text": [
            "Data:\n"
          ],
          "name": "stdout"
        },
        {
          "output_type": "execute_result",
          "data": {
            "text/plain": [
              "['training_input', 'test_input']"
            ]
          },
          "metadata": {
            "tags": []
          },
          "execution_count": 66
        }
      ]
    },
    {
      "cell_type": "code",
      "metadata": {
        "id": "pgkEni_31c24",
        "colab_type": "code",
        "colab": {}
      },
      "source": [
        "training_data = data['training_input']\n",
        "test_data = data['test_input']"
      ],
      "execution_count": 0,
      "outputs": []
    },
    {
      "cell_type": "code",
      "metadata": {
        "id": "9wjPqJ34A59E",
        "colab_type": "code",
        "colab": {}
      },
      "source": [
        "def data_X(d):\n",
        "  \"\"\"\n",
        "  This is a helper function\n",
        "  It is meant to illustrate how to take the data from the current form\n",
        "  and make it into something we can use to feed sklearn algorithms\n",
        "\n",
        "  This function creates the NxM matrix X \n",
        "  and the last column is the feature vector which is N x 1\n",
        "\n",
        "  \"\"\"\n",
        "  r, c = 100, 6\n",
        "  r_data = np.ones((r,c))\n",
        "\n",
        "  #print(r_b, c_b)\n",
        "\n",
        "  training_data_background = d.item()['0']\n",
        "  training_data_signal = d.item()['1']\n",
        "\n",
        "  r_b, c_b = np.shape(training_data_background)\n",
        "\n",
        "  #first we loop through the background data and feed it to the resulting data\n",
        "  \n",
        "  for i in range(r_b):\n",
        "    for j in range(c_b):\n",
        "      r_data[i][j] = training_data_background[i][j]\n",
        "    #this is for background \n",
        "    r_data[i][j+1] = 0\n",
        "  \n",
        "  #now with the signal data\n",
        "  for i in range(r_b):\n",
        "    for j in range(c_b):\n",
        "      r_data[r_b + i][j] = training_data_signal[i][j]\n",
        "    #since this is signal, it should be with label 1 \n",
        "  return r_data"
      ],
      "execution_count": 0,
      "outputs": []
    },
    {
      "cell_type": "markdown",
      "metadata": {
        "id": "-jfzvOn-CXOn",
        "colab_type": "text"
      },
      "source": [
        "#Notes to keep in mind \n",
        "\n",
        "Given $N$ data points and $M$ features, you want to create one $N \\times M$ matrix $X$ (your design/feature matrix), and one $N \\times 1$ vector (you label vector)\n",
        "\n",
        "1. Feature matrix $X$ and label vector $y$.\n",
        "2. Feed $X$ and $y$ into some classifier from sklearn.\n",
        "\n",
        "Key point: \n",
        "\n",
        "1. Shuffle data so there are adjacent rows are not correlated. \n",
        "2. Split the data into training/testing sets (usually 80/20 split).\n",
        "\n",
        "Thing to remember: \n",
        "\n",
        "This is a binary classification problem."
      ]
    },
    {
      "cell_type": "code",
      "metadata": {
        "id": "-s1gvtsEA_QA",
        "colab_type": "code",
        "outputId": "78e07851-a6b9-4530-e959-5fecf0b16505",
        "colab": {
          "base_uri": "https://localhost:8080/",
          "height": 441
        }
      },
      "source": [
        "train_data = data_X(training_data)\n",
        "\n",
        "train_data_dataframe = pd.DataFrame(train_data)\n",
        "print('Data set with X : y:')\n",
        "train_data_dataframe"
      ],
      "execution_count": 69,
      "outputs": [
        {
          "output_type": "stream",
          "text": [
            "Data set with X : y:\n"
          ],
          "name": "stdout"
        },
        {
          "output_type": "execute_result",
          "data": {
            "text/html": [
              "<div>\n",
              "<style scoped>\n",
              "    .dataframe tbody tr th:only-of-type {\n",
              "        vertical-align: middle;\n",
              "    }\n",
              "\n",
              "    .dataframe tbody tr th {\n",
              "        vertical-align: top;\n",
              "    }\n",
              "\n",
              "    .dataframe thead th {\n",
              "        text-align: right;\n",
              "    }\n",
              "</style>\n",
              "<table border=\"1\" class=\"dataframe\">\n",
              "  <thead>\n",
              "    <tr style=\"text-align: right;\">\n",
              "      <th></th>\n",
              "      <th>0</th>\n",
              "      <th>1</th>\n",
              "      <th>2</th>\n",
              "      <th>3</th>\n",
              "      <th>4</th>\n",
              "      <th>5</th>\n",
              "    </tr>\n",
              "  </thead>\n",
              "  <tbody>\n",
              "    <tr>\n",
              "      <th>0</th>\n",
              "      <td>-0.430791</td>\n",
              "      <td>0.868348</td>\n",
              "      <td>-0.926147</td>\n",
              "      <td>-0.926620</td>\n",
              "      <td>-0.569009</td>\n",
              "      <td>0.0</td>\n",
              "    </tr>\n",
              "    <tr>\n",
              "      <th>1</th>\n",
              "      <td>0.339242</td>\n",
              "      <td>0.561555</td>\n",
              "      <td>0.930975</td>\n",
              "      <td>-0.916317</td>\n",
              "      <td>-0.544635</td>\n",
              "      <td>0.0</td>\n",
              "    </tr>\n",
              "    <tr>\n",
              "      <th>2</th>\n",
              "      <td>-0.428889</td>\n",
              "      <td>0.870650</td>\n",
              "      <td>-0.927822</td>\n",
              "      <td>-0.775340</td>\n",
              "      <td>-0.583292</td>\n",
              "      <td>0.0</td>\n",
              "    </tr>\n",
              "    <tr>\n",
              "      <th>3</th>\n",
              "      <td>-0.432629</td>\n",
              "      <td>0.861289</td>\n",
              "      <td>-0.922409</td>\n",
              "      <td>-0.880489</td>\n",
              "      <td>-0.499631</td>\n",
              "      <td>0.0</td>\n",
              "    </tr>\n",
              "    <tr>\n",
              "      <th>4</th>\n",
              "      <td>-0.999253</td>\n",
              "      <td>-0.999496</td>\n",
              "      <td>0.077537</td>\n",
              "      <td>-0.842180</td>\n",
              "      <td>-0.514940</td>\n",
              "      <td>0.0</td>\n",
              "    </tr>\n",
              "    <tr>\n",
              "      <th>...</th>\n",
              "      <td>...</td>\n",
              "      <td>...</td>\n",
              "      <td>...</td>\n",
              "      <td>...</td>\n",
              "      <td>...</td>\n",
              "      <td>...</td>\n",
              "    </tr>\n",
              "    <tr>\n",
              "      <th>95</th>\n",
              "      <td>0.927897</td>\n",
              "      <td>-0.906354</td>\n",
              "      <td>-0.647231</td>\n",
              "      <td>-0.616369</td>\n",
              "      <td>-0.534791</td>\n",
              "      <td>1.0</td>\n",
              "    </tr>\n",
              "    <tr>\n",
              "      <th>96</th>\n",
              "      <td>-0.430184</td>\n",
              "      <td>0.865693</td>\n",
              "      <td>-0.925222</td>\n",
              "      <td>-0.723606</td>\n",
              "      <td>-0.505656</td>\n",
              "      <td>1.0</td>\n",
              "    </tr>\n",
              "    <tr>\n",
              "      <th>97</th>\n",
              "      <td>0.349044</td>\n",
              "      <td>0.585557</td>\n",
              "      <td>0.917345</td>\n",
              "      <td>-0.609937</td>\n",
              "      <td>-0.585279</td>\n",
              "      <td>1.0</td>\n",
              "    </tr>\n",
              "    <tr>\n",
              "      <th>98</th>\n",
              "      <td>0.344345</td>\n",
              "      <td>0.566294</td>\n",
              "      <td>0.930266</td>\n",
              "      <td>-0.606098</td>\n",
              "      <td>-0.649302</td>\n",
              "      <td>1.0</td>\n",
              "    </tr>\n",
              "    <tr>\n",
              "      <th>99</th>\n",
              "      <td>0.881251</td>\n",
              "      <td>-0.954380</td>\n",
              "      <td>-0.666644</td>\n",
              "      <td>-0.781876</td>\n",
              "      <td>-0.643458</td>\n",
              "      <td>1.0</td>\n",
              "    </tr>\n",
              "  </tbody>\n",
              "</table>\n",
              "<p>100 rows × 6 columns</p>\n",
              "</div>"
            ],
            "text/plain": [
              "           0         1         2         3         4    5\n",
              "0  -0.430791  0.868348 -0.926147 -0.926620 -0.569009  0.0\n",
              "1   0.339242  0.561555  0.930975 -0.916317 -0.544635  0.0\n",
              "2  -0.428889  0.870650 -0.927822 -0.775340 -0.583292  0.0\n",
              "3  -0.432629  0.861289 -0.922409 -0.880489 -0.499631  0.0\n",
              "4  -0.999253 -0.999496  0.077537 -0.842180 -0.514940  0.0\n",
              "..       ...       ...       ...       ...       ...  ...\n",
              "95  0.927897 -0.906354 -0.647231 -0.616369 -0.534791  1.0\n",
              "96 -0.430184  0.865693 -0.925222 -0.723606 -0.505656  1.0\n",
              "97  0.349044  0.585557  0.917345 -0.609937 -0.585279  1.0\n",
              "98  0.344345  0.566294  0.930266 -0.606098 -0.649302  1.0\n",
              "99  0.881251 -0.954380 -0.666644 -0.781876 -0.643458  1.0\n",
              "\n",
              "[100 rows x 6 columns]"
            ]
          },
          "metadata": {
            "tags": []
          },
          "execution_count": 69
        }
      ]
    },
    {
      "cell_type": "code",
      "metadata": {
        "id": "3KP_l30PBxuL",
        "colab_type": "code",
        "outputId": "fe31d944-6243-4919-f6b9-b7baabf6b226",
        "colab": {
          "base_uri": "https://localhost:8080/",
          "height": 441
        }
      },
      "source": [
        "#now shuffle this data randomly \n",
        "\n",
        "train_data_shuffled = np.take(train_data,np.random.permutation(train_data.shape[0]),axis=0,out=train_data)\n",
        "train_data_shuffled_dataframe = pd.DataFrame(train_data_shuffled)\n",
        "print('Shuffled Matrix:')\n",
        "train_data_shuffled_dataframe"
      ],
      "execution_count": 70,
      "outputs": [
        {
          "output_type": "stream",
          "text": [
            "Shuffled Matrix:\n"
          ],
          "name": "stdout"
        },
        {
          "output_type": "execute_result",
          "data": {
            "text/html": [
              "<div>\n",
              "<style scoped>\n",
              "    .dataframe tbody tr th:only-of-type {\n",
              "        vertical-align: middle;\n",
              "    }\n",
              "\n",
              "    .dataframe tbody tr th {\n",
              "        vertical-align: top;\n",
              "    }\n",
              "\n",
              "    .dataframe thead th {\n",
              "        text-align: right;\n",
              "    }\n",
              "</style>\n",
              "<table border=\"1\" class=\"dataframe\">\n",
              "  <thead>\n",
              "    <tr style=\"text-align: right;\">\n",
              "      <th></th>\n",
              "      <th>0</th>\n",
              "      <th>1</th>\n",
              "      <th>2</th>\n",
              "      <th>3</th>\n",
              "      <th>4</th>\n",
              "      <th>5</th>\n",
              "    </tr>\n",
              "  </thead>\n",
              "  <tbody>\n",
              "    <tr>\n",
              "      <th>0</th>\n",
              "      <td>-0.429119</td>\n",
              "      <td>0.869610</td>\n",
              "      <td>-0.927325</td>\n",
              "      <td>-0.762039</td>\n",
              "      <td>-0.590116</td>\n",
              "      <td>0.0</td>\n",
              "    </tr>\n",
              "    <tr>\n",
              "      <th>1</th>\n",
              "      <td>-0.431400</td>\n",
              "      <td>0.863086</td>\n",
              "      <td>-0.923658</td>\n",
              "      <td>-0.792840</td>\n",
              "      <td>-0.563961</td>\n",
              "      <td>0.0</td>\n",
              "    </tr>\n",
              "    <tr>\n",
              "      <th>2</th>\n",
              "      <td>-0.426227</td>\n",
              "      <td>0.880835</td>\n",
              "      <td>-0.933175</td>\n",
              "      <td>-0.860194</td>\n",
              "      <td>-0.576465</td>\n",
              "      <td>0.0</td>\n",
              "    </tr>\n",
              "    <tr>\n",
              "      <th>3</th>\n",
              "      <td>0.340280</td>\n",
              "      <td>0.560051</td>\n",
              "      <td>0.931456</td>\n",
              "      <td>-0.769966</td>\n",
              "      <td>-0.556146</td>\n",
              "      <td>1.0</td>\n",
              "    </tr>\n",
              "    <tr>\n",
              "      <th>4</th>\n",
              "      <td>0.340719</td>\n",
              "      <td>0.564942</td>\n",
              "      <td>0.929178</td>\n",
              "      <td>-0.885435</td>\n",
              "      <td>-0.458245</td>\n",
              "      <td>1.0</td>\n",
              "    </tr>\n",
              "    <tr>\n",
              "      <th>...</th>\n",
              "      <td>...</td>\n",
              "      <td>...</td>\n",
              "      <td>...</td>\n",
              "      <td>...</td>\n",
              "      <td>...</td>\n",
              "      <td>...</td>\n",
              "    </tr>\n",
              "    <tr>\n",
              "      <th>95</th>\n",
              "      <td>-0.430791</td>\n",
              "      <td>0.868348</td>\n",
              "      <td>-0.926147</td>\n",
              "      <td>-0.926620</td>\n",
              "      <td>-0.569009</td>\n",
              "      <td>0.0</td>\n",
              "    </tr>\n",
              "    <tr>\n",
              "      <th>96</th>\n",
              "      <td>-0.429286</td>\n",
              "      <td>0.867110</td>\n",
              "      <td>-0.926161</td>\n",
              "      <td>-0.679927</td>\n",
              "      <td>-0.588937</td>\n",
              "      <td>0.0</td>\n",
              "    </tr>\n",
              "    <tr>\n",
              "      <th>97</th>\n",
              "      <td>0.342932</td>\n",
              "      <td>0.564080</td>\n",
              "      <td>0.934484</td>\n",
              "      <td>-0.887896</td>\n",
              "      <td>-0.561543</td>\n",
              "      <td>0.0</td>\n",
              "    </tr>\n",
              "    <tr>\n",
              "      <th>98</th>\n",
              "      <td>0.350718</td>\n",
              "      <td>0.578358</td>\n",
              "      <td>0.930477</td>\n",
              "      <td>-0.738159</td>\n",
              "      <td>-0.534656</td>\n",
              "      <td>1.0</td>\n",
              "    </tr>\n",
              "    <tr>\n",
              "      <th>99</th>\n",
              "      <td>0.344763</td>\n",
              "      <td>0.578038</td>\n",
              "      <td>0.920612</td>\n",
              "      <td>-0.802680</td>\n",
              "      <td>-0.325244</td>\n",
              "      <td>1.0</td>\n",
              "    </tr>\n",
              "  </tbody>\n",
              "</table>\n",
              "<p>100 rows × 6 columns</p>\n",
              "</div>"
            ],
            "text/plain": [
              "           0         1         2         3         4    5\n",
              "0  -0.429119  0.869610 -0.927325 -0.762039 -0.590116  0.0\n",
              "1  -0.431400  0.863086 -0.923658 -0.792840 -0.563961  0.0\n",
              "2  -0.426227  0.880835 -0.933175 -0.860194 -0.576465  0.0\n",
              "3   0.340280  0.560051  0.931456 -0.769966 -0.556146  1.0\n",
              "4   0.340719  0.564942  0.929178 -0.885435 -0.458245  1.0\n",
              "..       ...       ...       ...       ...       ...  ...\n",
              "95 -0.430791  0.868348 -0.926147 -0.926620 -0.569009  0.0\n",
              "96 -0.429286  0.867110 -0.926161 -0.679927 -0.588937  0.0\n",
              "97  0.342932  0.564080  0.934484 -0.887896 -0.561543  0.0\n",
              "98  0.350718  0.578358  0.930477 -0.738159 -0.534656  1.0\n",
              "99  0.344763  0.578038  0.920612 -0.802680 -0.325244  1.0\n",
              "\n",
              "[100 rows x 6 columns]"
            ]
          },
          "metadata": {
            "tags": []
          },
          "execution_count": 70
        }
      ]
    },
    {
      "cell_type": "code",
      "metadata": {
        "id": "sueIqHwcFoq-",
        "colab_type": "code",
        "colab": {
          "base_uri": "https://localhost:8080/",
          "height": 88
        },
        "outputId": "d05dd996-40b2-4706-e847-7e5abb6a955d"
      },
      "source": [
        "plt.figure(figsize=(10,10))\n",
        "plt.imshow(np.transpose(train_data_shuffled),                         #numpy array generating the image\n",
        "           cmap = 'jet',             #color map used to specify colors\n",
        "           interpolation='nearest'    #algorithm used to blend square colors; with 'nearest' colors will not be blended\n",
        "          )\n",
        "\n",
        "plt.tight_layout()"
      ],
      "execution_count": 71,
      "outputs": [
        {
          "output_type": "display_data",
          "data": {
            "image/png": "[encoded data removed]",
            "text/plain": [
              "<Figure size 720x720 with 1 Axes>"
            ]
          },
          "metadata": {
            "tags": []
          }
        }
      ]
    },
    {
      "cell_type": "code",
      "metadata": {
        "id": "55yKyD6lFqnv",
        "colab_type": "code",
        "outputId": "78342823-9853-45f9-a68d-201b39719396",
        "colab": {
          "base_uri": "https://localhost:8080/",
          "height": 441
        }
      },
      "source": [
        "#extract X matrix\n",
        "X = train_data_shuffled[:,:-1]\n",
        "print('X:')\n",
        "pd.DataFrame(X)"
      ],
      "execution_count": 72,
      "outputs": [
        {
          "output_type": "stream",
          "text": [
            "X:\n"
          ],
          "name": "stdout"
        },
        {
          "output_type": "execute_result",
          "data": {
            "text/html": [
              "<div>\n",
              "<style scoped>\n",
              "    .dataframe tbody tr th:only-of-type {\n",
              "        vertical-align: middle;\n",
              "    }\n",
              "\n",
              "    .dataframe tbody tr th {\n",
              "        vertical-align: top;\n",
              "    }\n",
              "\n",
              "    .dataframe thead th {\n",
              "        text-align: right;\n",
              "    }\n",
              "</style>\n",
              "<table border=\"1\" class=\"dataframe\">\n",
              "  <thead>\n",
              "    <tr style=\"text-align: right;\">\n",
              "      <th></th>\n",
              "      <th>0</th>\n",
              "      <th>1</th>\n",
              "      <th>2</th>\n",
              "      <th>3</th>\n",
              "      <th>4</th>\n",
              "    </tr>\n",
              "  </thead>\n",
              "  <tbody>\n",
              "    <tr>\n",
              "      <th>0</th>\n",
              "      <td>-0.429119</td>\n",
              "      <td>0.869610</td>\n",
              "      <td>-0.927325</td>\n",
              "      <td>-0.762039</td>\n",
              "      <td>-0.590116</td>\n",
              "    </tr>\n",
              "    <tr>\n",
              "      <th>1</th>\n",
              "      <td>-0.431400</td>\n",
              "      <td>0.863086</td>\n",
              "      <td>-0.923658</td>\n",
              "      <td>-0.792840</td>\n",
              "      <td>-0.563961</td>\n",
              "    </tr>\n",
              "    <tr>\n",
              "      <th>2</th>\n",
              "      <td>-0.426227</td>\n",
              "      <td>0.880835</td>\n",
              "      <td>-0.933175</td>\n",
              "      <td>-0.860194</td>\n",
              "      <td>-0.576465</td>\n",
              "    </tr>\n",
              "    <tr>\n",
              "      <th>3</th>\n",
              "      <td>0.340280</td>\n",
              "      <td>0.560051</td>\n",
              "      <td>0.931456</td>\n",
              "      <td>-0.769966</td>\n",
              "      <td>-0.556146</td>\n",
              "    </tr>\n",
              "    <tr>\n",
              "      <th>4</th>\n",
              "      <td>0.340719</td>\n",
              "      <td>0.564942</td>\n",
              "      <td>0.929178</td>\n",
              "      <td>-0.885435</td>\n",
              "      <td>-0.458245</td>\n",
              "    </tr>\n",
              "    <tr>\n",
              "      <th>...</th>\n",
              "      <td>...</td>\n",
              "      <td>...</td>\n",
              "      <td>...</td>\n",
              "      <td>...</td>\n",
              "      <td>...</td>\n",
              "    </tr>\n",
              "    <tr>\n",
              "      <th>95</th>\n",
              "      <td>-0.430791</td>\n",
              "      <td>0.868348</td>\n",
              "      <td>-0.926147</td>\n",
              "      <td>-0.926620</td>\n",
              "      <td>-0.569009</td>\n",
              "    </tr>\n",
              "    <tr>\n",
              "      <th>96</th>\n",
              "      <td>-0.429286</td>\n",
              "      <td>0.867110</td>\n",
              "      <td>-0.926161</td>\n",
              "      <td>-0.679927</td>\n",
              "      <td>-0.588937</td>\n",
              "    </tr>\n",
              "    <tr>\n",
              "      <th>97</th>\n",
              "      <td>0.342932</td>\n",
              "      <td>0.564080</td>\n",
              "      <td>0.934484</td>\n",
              "      <td>-0.887896</td>\n",
              "      <td>-0.561543</td>\n",
              "    </tr>\n",
              "    <tr>\n",
              "      <th>98</th>\n",
              "      <td>0.350718</td>\n",
              "      <td>0.578358</td>\n",
              "      <td>0.930477</td>\n",
              "      <td>-0.738159</td>\n",
              "      <td>-0.534656</td>\n",
              "    </tr>\n",
              "    <tr>\n",
              "      <th>99</th>\n",
              "      <td>0.344763</td>\n",
              "      <td>0.578038</td>\n",
              "      <td>0.920612</td>\n",
              "      <td>-0.802680</td>\n",
              "      <td>-0.325244</td>\n",
              "    </tr>\n",
              "  </tbody>\n",
              "</table>\n",
              "<p>100 rows × 5 columns</p>\n",
              "</div>"
            ],
            "text/plain": [
              "           0         1         2         3         4\n",
              "0  -0.429119  0.869610 -0.927325 -0.762039 -0.590116\n",
              "1  -0.431400  0.863086 -0.923658 -0.792840 -0.563961\n",
              "2  -0.426227  0.880835 -0.933175 -0.860194 -0.576465\n",
              "3   0.340280  0.560051  0.931456 -0.769966 -0.556146\n",
              "4   0.340719  0.564942  0.929178 -0.885435 -0.458245\n",
              "..       ...       ...       ...       ...       ...\n",
              "95 -0.430791  0.868348 -0.926147 -0.926620 -0.569009\n",
              "96 -0.429286  0.867110 -0.926161 -0.679927 -0.588937\n",
              "97  0.342932  0.564080  0.934484 -0.887896 -0.561543\n",
              "98  0.350718  0.578358  0.930477 -0.738159 -0.534656\n",
              "99  0.344763  0.578038  0.920612 -0.802680 -0.325244\n",
              "\n",
              "[100 rows x 5 columns]"
            ]
          },
          "metadata": {
            "tags": []
          },
          "execution_count": 72
        }
      ]
    },
    {
      "cell_type": "code",
      "metadata": {
        "id": "6SmKaBDoGKpq",
        "colab_type": "code",
        "outputId": "88314e3a-dace-4220-ab4d-6a6038556422",
        "colab": {
          "base_uri": "https://localhost:8080/",
          "height": 441
        }
      },
      "source": [
        "#extract y vector \n",
        "\n",
        "y = train_data_shuffled[:,-1]\n",
        "print('y:')\n",
        "pd.DataFrame(y)"
      ],
      "execution_count": 73,
      "outputs": [
        {
          "output_type": "stream",
          "text": [
            "y:\n"
          ],
          "name": "stdout"
        },
        {
          "output_type": "execute_result",
          "data": {
            "text/html": [
              "<div>\n",
              "<style scoped>\n",
              "    .dataframe tbody tr th:only-of-type {\n",
              "        vertical-align: middle;\n",
              "    }\n",
              "\n",
              "    .dataframe tbody tr th {\n",
              "        vertical-align: top;\n",
              "    }\n",
              "\n",
              "    .dataframe thead th {\n",
              "        text-align: right;\n",
              "    }\n",
              "</style>\n",
              "<table border=\"1\" class=\"dataframe\">\n",
              "  <thead>\n",
              "    <tr style=\"text-align: right;\">\n",
              "      <th></th>\n",
              "      <th>0</th>\n",
              "    </tr>\n",
              "  </thead>\n",
              "  <tbody>\n",
              "    <tr>\n",
              "      <th>0</th>\n",
              "      <td>0.0</td>\n",
              "    </tr>\n",
              "    <tr>\n",
              "      <th>1</th>\n",
              "      <td>0.0</td>\n",
              "    </tr>\n",
              "    <tr>\n",
              "      <th>2</th>\n",
              "      <td>0.0</td>\n",
              "    </tr>\n",
              "    <tr>\n",
              "      <th>3</th>\n",
              "      <td>1.0</td>\n",
              "    </tr>\n",
              "    <tr>\n",
              "      <th>4</th>\n",
              "      <td>1.0</td>\n",
              "    </tr>\n",
              "    <tr>\n",
              "      <th>...</th>\n",
              "      <td>...</td>\n",
              "    </tr>\n",
              "    <tr>\n",
              "      <th>95</th>\n",
              "      <td>0.0</td>\n",
              "    </tr>\n",
              "    <tr>\n",
              "      <th>96</th>\n",
              "      <td>0.0</td>\n",
              "    </tr>\n",
              "    <tr>\n",
              "      <th>97</th>\n",
              "      <td>0.0</td>\n",
              "    </tr>\n",
              "    <tr>\n",
              "      <th>98</th>\n",
              "      <td>1.0</td>\n",
              "    </tr>\n",
              "    <tr>\n",
              "      <th>99</th>\n",
              "      <td>1.0</td>\n",
              "    </tr>\n",
              "  </tbody>\n",
              "</table>\n",
              "<p>100 rows × 1 columns</p>\n",
              "</div>"
            ],
            "text/plain": [
              "      0\n",
              "0   0.0\n",
              "1   0.0\n",
              "2   0.0\n",
              "3   1.0\n",
              "4   1.0\n",
              "..  ...\n",
              "95  0.0\n",
              "96  0.0\n",
              "97  0.0\n",
              "98  1.0\n",
              "99  1.0\n",
              "\n",
              "[100 rows x 1 columns]"
            ]
          },
          "metadata": {
            "tags": []
          },
          "execution_count": 73
        }
      ]
    },
    {
      "cell_type": "code",
      "metadata": {
        "id": "cAq1r6eKGc_0",
        "colab_type": "code",
        "colab": {}
      },
      "source": [
        "from sklearn.model_selection import GridSearchCV\n",
        "\n",
        "def svc_param_selection(X, y, nfolds):\n",
        "    Cs = [0.001, 0.01, 0.1, 1, 10]\n",
        "    gammas = [0.001, 0.01, 0.1, 1]\n",
        "    param_grid = {'C': Cs, 'gamma' : gammas}\n",
        "    grid_search = GridSearchCV(svm.SVC(kernel='rbf'), param_grid, cv=nfolds)\n",
        "    grid_search.fit(X, y)\n",
        "    grid_search.best_params_\n",
        "    return grid_search.best_params_\n",
        "\n",
        "#clf = svm.SVC(gamma=0.001, C=100.)\n",
        "#clf.fit(X,y)"
      ],
      "execution_count": 0,
      "outputs": []
    },
    {
      "cell_type": "code",
      "metadata": {
        "id": "FopO7tPYKLLH",
        "colab_type": "code",
        "colab": {}
      },
      "source": [
        ""
      ],
      "execution_count": 0,
      "outputs": []
    },
    {
      "cell_type": "code",
      "metadata": {
        "id": "WabzSMAcHtRs",
        "colab_type": "code",
        "colab": {
          "base_uri": "https://localhost:8080/",
          "height": 441
        },
        "outputId": "7d56ec0f-f1fe-4526-ad01-53a708a1dd77"
      },
      "source": [
        "#let's now do the same process for the test data \n",
        "\n",
        "testing_data = data_X(test_data)\n",
        "print('X : y for testing data')\n",
        "pd.DataFrame(testing_data)"
      ],
      "execution_count": 87,
      "outputs": [
        {
          "output_type": "stream",
          "text": [
            "X : y for testing data\n"
          ],
          "name": "stdout"
        },
        {
          "output_type": "execute_result",
          "data": {
            "text/html": [
              "<div>\n",
              "<style scoped>\n",
              "    .dataframe tbody tr th:only-of-type {\n",
              "        vertical-align: middle;\n",
              "    }\n",
              "\n",
              "    .dataframe tbody tr th {\n",
              "        vertical-align: top;\n",
              "    }\n",
              "\n",
              "    .dataframe thead th {\n",
              "        text-align: right;\n",
              "    }\n",
              "</style>\n",
              "<table border=\"1\" class=\"dataframe\">\n",
              "  <thead>\n",
              "    <tr style=\"text-align: right;\">\n",
              "      <th></th>\n",
              "      <th>0</th>\n",
              "      <th>1</th>\n",
              "      <th>2</th>\n",
              "      <th>3</th>\n",
              "      <th>4</th>\n",
              "      <th>5</th>\n",
              "    </tr>\n",
              "  </thead>\n",
              "  <tbody>\n",
              "    <tr>\n",
              "      <th>0</th>\n",
              "      <td>-0.430804</td>\n",
              "      <td>0.863086</td>\n",
              "      <td>-0.923837</td>\n",
              "      <td>-0.728881</td>\n",
              "      <td>-0.539447</td>\n",
              "      <td>0.0</td>\n",
              "    </tr>\n",
              "    <tr>\n",
              "      <th>1</th>\n",
              "      <td>0.339557</td>\n",
              "      <td>0.563784</td>\n",
              "      <td>0.927209</td>\n",
              "      <td>-0.818439</td>\n",
              "      <td>-0.605889</td>\n",
              "      <td>0.0</td>\n",
              "    </tr>\n",
              "    <tr>\n",
              "      <th>2</th>\n",
              "      <td>0.888264</td>\n",
              "      <td>-0.944071</td>\n",
              "      <td>-0.668631</td>\n",
              "      <td>-0.751788</td>\n",
              "      <td>-0.605011</td>\n",
              "      <td>0.0</td>\n",
              "    </tr>\n",
              "    <tr>\n",
              "      <th>3</th>\n",
              "      <td>-0.996989</td>\n",
              "      <td>-0.998307</td>\n",
              "      <td>0.076140</td>\n",
              "      <td>-0.647370</td>\n",
              "      <td>-0.611079</td>\n",
              "      <td>0.0</td>\n",
              "    </tr>\n",
              "    <tr>\n",
              "      <th>4</th>\n",
              "      <td>-0.429876</td>\n",
              "      <td>0.867298</td>\n",
              "      <td>-0.925930</td>\n",
              "      <td>-0.773587</td>\n",
              "      <td>-0.459549</td>\n",
              "      <td>0.0</td>\n",
              "    </tr>\n",
              "    <tr>\n",
              "      <th>...</th>\n",
              "      <td>...</td>\n",
              "      <td>...</td>\n",
              "      <td>...</td>\n",
              "      <td>...</td>\n",
              "      <td>...</td>\n",
              "      <td>...</td>\n",
              "    </tr>\n",
              "    <tr>\n",
              "      <th>95</th>\n",
              "      <td>-0.429849</td>\n",
              "      <td>0.866236</td>\n",
              "      <td>-0.925597</td>\n",
              "      <td>-0.751273</td>\n",
              "      <td>-0.556766</td>\n",
              "      <td>1.0</td>\n",
              "    </tr>\n",
              "    <tr>\n",
              "      <th>96</th>\n",
              "      <td>0.344897</td>\n",
              "      <td>0.568306</td>\n",
              "      <td>0.933503</td>\n",
              "      <td>-0.895925</td>\n",
              "      <td>-0.625205</td>\n",
              "      <td>1.0</td>\n",
              "    </tr>\n",
              "    <tr>\n",
              "      <th>97</th>\n",
              "      <td>0.896302</td>\n",
              "      <td>-0.935064</td>\n",
              "      <td>-0.673095</td>\n",
              "      <td>-0.851844</td>\n",
              "      <td>-0.572966</td>\n",
              "      <td>1.0</td>\n",
              "    </tr>\n",
              "    <tr>\n",
              "      <th>98</th>\n",
              "      <td>0.888122</td>\n",
              "      <td>-0.950066</td>\n",
              "      <td>-0.664741</td>\n",
              "      <td>-0.741957</td>\n",
              "      <td>-0.598255</td>\n",
              "      <td>1.0</td>\n",
              "    </tr>\n",
              "    <tr>\n",
              "      <th>99</th>\n",
              "      <td>0.348157</td>\n",
              "      <td>0.575411</td>\n",
              "      <td>0.929865</td>\n",
              "      <td>-0.813352</td>\n",
              "      <td>-0.612488</td>\n",
              "      <td>1.0</td>\n",
              "    </tr>\n",
              "  </tbody>\n",
              "</table>\n",
              "<p>100 rows × 6 columns</p>\n",
              "</div>"
            ],
            "text/plain": [
              "           0         1         2         3         4    5\n",
              "0  -0.430804  0.863086 -0.923837 -0.728881 -0.539447  0.0\n",
              "1   0.339557  0.563784  0.927209 -0.818439 -0.605889  0.0\n",
              "2   0.888264 -0.944071 -0.668631 -0.751788 -0.605011  0.0\n",
              "3  -0.996989 -0.998307  0.076140 -0.647370 -0.611079  0.0\n",
              "4  -0.429876  0.867298 -0.925930 -0.773587 -0.459549  0.0\n",
              "..       ...       ...       ...       ...       ...  ...\n",
              "95 -0.429849  0.866236 -0.925597 -0.751273 -0.556766  1.0\n",
              "96  0.344897  0.568306  0.933503 -0.895925 -0.625205  1.0\n",
              "97  0.896302 -0.935064 -0.673095 -0.851844 -0.572966  1.0\n",
              "98  0.888122 -0.950066 -0.664741 -0.741957 -0.598255  1.0\n",
              "99  0.348157  0.575411  0.929865 -0.813352 -0.612488  1.0\n",
              "\n",
              "[100 rows x 6 columns]"
            ]
          },
          "metadata": {
            "tags": []
          },
          "execution_count": 87
        }
      ]
    },
    {
      "cell_type": "code",
      "metadata": {
        "id": "Ne6Pf9RdJBpS",
        "colab_type": "code",
        "colab": {
          "base_uri": "https://localhost:8080/",
          "height": 441
        },
        "outputId": "c877c99b-811c-42e2-cc5e-36ffff1b39b1"
      },
      "source": [
        "testing_data_shuffled = np.take(testing_data,np.random.permutation(testing_data.shape[0]),axis=0,out=testing_data)\n",
        "print('Shuffled Data:')\n",
        "pd.DataFrame(testing_data_shuffled)"
      ],
      "execution_count": 88,
      "outputs": [
        {
          "output_type": "stream",
          "text": [
            "Shuffled Data:\n"
          ],
          "name": "stdout"
        },
        {
          "output_type": "execute_result",
          "data": {
            "text/html": [
              "<div>\n",
              "<style scoped>\n",
              "    .dataframe tbody tr th:only-of-type {\n",
              "        vertical-align: middle;\n",
              "    }\n",
              "\n",
              "    .dataframe tbody tr th {\n",
              "        vertical-align: top;\n",
              "    }\n",
              "\n",
              "    .dataframe thead th {\n",
              "        text-align: right;\n",
              "    }\n",
              "</style>\n",
              "<table border=\"1\" class=\"dataframe\">\n",
              "  <thead>\n",
              "    <tr style=\"text-align: right;\">\n",
              "      <th></th>\n",
              "      <th>0</th>\n",
              "      <th>1</th>\n",
              "      <th>2</th>\n",
              "      <th>3</th>\n",
              "      <th>4</th>\n",
              "      <th>5</th>\n",
              "    </tr>\n",
              "  </thead>\n",
              "  <tbody>\n",
              "    <tr>\n",
              "      <th>0</th>\n",
              "      <td>-0.998703</td>\n",
              "      <td>-0.999125</td>\n",
              "      <td>0.077155</td>\n",
              "      <td>-0.772134</td>\n",
              "      <td>-0.561202</td>\n",
              "      <td>1.0</td>\n",
              "    </tr>\n",
              "    <tr>\n",
              "      <th>1</th>\n",
              "      <td>-0.999540</td>\n",
              "      <td>-0.999708</td>\n",
              "      <td>0.077700</td>\n",
              "      <td>-0.865043</td>\n",
              "      <td>-0.590197</td>\n",
              "      <td>0.0</td>\n",
              "    </tr>\n",
              "    <tr>\n",
              "      <th>2</th>\n",
              "      <td>-0.998851</td>\n",
              "      <td>-0.999271</td>\n",
              "      <td>0.077277</td>\n",
              "      <td>-0.794474</td>\n",
              "      <td>-0.582710</td>\n",
              "      <td>0.0</td>\n",
              "    </tr>\n",
              "    <tr>\n",
              "      <th>3</th>\n",
              "      <td>0.884944</td>\n",
              "      <td>-0.956626</td>\n",
              "      <td>-0.662539</td>\n",
              "      <td>-0.623066</td>\n",
              "      <td>-0.641043</td>\n",
              "      <td>1.0</td>\n",
              "    </tr>\n",
              "    <tr>\n",
              "      <th>4</th>\n",
              "      <td>0.343929</td>\n",
              "      <td>0.569343</td>\n",
              "      <td>0.928158</td>\n",
              "      <td>-0.744974</td>\n",
              "      <td>-0.601828</td>\n",
              "      <td>0.0</td>\n",
              "    </tr>\n",
              "    <tr>\n",
              "      <th>...</th>\n",
              "      <td>...</td>\n",
              "      <td>...</td>\n",
              "      <td>...</td>\n",
              "      <td>...</td>\n",
              "      <td>...</td>\n",
              "      <td>...</td>\n",
              "    </tr>\n",
              "    <tr>\n",
              "      <th>95</th>\n",
              "      <td>-0.427152</td>\n",
              "      <td>0.874589</td>\n",
              "      <td>-0.930200</td>\n",
              "      <td>-0.727168</td>\n",
              "      <td>-0.618634</td>\n",
              "      <td>1.0</td>\n",
              "    </tr>\n",
              "    <tr>\n",
              "      <th>96</th>\n",
              "      <td>-0.999535</td>\n",
              "      <td>-0.999679</td>\n",
              "      <td>0.077722</td>\n",
              "      <td>-0.869711</td>\n",
              "      <td>-0.526912</td>\n",
              "      <td>0.0</td>\n",
              "    </tr>\n",
              "    <tr>\n",
              "      <th>97</th>\n",
              "      <td>-0.999553</td>\n",
              "      <td>-0.999707</td>\n",
              "      <td>0.077711</td>\n",
              "      <td>-0.868862</td>\n",
              "      <td>-0.565626</td>\n",
              "      <td>0.0</td>\n",
              "    </tr>\n",
              "    <tr>\n",
              "      <th>98</th>\n",
              "      <td>-0.429771</td>\n",
              "      <td>0.867367</td>\n",
              "      <td>-0.926103</td>\n",
              "      <td>-0.781230</td>\n",
              "      <td>-0.552591</td>\n",
              "      <td>0.0</td>\n",
              "    </tr>\n",
              "    <tr>\n",
              "      <th>99</th>\n",
              "      <td>-0.432266</td>\n",
              "      <td>0.862746</td>\n",
              "      <td>-0.923200</td>\n",
              "      <td>-0.881254</td>\n",
              "      <td>-0.577235</td>\n",
              "      <td>0.0</td>\n",
              "    </tr>\n",
              "  </tbody>\n",
              "</table>\n",
              "<p>100 rows × 6 columns</p>\n",
              "</div>"
            ],
            "text/plain": [
              "           0         1         2         3         4    5\n",
              "0  -0.998703 -0.999125  0.077155 -0.772134 -0.561202  1.0\n",
              "1  -0.999540 -0.999708  0.077700 -0.865043 -0.590197  0.0\n",
              "2  -0.998851 -0.999271  0.077277 -0.794474 -0.582710  0.0\n",
              "3   0.884944 -0.956626 -0.662539 -0.623066 -0.641043  1.0\n",
              "4   0.343929  0.569343  0.928158 -0.744974 -0.601828  0.0\n",
              "..       ...       ...       ...       ...       ...  ...\n",
              "95 -0.427152  0.874589 -0.930200 -0.727168 -0.618634  1.0\n",
              "96 -0.999535 -0.999679  0.077722 -0.869711 -0.526912  0.0\n",
              "97 -0.999553 -0.999707  0.077711 -0.868862 -0.565626  0.0\n",
              "98 -0.429771  0.867367 -0.926103 -0.781230 -0.552591  0.0\n",
              "99 -0.432266  0.862746 -0.923200 -0.881254 -0.577235  0.0\n",
              "\n",
              "[100 rows x 6 columns]"
            ]
          },
          "metadata": {
            "tags": []
          },
          "execution_count": 88
        }
      ]
    },
    {
      "cell_type": "code",
      "metadata": {
        "id": "crbG0uo8G3iX",
        "colab_type": "code",
        "colab": {}
      },
      "source": [
        "y_test = testing_data_shuffled[:,-1]\n",
        "x_test = testing_data_shuffled[:,:-1]"
      ],
      "execution_count": 0,
      "outputs": []
    },
    {
      "cell_type": "code",
      "metadata": {
        "id": "ZgbVZfgAGTUN",
        "colab_type": "code",
        "colab": {
          "base_uri": "https://localhost:8080/",
          "height": 34
        },
        "outputId": "a1800eff-5303-4b87-8882-7ad2ebb7ad4f"
      },
      "source": [
        "predicted = clf.predict(x_test)\n",
        "\n",
        "accuracy_score(y_test, predicted)"
      ],
      "execution_count": 90,
      "outputs": [
        {
          "output_type": "execute_result",
          "data": {
            "text/plain": [
              "0.71"
            ]
          },
          "metadata": {
            "tags": []
          },
          "execution_count": 90
        }
      ]
    },
    {
      "cell_type": "code",
      "metadata": {
        "id": "SoPeJkHyHOXQ",
        "colab_type": "code",
        "colab": {
          "base_uri": "https://localhost:8080/",
          "height": 121
        },
        "outputId": "3805ed85-b20b-4165-cefa-cb048302ae6b"
      },
      "source": [
        "y_test"
      ],
      "execution_count": 91,
      "outputs": [
        {
          "output_type": "execute_result",
          "data": {
            "text/plain": [
              "array([1., 0., 0., 1., 0., 1., 1., 1., 1., 1., 1., 1., 1., 0., 1., 1., 0.,\n",
              "       1., 0., 1., 1., 0., 0., 1., 1., 0., 1., 0., 1., 1., 1., 0., 0., 0.,\n",
              "       0., 1., 1., 0., 1., 0., 1., 1., 0., 1., 0., 0., 1., 0., 0., 1., 1.,\n",
              "       0., 0., 0., 0., 1., 1., 1., 1., 1., 0., 0., 1., 1., 1., 0., 0., 1.,\n",
              "       0., 0., 0., 0., 1., 0., 0., 0., 0., 0., 0., 1., 0., 1., 0., 1., 0.,\n",
              "       0., 1., 0., 1., 1., 1., 0., 1., 0., 1., 1., 0., 0., 0., 0.])"
            ]
          },
          "metadata": {
            "tags": []
          },
          "execution_count": 91
        }
      ]
    }
  ]
}