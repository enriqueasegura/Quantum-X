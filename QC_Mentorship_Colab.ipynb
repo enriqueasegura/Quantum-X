{
  "nbformat": 4,
  "nbformat_minor": 0,
  "metadata": {
    "colab": {
      "name": "QC Mentorship Colab.ipynb",
      "provenance": [],
      "collapsed_sections": [],
      "toc_visible": true,
      "authorship_tag": "ABX9TyOZthAz1Gj6BnsssMlzYmoM",
      "include_colab_link": true
    },
    "kernelspec": {
      "name": "python3",
      "display_name": "Python 3"
    }
  },
  "cells": [
    {
      "cell_type": "markdown",
      "metadata": {
        "id": "view-in-github",
        "colab_type": "text"
      },
      "source": [
        "<a href=\"https://colab.research.google.com/github/enriqueasegura/Quantum-X/blob/master/QC_Mentorship_Colab.ipynb\" target=\"_parent\"><img src=\"https://colab.research.google.com/assets/colab-badge.svg\" alt=\"Open In Colab\"/></a>"
      ]
    },
    {
      "cell_type": "code",
      "metadata": {
        "id": "BFWzo47sPHhP",
        "colab_type": "code",
        "colab": {
          "base_uri": "https://localhost:8080/",
          "height": 1000
        },
        "outputId": "2c5d6661-6546-4f01-831d-2719f3e95c57"
      },
      "source": [
        "import numpy as np\n",
        "!pip install git+https://github.com/quantumlib/Cirq\n",
        "  \n",
        "import matplotlib.pyplot as plt\n",
        "from pandas import DataFrame\n",
        "import cirq\n",
        "from cirq.ops import CNOT, TOFFOLI\n",
        "from cirq import Simulator\n",
        "import random\n",
        "from sympy import Symbol\n",
        "from cirq.circuits import InsertStrategy\n",
        "\n",
        "! sudo apt-get install texlive-latex-recommended #1\n",
        "! sudo apt-get install dvipng texlive-fonts-recommended #2\n",
        "! wget http://mirrors.ctan.org/macros/latex/contrib/type1cm.zip #3\n",
        "! unzip type1cm.zip -d /tmp/type1cm #4\n",
        "! cd /tmp/type1cm/type1cm/ && sudo latex type1cm.ins  #5\n",
        "! sudo mkdir /usr/share/texmf/tex/latex/type1cm #6\n",
        "! sudo cp /tmp/type1cm/type1cm/type1cm.sty /usr/share/texmf/tex/latex/type1cm #7\n",
        "! sudo texhash #8\n",
        "\n",
        "import matplotlib\n",
        "\n",
        "!wget https://github.com/Phonbopit/sarabun-webfont/raw/master/fonts/thsarabunnew-webfont.ttf -P /usr/local/lib/python3.6/dist-packages/matplotlib/mpl-data/fonts/ttf\n",
        "\n",
        "from matplotlib import rc\n",
        "#rc('font',**{'family':'sans-serif','sans-serif':['Helvetica']})\n",
        "rc('font',**{'family':'serif','serif':['TeX Gyre Schola']})\n",
        "rc('text', usetex=True)"
      ],
      "execution_count": 1,
      "outputs": [
        {
          "output_type": "stream",
          "text": [
            "Collecting git+https://github.com/quantumlib/Cirq\n",
            "  Cloning https://github.com/quantumlib/Cirq to /tmp/pip-req-build-wj4soitg\n",
            "  Running command git clone -q https://github.com/quantumlib/Cirq /tmp/pip-req-build-wj4soitg\n",
            "Requirement already satisfied: google-api-core[grpc]<2.0.0dev,>=1.14.0 in /usr/local/lib/python3.6/dist-packages (from cirq==0.8.0.dev0) (1.16.0)\n",
            "Requirement already satisfied: matplotlib~=3.0 in /usr/local/lib/python3.6/dist-packages (from cirq==0.8.0.dev0) (3.1.3)\n",
            "Requirement already satisfied: networkx~=2.4 in /usr/local/lib/python3.6/dist-packages (from cirq==0.8.0.dev0) (2.4)\n",
            "Requirement already satisfied: numpy~=1.16 in /usr/local/lib/python3.6/dist-packages (from cirq==0.8.0.dev0) (1.17.5)\n",
            "Requirement already satisfied: pandas~=0.25 in /usr/local/lib/python3.6/dist-packages (from cirq==0.8.0.dev0) (0.25.3)\n",
            "Collecting protobuf==3.8.0\n",
            "\u001b[?25l  Downloading https://files.pythonhosted.org/packages/d2/fb/29de8d08967f0cce1bb10b39846d836b0f3bf6776ddc36aed7c73498ca7e/protobuf-3.8.0-cp36-cp36m-manylinux1_x86_64.whl (1.2MB)\n",
            "\u001b[K     |████████████████████████████████| 1.2MB 4.9MB/s \n",
            "\u001b[?25hRequirement already satisfied: requests~=2.18 in /usr/local/lib/python3.6/dist-packages (from cirq==0.8.0.dev0) (2.21.0)\n",
            "Requirement already satisfied: sortedcontainers~=2.0 in /usr/local/lib/python3.6/dist-packages (from cirq==0.8.0.dev0) (2.1.0)\n",
            "Requirement already satisfied: scipy in /usr/local/lib/python3.6/dist-packages (from cirq==0.8.0.dev0) (1.4.1)\n",
            "Requirement already satisfied: sympy in /usr/local/lib/python3.6/dist-packages (from cirq==0.8.0.dev0) (1.1.1)\n",
            "Requirement already satisfied: typing_extensions in /usr/local/lib/python3.6/dist-packages (from cirq==0.8.0.dev0) (3.6.6)\n",
            "Requirement already satisfied: dataclasses in /usr/local/lib/python3.6/dist-packages (from cirq==0.8.0.dev0) (0.7)\n",
            "Requirement already satisfied: setuptools>=34.0.0 in /usr/local/lib/python3.6/dist-packages (from google-api-core[grpc]<2.0.0dev,>=1.14.0->cirq==0.8.0.dev0) (45.1.0)\n",
            "Requirement already satisfied: google-auth<2.0dev,>=0.4.0 in /usr/local/lib/python3.6/dist-packages (from google-api-core[grpc]<2.0.0dev,>=1.14.0->cirq==0.8.0.dev0) (1.4.2)\n",
            "Requirement already satisfied: six>=1.10.0 in /usr/local/lib/python3.6/dist-packages (from google-api-core[grpc]<2.0.0dev,>=1.14.0->cirq==0.8.0.dev0) (1.12.0)\n",
            "Requirement already satisfied: googleapis-common-protos<2.0dev,>=1.6.0 in /usr/local/lib/python3.6/dist-packages (from google-api-core[grpc]<2.0.0dev,>=1.14.0->cirq==0.8.0.dev0) (1.51.0)\n",
            "Requirement already satisfied: pytz in /usr/local/lib/python3.6/dist-packages (from google-api-core[grpc]<2.0.0dev,>=1.14.0->cirq==0.8.0.dev0) (2018.9)\n",
            "Requirement already satisfied: grpcio<2.0dev,>=1.8.2; extra == \"grpc\" in /usr/local/lib/python3.6/dist-packages (from google-api-core[grpc]<2.0.0dev,>=1.14.0->cirq==0.8.0.dev0) (1.15.0)\n",
            "Requirement already satisfied: kiwisolver>=1.0.1 in /usr/local/lib/python3.6/dist-packages (from matplotlib~=3.0->cirq==0.8.0.dev0) (1.1.0)\n",
            "Requirement already satisfied: cycler>=0.10 in /usr/local/lib/python3.6/dist-packages (from matplotlib~=3.0->cirq==0.8.0.dev0) (0.10.0)\n",
            "Requirement already satisfied: python-dateutil>=2.1 in /usr/local/lib/python3.6/dist-packages (from matplotlib~=3.0->cirq==0.8.0.dev0) (2.6.1)\n",
            "Requirement already satisfied: pyparsing!=2.0.4,!=2.1.2,!=2.1.6,>=2.0.1 in /usr/local/lib/python3.6/dist-packages (from matplotlib~=3.0->cirq==0.8.0.dev0) (2.4.6)\n",
            "Requirement already satisfied: decorator>=4.3.0 in /usr/local/lib/python3.6/dist-packages (from networkx~=2.4->cirq==0.8.0.dev0) (4.4.1)\n",
            "Requirement already satisfied: urllib3<1.25,>=1.21.1 in /usr/local/lib/python3.6/dist-packages (from requests~=2.18->cirq==0.8.0.dev0) (1.24.3)\n",
            "Requirement already satisfied: chardet<3.1.0,>=3.0.2 in /usr/local/lib/python3.6/dist-packages (from requests~=2.18->cirq==0.8.0.dev0) (3.0.4)\n",
            "Requirement already satisfied: idna<2.9,>=2.5 in /usr/local/lib/python3.6/dist-packages (from requests~=2.18->cirq==0.8.0.dev0) (2.8)\n",
            "Requirement already satisfied: certifi>=2017.4.17 in /usr/local/lib/python3.6/dist-packages (from requests~=2.18->cirq==0.8.0.dev0) (2019.11.28)\n",
            "Requirement already satisfied: mpmath>=0.19 in /usr/local/lib/python3.6/dist-packages (from sympy->cirq==0.8.0.dev0) (1.1.0)\n",
            "Requirement already satisfied: pyasn1-modules>=0.2.1 in /usr/local/lib/python3.6/dist-packages (from google-auth<2.0dev,>=0.4.0->google-api-core[grpc]<2.0.0dev,>=1.14.0->cirq==0.8.0.dev0) (0.2.8)\n",
            "Requirement already satisfied: cachetools>=2.0.0 in /usr/local/lib/python3.6/dist-packages (from google-auth<2.0dev,>=0.4.0->google-api-core[grpc]<2.0.0dev,>=1.14.0->cirq==0.8.0.dev0) (4.0.0)\n",
            "Requirement already satisfied: rsa>=3.1.4 in /usr/local/lib/python3.6/dist-packages (from google-auth<2.0dev,>=0.4.0->google-api-core[grpc]<2.0.0dev,>=1.14.0->cirq==0.8.0.dev0) (4.0)\n",
            "Requirement already satisfied: pyasn1<0.5.0,>=0.4.6 in /usr/local/lib/python3.6/dist-packages (from pyasn1-modules>=0.2.1->google-auth<2.0dev,>=0.4.0->google-api-core[grpc]<2.0.0dev,>=1.14.0->cirq==0.8.0.dev0) (0.4.8)\n",
            "Building wheels for collected packages: cirq\n",
            "  Building wheel for cirq (setup.py) ... \u001b[?25l\u001b[?25hdone\n",
            "  Created wheel for cirq: filename=cirq-0.8.0.dev0-cp36-none-any.whl size=1281844 sha256=0094ec840540cd83a99b7c51810a98bc73ccbb9dd378bc22ee5f487a1ab89b63\n",
            "  Stored in directory: /tmp/pip-ephem-wheel-cache-d64xx60k/wheels/c9/f4/ee/029123a49c5e2d75d08c2a9f937e207b88f045901db04632a7\n",
            "Successfully built cirq\n",
            "Installing collected packages: protobuf, cirq\n",
            "  Found existing installation: protobuf 3.10.0\n",
            "    Uninstalling protobuf-3.10.0:\n",
            "      Successfully uninstalled protobuf-3.10.0\n",
            "Successfully installed cirq-0.8.0.dev0 protobuf-3.8.0\n"
          ],
          "name": "stdout"
        },
        {
          "output_type": "display_data",
          "data": {
            "application/vnd.colab-display-data+json": {
              "pip_warning": {
                "packages": [
                  "google"
                ]
              }
            }
          },
          "metadata": {
            "tags": []
          }
        },
        {
          "output_type": "stream",
          "text": [
            "Reading package lists... Done\n",
            "Building dependency tree       \n",
            "Reading state information... Done\n",
            "The following package was automatically installed and is no longer required:\n",
            "  libnvidia-common-430\n",
            "Use 'sudo apt autoremove' to remove it.\n",
            "The following additional packages will be installed:\n",
            "  fonts-droid-fallback fonts-lmodern fonts-noto-mono libcupsfilters1\n",
            "  libcupsimage2 libgs9 libgs9-common libijs-0.35 libjbig2dec0 libkpathsea6\n",
            "  libpotrace0 libptexenc1 libsynctex1 libtexlua52 libtexluajit2 libzzip-0-13\n",
            "  lmodern poppler-data t1utils tex-common texlive-base texlive-binaries\n",
            "  texlive-latex-base\n",
            "Suggested packages:\n",
            "  fonts-noto poppler-utils ghostscript fonts-japanese-mincho\n",
            "  | fonts-ipafont-mincho fonts-japanese-gothic | fonts-ipafont-gothic\n",
            "  fonts-arphic-ukai fonts-arphic-uming fonts-nanum debhelper gv\n",
            "  | postscript-viewer perl-tk xpdf-reader | pdf-viewer texlive-latex-base-doc\n",
            "  texlive-latex-recommended-doc texlive-pstricks\n",
            "The following NEW packages will be installed:\n",
            "  fonts-droid-fallback fonts-lmodern fonts-noto-mono libcupsfilters1\n",
            "  libcupsimage2 libgs9 libgs9-common libijs-0.35 libjbig2dec0 libkpathsea6\n",
            "  libpotrace0 libptexenc1 libsynctex1 libtexlua52 libtexluajit2 libzzip-0-13\n",
            "  lmodern poppler-data t1utils tex-common texlive-base texlive-binaries\n",
            "  texlive-latex-base texlive-latex-recommended\n",
            "0 upgraded, 24 newly installed, 0 to remove and 25 not upgraded.\n",
            "Need to get 68.4 MB of archives.\n",
            "After this operation, 223 MB of additional disk space will be used.\n",
            "Get:1 http://archive.ubuntu.com/ubuntu bionic/main amd64 fonts-droid-fallback all 1:6.0.1r16-1.1 [1,805 kB]\n",
            "Get:2 http://archive.ubuntu.com/ubuntu bionic/main amd64 poppler-data all 0.4.8-2 [1,479 kB]\n",
            "Get:3 http://archive.ubuntu.com/ubuntu bionic/main amd64 tex-common all 6.09 [33.0 kB]\n",
            "Get:4 http://archive.ubuntu.com/ubuntu bionic/main amd64 fonts-lmodern all 2.004.5-3 [4,551 kB]\n",
            "Get:5 http://archive.ubuntu.com/ubuntu bionic/main amd64 fonts-noto-mono all 20171026-2 [75.5 kB]\n",
            "Get:6 http://archive.ubuntu.com/ubuntu bionic-updates/main amd64 libcupsfilters1 amd64 1.20.2-0ubuntu3.1 [108 kB]\n",
            "Get:7 http://archive.ubuntu.com/ubuntu bionic-updates/main amd64 libcupsimage2 amd64 2.2.7-1ubuntu2.7 [18.6 kB]\n",
            "Get:8 http://archive.ubuntu.com/ubuntu bionic/main amd64 libijs-0.35 amd64 0.35-13 [15.5 kB]\n",
            "Get:9 http://archive.ubuntu.com/ubuntu bionic/main amd64 libjbig2dec0 amd64 0.13-6 [55.9 kB]\n",
            "Get:10 http://archive.ubuntu.com/ubuntu bionic-updates/main amd64 libgs9-common all 9.26~dfsg+0-0ubuntu0.18.04.12 [5,092 kB]\n",
            "Get:11 http://archive.ubuntu.com/ubuntu bionic-updates/main amd64 libgs9 amd64 9.26~dfsg+0-0ubuntu0.18.04.12 [2,264 kB]\n",
            "Get:12 http://archive.ubuntu.com/ubuntu bionic-updates/main amd64 libkpathsea6 amd64 2017.20170613.44572-8ubuntu0.1 [54.9 kB]\n",
            "Get:13 http://archive.ubuntu.com/ubuntu bionic/main amd64 libpotrace0 amd64 1.14-2 [17.4 kB]\n",
            "Get:14 http://archive.ubuntu.com/ubuntu bionic-updates/main amd64 libptexenc1 amd64 2017.20170613.44572-8ubuntu0.1 [34.5 kB]\n",
            "Get:15 http://archive.ubuntu.com/ubuntu bionic-updates/main amd64 libsynctex1 amd64 2017.20170613.44572-8ubuntu0.1 [41.4 kB]\n",
            "Get:16 http://archive.ubuntu.com/ubuntu bionic-updates/main amd64 libtexlua52 amd64 2017.20170613.44572-8ubuntu0.1 [91.2 kB]\n",
            "Get:17 http://archive.ubuntu.com/ubuntu bionic-updates/main amd64 libtexluajit2 amd64 2017.20170613.44572-8ubuntu0.1 [230 kB]\n",
            "Get:18 http://archive.ubuntu.com/ubuntu bionic-updates/main amd64 libzzip-0-13 amd64 0.13.62-3.1ubuntu0.18.04.1 [26.0 kB]\n",
            "Get:19 http://archive.ubuntu.com/ubuntu bionic/main amd64 lmodern all 2.004.5-3 [9,631 kB]\n",
            "Get:20 http://archive.ubuntu.com/ubuntu bionic/main amd64 t1utils amd64 1.41-2 [56.0 kB]\n",
            "Get:21 http://archive.ubuntu.com/ubuntu bionic-updates/main amd64 texlive-binaries amd64 2017.20170613.44572-8ubuntu0.1 [8,179 kB]\n",
            "Get:22 http://archive.ubuntu.com/ubuntu bionic/main amd64 texlive-base all 2017.20180305-1 [18.7 MB]\n",
            "Get:23 http://archive.ubuntu.com/ubuntu bionic/main amd64 texlive-latex-base all 2017.20180305-1 [951 kB]\n",
            "Get:24 http://archive.ubuntu.com/ubuntu bionic/main amd64 texlive-latex-recommended all 2017.20180305-1 [14.9 MB]\n",
            "Fetched 68.4 MB in 6s (11.3 MB/s)\n",
            "debconf: unable to initialize frontend: Dialog\n",
            "debconf: (No usable dialog-like program is installed, so the dialog based frontend cannot be used. at /usr/share/perl5/Debconf/FrontEnd/Dialog.pm line 76, <> line 24.)\n",
            "debconf: falling back to frontend: Readline\n",
            "debconf: unable to initialize frontend: Readline\n",
            "debconf: (This frontend requires a controlling tty.)\n",
            "debconf: falling back to frontend: Teletype\n",
            "dpkg-preconfigure: unable to re-open stdin: \n",
            "Selecting previously unselected package fonts-droid-fallback.\n",
            "(Reading database ... 134443 files and directories currently installed.)\n",
            "Preparing to unpack .../00-fonts-droid-fallback_1%3a6.0.1r16-1.1_all.deb ...\n",
            "Unpacking fonts-droid-fallback (1:6.0.1r16-1.1) ...\n",
            "Selecting previously unselected package poppler-data.\n",
            "Preparing to unpack .../01-poppler-data_0.4.8-2_all.deb ...\n",
            "Unpacking poppler-data (0.4.8-2) ...\n",
            "Selecting previously unselected package tex-common.\n",
            "Preparing to unpack .../02-tex-common_6.09_all.deb ...\n",
            "Unpacking tex-common (6.09) ...\n",
            "Selecting previously unselected package fonts-lmodern.\n",
            "Preparing to unpack .../03-fonts-lmodern_2.004.5-3_all.deb ...\n",
            "Unpacking fonts-lmodern (2.004.5-3) ...\n",
            "Selecting previously unselected package fonts-noto-mono.\n",
            "Preparing to unpack .../04-fonts-noto-mono_20171026-2_all.deb ...\n",
            "Unpacking fonts-noto-mono (20171026-2) ...\n",
            "Selecting previously unselected package libcupsfilters1:amd64.\n",
            "Preparing to unpack .../05-libcupsfilters1_1.20.2-0ubuntu3.1_amd64.deb ...\n",
            "Unpacking libcupsfilters1:amd64 (1.20.2-0ubuntu3.1) ...\n",
            "Selecting previously unselected package libcupsimage2:amd64.\n",
            "Preparing to unpack .../06-libcupsimage2_2.2.7-1ubuntu2.7_amd64.deb ...\n",
            "Unpacking libcupsimage2:amd64 (2.2.7-1ubuntu2.7) ...\n",
            "Selecting previously unselected package libijs-0.35:amd64.\n",
            "Preparing to unpack .../07-libijs-0.35_0.35-13_amd64.deb ...\n",
            "Unpacking libijs-0.35:amd64 (0.35-13) ...\n",
            "Selecting previously unselected package libjbig2dec0:amd64.\n",
            "Preparing to unpack .../08-libjbig2dec0_0.13-6_amd64.deb ...\n",
            "Unpacking libjbig2dec0:amd64 (0.13-6) ...\n",
            "Selecting previously unselected package libgs9-common.\n",
            "Preparing to unpack .../09-libgs9-common_9.26~dfsg+0-0ubuntu0.18.04.12_all.deb ...\n",
            "Unpacking libgs9-common (9.26~dfsg+0-0ubuntu0.18.04.12) ...\n",
            "Selecting previously unselected package libgs9:amd64.\n",
            "Preparing to unpack .../10-libgs9_9.26~dfsg+0-0ubuntu0.18.04.12_amd64.deb ...\n",
            "Unpacking libgs9:amd64 (9.26~dfsg+0-0ubuntu0.18.04.12) ...\n",
            "Selecting previously unselected package libkpathsea6:amd64.\n",
            "Preparing to unpack .../11-libkpathsea6_2017.20170613.44572-8ubuntu0.1_amd64.deb ...\n",
            "Unpacking libkpathsea6:amd64 (2017.20170613.44572-8ubuntu0.1) ...\n",
            "Selecting previously unselected package libpotrace0.\n",
            "Preparing to unpack .../12-libpotrace0_1.14-2_amd64.deb ...\n",
            "Unpacking libpotrace0 (1.14-2) ...\n",
            "Selecting previously unselected package libptexenc1:amd64.\n",
            "Preparing to unpack .../13-libptexenc1_2017.20170613.44572-8ubuntu0.1_amd64.deb ...\n",
            "Unpacking libptexenc1:amd64 (2017.20170613.44572-8ubuntu0.1) ...\n",
            "Selecting previously unselected package libsynctex1:amd64.\n",
            "Preparing to unpack .../14-libsynctex1_2017.20170613.44572-8ubuntu0.1_amd64.deb ...\n",
            "Unpacking libsynctex1:amd64 (2017.20170613.44572-8ubuntu0.1) ...\n",
            "Selecting previously unselected package libtexlua52:amd64.\n",
            "Preparing to unpack .../15-libtexlua52_2017.20170613.44572-8ubuntu0.1_amd64.deb ...\n",
            "Unpacking libtexlua52:amd64 (2017.20170613.44572-8ubuntu0.1) ...\n",
            "Selecting previously unselected package libtexluajit2:amd64.\n",
            "Preparing to unpack .../16-libtexluajit2_2017.20170613.44572-8ubuntu0.1_amd64.deb ...\n",
            "Unpacking libtexluajit2:amd64 (2017.20170613.44572-8ubuntu0.1) ...\n",
            "Selecting previously unselected package libzzip-0-13:amd64.\n",
            "Preparing to unpack .../17-libzzip-0-13_0.13.62-3.1ubuntu0.18.04.1_amd64.deb ...\n",
            "Unpacking libzzip-0-13:amd64 (0.13.62-3.1ubuntu0.18.04.1) ...\n",
            "Selecting previously unselected package lmodern.\n",
            "Preparing to unpack .../18-lmodern_2.004.5-3_all.deb ...\n",
            "Unpacking lmodern (2.004.5-3) ...\n",
            "Selecting previously unselected package t1utils.\n",
            "Preparing to unpack .../19-t1utils_1.41-2_amd64.deb ...\n",
            "Unpacking t1utils (1.41-2) ...\n",
            "Selecting previously unselected package texlive-binaries.\n",
            "Preparing to unpack .../20-texlive-binaries_2017.20170613.44572-8ubuntu0.1_amd64.deb ...\n",
            "Unpacking texlive-binaries (2017.20170613.44572-8ubuntu0.1) ...\n",
            "Selecting previously unselected package texlive-base.\n",
            "Preparing to unpack .../21-texlive-base_2017.20180305-1_all.deb ...\n",
            "Unpacking texlive-base (2017.20180305-1) ...\n",
            "Selecting previously unselected package texlive-latex-base.\n",
            "Preparing to unpack .../22-texlive-latex-base_2017.20180305-1_all.deb ...\n",
            "Unpacking texlive-latex-base (2017.20180305-1) ...\n",
            "Selecting previously unselected package texlive-latex-recommended.\n",
            "Preparing to unpack .../23-texlive-latex-recommended_2017.20180305-1_all.deb ...\n",
            "Unpacking texlive-latex-recommended (2017.20180305-1) ...\n",
            "Setting up libgs9-common (9.26~dfsg+0-0ubuntu0.18.04.12) ...\n",
            "Setting up libkpathsea6:amd64 (2017.20170613.44572-8ubuntu0.1) ...\n",
            "Setting up libtexlua52:amd64 (2017.20170613.44572-8ubuntu0.1) ...\n",
            "Setting up fonts-droid-fallback (1:6.0.1r16-1.1) ...\n",
            "Setting up libsynctex1:amd64 (2017.20170613.44572-8ubuntu0.1) ...\n",
            "Setting up libptexenc1:amd64 (2017.20170613.44572-8ubuntu0.1) ...\n",
            "Setting up tex-common (6.09) ...\n",
            "debconf: unable to initialize frontend: Dialog\n",
            "debconf: (No usable dialog-like program is installed, so the dialog based frontend cannot be used. at /usr/share/perl5/Debconf/FrontEnd/Dialog.pm line 76.)\n",
            "debconf: falling back to frontend: Readline\n",
            "update-language: texlive-base not installed and configured, doing nothing!\n",
            "Setting up poppler-data (0.4.8-2) ...\n",
            "Setting up fonts-noto-mono (20171026-2) ...\n",
            "Setting up libcupsfilters1:amd64 (1.20.2-0ubuntu3.1) ...\n",
            "Setting up libcupsimage2:amd64 (2.2.7-1ubuntu2.7) ...\n",
            "Setting up libjbig2dec0:amd64 (0.13-6) ...\n",
            "Setting up t1utils (1.41-2) ...\n",
            "Setting up libijs-0.35:amd64 (0.35-13) ...\n",
            "Setting up libpotrace0 (1.14-2) ...\n",
            "Setting up libzzip-0-13:amd64 (0.13.62-3.1ubuntu0.18.04.1) ...\n",
            "Setting up libgs9:amd64 (9.26~dfsg+0-0ubuntu0.18.04.12) ...\n",
            "Setting up libtexluajit2:amd64 (2017.20170613.44572-8ubuntu0.1) ...\n",
            "Setting up fonts-lmodern (2.004.5-3) ...\n",
            "Setting up texlive-binaries (2017.20170613.44572-8ubuntu0.1) ...\n",
            "update-alternatives: using /usr/bin/xdvi-xaw to provide /usr/bin/xdvi.bin (xdvi.bin) in auto mode\n",
            "update-alternatives: using /usr/bin/bibtex.original to provide /usr/bin/bibtex (bibtex) in auto mode\n",
            "Setting up texlive-base (2017.20180305-1) ...\n",
            "mktexlsr: Updating /var/lib/texmf/ls-R-TEXLIVEDIST... \n",
            "mktexlsr: Updating /var/lib/texmf/ls-R-TEXMFMAIN... \n",
            "mktexlsr: Updating /var/lib/texmf/ls-R... \n",
            "mktexlsr: Done.\n",
            "tl-paper: setting paper size for dvips to a4: /var/lib/texmf/dvips/config/config-paper.ps\n",
            "tl-paper: setting paper size for dvipdfmx to a4: /var/lib/texmf/dvipdfmx/dvipdfmx-paper.cfg\n",
            "tl-paper: setting paper size for xdvi to a4: /var/lib/texmf/xdvi/XDvi-paper\n",
            "tl-paper: setting paper size for pdftex to a4: /var/lib/texmf/tex/generic/config/pdftexconfig.tex\n",
            "debconf: unable to initialize frontend: Dialog\n",
            "debconf: (No usable dialog-like program is installed, so the dialog based frontend cannot be used. at /usr/share/perl5/Debconf/FrontEnd/Dialog.pm line 76.)\n",
            "debconf: falling back to frontend: Readline\n",
            "Setting up texlive-latex-base (2017.20180305-1) ...\n",
            "Setting up lmodern (2.004.5-3) ...\n",
            "Setting up texlive-latex-recommended (2017.20180305-1) ...\n",
            "Processing triggers for libc-bin (2.27-3ubuntu1) ...\n",
            "/sbin/ldconfig.real: /usr/local/lib/python3.6/dist-packages/ideep4py/lib/libmkldnn.so.0 is not a symbolic link\n",
            "\n",
            "Processing triggers for man-db (2.8.3-2ubuntu0.1) ...\n",
            "Processing triggers for fontconfig (2.12.6-0ubuntu2) ...\n",
            "Processing triggers for mime-support (3.60ubuntu1) ...\n",
            "Processing triggers for tex-common (6.09) ...\n",
            "debconf: unable to initialize frontend: Dialog\n",
            "debconf: (No usable dialog-like program is installed, so the dialog based frontend cannot be used. at /usr/share/perl5/Debconf/FrontEnd/Dialog.pm line 76.)\n",
            "debconf: falling back to frontend: Readline\n",
            "Running updmap-sys. This may take some time... done.\n",
            "Running mktexlsr /var/lib/texmf ... done.\n",
            "Building format(s) --all.\n",
            "\tThis may take some time... done.\n",
            "Reading package lists... Done\n",
            "Building dependency tree       \n",
            "Reading state information... Done\n",
            "The following package was automatically installed and is no longer required:\n",
            "  libnvidia-common-430\n",
            "Use 'sudo apt autoremove' to remove it.\n",
            "The following additional packages will be installed:\n",
            "  fonts-texgyre ghostscript gsfonts tex-gyre tipa\n",
            "Suggested packages:\n",
            "  ghostscript-x texlive-fonts-recommended-doc\n",
            "The following NEW packages will be installed:\n",
            "  dvipng fonts-texgyre ghostscript gsfonts tex-gyre texlive-fonts-recommended\n",
            "  tipa\n",
            "0 upgraded, 7 newly installed, 0 to remove and 25 not upgraded.\n",
            "Need to get 25.2 MB of archives.\n",
            "After this operation, 67.7 MB of additional disk space will be used.\n",
            "Get:1 http://archive.ubuntu.com/ubuntu bionic-updates/main amd64 ghostscript amd64 9.26~dfsg+0-0ubuntu0.18.04.12 [50.9 kB]\n",
            "Get:2 http://archive.ubuntu.com/ubuntu bionic/universe amd64 dvipng amd64 1.15-1 [78.2 kB]\n",
            "Get:3 http://archive.ubuntu.com/ubuntu bionic/universe amd64 fonts-texgyre all 20160520-1 [8,761 kB]\n",
            "Get:4 http://archive.ubuntu.com/ubuntu bionic/main amd64 gsfonts all 1:8.11+urwcyr1.0.7~pre44-4.4 [3,120 kB]\n",
            "Get:5 http://archive.ubuntu.com/ubuntu bionic/universe amd64 tex-gyre all 20160520-1 [4,998 kB]\n",
            "Get:6 http://archive.ubuntu.com/ubuntu bionic/universe amd64 texlive-fonts-recommended all 2017.20180305-1 [5,262 kB]\n",
            "Get:7 http://archive.ubuntu.com/ubuntu bionic/universe amd64 tipa all 2:1.3-20 [2,978 kB]\n",
            "Fetched 25.2 MB in 3s (9,380 kB/s)\n",
            "debconf: unable to initialize frontend: Dialog\n",
            "debconf: (No usable dialog-like program is installed, so the dialog based frontend cannot be used. at /usr/share/perl5/Debconf/FrontEnd/Dialog.pm line 76, <> line 7.)\n",
            "debconf: falling back to frontend: Readline\n",
            "debconf: unable to initialize frontend: Readline\n",
            "debconf: (This frontend requires a controlling tty.)\n",
            "debconf: falling back to frontend: Teletype\n",
            "dpkg-preconfigure: unable to re-open stdin: \n",
            "Selecting previously unselected package ghostscript.\n",
            "(Reading database ... 141777 files and directories currently installed.)\n",
            "Preparing to unpack .../0-ghostscript_9.26~dfsg+0-0ubuntu0.18.04.12_amd64.deb ...\n",
            "Unpacking ghostscript (9.26~dfsg+0-0ubuntu0.18.04.12) ...\n",
            "Selecting previously unselected package dvipng.\n",
            "Preparing to unpack .../1-dvipng_1.15-1_amd64.deb ...\n",
            "Unpacking dvipng (1.15-1) ...\n",
            "Selecting previously unselected package fonts-texgyre.\n",
            "Preparing to unpack .../2-fonts-texgyre_20160520-1_all.deb ...\n",
            "Unpacking fonts-texgyre (20160520-1) ...\n",
            "Selecting previously unselected package gsfonts.\n",
            "Preparing to unpack .../3-gsfonts_1%3a8.11+urwcyr1.0.7~pre44-4.4_all.deb ...\n",
            "Unpacking gsfonts (1:8.11+urwcyr1.0.7~pre44-4.4) ...\n",
            "Selecting previously unselected package tex-gyre.\n",
            "Preparing to unpack .../4-tex-gyre_20160520-1_all.deb ...\n",
            "Unpacking tex-gyre (20160520-1) ...\n",
            "Selecting previously unselected package texlive-fonts-recommended.\n",
            "Preparing to unpack .../5-texlive-fonts-recommended_2017.20180305-1_all.deb ...\n",
            "Unpacking texlive-fonts-recommended (2017.20180305-1) ...\n",
            "Selecting previously unselected package tipa.\n",
            "Preparing to unpack .../6-tipa_2%3a1.3-20_all.deb ...\n",
            "Unpacking tipa (2:1.3-20) ...\n",
            "Setting up gsfonts (1:8.11+urwcyr1.0.7~pre44-4.4) ...\n",
            "Setting up tex-gyre (20160520-1) ...\n",
            "Setting up tipa (2:1.3-20) ...\n",
            "Regenerating '/var/lib/texmf/fmtutil.cnf-DEBIAN'... done.\n",
            "Regenerating '/var/lib/texmf/fmtutil.cnf-TEXLIVEDIST'... done.\n",
            "update-fmtutil has updated the following file(s):\n",
            "\t/var/lib/texmf/fmtutil.cnf-DEBIAN\n",
            "\t/var/lib/texmf/fmtutil.cnf-TEXLIVEDIST\n",
            "If you want to activate the changes in the above file(s),\n",
            "you should run fmtutil-sys or fmtutil.\n",
            "Setting up ghostscript (9.26~dfsg+0-0ubuntu0.18.04.12) ...\n",
            "Setting up fonts-texgyre (20160520-1) ...\n",
            "Setting up texlive-fonts-recommended (2017.20180305-1) ...\n",
            "Setting up dvipng (1.15-1) ...\n",
            "Processing triggers for fontconfig (2.12.6-0ubuntu2) ...\n",
            "Processing triggers for tex-common (6.09) ...\n",
            "debconf: unable to initialize frontend: Dialog\n",
            "debconf: (No usable dialog-like program is installed, so the dialog based frontend cannot be used. at /usr/share/perl5/Debconf/FrontEnd/Dialog.pm line 76.)\n",
            "debconf: falling back to frontend: Readline\n",
            "Running mktexlsr. This may take some time... done.\n",
            "Running updmap-sys. This may take some time... done.\n",
            "Running mktexlsr /var/lib/texmf ... done.\n",
            "Processing triggers for man-db (2.8.3-2ubuntu0.1) ...\n",
            "--2020-02-10 05:14:36--  http://mirrors.ctan.org/macros/latex/contrib/type1cm.zip\n",
            "Resolving mirrors.ctan.org (mirrors.ctan.org)... 5.35.249.60\n",
            "Connecting to mirrors.ctan.org (mirrors.ctan.org)|5.35.249.60|:80... connected.\n",
            "HTTP request sent, awaiting response... 302 Found\n",
            "Location: http://mirror.las.iastate.edu/tex-archive/macros/latex/contrib/type1cm.zip [following]\n",
            "--2020-02-10 05:14:36--  http://mirror.las.iastate.edu/tex-archive/macros/latex/contrib/type1cm.zip\n",
            "Resolving mirror.las.iastate.edu (mirror.las.iastate.edu)... 129.186.138.51\n",
            "Connecting to mirror.las.iastate.edu (mirror.las.iastate.edu)|129.186.138.51|:80... connected.\n",
            "HTTP request sent, awaiting response... 200 OK\n",
            "Length: 328566 (321K) [application/zip]\n",
            "Saving to: ‘type1cm.zip’\n",
            "\n",
            "type1cm.zip         100%[===================>] 320.87K  1.10MB/s    in 0.3s    \n",
            "\n",
            "2020-02-10 05:14:37 (1.10 MB/s) - ‘type1cm.zip’ saved [328566/328566]\n",
            "\n",
            "Archive:  type1cm.zip\n",
            "   creating: /tmp/type1cm/type1cm/\n",
            "  inflating: /tmp/type1cm/type1cm/type1cm.fdd  \n",
            "  inflating: /tmp/type1cm/type1cm/type1cm.ins  \n",
            "  inflating: /tmp/type1cm/type1cm/type1cm.txt  \n",
            "  inflating: /tmp/type1cm/type1cm/type1cm-doc.pdf  \n",
            "  inflating: /tmp/type1cm/type1cm/type1cm-doc.tex  \n",
            "This is pdfTeX, Version 3.14159265-2.6-1.40.18 (TeX Live 2017/Debian) (preloaded format=latex)\n",
            " restricted \\write18 enabled.\n",
            "entering extended mode\n",
            "(./type1cm.ins\n",
            "LaTeX2e <2017-04-15>\n",
            "Babel <3.18> and hyphenation patterns for 3 language(s) loaded.\n",
            "(/usr/share/texlive/texmf-dist/tex/latex/base/docstrip.tex\n",
            "Utility: `docstrip' 2.5e <2014/09/29>\n",
            "English documentation    <2017/03/13>\n",
            "\n",
            "**********************************************************\n",
            "* This program converts documented macro-files into fast *\n",
            "* loadable files by stripping off (nearly) all comments! *\n",
            "**********************************************************\n",
            "\n",
            "********************************************************\n",
            "* No Configuration file found, using default settings. *\n",
            "********************************************************\n",
            "\n",
            "(./type1cm.ins\n",
            "\n",
            "Generating file(s) ./type1cm.sty \n",
            "\n",
            "Processing file type1cm.fdd (package,ams) -> type1cm.sty\n",
            "Lines  processed: 410\n",
            "Comments removed: 25\n",
            "Comments  passed: 7\n",
            "Codelines passed: 263\n",
            "\n",
            ") ) )\n",
            "No pages of output.\n",
            "Transcript written on type1cm.log.\n",
            "texhash: Updating /usr/local/share/texmf/ls-R... \n",
            "texhash: Updating /var/lib/texmf/ls-R-TEXLIVEDIST... \n",
            "texhash: Updating /var/lib/texmf/ls-R-TEXMFMAIN... \n",
            "texhash: Updating /var/lib/texmf/ls-R... \n",
            "texhash: Done.\n",
            "--2020-02-10 05:14:42--  https://github.com/Phonbopit/sarabun-webfont/raw/master/fonts/thsarabunnew-webfont.ttf\n",
            "Resolving github.com (github.com)... 192.30.255.112\n",
            "Connecting to github.com (github.com)|192.30.255.112|:443... connected.\n",
            "HTTP request sent, awaiting response... 302 Found\n",
            "Location: https://raw.githubusercontent.com/Phonbopit/sarabun-webfont/master/fonts/thsarabunnew-webfont.ttf [following]\n",
            "--2020-02-10 05:14:42--  https://raw.githubusercontent.com/Phonbopit/sarabun-webfont/master/fonts/thsarabunnew-webfont.ttf\n",
            "Resolving raw.githubusercontent.com (raw.githubusercontent.com)... 151.101.0.133, 151.101.64.133, 151.101.128.133, ...\n",
            "Connecting to raw.githubusercontent.com (raw.githubusercontent.com)|151.101.0.133|:443... connected.\n",
            "HTTP request sent, awaiting response... 200 OK\n",
            "Length: 98308 (96K) [application/octet-stream]\n",
            "Saving to: ‘/usr/local/lib/python3.6/dist-packages/matplotlib/mpl-data/fonts/ttf/thsarabunnew-webfont.ttf’\n",
            "\n",
            "thsarabunnew-webfon 100%[===================>]  96.00K  --.-KB/s    in 0.02s   \n",
            "\n",
            "2020-02-10 05:14:43 (4.40 MB/s) - ‘/usr/local/lib/python3.6/dist-packages/matplotlib/mpl-data/fonts/ttf/thsarabunnew-webfont.ttf’ saved [98308/98308]\n",
            "\n"
          ],
          "name": "stdout"
        }
      ]
    },
    {
      "cell_type": "markdown",
      "metadata": {
        "id": "UUBH47XyVD09",
        "colab_type": "text"
      },
      "source": [
        "##Task 2\n",
        "\n",
        "Implement a circuit which returns |00> and |11> with equal probability.\n",
        "\n",
        "Requirements :\n",
        "1. Circuit should consist only of CNOTs, RXs and RYs. \n",
        "2. Start from all parameters in parametric gates being equal to 0. \n",
        "3. You should find the right set of parameters using gradient descent (you might use more advanced optimization methods if you like). \n",
        "4. Simulations must be done with sampling - i.e. limited number of measurements per iteration and noise. \n",
        "\n",
        "Compare the results for different numbers of measurements: 1, 10, 100, 1000. \n",
        "\n",
        "Bonus question:\n",
        "How to make sure you produce state |00>+|11> and not |00>-|11> ?\n"
      ]
    },
    {
      "cell_type": "markdown",
      "metadata": {
        "id": "ItFuHy-WVwqS",
        "colab_type": "text"
      },
      "source": [
        "#Building a Bell State to illustrate the circuit we want to do \n",
        "\n",
        "1. We would like to build a circuit relying on the old fashion quantum circuit. \n",
        "2. We wil follow Chuang and Nielsen's book to develop this system. "
      ]
    },
    {
      "cell_type": "code",
      "metadata": {
        "id": "YHXA2Wh8PIJt",
        "colab_type": "code",
        "colab": {
          "base_uri": "https://localhost:8080/",
          "height": 104
        },
        "outputId": "009714e8-5c74-431d-9334-0813b03ab26e"
      },
      "source": [
        "#let's build a simple Cirq circuit to make this bell state \n",
        "\n",
        "circuit = cirq.Circuit()\n",
        "\n",
        "#defining number of physical qubits in the circuit\n",
        "num_physical_qubits = 2\n",
        "\n",
        "qubits = [ cirq.LineQubit(i) for i in range(num_physical_qubits)]\n",
        "\n",
        "#building the bell state\n",
        "circuit.append(cirq.H(qubits[0]))\n",
        "\n",
        "circuit.append(cirq.CNOT(qubits[0], qubits[1]))\n",
        "\n",
        "#This part is key: to measure not at the same time but in this sequence to get the new basis\n",
        "\n",
        "circuit.append(cirq.measure(qubits[1]), strategy=InsertStrategy.EARLIEST)\n",
        "circuit.append(cirq.measure(qubits[0]), strategy=InsertStrategy.NEW)\n",
        "\n",
        "print('Resulting Circuit that brings one of the ')\n",
        "print(circuit)\n",
        "print(qubits)\n"
      ],
      "execution_count": 104,
      "outputs": [
        {
          "output_type": "stream",
          "text": [
            "Resulting Circuit that brings one of the \n",
            "0: ───H───@───────M───\n",
            "          │\n",
            "1: ───────X───M───────\n",
            "[cirq.LineQubit(0), cirq.LineQubit(1)]\n"
          ],
          "name": "stdout"
        }
      ]
    },
    {
      "cell_type": "code",
      "metadata": {
        "id": "njgTxQJePx38",
        "colab_type": "code",
        "colab": {
          "base_uri": "https://localhost:8080/",
          "height": 294
        },
        "outputId": "1854b5d8-a405-4f1f-d84f-9211365ae386"
      },
      "source": [
        "#call the simulator to conduct the measurement\n",
        "\n",
        "simulator = cirq.Simulator()\n",
        "\n",
        "#execute simulations\n",
        "\n",
        "num_repetitions = 10000\n",
        "\n",
        "results = simulator.run(circuit, repetitions=num_repetitions)\n",
        "print('This is the result we can to reach through optimization:')\n",
        "cirq.plot_state_histogram(results)\n",
        "\n",
        "#Preserve the measurement values\n",
        "s_k, s_v= zip(*results.measurements.items())\n",
        "\n",
        "label_values = 1 - 2*np.array(s_v).astype(np.int32)"
      ],
      "execution_count": 105,
      "outputs": [
        {
          "output_type": "stream",
          "text": [
            "This is the result we can to reach through optimization:\n"
          ],
          "name": "stdout"
        },
        {
          "output_type": "display_data",
          "data": {
            "image/png": "[encoded data removed]",
            "text/plain": [
              "<Figure size 432x288 with 1 Axes>"
            ]
          },
          "metadata": {
            "tags": []
          }
        }
      ]
    },
    {
      "cell_type": "markdown",
      "metadata": {
        "id": "fDlFkv2zL0X2",
        "colab_type": "text"
      },
      "source": [
        "#Developing the other Bell State\n"
      ]
    },
    {
      "cell_type": "code",
      "metadata": {
        "id": "sR0XJuy1L-aY",
        "colab_type": "code",
        "colab": {
          "base_uri": "https://localhost:8080/",
          "height": 364
        },
        "outputId": "916c1a63-93b3-44ee-facb-e128ec6cbdac"
      },
      "source": [
        "c = cirq.Circuit()\n",
        "\n",
        "#building the bell state\n",
        "c.append(cirq.H(qubits[0]))\n",
        "\n",
        "c.append(cirq.CNOT(qubits[0], qubits[1]))\n",
        "c.append(cirq.Z(qubits[0]))\n",
        "#This part is key: to measure not at the same time but in this sequence to get the new basis\n",
        "\n",
        "c.append(cirq.measure(qubits[1]), strategy=InsertStrategy.EARLIEST)\n",
        "c.append(cirq.measure(qubits[0]), strategy=InsertStrategy.NEW)\n",
        "#c.append(cirq.measure(qubits[0]))\n",
        "print('Resulting Circuit that brings one of the ')\n",
        "print(c)\n",
        "\n",
        "c_simul = cirq.Simulator()\n",
        "c_r = c_simul.run(c, repetitions=num_repetitions)\n",
        "\n",
        "cirq.plot_state_histogram(c_r)"
      ],
      "execution_count": 641,
      "outputs": [
        {
          "output_type": "stream",
          "text": [
            "Resulting Circuit that brings one of the \n",
            "0: ───H───@───Z───M───\n",
            "          │\n",
            "1: ───────X───M───────\n"
          ],
          "name": "stdout"
        },
        {
          "output_type": "display_data",
          "data": {
            "image/png": "[encoded data removed]",
            "text/plain": [
              "<Figure size 432x288 with 1 Axes>"
            ]
          },
          "metadata": {
            "tags": []
          }
        },
        {
          "output_type": "execute_result",
          "data": {
            "text/plain": [
              "array([5033.,    0.,    0., 4967.])"
            ]
          },
          "metadata": {
            "tags": []
          },
          "execution_count": 641
        }
      ]
    },
    {
      "cell_type": "markdown",
      "metadata": {
        "id": "PdB6HaCAlICb",
        "colab_type": "text"
      },
      "source": [
        "#Wrapping this example into a function "
      ]
    },
    {
      "cell_type": "code",
      "metadata": {
        "id": "z7QAKwPTirpI",
        "colab_type": "code",
        "colab": {}
      },
      "source": [
        "#Our approach is borrowed from Farhi et al's paper\n",
        "#Namely, to establish a way to extract the quantum state label and\n",
        "#use sgd to get it\n",
        "#so first, build the boiler-plate bell state \n",
        "\n",
        "def hadamard_bell_state(num_qubits, measure_toggle):\n",
        "  c = cirq.Circuit()\n",
        "  q = [cirq.LineQubit(i) for i in range(num_physical_qubits)]\n",
        "\n",
        "  #building the bell state\n",
        "  c.append(cirq.H(q[0]))\n",
        "  c.append(cirq.CNOT(q[0], q[1]))\n",
        "  #if you want the circuit done normally:\n",
        "  \n",
        "  if measure_toggle == 'yes':\n",
        "    print(measure_toggle)\n",
        "    c.append(cirq.measure(q[1], key='readout'), strategy=InsertStrategy.EARLIEST)\n",
        "    c.append(cirq.measure(q[0]), strategy=InsertStrategy.NEW)\n",
        "  #This part is key: to measure not at the same time but in this sequence to get the new basis\n",
        "  elif measure_toggle == 'no':\n",
        "    #c.append(cirq.Y(q[0]))\n",
        "    c.append(cirq.measure(q[0], key='readout'))\n",
        "  print('Resulting Circuit that brings one of the ')\n",
        "  print(c)\n",
        "  print(q)\n",
        "  return(c)"
      ],
      "execution_count": 0,
      "outputs": []
    },
    {
      "cell_type": "code",
      "metadata": {
        "id": "w_mPfF7cjcCE",
        "colab_type": "code",
        "colab": {
          "base_uri": "https://localhost:8080/",
          "height": 104
        },
        "outputId": "50b6d6b2-5302-4770-ede0-a23065c5d53d"
      },
      "source": [
        "test_hadamard_bs = hadamard_bell_state(num_physical_qubits, 'no')"
      ],
      "execution_count": 390,
      "outputs": [
        {
          "output_type": "stream",
          "text": [
            "Resulting Circuit that brings one of the \n",
            "0: ───H───@───M('readout')───\n",
            "          │\n",
            "1: ───────X──────────────────\n",
            "[cirq.LineQubit(0), cirq.LineQubit(1)]\n"
          ],
          "name": "stdout"
        }
      ]
    },
    {
      "cell_type": "markdown",
      "metadata": {
        "id": "USQd8sgelMez",
        "colab_type": "text"
      },
      "source": [
        "#Bringing in Notions of Loss and Quantum State Labeling"
      ]
    },
    {
      "cell_type": "code",
      "metadata": {
        "id": "xUCZWKJ0karh",
        "colab_type": "code",
        "colab": {
          "base_uri": "https://localhost:8080/",
          "height": 294
        },
        "outputId": "9fdb6d8a-e300-445d-d978-6ac852d40e02"
      },
      "source": [
        "#Now, let's calculate the values regarding current label at the ideal case and the loss function at that case\n",
        "\n",
        "#call the simulator to conduct the measurement\n",
        "\n",
        "t_simulator = cirq.Simulator()\n",
        "\n",
        "#execute simulations\n",
        "\n",
        "num_repetitions = 10000\n",
        "\n",
        "t_results = simulator.run(test_hadamard_bs, repetitions=num_repetitions)\n",
        "print('This is the result when dealing with ideal case:')\n",
        "cirq.plot_state_histogram(t_results)\n",
        "\n",
        "#Preserve the measurement values\n",
        "s_k, s_v= zip(*t_results.measurements.items())\n",
        "label_values = 1 - 2*np.array(s_v).astype(np.int32)"
      ],
      "execution_count": 391,
      "outputs": [
        {
          "output_type": "stream",
          "text": [
            "This is the result when dealing with ideal case:\n"
          ],
          "name": "stdout"
        },
        {
          "output_type": "display_data",
          "data": {
            "image/png": "[encoded data removed]",
            "text/plain": [
              "<Figure size 432x288 with 1 Axes>"
            ]
          },
          "metadata": {
            "tags": []
          }
        }
      ]
    },
    {
      "cell_type": "code",
      "metadata": {
        "id": "UN8BK2ZflDof",
        "colab_type": "code",
        "colab": {
          "base_uri": "https://localhost:8080/",
          "height": 52
        },
        "outputId": "1097af23-768d-4470-ba4d-981a0300d5b4"
      },
      "source": [
        "current_predicted_label_value = np.mean(label_values)\n",
        "print('current pred label: ', current_predicted_label_value )\n",
        "  \n",
        "current_loss_value = 1 - np.square(current_predicted_label_value)\n",
        "print('current loss: ', current_loss_value)"
      ],
      "execution_count": 392,
      "outputs": [
        {
          "output_type": "stream",
          "text": [
            "current pred label:  0.0026\n",
            "current loss:  0.99999324\n"
          ],
          "name": "stdout"
        }
      ]
    },
    {
      "cell_type": "markdown",
      "metadata": {
        "id": "865k2TTogox1",
        "colab_type": "text"
      },
      "source": [
        "# Now, let's decompose the Hadamard gate into X and Y gates."
      ]
    },
    {
      "cell_type": "code",
      "metadata": {
        "id": "fBvV7xXSUojx",
        "colab_type": "code",
        "colab": {}
      },
      "source": [
        "def H_X_Y_Gate(input_circuit, input_qubit, x_param, y_param):\n",
        "  #take the input circuit, the selected quibit, and add the decomposed Hadamard gate in terms of X Y gates\n",
        "  #add first_gate: X gate\n",
        "  param_X_gate = cirq.XPowGate(exponent=x_param)\n",
        "  yield param_X_gate(input_qubit)\n",
        "  param_Y_gate = cirq.YPowGate(exponent=y_param)\n",
        "  yield param_Y_gate(input_qubit)"
      ],
      "execution_count": 0,
      "outputs": []
    },
    {
      "cell_type": "code",
      "metadata": {
        "id": "Lu6DxaDsn-aA",
        "colab_type": "code",
        "colab": {
          "base_uri": "https://localhost:8080/",
          "height": 104
        },
        "outputId": "7981a4b1-d86e-4fdd-fe51-792232802a11"
      },
      "source": [
        "decomp_circuit = cirq.Circuit()\n",
        "\n",
        "yp = np.random.uniform(0,2*np.pi)\n",
        "xp = np.random.uniform(0,2*np.pi)\n",
        "\n",
        "decomp_circuit.append(H_X_Y_Gate(decomp_circuit, qubits[0], xp, yp))\n",
        "\n",
        "#add the control \n",
        "\n",
        "decomp_circuit.append(cirq.CX(qubits[0], qubits[1]))\n",
        "\n",
        "#This part is key: to measure not at the same time but in this sequence to get the new basis\n",
        "\n",
        "decomp_circuit.append(cirq.measure(qubits[1]), strategy=InsertStrategy.EARLIEST)\n",
        "decomp_circuit.append(cirq.measure(qubits[0]), strategy=InsertStrategy.NEW)\n",
        "\n",
        "print('Resulting Circuit that brings one of the:')\n",
        "print(decomp_circuit)\n",
        "print(qubits)"
      ],
      "execution_count": 394,
      "outputs": [
        {
          "output_type": "stream",
          "text": [
            "Resulting Circuit that brings one of the:\n",
            "0: ───X^-0.007───Y^-0.648───@───────M───\n",
            "                            │\n",
            "1: ─────────────────────────X───M───────\n",
            "[cirq.LineQubit(0), cirq.LineQubit(1)]\n"
          ],
          "name": "stdout"
        }
      ]
    },
    {
      "cell_type": "code",
      "metadata": {
        "id": "ml4PjJAzoaIx",
        "colab_type": "code",
        "colab": {
          "base_uri": "https://localhost:8080/",
          "height": 294
        },
        "outputId": "5d54d7c0-2d2f-4e5a-bb0b-8928274f6f73"
      },
      "source": [
        "#call the simulator to conduct the measurement\n",
        "\n",
        "d_simulator = cirq.Simulator()\n",
        "\n",
        "#execute simulations\n",
        "\n",
        "num_repetitions = 10000\n",
        "print('This is the result when dealing with a random parameter on the Y-Gate of the decomposition')\n",
        "d_results = simulator.run(decomp_circuit, repetitions=num_repetitions)\n",
        "\n",
        "cirq.plot_state_histogram(d_results)\n",
        "\n",
        "#Preserve the measurement values\n",
        "s_k, s_v= zip(*d_results.measurements.items())\n",
        "ancilla_label_values = 1 - 2*np.array(s_v).astype(np.int32)"
      ],
      "execution_count": 395,
      "outputs": [
        {
          "output_type": "stream",
          "text": [
            "This is the result when dealing with a random parameter on the Y-Gate of the decomposition\n"
          ],
          "name": "stdout"
        },
        {
          "output_type": "display_data",
          "data": {
            "image/png": "[encoded data removed]",
            "text/plain": [
              "<Figure size 432x288 with 1 Axes>"
            ]
          },
          "metadata": {
            "tags": []
          }
        }
      ]
    },
    {
      "cell_type": "code",
      "metadata": {
        "id": "N-t8O4L85Col",
        "colab_type": "code",
        "colab": {
          "base_uri": "https://localhost:8080/",
          "height": 52
        },
        "outputId": "6e49280b-7981-475b-bec7-de0039b5adf8"
      },
      "source": [
        "#examine the values in this measurement\n",
        "\n",
        "current_predicted_label_value = np.mean(ancilla_label_values)\n",
        "print('current pred label: ', current_predicted_label_value )\n",
        "  \n",
        "current_loss_value = 1 - np.square(current_predicted_label_value)\n",
        "print('current loss: ', current_loss_value)"
      ],
      "execution_count": 396,
      "outputs": [
        {
          "output_type": "stream",
          "text": [
            "current pred label:  -0.449\n",
            "current loss:  0.798399\n"
          ],
          "name": "stdout"
        }
      ]
    },
    {
      "cell_type": "markdown",
      "metadata": {
        "id": "Gm-uSv9psZpb",
        "colab_type": "text"
      },
      "source": [
        "#So what to do? \n",
        "\n",
        "Answer: let's add a readout bit to measure the label of the ancilla bit. "
      ]
    },
    {
      "cell_type": "code",
      "metadata": {
        "id": "C-w7ZLA2pePU",
        "colab_type": "code",
        "colab": {}
      },
      "source": [
        "#let's build a function that builds the bell state circuit \n",
        "\n",
        "def param_bell_circuit(num_ph_qubits, rnd_x_param, rnd_y_param, rnd_cx_param, measurement_toggle):\n",
        "\n",
        "  curr_circuit = cirq.Circuit()\n",
        "  curr_qubits = [cirq.LineQubit(i) for i in range(num_ph_qubits)]\n",
        "  \n",
        "  #building the bell state\n",
        "  #curr_circuit.append(H_X_Y_Gate(curr_circuit, curr_qubits[0], rnd_x_param, rnd_y_param))\n",
        "  \n",
        "  param_X_gate = cirq.XPowGate(exponent=rnd_x_param)\n",
        "  curr_circuit.append(param_X_gate(curr_qubits[0]))\n",
        "  param_Y_gate = cirq.YPowGate(exponent=rnd_y_param)\n",
        "  curr_circuit.append(param_Y_gate(curr_qubits[0]))\n",
        "  \n",
        "  #add the control to param based control-x gate\n",
        "  param_CX_gate = cirq.CNotPowGate(exponent=rnd_cx_param)\n",
        "  curr_circuit.append(param_CX_gate(curr_qubits[0], curr_qubits[1]))\n",
        "\n",
        "  \"\"\"\n",
        "  elif measurement_toggle =='no':\n",
        "    #curr_circuit.append(cirq.measure(curr_qubits[0], key='readout'))\n",
        "    #curr_circuit.append(cirq.measure(curr_qubits[1]))\n",
        "    #curr_circuit.append(cirq.measure(curr_qubits[1], key='readout'))\n",
        "    #curr_circuit.append(cirq.CX(curr_qubits[0], curr_qubits[-1]))\n",
        "    #curr_circuit.append(cirq.X(curr_qubits[-1]))\n",
        "    #curr_circuit.append(cirq.measure(curr_qubits[-1], key='readout'))\n",
        "  return curr_circuit\n",
        "  \"\"\"\n",
        "  #if you just want the standard bell circuit without the ancilla readout bit,\n",
        "  if measurement_toggle == 'yes':\n",
        "    curr_circuit.append(cirq.measure(curr_qubits[1]), strategy=InsertStrategy.EARLIEST)\n",
        "    curr_circuit.append(cirq.measure(curr_qubits[0], key='readout'), strategy=InsertStrategy.NEW)\n",
        "\n",
        "  #add control gates to the readout bit\n",
        "  elif measurement_toggle == 'no': #add control gates to the readout bit\n",
        "    #curr_circuit.append(cirq.Y(curr_qubits[0]))\n",
        "    #curr_circuit.append(cirq.Y(curr_qubits[1]))\n",
        "    curr_circuit.append(cirq.measure(curr_qubits[1], key='readout'))\n",
        "  return(curr_circuit)"
      ],
      "execution_count": 0,
      "outputs": []
    },
    {
      "cell_type": "code",
      "metadata": {
        "id": "8b-qXsmmu790",
        "colab_type": "code",
        "colab": {
          "base_uri": "https://localhost:8080/",
          "height": 104
        },
        "outputId": "6d20fb1e-bdc3-4f0d-988a-3e03bf3f4999"
      },
      "source": [
        "yp = np.random.uniform(0,np.pi)\n",
        "xp = np.random.uniform(0,np.pi)\n",
        "cxp = np.random.uniform(0,np.pi)\n",
        "test_param_bc = param_bell_circuit(num_physical_qubits, xp, yp, cxp, 'yes')\n",
        "print('random parameter: ', xp, yp)\n",
        "print('resulting circuit:')\n",
        "print(test_param_bc)"
      ],
      "execution_count": 628,
      "outputs": [
        {
          "output_type": "stream",
          "text": [
            "random parameter:  1.492168755953292 2.4593839075167345\n",
            "resulting circuit:\n",
            "0: ───X^-0.508───Y^0.459───@─────────────M('readout')───\n",
            "                           │\n",
            "1: ────────────────────────X^0.915───M──────────────────\n"
          ],
          "name": "stdout"
        }
      ]
    },
    {
      "cell_type": "markdown",
      "metadata": {
        "id": "4CkA8_wqvS_a",
        "colab_type": "text"
      },
      "source": [
        "# Now let's observe the current distribution of states"
      ]
    },
    {
      "cell_type": "code",
      "metadata": {
        "id": "f1V-hQFYv5He",
        "colab_type": "code",
        "colab": {}
      },
      "source": [
        "def circuit_simulator(input_c, num_reps, measurement_toggle):\n",
        "  curr_simulator = cirq.Simulator()\n",
        "  curr_results = simulator.run(input_c, repetitions=num_reps)\n",
        "  print('This is the result when dealing with a random parameter on the X and Y-Gate of the decomposition: ')\n",
        "  cirq.plot_state_histogram(curr_results)\n",
        "\n",
        "  #Preserve the measurement values\n",
        "  s_k, s_v= zip(*results.measurements.items())\n",
        "  label_values = 1 - 2*np.array(s_v).astype(np.int32)\n",
        "  curr_h = 0\n",
        "  #count_results = test_results.histogram(key='readout')\n",
        "  #if you are reading one of the bits\n",
        "  if measurement_toggle == 'no':\n",
        "    curr_h = curr_results.histogram(key='readout')\n",
        "  return(curr_results, s_k, s_v, label_values, curr_h)  "
      ],
      "execution_count": 0,
      "outputs": []
    },
    {
      "cell_type": "code",
      "metadata": {
        "id": "BVYKBMoxvHW0",
        "colab_type": "code",
        "colab": {
          "base_uri": "https://localhost:8080/",
          "height": 294
        },
        "outputId": "9d5a3128-ff5c-41bb-9060-13f074831485"
      },
      "source": [
        "test_simulator_bc = circuit_simulator(test_param_bc, num_repetitions, 'yes')"
      ],
      "execution_count": 534,
      "outputs": [
        {
          "output_type": "stream",
          "text": [
            "This is the result when dealing with a random parameter on the X and Y-Gate of the decomposition: \n"
          ],
          "name": "stdout"
        },
        {
          "output_type": "display_data",
          "data": {
            "image/png": "[encoded data removed]",
            "text/plain": [
              "<Figure size 432x288 with 1 Axes>"
            ]
          },
          "metadata": {
            "tags": []
          }
        }
      ]
    },
    {
      "cell_type": "markdown",
      "metadata": {
        "id": "4u5LUvgSweI-",
        "colab_type": "text"
      },
      "source": [
        "Now let's add the measurements so we can get a readout bit to examine:"
      ]
    },
    {
      "cell_type": "code",
      "metadata": {
        "id": "YfzhIQxZwYWt",
        "colab_type": "code",
        "colab": {
          "base_uri": "https://localhost:8080/",
          "height": 104
        },
        "outputId": "90d349b8-3539-48d0-c0c4-ccbe9fcecc1e"
      },
      "source": [
        "test_param_bc_readout_bit = param_bell_circuit(num_physical_qubits, xp, yp,cxp, 'yes')\n",
        "print('random parameter: ', xp, yp)\n",
        "print('resulting circuit:')\n",
        "print(test_param_bc_readout_bit)"
      ],
      "execution_count": 536,
      "outputs": [
        {
          "output_type": "stream",
          "text": [
            "random parameter:  2.927281310094078 1.7291027991419101\n",
            "resulting circuit:\n",
            "0: ───X^0.927───Y^-0.271───@──────────────M('readout')───\n",
            "                           │\n",
            "1: ────────────────────────X^-0.082───M──────────────────\n"
          ],
          "name": "stdout"
        }
      ]
    },
    {
      "cell_type": "code",
      "metadata": {
        "id": "v-t9mOCuwr62",
        "colab_type": "code",
        "colab": {
          "base_uri": "https://localhost:8080/",
          "height": 294
        },
        "outputId": "cc894174-abe4-4b73-a4d8-50992881a5b8"
      },
      "source": [
        "test_simulator_bc_readout_bit = circuit_simulator(test_param_bc_readout_bit, num_repetitions, 'no')"
      ],
      "execution_count": 537,
      "outputs": [
        {
          "output_type": "stream",
          "text": [
            "This is the result when dealing with a random parameter on the X and Y-Gate of the decomposition: \n"
          ],
          "name": "stdout"
        },
        {
          "output_type": "display_data",
          "data": {
            "image/png": "[encoded data removed]",
            "text/plain": [
              "<Figure size 432x288 with 1 Axes>"
            ]
          },
          "metadata": {
            "tags": []
          }
        }
      ]
    },
    {
      "cell_type": "code",
      "metadata": {
        "id": "PWTiq0YR0Bqr",
        "colab_type": "code",
        "colab": {
          "base_uri": "https://localhost:8080/",
          "height": 34
        },
        "outputId": "5fda24d3-1758-42a0-89f1-19d138cd297d"
      },
      "source": [
        "test_simulator_bc_readout_bit[-1][0]/num_repetitions"
      ],
      "execution_count": 538,
      "outputs": [
        {
          "output_type": "execute_result",
          "data": {
            "text/plain": [
              "0.178"
            ]
          },
          "metadata": {
            "tags": []
          },
          "execution_count": 538
        }
      ]
    },
    {
      "cell_type": "code",
      "metadata": {
        "id": "LDkiH4apzCRQ",
        "colab_type": "code",
        "colab": {}
      },
      "source": [
        "#let's applied SGD to find the right gate parameter \n",
        "\n",
        "def SGD_BC(xparam, yparam, cxparam, num_reps):\n",
        "  yparam_arr = []\n",
        "  xparam_arr = []\n",
        "  cxparam_arr= []\n",
        "  loss_arr = []\n",
        "\n",
        "  zero_state_arr =[]\n",
        "  one_state_arr=[]\n",
        "\n",
        "  label_arr =[]\n",
        "  diff_arr =[]\n",
        "\n",
        "  status='not done'\n",
        "  #seed value of the original yparam in the circuit \n",
        "\n",
        "  #code to implement Learning Rate Optimization\n",
        "  #We used OpenAI's Adam paper as a reference.\n",
        "  \n",
        "  biased_first_moment = 0\n",
        "  biased_second_moment = 0\n",
        "\n",
        "  beta_1 = 0.9\n",
        "  beta_2 = 0.999\n",
        "  smoothing_epsilon = 1e-8\n",
        "  learning_rate = 0.01\n",
        "\n",
        "  count = 0\n",
        "\n",
        "  while status == 'not done':\n",
        "    count += 1\n",
        "    #get results\n",
        "    \n",
        "    yparam_arr.append(yparam)\n",
        "    xparam_arr.append(xparam)\n",
        "    cxparam_arr.append(cxparam)\n",
        "\n",
        "    #print('current count: ', count)\n",
        "    #print('current yparam:', yparam)\n",
        "    \n",
        "    test_circuit = param_bell_circuit(num_physical_qubits, xparam, yparam, cxparam, 'yes')\n",
        "    \n",
        "    test_results = simulator.run(test_circuit, repetitions=num_reps)\n",
        "    \n",
        "    count_results = test_results.histogram(key='readout')\n",
        "    \n",
        "    #normalizing state population by repetition value\n",
        "    zero_state_arr.append(count_results[0]/num_reps)\n",
        "    one_state_arr.append(count_results[1]/num_reps)\n",
        "    \n",
        "    s_k, s_v= zip(*test_results.measurements.items())\n",
        "  \n",
        "    current_state_values = 1-2*np.array(s_v).astype(np.int32)\n",
        "\n",
        "    current_predicted_label_value = np.mean(current_state_values)\n",
        "    #print('current pred label: ', current_predicted_label_value )\n",
        "    label_arr.append(current_predicted_label_value)\n",
        "  \n",
        "    current_loss_value = 1 - np.square(current_predicted_label_value)\n",
        "    loss_arr.append(current_loss_value)\n",
        "    \n",
        "    current_gradient_value = 2*current_predicted_label_value\n",
        "    \n",
        "    current_grad_square = np.square(current_gradient_value)\n",
        "    \n",
        "    target_loss_value =  .9999\n",
        "    target_difference = target_loss_value - current_loss_value\n",
        "    diff_arr.append(target_difference)\n",
        "    print('current count: ', count, 'current loss: ', current_loss_value, 'current diff:', target_difference)\n",
        "\n",
        "    \n",
        "    if count > 2000: \n",
        "      print('count is way too much!')\n",
        "      status = 'done'\n",
        "      break\n",
        "    \n",
        "    elif np.absolute(target_difference) < 1e-5:\n",
        "    #elif np.absolute(target_difference) < 1e-3:\n",
        "      status = 'done'\n",
        "      print('Done! Final Weight: ',yparam_arr[-1])\n",
        "      print('Done! Final Weight: ',xparam_arr[-1])\n",
        "      print('Done! Final Weight: ',cxparam_arr[-1])\n",
        "      cirq.plot_state_histogram(test_results)   \n",
        "\n",
        "    else:\n",
        "      \n",
        "      #This code updates the moment vector's parameters. \n",
        "      #biased corrected first estimate \n",
        "      biased_first_moment = beta_1*biased_first_moment +(1-beta_1)*current_gradient_value\n",
        "      \n",
        "      #biased second momentum\n",
        "      #biased_second_moment = next_gradient_moment / (1- np.power(beta_1,count))\n",
        "      \n",
        "      #swap the value for the next iteration\n",
        "      #radient_moment = next_gradient_moment \n",
        "      \n",
        "      #next_momentum_moment = beta_2*momentum_moment + (1-beta_2)*np.square(current_gradient_value)\n",
        "      \n",
        "      #biased corrected first estimate for momentum \n",
        "      biased_second_moment = beta_2*biased_second_moment + (1 - beta_2)*current_grad_square\n",
        "\n",
        "      #make updates \n",
        "      biased_first_moment = np.divide(biased_first_moment, 1 - np.power(beta_1, count))\n",
        "      biased_second_moment = np.divide(biased_second_moment, 1 - np.power(beta_2, count))\n",
        "      \n",
        "      #another swap\n",
        "      #momentum_moment = next_momentum_moment\n",
        "      \n",
        "      #adjust the weights to find optimal parameters \n",
        "      yparam = yparam - learning_rate * target_difference/current_grad_square\n",
        "      xparam = xparam - learning_rate * target_difference/current_grad_square\n",
        "      cxparam = cxparam - learning_rate * target_difference/current_grad_square\n",
        "      \n",
        "      #yparam = yparam - np.multiply(np.multiply(learning_rate,biased_first_moment), (np.sqrt(biased_second_moment) + smoothing_epsilon))\n",
        "      #xparam = xparam - np.multiply(np.multiply(learning_rate,biased_first_moment), (np.sqrt(biased_second_moment) + smoothing_epsilon))\n",
        "      #cxparam = cxparam -  np.multiply(np.multiply(learning_rate,biased_first_moment), (np.sqrt(biased_second_moment) + smoothing_epsilon))\n",
        "\n",
        "  return(xparam_arr, yparam_arr, cxparam_arr,loss_arr, diff_arr, xparam_arr[-1],yparam_arr[-1], cxparam_arr[-1], label_arr, zero_state_arr, one_state_arr)\n"
      ],
      "execution_count": 0,
      "outputs": []
    },
    {
      "cell_type": "code",
      "metadata": {
        "id": "NvToqYk01J3J",
        "colab_type": "code",
        "colab": {
          "base_uri": "https://localhost:8080/",
          "height": 1000
        },
        "outputId": "be82d702-9156-4041-f1df-a26ac00257ce"
      },
      "source": [
        "xp, yp, cxp = np.random.uniform(0,1*np.pi),np.random.uniform(0,1*np.pi), np.random.uniform(0,1*np.pi)\n",
        "print('current random y parameter: ', xp, yp, cxp)\n",
        "print('======')\n",
        "test_sgd = SGD_BC(xp, yp,cxp, num_repetitions)"
      ],
      "execution_count": 622,
      "outputs": [
        {
          "output_type": "stream",
          "text": [
            "current random y parameter:  0.4391164637598094 1.6312192000984838 2.881327629467838\n",
            "======\n",
            "current count:  1 current loss:  0.99265551 current diff: 0.007244490000000048\n",
            "current count:  2 current loss:  0.98926704 current diff: 0.010632960000000025\n",
            "current count:  3 current loss:  0.99209679 current diff: 0.00780321000000006\n",
            "current count:  4 current loss:  0.99127644 current diff: 0.008623559999999975\n",
            "current count:  5 current loss:  0.98602876 current diff: 0.013871240000000062\n",
            "current count:  6 current loss:  0.98818431 current diff: 0.011715690000000056\n",
            "current count:  7 current loss:  0.98514039 current diff: 0.014759610000000034\n",
            "current count:  8 current loss:  0.99197184 current diff: 0.007928159999999962\n",
            "current count:  9 current loss:  0.986775 current diff: 0.013125000000000053\n",
            "current count:  10 current loss:  0.99106975 current diff: 0.00883025000000004\n",
            "current count:  11 current loss:  0.98778975 current diff: 0.012110249999999989\n",
            "current count:  12 current loss:  0.98772336 current diff: 0.01217663999999996\n",
            "current count:  13 current loss:  0.983359 current diff: 0.016541000000000028\n",
            "current count:  14 current loss:  0.98359039 current diff: 0.016309609999999974\n",
            "current count:  15 current loss:  0.98957559 current diff: 0.010324410000000062\n",
            "current count:  16 current loss:  0.98424975 current diff: 0.015650249999999977\n",
            "current count:  17 current loss:  0.98557599 current diff: 0.014324010000000054\n",
            "current count:  18 current loss:  0.98794396 current diff: 0.011956040000000057\n",
            "current count:  19 current loss:  0.981231 current diff: 0.018669000000000047\n",
            "current count:  20 current loss:  0.98822775 current diff: 0.01167225000000005\n",
            "current count:  21 current loss:  0.98679799 current diff: 0.013102009999999997\n",
            "current count:  22 current loss:  0.98389639 current diff: 0.016003610000000057\n",
            "current count:  23 current loss:  0.98670591 current diff: 0.013194090000000047\n",
            "current count:  24 current loss:  0.98422464 current diff: 0.015675360000000027\n",
            "current count:  25 current loss:  0.98659036 current diff: 0.013309640000000011\n",
            "current count:  26 current loss:  0.98424975 current diff: 0.015650249999999977\n",
            "current count:  27 current loss:  0.98276031 current diff: 0.01713969000000004\n",
            "current count:  28 current loss:  0.98647431 current diff: 0.013425690000000046\n",
            "current count:  29 current loss:  0.98501824 current diff: 0.014881759999999966\n",
            "current count:  30 current loss:  0.98364159 current diff: 0.016258410000000056\n",
            "current count:  31 current loss:  0.98409879 current diff: 0.01580121000000001\n",
            "current count:  32 current loss:  0.98861511 current diff: 0.011284889999999992\n",
            "current count:  33 current loss:  0.98785596 current diff: 0.012044040000000034\n",
            "current count:  34 current loss:  0.99091791 current diff: 0.008982090000000054\n",
            "current count:  35 current loss:  0.98981919 current diff: 0.010080810000000051\n",
            "current count:  36 current loss:  0.98785596 current diff: 0.012044040000000034\n",
            "current count:  37 current loss:  0.98870031 current diff: 0.011199689999999984\n",
            "current count:  38 current loss:  0.9908031900000001 current diff: 0.009096809999999955\n",
            "current count:  39 current loss:  0.99057159 current diff: 0.009328410000000065\n",
            "current count:  40 current loss:  0.98761231 current diff: 0.012287689999999962\n",
            "current count:  41 current loss:  0.99179164 current diff: 0.008108360000000037\n",
            "current count:  42 current loss:  0.99258679 current diff: 0.007313209999999959\n",
            "current count:  43 current loss:  0.991536 current diff: 0.008364000000000038\n",
            "current count:  44 current loss:  0.99213231 current diff: 0.007767689999999994\n",
            "current count:  45 current loss:  0.99005991 current diff: 0.009840089999999968\n",
            "current count:  46 current loss:  0.99025831 current diff: 0.009641690000000036\n",
            "current count:  47 current loss:  0.99068775 current diff: 0.009212250000000033\n",
            "current count:  48 current loss:  0.99309439 current diff: 0.0068056100000000175\n",
            "current count:  49 current loss:  0.99351975 current diff: 0.006380249999999976\n",
            "current count:  50 current loss:  0.99253504 current diff: 0.007364959999999976\n",
            "current count:  51 current loss:  0.99470016 current diff: 0.005199839999999956\n",
            "current count:  52 current loss:  0.99322671 current diff: 0.006673290000000054\n",
            "current count:  53 current loss:  0.99501564 current diff: 0.004884360000000032\n",
            "current count:  54 current loss:  0.99425436 current diff: 0.005645640000000007\n",
            "current count:  55 current loss:  0.99405559 current diff: 0.005844410000000022\n",
            "current count:  56 current loss:  0.99614359 current diff: 0.0037564100000000433\n",
            "current count:  57 current loss:  0.99545724 current diff: 0.00444275999999999\n",
            "current count:  58 current loss:  0.99724375 current diff: 0.0026562500000000266\n",
            "current count:  59 current loss:  0.99853311 current diff: 0.0013668900000000095\n",
            "current count:  60 current loss:  0.997296 current diff: 0.0026040000000000507\n",
            "current count:  61 current loss:  0.99720159 current diff: 0.00269841000000004\n",
            "current count:  62 current loss:  0.99595504 current diff: 0.003944959999999997\n",
            "current count:  63 current loss:  0.99737856 current diff: 0.002521439999999986\n",
            "current count:  64 current loss:  0.99732711 current diff: 0.00257289000000005\n",
            "current count:  65 current loss:  0.99944304 current diff: 0.00045696000000006176\n",
            "current count:  66 current loss:  0.997599 current diff: 0.0023009999999999975\n",
            "current count:  67 current loss:  0.99929775 current diff: 0.0006022500000000264\n",
            "current count:  68 current loss:  0.99732711 current diff: 0.00257289000000005\n",
            "current count:  69 current loss:  0.99712704 current diff: 0.0027729600000000465\n",
            "current count:  70 current loss:  0.99950271 current diff: 0.0003972899999999946\n",
            "current count:  71 current loss:  0.999271 current diff: 0.0006289999999999907\n",
            "current count:  72 current loss:  0.99985839 current diff: 4.161000000002524e-05\n",
            "current count:  73 current loss:  0.99995644 current diff: -5.643999999993543e-05\n",
            "current count:  74 current loss:  0.99936496 current diff: 0.0005350400000000421\n",
            "current count:  75 current loss:  0.99959599 current diff: 0.0003040100000000212\n",
            "current count:  76 current loss:  0.99988764 current diff: 1.2360000000044558e-05\n",
            "current count:  77 current loss:  0.99994524 current diff: -4.5239999999946434e-05\n",
            "current count:  78 current loss:  0.99984124 current diff: 5.876000000004655e-05\n",
            "current count:  79 current loss:  0.999744 current diff: 0.000156000000000045\n",
            "current count:  80 current loss:  0.99938991 current diff: 0.0005100900000000186\n",
            "current count:  81 current loss:  0.99975351 current diff: 0.00014648999999999912\n",
            "current count:  82 current loss:  0.99993111 current diff: -3.111000000000086e-05\n",
            "current count:  83 current loss:  0.99989596 current diff: 4.039999999982946e-06\n",
            "Done! Final Weight:  1.453241471594217\n",
            "Done! Final Weight:  0.2611387352555427\n",
            "Done! Final Weight:  2.703349900963573\n"
          ],
          "name": "stdout"
        },
        {
          "output_type": "display_data",
          "data": {
            "image/png": "[encoded data removed]",
            "text/plain": [
              "<Figure size 432x288 with 1 Axes>"
            ]
          },
          "metadata": {
            "tags": []
          }
        }
      ]
    },
    {
      "cell_type": "code",
      "metadata": {
        "id": "1ckh2_GE1g90",
        "colab_type": "code",
        "colab": {
          "base_uri": "https://localhost:8080/",
          "height": 104
        },
        "outputId": "b2325a72-6b28-4a32-a644-ec02398c00df"
      },
      "source": [
        "test_optimization = param_bell_circuit(num_physical_qubits, test_sgd[5],test_sgd[6], test_sgd[7], 'yes')\n",
        "print('random parameter: ', test_sgd[5], test_sgd[6], test_sgd[7])\n",
        "print('resulting circuit:')\n",
        "print(test_optimization)"
      ],
      "execution_count": 623,
      "outputs": [
        {
          "output_type": "stream",
          "text": [
            "random parameter:  0.2611387352555427 1.453241471594217 2.703349900963573\n",
            "resulting circuit:\n",
            "0: ───X^0.261───Y^-0.547───@─────────────M('readout')───\n",
            "                           │\n",
            "1: ────────────────────────X^0.703───M──────────────────\n"
          ],
          "name": "stdout"
        }
      ]
    },
    {
      "cell_type": "code",
      "metadata": {
        "id": "jauN31Ls-7Ui",
        "colab_type": "code",
        "colab": {
          "base_uri": "https://localhost:8080/",
          "height": 294
        },
        "outputId": "e943dd0a-5793-4aba-957c-f617bb12c95f"
      },
      "source": [
        "test_simulator_op = circuit_simulator(test_optimization, num_repetitions, 'yes')"
      ],
      "execution_count": 624,
      "outputs": [
        {
          "output_type": "stream",
          "text": [
            "This is the result when dealing with a random parameter on the X and Y-Gate of the decomposition: \n"
          ],
          "name": "stdout"
        },
        {
          "output_type": "display_data",
          "data": {
            "image/png": "[encoded data removed]",
            "text/plain": [
              "<Figure size 432x288 with 1 Axes>"
            ]
          },
          "metadata": {
            "tags": []
          }
        }
      ]
    },
    {
      "cell_type": "code",
      "metadata": {
        "id": "Jny-THv4pLSX",
        "colab_type": "code",
        "colab": {
          "base_uri": "https://localhost:8080/",
          "height": 298
        },
        "outputId": "b90d3096-2905-40be-91e2-eade8cf2c031"
      },
      "source": [
        "plt.figure(figsize=(10,5))\n",
        "\n",
        "plt.plot(test_sgd[4], color='dodgerblue', marker='o')\n",
        "\n",
        "plt.tick_params(axis='both', labelsize=15)\n",
        "plt.xlabel('Iterations', fontsize=20)\n",
        "plt.ylabel(r'$\\Delta$', fontsize=20)\n",
        "plt.title('Max Optimization in Bell State Quantum Circuit', fontsize=30)\n",
        "\n",
        "plt.tight_layout()\n",
        "\n",
        "plt.subplots_adjust(top=0.7)"
      ],
      "execution_count": 621,
      "outputs": [
        {
          "output_type": "display_data",
          "data": {
            "image/png": "[encoded data removed]",
            "text/plain": [
              "<Figure size 720x360 with 1 Axes>"
            ]
          },
          "metadata": {
            "tags": []
          }
        }
      ]
    },
    {
      "cell_type": "code",
      "metadata": {
        "id": "FsaTUGDi3mgv",
        "colab_type": "code",
        "colab": {}
      },
      "source": [
        ""
      ],
      "execution_count": 0,
      "outputs": []
    }
  ]
}