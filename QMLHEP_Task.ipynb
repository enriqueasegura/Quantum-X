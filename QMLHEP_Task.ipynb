{
  "nbformat": 4,
  "nbformat_minor": 0,
  "metadata": {
    "colab": {
      "name": "QMLHEP Task.ipynb",
      "provenance": [],
      "toc_visible": true,
      "authorship_tag": "ABX9TyMbpodtcr+XFw2muHhFkwA9",
      "include_colab_link": true
    },
    "kernelspec": {
      "name": "python3",
      "display_name": "Python 3"
    }
  },
  "cells": [
    {
      "cell_type": "markdown",
      "metadata": {
        "id": "view-in-github",
        "colab_type": "text"
      },
      "source": [
        "<a href=\"https://colab.research.google.com/github/enriqueasegura/Quantum-X/blob/master/QMLHEP_Task.ipynb\" target=\"_parent\"><img src=\"https://colab.research.google.com/assets/colab-badge.svg\" alt=\"Open In Colab\"/></a>"
      ]
    },
    {
      "cell_type": "markdown",
      "metadata": {
        "id": "VVJQBn3ijVvz",
        "colab_type": "text"
      },
      "source": [
        "#Quantum Computing Tasks:\n",
        "\n",
        "1. Implement a simple quantum operation with Cirq:\n",
        "*   With 5 qubits\n",
        "*   Apply Hadamard operation on every qubit\n",
        "*   Apply CNOT operation on (0, 1), (1,2), (2,3), (3,4)\n",
        "*   SWAP (0, 4)\n",
        "*   Rotate X with $\\frac{\\pi}{2}$.\n",
        "* Plot the circuit\n",
        "\n",
        "2. Create a circuit that is a series of small cirq.Rx rotations:\n",
        "\n",
        "* Plot the probability of measuring the state in the |0⟩ state. \n",
        "\n",
        "Notes for this task:\n",
        "\n",
        "For example, for a qubit, at first, you can rotate 0.1 degree, you get one probability of measuring the state in the |0⟩ state; then you rotate another 0.1 degree in addition, you get another probability; then you another 0.1 degree and so on."
      ]
    },
    {
      "cell_type": "markdown",
      "metadata": {
        "id": "2MVscka69qqQ",
        "colab_type": "text"
      },
      "source": [
        "#Libraries and Stuff to Make Plots Look Presentable\n"
      ]
    },
    {
      "cell_type": "code",
      "metadata": {
        "id": "VwlvrNuFi42w",
        "colab_type": "code",
        "outputId": "adba1a88-dabb-4820-f2e0-1829b9261c29",
        "colab": {
          "base_uri": "https://localhost:8080/",
          "height": 1000
        }
      },
      "source": [
        "import numpy as np\n",
        "!pip install git+https://github.com/quantumlib/Cirq\n",
        "  \n",
        "from pandas import DataFrame\n",
        "import cirq\n",
        "from cirq.ops import CNOT, TOFFOLI\n",
        "from cirq import Simulator\n",
        "import random\n",
        "from sympy import Symbol\n",
        "from cirq.circuits import InsertStrategy\n",
        "\n",
        "import matplotlib\n",
        "%matplotlib inline\n",
        "import matplotlib.pyplot as plt\n",
        "from cirq.contrib.svg import SVGCircuit\n",
        "\n",
        "#!wget https://github.com/Phonbopit/sarabun-webfont/raw/master/fonts/thsarabunnew-webfont.ttf -P /usr/local/lib/python3.6/dist-packages/matplotlib/mpl-data/fonts/ttf\n",
        "\n",
        "\n",
        "! sudo apt-get install texlive-latex-recommended #1\n",
        "! sudo apt-get install dvipng texlive-fonts-recommended #2\n",
        "! wget http://mirrors.ctan.org/macros/latex/contrib/type1cm.zip #3\n",
        "! unzip type1cm.zip -d /tmp/type1cm #4\n",
        "! cd /tmp/type1cm/type1cm/ && sudo latex type1cm.ins  #5\n",
        "! sudo mkdir /usr/share/texmf/tex/latex/type1cm #6\n",
        "! sudo cp /tmp/type1cm/type1cm/type1cm.sty /usr/share/texmf/tex/latex/type1cm #7\n",
        "! sudo texhash #8"
      ],
      "execution_count": 1,
      "outputs": [
        {
          "output_type": "stream",
          "text": [
            "Collecting git+https://github.com/quantumlib/Cirq\n",
            "  Cloning https://github.com/quantumlib/Cirq to /tmp/pip-req-build-qm81nnj6\n",
            "  Running command git clone -q https://github.com/quantumlib/Cirq /tmp/pip-req-build-qm81nnj6\n",
            "Requirement already satisfied: google-api-core[grpc]<2.0.0dev,>=1.14.0 in /usr/local/lib/python3.6/dist-packages (from cirq==0.8.0.dev0) (1.16.0)\n",
            "Requirement already satisfied: matplotlib~=3.0 in /usr/local/lib/python3.6/dist-packages (from cirq==0.8.0.dev0) (3.1.3)\n",
            "Requirement already satisfied: networkx~=2.4 in /usr/local/lib/python3.6/dist-packages (from cirq==0.8.0.dev0) (2.4)\n",
            "Requirement already satisfied: numpy~=1.16 in /usr/local/lib/python3.6/dist-packages (from cirq==0.8.0.dev0) (1.17.5)\n",
            "Requirement already satisfied: pandas~=0.25 in /usr/local/lib/python3.6/dist-packages (from cirq==0.8.0.dev0) (0.25.3)\n",
            "Collecting protobuf==3.8.0\n",
            "\u001b[?25l  Downloading https://files.pythonhosted.org/packages/d2/fb/29de8d08967f0cce1bb10b39846d836b0f3bf6776ddc36aed7c73498ca7e/protobuf-3.8.0-cp36-cp36m-manylinux1_x86_64.whl (1.2MB)\n",
            "\u001b[K     |████████████████████████████████| 1.2MB 2.9MB/s \n",
            "\u001b[?25hRequirement already satisfied: requests~=2.18 in /usr/local/lib/python3.6/dist-packages (from cirq==0.8.0.dev0) (2.21.0)\n",
            "Requirement already satisfied: sortedcontainers~=2.0 in /usr/local/lib/python3.6/dist-packages (from cirq==0.8.0.dev0) (2.1.0)\n",
            "Requirement already satisfied: scipy in /usr/local/lib/python3.6/dist-packages (from cirq==0.8.0.dev0) (1.4.1)\n",
            "Requirement already satisfied: sympy in /usr/local/lib/python3.6/dist-packages (from cirq==0.8.0.dev0) (1.1.1)\n",
            "Requirement already satisfied: typing_extensions in /usr/local/lib/python3.6/dist-packages (from cirq==0.8.0.dev0) (3.6.6)\n",
            "Requirement already satisfied: dataclasses in /usr/local/lib/python3.6/dist-packages (from cirq==0.8.0.dev0) (0.7)\n",
            "Requirement already satisfied: googleapis-common-protos<2.0dev,>=1.6.0 in /usr/local/lib/python3.6/dist-packages (from google-api-core[grpc]<2.0.0dev,>=1.14.0->cirq==0.8.0.dev0) (1.51.0)\n",
            "Requirement already satisfied: setuptools>=34.0.0 in /usr/local/lib/python3.6/dist-packages (from google-api-core[grpc]<2.0.0dev,>=1.14.0->cirq==0.8.0.dev0) (45.2.0)\n",
            "Requirement already satisfied: google-auth<2.0dev,>=0.4.0 in /usr/local/lib/python3.6/dist-packages (from google-api-core[grpc]<2.0.0dev,>=1.14.0->cirq==0.8.0.dev0) (1.7.2)\n",
            "Requirement already satisfied: six>=1.10.0 in /usr/local/lib/python3.6/dist-packages (from google-api-core[grpc]<2.0.0dev,>=1.14.0->cirq==0.8.0.dev0) (1.12.0)\n",
            "Requirement already satisfied: pytz in /usr/local/lib/python3.6/dist-packages (from google-api-core[grpc]<2.0.0dev,>=1.14.0->cirq==0.8.0.dev0) (2018.9)\n",
            "Requirement already satisfied: grpcio<2.0dev,>=1.8.2; extra == \"grpc\" in /usr/local/lib/python3.6/dist-packages (from google-api-core[grpc]<2.0.0dev,>=1.14.0->cirq==0.8.0.dev0) (1.27.1)\n",
            "Requirement already satisfied: python-dateutil>=2.1 in /usr/local/lib/python3.6/dist-packages (from matplotlib~=3.0->cirq==0.8.0.dev0) (2.6.1)\n",
            "Requirement already satisfied: kiwisolver>=1.0.1 in /usr/local/lib/python3.6/dist-packages (from matplotlib~=3.0->cirq==0.8.0.dev0) (1.1.0)\n",
            "Requirement already satisfied: cycler>=0.10 in /usr/local/lib/python3.6/dist-packages (from matplotlib~=3.0->cirq==0.8.0.dev0) (0.10.0)\n",
            "Requirement already satisfied: pyparsing!=2.0.4,!=2.1.2,!=2.1.6,>=2.0.1 in /usr/local/lib/python3.6/dist-packages (from matplotlib~=3.0->cirq==0.8.0.dev0) (2.4.6)\n",
            "Requirement already satisfied: decorator>=4.3.0 in /usr/local/lib/python3.6/dist-packages (from networkx~=2.4->cirq==0.8.0.dev0) (4.4.1)\n",
            "Requirement already satisfied: chardet<3.1.0,>=3.0.2 in /usr/local/lib/python3.6/dist-packages (from requests~=2.18->cirq==0.8.0.dev0) (3.0.4)\n",
            "Requirement already satisfied: idna<2.9,>=2.5 in /usr/local/lib/python3.6/dist-packages (from requests~=2.18->cirq==0.8.0.dev0) (2.8)\n",
            "Requirement already satisfied: certifi>=2017.4.17 in /usr/local/lib/python3.6/dist-packages (from requests~=2.18->cirq==0.8.0.dev0) (2019.11.28)\n",
            "Requirement already satisfied: urllib3<1.25,>=1.21.1 in /usr/local/lib/python3.6/dist-packages (from requests~=2.18->cirq==0.8.0.dev0) (1.24.3)\n",
            "Requirement already satisfied: mpmath>=0.19 in /usr/local/lib/python3.6/dist-packages (from sympy->cirq==0.8.0.dev0) (1.1.0)\n",
            "Requirement already satisfied: cachetools<3.2,>=2.0.0 in /usr/local/lib/python3.6/dist-packages (from google-auth<2.0dev,>=0.4.0->google-api-core[grpc]<2.0.0dev,>=1.14.0->cirq==0.8.0.dev0) (3.1.1)\n",
            "Requirement already satisfied: pyasn1-modules>=0.2.1 in /usr/local/lib/python3.6/dist-packages (from google-auth<2.0dev,>=0.4.0->google-api-core[grpc]<2.0.0dev,>=1.14.0->cirq==0.8.0.dev0) (0.2.8)\n",
            "Requirement already satisfied: rsa<4.1,>=3.1.4 in /usr/local/lib/python3.6/dist-packages (from google-auth<2.0dev,>=0.4.0->google-api-core[grpc]<2.0.0dev,>=1.14.0->cirq==0.8.0.dev0) (4.0)\n",
            "Requirement already satisfied: pyasn1<0.5.0,>=0.4.6 in /usr/local/lib/python3.6/dist-packages (from pyasn1-modules>=0.2.1->google-auth<2.0dev,>=0.4.0->google-api-core[grpc]<2.0.0dev,>=1.14.0->cirq==0.8.0.dev0) (0.4.8)\n",
            "Building wheels for collected packages: cirq\n",
            "  Building wheel for cirq (setup.py) ... \u001b[?25l\u001b[?25hdone\n",
            "  Created wheel for cirq: filename=cirq-0.8.0.dev0-cp36-none-any.whl size=1324853 sha256=0a37cf08dc4e9610a690f919728243734a3d7216de93c5b5d37338914b4f0fc2\n",
            "  Stored in directory: /tmp/pip-ephem-wheel-cache-owdzfs9m/wheels/c9/f4/ee/029123a49c5e2d75d08c2a9f937e207b88f045901db04632a7\n",
            "Successfully built cirq\n",
            "Installing collected packages: protobuf, cirq\n",
            "  Found existing installation: protobuf 3.10.0\n",
            "    Uninstalling protobuf-3.10.0:\n",
            "      Successfully uninstalled protobuf-3.10.0\n",
            "Successfully installed cirq-0.8.0.dev0 protobuf-3.8.0\n"
          ],
          "name": "stdout"
        },
        {
          "output_type": "display_data",
          "data": {
            "application/vnd.colab-display-data+json": {
              "pip_warning": {
                "packages": [
                  "google"
                ]
              }
            }
          },
          "metadata": {
            "tags": []
          }
        },
        {
          "output_type": "stream",
          "text": [
            "Reading package lists... Done\n",
            "Building dependency tree       \n",
            "Reading state information... Done\n",
            "The following additional packages will be installed:\n",
            "  fonts-droid-fallback fonts-lmodern fonts-noto-mono libcupsfilters1\n",
            "  libcupsimage2 libgs9 libgs9-common libijs-0.35 libjbig2dec0 libkpathsea6\n",
            "  libpotrace0 libptexenc1 libsynctex1 libtexlua52 libtexluajit2 libzzip-0-13\n",
            "  lmodern poppler-data t1utils tex-common texlive-base texlive-binaries\n",
            "  texlive-latex-base\n",
            "Suggested packages:\n",
            "  fonts-noto poppler-utils ghostscript fonts-japanese-mincho\n",
            "  | fonts-ipafont-mincho fonts-japanese-gothic | fonts-ipafont-gothic\n",
            "  fonts-arphic-ukai fonts-arphic-uming fonts-nanum debhelper gv\n",
            "  | postscript-viewer perl-tk xpdf-reader | pdf-viewer texlive-latex-base-doc\n",
            "  texlive-latex-recommended-doc texlive-pstricks\n",
            "The following NEW packages will be installed:\n",
            "  fonts-droid-fallback fonts-lmodern fonts-noto-mono libcupsfilters1\n",
            "  libcupsimage2 libgs9 libgs9-common libijs-0.35 libjbig2dec0 libkpathsea6\n",
            "  libpotrace0 libptexenc1 libsynctex1 libtexlua52 libtexluajit2 libzzip-0-13\n",
            "  lmodern poppler-data t1utils tex-common texlive-base texlive-binaries\n",
            "  texlive-latex-base texlive-latex-recommended\n",
            "0 upgraded, 24 newly installed, 0 to remove and 25 not upgraded.\n",
            "Need to get 68.4 MB of archives.\n",
            "After this operation, 223 MB of additional disk space will be used.\n",
            "Get:1 http://archive.ubuntu.com/ubuntu bionic/main amd64 fonts-droid-fallback all 1:6.0.1r16-1.1 [1,805 kB]\n",
            "Get:2 http://archive.ubuntu.com/ubuntu bionic/main amd64 poppler-data all 0.4.8-2 [1,479 kB]\n",
            "Get:3 http://archive.ubuntu.com/ubuntu bionic/main amd64 tex-common all 6.09 [33.0 kB]\n",
            "Get:4 http://archive.ubuntu.com/ubuntu bionic/main amd64 fonts-lmodern all 2.004.5-3 [4,551 kB]\n",
            "Get:5 http://archive.ubuntu.com/ubuntu bionic/main amd64 fonts-noto-mono all 20171026-2 [75.5 kB]\n",
            "Get:6 http://archive.ubuntu.com/ubuntu bionic-updates/main amd64 libcupsfilters1 amd64 1.20.2-0ubuntu3.1 [108 kB]\n",
            "Get:7 http://archive.ubuntu.com/ubuntu bionic-updates/main amd64 libcupsimage2 amd64 2.2.7-1ubuntu2.7 [18.6 kB]\n",
            "Get:8 http://archive.ubuntu.com/ubuntu bionic/main amd64 libijs-0.35 amd64 0.35-13 [15.5 kB]\n",
            "Get:9 http://archive.ubuntu.com/ubuntu bionic/main amd64 libjbig2dec0 amd64 0.13-6 [55.9 kB]\n",
            "Get:10 http://archive.ubuntu.com/ubuntu bionic-updates/main amd64 libgs9-common all 9.26~dfsg+0-0ubuntu0.18.04.12 [5,092 kB]\n",
            "Get:11 http://archive.ubuntu.com/ubuntu bionic-updates/main amd64 libgs9 amd64 9.26~dfsg+0-0ubuntu0.18.04.12 [2,264 kB]\n",
            "Get:12 http://archive.ubuntu.com/ubuntu bionic-updates/main amd64 libkpathsea6 amd64 2017.20170613.44572-8ubuntu0.1 [54.9 kB]\n",
            "Get:13 http://archive.ubuntu.com/ubuntu bionic/main amd64 libpotrace0 amd64 1.14-2 [17.4 kB]\n",
            "Get:14 http://archive.ubuntu.com/ubuntu bionic-updates/main amd64 libptexenc1 amd64 2017.20170613.44572-8ubuntu0.1 [34.5 kB]\n",
            "Get:15 http://archive.ubuntu.com/ubuntu bionic-updates/main amd64 libsynctex1 amd64 2017.20170613.44572-8ubuntu0.1 [41.4 kB]\n",
            "Get:16 http://archive.ubuntu.com/ubuntu bionic-updates/main amd64 libtexlua52 amd64 2017.20170613.44572-8ubuntu0.1 [91.2 kB]\n",
            "Get:17 http://archive.ubuntu.com/ubuntu bionic-updates/main amd64 libtexluajit2 amd64 2017.20170613.44572-8ubuntu0.1 [230 kB]\n",
            "Get:18 http://archive.ubuntu.com/ubuntu bionic-updates/main amd64 libzzip-0-13 amd64 0.13.62-3.1ubuntu0.18.04.1 [26.0 kB]\n",
            "Get:19 http://archive.ubuntu.com/ubuntu bionic/main amd64 lmodern all 2.004.5-3 [9,631 kB]\n",
            "Get:20 http://archive.ubuntu.com/ubuntu bionic/main amd64 t1utils amd64 1.41-2 [56.0 kB]\n",
            "Get:21 http://archive.ubuntu.com/ubuntu bionic-updates/main amd64 texlive-binaries amd64 2017.20170613.44572-8ubuntu0.1 [8,179 kB]\n",
            "Get:22 http://archive.ubuntu.com/ubuntu bionic/main amd64 texlive-base all 2017.20180305-1 [18.7 MB]\n",
            "Get:23 http://archive.ubuntu.com/ubuntu bionic/main amd64 texlive-latex-base all 2017.20180305-1 [951 kB]\n",
            "Get:24 http://archive.ubuntu.com/ubuntu bionic/main amd64 texlive-latex-recommended all 2017.20180305-1 [14.9 MB]\n",
            "Fetched 68.4 MB in 4s (17.9 MB/s)\n",
            "debconf: unable to initialize frontend: Dialog\n",
            "debconf: (No usable dialog-like program is installed, so the dialog based frontend cannot be used. at /usr/share/perl5/Debconf/FrontEnd/Dialog.pm line 76, <> line 24.)\n",
            "debconf: falling back to frontend: Readline\n",
            "debconf: unable to initialize frontend: Readline\n",
            "debconf: (This frontend requires a controlling tty.)\n",
            "debconf: falling back to frontend: Teletype\n",
            "dpkg-preconfigure: unable to re-open stdin: \n",
            "Selecting previously unselected package fonts-droid-fallback.\n",
            "(Reading database ... 134448 files and directories currently installed.)\n",
            "Preparing to unpack .../00-fonts-droid-fallback_1%3a6.0.1r16-1.1_all.deb ...\n",
            "Unpacking fonts-droid-fallback (1:6.0.1r16-1.1) ...\n",
            "Selecting previously unselected package poppler-data.\n",
            "Preparing to unpack .../01-poppler-data_0.4.8-2_all.deb ...\n",
            "Unpacking poppler-data (0.4.8-2) ...\n",
            "Selecting previously unselected package tex-common.\n",
            "Preparing to unpack .../02-tex-common_6.09_all.deb ...\n",
            "Unpacking tex-common (6.09) ...\n",
            "Selecting previously unselected package fonts-lmodern.\n",
            "Preparing to unpack .../03-fonts-lmodern_2.004.5-3_all.deb ...\n",
            "Unpacking fonts-lmodern (2.004.5-3) ...\n",
            "Selecting previously unselected package fonts-noto-mono.\n",
            "Preparing to unpack .../04-fonts-noto-mono_20171026-2_all.deb ...\n",
            "Unpacking fonts-noto-mono (20171026-2) ...\n",
            "Selecting previously unselected package libcupsfilters1:amd64.\n",
            "Preparing to unpack .../05-libcupsfilters1_1.20.2-0ubuntu3.1_amd64.deb ...\n",
            "Unpacking libcupsfilters1:amd64 (1.20.2-0ubuntu3.1) ...\n",
            "Selecting previously unselected package libcupsimage2:amd64.\n",
            "Preparing to unpack .../06-libcupsimage2_2.2.7-1ubuntu2.7_amd64.deb ...\n",
            "Unpacking libcupsimage2:amd64 (2.2.7-1ubuntu2.7) ...\n",
            "Selecting previously unselected package libijs-0.35:amd64.\n",
            "Preparing to unpack .../07-libijs-0.35_0.35-13_amd64.deb ...\n",
            "Unpacking libijs-0.35:amd64 (0.35-13) ...\n",
            "Selecting previously unselected package libjbig2dec0:amd64.\n",
            "Preparing to unpack .../08-libjbig2dec0_0.13-6_amd64.deb ...\n",
            "Unpacking libjbig2dec0:amd64 (0.13-6) ...\n",
            "Selecting previously unselected package libgs9-common.\n",
            "Preparing to unpack .../09-libgs9-common_9.26~dfsg+0-0ubuntu0.18.04.12_all.deb ...\n",
            "Unpacking libgs9-common (9.26~dfsg+0-0ubuntu0.18.04.12) ...\n",
            "Selecting previously unselected package libgs9:amd64.\n",
            "Preparing to unpack .../10-libgs9_9.26~dfsg+0-0ubuntu0.18.04.12_amd64.deb ...\n",
            "Unpacking libgs9:amd64 (9.26~dfsg+0-0ubuntu0.18.04.12) ...\n",
            "Selecting previously unselected package libkpathsea6:amd64.\n",
            "Preparing to unpack .../11-libkpathsea6_2017.20170613.44572-8ubuntu0.1_amd64.deb ...\n",
            "Unpacking libkpathsea6:amd64 (2017.20170613.44572-8ubuntu0.1) ...\n",
            "Selecting previously unselected package libpotrace0.\n",
            "Preparing to unpack .../12-libpotrace0_1.14-2_amd64.deb ...\n",
            "Unpacking libpotrace0 (1.14-2) ...\n",
            "Selecting previously unselected package libptexenc1:amd64.\n",
            "Preparing to unpack .../13-libptexenc1_2017.20170613.44572-8ubuntu0.1_amd64.deb ...\n",
            "Unpacking libptexenc1:amd64 (2017.20170613.44572-8ubuntu0.1) ...\n",
            "Selecting previously unselected package libsynctex1:amd64.\n",
            "Preparing to unpack .../14-libsynctex1_2017.20170613.44572-8ubuntu0.1_amd64.deb ...\n",
            "Unpacking libsynctex1:amd64 (2017.20170613.44572-8ubuntu0.1) ...\n",
            "Selecting previously unselected package libtexlua52:amd64.\n",
            "Preparing to unpack .../15-libtexlua52_2017.20170613.44572-8ubuntu0.1_amd64.deb ...\n",
            "Unpacking libtexlua52:amd64 (2017.20170613.44572-8ubuntu0.1) ...\n",
            "Selecting previously unselected package libtexluajit2:amd64.\n",
            "Preparing to unpack .../16-libtexluajit2_2017.20170613.44572-8ubuntu0.1_amd64.deb ...\n",
            "Unpacking libtexluajit2:amd64 (2017.20170613.44572-8ubuntu0.1) ...\n",
            "Selecting previously unselected package libzzip-0-13:amd64.\n",
            "Preparing to unpack .../17-libzzip-0-13_0.13.62-3.1ubuntu0.18.04.1_amd64.deb ...\n",
            "Unpacking libzzip-0-13:amd64 (0.13.62-3.1ubuntu0.18.04.1) ...\n",
            "Selecting previously unselected package lmodern.\n",
            "Preparing to unpack .../18-lmodern_2.004.5-3_all.deb ...\n",
            "Unpacking lmodern (2.004.5-3) ...\n",
            "Selecting previously unselected package t1utils.\n",
            "Preparing to unpack .../19-t1utils_1.41-2_amd64.deb ...\n",
            "Unpacking t1utils (1.41-2) ...\n",
            "Selecting previously unselected package texlive-binaries.\n",
            "Preparing to unpack .../20-texlive-binaries_2017.20170613.44572-8ubuntu0.1_amd64.deb ...\n",
            "Unpacking texlive-binaries (2017.20170613.44572-8ubuntu0.1) ...\n",
            "Selecting previously unselected package texlive-base.\n",
            "Preparing to unpack .../21-texlive-base_2017.20180305-1_all.deb ...\n",
            "Unpacking texlive-base (2017.20180305-1) ...\n",
            "Selecting previously unselected package texlive-latex-base.\n",
            "Preparing to unpack .../22-texlive-latex-base_2017.20180305-1_all.deb ...\n",
            "Unpacking texlive-latex-base (2017.20180305-1) ...\n",
            "Selecting previously unselected package texlive-latex-recommended.\n",
            "Preparing to unpack .../23-texlive-latex-recommended_2017.20180305-1_all.deb ...\n",
            "Unpacking texlive-latex-recommended (2017.20180305-1) ...\n",
            "Setting up libgs9-common (9.26~dfsg+0-0ubuntu0.18.04.12) ...\n",
            "Setting up libkpathsea6:amd64 (2017.20170613.44572-8ubuntu0.1) ...\n",
            "Setting up libtexlua52:amd64 (2017.20170613.44572-8ubuntu0.1) ...\n",
            "Setting up fonts-droid-fallback (1:6.0.1r16-1.1) ...\n",
            "Setting up libsynctex1:amd64 (2017.20170613.44572-8ubuntu0.1) ...\n",
            "Setting up libptexenc1:amd64 (2017.20170613.44572-8ubuntu0.1) ...\n",
            "Setting up tex-common (6.09) ...\n",
            "debconf: unable to initialize frontend: Dialog\n",
            "debconf: (No usable dialog-like program is installed, so the dialog based frontend cannot be used. at /usr/share/perl5/Debconf/FrontEnd/Dialog.pm line 76.)\n",
            "debconf: falling back to frontend: Readline\n",
            "update-language: texlive-base not installed and configured, doing nothing!\n",
            "Setting up poppler-data (0.4.8-2) ...\n",
            "Setting up fonts-noto-mono (20171026-2) ...\n",
            "Setting up libcupsfilters1:amd64 (1.20.2-0ubuntu3.1) ...\n",
            "Setting up libcupsimage2:amd64 (2.2.7-1ubuntu2.7) ...\n",
            "Setting up libjbig2dec0:amd64 (0.13-6) ...\n",
            "Setting up t1utils (1.41-2) ...\n",
            "Setting up libijs-0.35:amd64 (0.35-13) ...\n",
            "Setting up libpotrace0 (1.14-2) ...\n",
            "Setting up libzzip-0-13:amd64 (0.13.62-3.1ubuntu0.18.04.1) ...\n",
            "Setting up libgs9:amd64 (9.26~dfsg+0-0ubuntu0.18.04.12) ...\n",
            "Setting up libtexluajit2:amd64 (2017.20170613.44572-8ubuntu0.1) ...\n",
            "Setting up fonts-lmodern (2.004.5-3) ...\n",
            "Setting up texlive-binaries (2017.20170613.44572-8ubuntu0.1) ...\n",
            "update-alternatives: using /usr/bin/xdvi-xaw to provide /usr/bin/xdvi.bin (xdvi.bin) in auto mode\n",
            "update-alternatives: using /usr/bin/bibtex.original to provide /usr/bin/bibtex (bibtex) in auto mode\n",
            "Setting up texlive-base (2017.20180305-1) ...\n",
            "mktexlsr: Updating /var/lib/texmf/ls-R-TEXLIVEDIST... \n",
            "mktexlsr: Updating /var/lib/texmf/ls-R-TEXMFMAIN... \n",
            "mktexlsr: Updating /var/lib/texmf/ls-R... \n",
            "mktexlsr: Done.\n",
            "tl-paper: setting paper size for dvips to a4: /var/lib/texmf/dvips/config/config-paper.ps\n",
            "tl-paper: setting paper size for dvipdfmx to a4: /var/lib/texmf/dvipdfmx/dvipdfmx-paper.cfg\n",
            "tl-paper: setting paper size for xdvi to a4: /var/lib/texmf/xdvi/XDvi-paper\n",
            "tl-paper: setting paper size for pdftex to a4: /var/lib/texmf/tex/generic/config/pdftexconfig.tex\n",
            "debconf: unable to initialize frontend: Dialog\n",
            "debconf: (No usable dialog-like program is installed, so the dialog based frontend cannot be used. at /usr/share/perl5/Debconf/FrontEnd/Dialog.pm line 76.)\n",
            "debconf: falling back to frontend: Readline\n",
            "Setting up texlive-latex-base (2017.20180305-1) ...\n",
            "Setting up lmodern (2.004.5-3) ...\n",
            "Setting up texlive-latex-recommended (2017.20180305-1) ...\n",
            "Processing triggers for libc-bin (2.27-3ubuntu1) ...\n",
            "/sbin/ldconfig.real: /usr/local/lib/python3.6/dist-packages/ideep4py/lib/libmkldnn.so.0 is not a symbolic link\n",
            "\n",
            "Processing triggers for man-db (2.8.3-2ubuntu0.1) ...\n",
            "Processing triggers for fontconfig (2.12.6-0ubuntu2) ...\n",
            "Processing triggers for mime-support (3.60ubuntu1) ...\n",
            "Processing triggers for tex-common (6.09) ...\n",
            "debconf: unable to initialize frontend: Dialog\n",
            "debconf: (No usable dialog-like program is installed, so the dialog based frontend cannot be used. at /usr/share/perl5/Debconf/FrontEnd/Dialog.pm line 76.)\n",
            "debconf: falling back to frontend: Readline\n",
            "Running updmap-sys. This may take some time... done.\n",
            "Running mktexlsr /var/lib/texmf ... done.\n",
            "Building format(s) --all.\n",
            "\tThis may take some time... done.\n",
            "Reading package lists... Done\n",
            "Building dependency tree       \n",
            "Reading state information... Done\n",
            "The following additional packages will be installed:\n",
            "  fonts-texgyre ghostscript gsfonts tex-gyre tipa\n",
            "Suggested packages:\n",
            "  ghostscript-x texlive-fonts-recommended-doc\n",
            "The following NEW packages will be installed:\n",
            "  dvipng fonts-texgyre ghostscript gsfonts tex-gyre texlive-fonts-recommended\n",
            "  tipa\n",
            "0 upgraded, 7 newly installed, 0 to remove and 25 not upgraded.\n",
            "Need to get 25.2 MB of archives.\n",
            "After this operation, 67.7 MB of additional disk space will be used.\n",
            "Get:1 http://archive.ubuntu.com/ubuntu bionic-updates/main amd64 ghostscript amd64 9.26~dfsg+0-0ubuntu0.18.04.12 [50.9 kB]\n",
            "Get:2 http://archive.ubuntu.com/ubuntu bionic/universe amd64 dvipng amd64 1.15-1 [78.2 kB]\n",
            "Get:3 http://archive.ubuntu.com/ubuntu bionic/universe amd64 fonts-texgyre all 20160520-1 [8,761 kB]\n",
            "Get:4 http://archive.ubuntu.com/ubuntu bionic/main amd64 gsfonts all 1:8.11+urwcyr1.0.7~pre44-4.4 [3,120 kB]\n",
            "Get:5 http://archive.ubuntu.com/ubuntu bionic/universe amd64 tex-gyre all 20160520-1 [4,998 kB]\n",
            "Get:6 http://archive.ubuntu.com/ubuntu bionic/universe amd64 texlive-fonts-recommended all 2017.20180305-1 [5,262 kB]\n",
            "Get:7 http://archive.ubuntu.com/ubuntu bionic/universe amd64 tipa all 2:1.3-20 [2,978 kB]\n",
            "Fetched 25.2 MB in 2s (14.7 MB/s)\n",
            "debconf: unable to initialize frontend: Dialog\n",
            "debconf: (No usable dialog-like program is installed, so the dialog based frontend cannot be used. at /usr/share/perl5/Debconf/FrontEnd/Dialog.pm line 76, <> line 7.)\n",
            "debconf: falling back to frontend: Readline\n",
            "debconf: unable to initialize frontend: Readline\n",
            "debconf: (This frontend requires a controlling tty.)\n",
            "debconf: falling back to frontend: Teletype\n",
            "dpkg-preconfigure: unable to re-open stdin: \n",
            "Selecting previously unselected package ghostscript.\n",
            "(Reading database ... 141782 files and directories currently installed.)\n",
            "Preparing to unpack .../0-ghostscript_9.26~dfsg+0-0ubuntu0.18.04.12_amd64.deb ...\n",
            "Unpacking ghostscript (9.26~dfsg+0-0ubuntu0.18.04.12) ...\n",
            "Selecting previously unselected package dvipng.\n",
            "Preparing to unpack .../1-dvipng_1.15-1_amd64.deb ...\n",
            "Unpacking dvipng (1.15-1) ...\n",
            "Selecting previously unselected package fonts-texgyre.\n",
            "Preparing to unpack .../2-fonts-texgyre_20160520-1_all.deb ...\n",
            "Unpacking fonts-texgyre (20160520-1) ...\n",
            "Selecting previously unselected package gsfonts.\n",
            "Preparing to unpack .../3-gsfonts_1%3a8.11+urwcyr1.0.7~pre44-4.4_all.deb ...\n",
            "Unpacking gsfonts (1:8.11+urwcyr1.0.7~pre44-4.4) ...\n",
            "Selecting previously unselected package tex-gyre.\n",
            "Preparing to unpack .../4-tex-gyre_20160520-1_all.deb ...\n",
            "Unpacking tex-gyre (20160520-1) ...\n",
            "Selecting previously unselected package texlive-fonts-recommended.\n",
            "Preparing to unpack .../5-texlive-fonts-recommended_2017.20180305-1_all.deb ...\n",
            "Unpacking texlive-fonts-recommended (2017.20180305-1) ...\n",
            "Selecting previously unselected package tipa.\n",
            "Preparing to unpack .../6-tipa_2%3a1.3-20_all.deb ...\n",
            "Unpacking tipa (2:1.3-20) ...\n",
            "Setting up gsfonts (1:8.11+urwcyr1.0.7~pre44-4.4) ...\n",
            "Setting up tex-gyre (20160520-1) ...\n",
            "Setting up tipa (2:1.3-20) ...\n",
            "Regenerating '/var/lib/texmf/fmtutil.cnf-DEBIAN'... done.\n",
            "Regenerating '/var/lib/texmf/fmtutil.cnf-TEXLIVEDIST'... done.\n",
            "update-fmtutil has updated the following file(s):\n",
            "\t/var/lib/texmf/fmtutil.cnf-DEBIAN\n",
            "\t/var/lib/texmf/fmtutil.cnf-TEXLIVEDIST\n",
            "If you want to activate the changes in the above file(s),\n",
            "you should run fmtutil-sys or fmtutil.\n",
            "Setting up ghostscript (9.26~dfsg+0-0ubuntu0.18.04.12) ...\n",
            "Setting up fonts-texgyre (20160520-1) ...\n",
            "Setting up texlive-fonts-recommended (2017.20180305-1) ...\n",
            "Setting up dvipng (1.15-1) ...\n",
            "Processing triggers for fontconfig (2.12.6-0ubuntu2) ...\n",
            "Processing triggers for tex-common (6.09) ...\n",
            "debconf: unable to initialize frontend: Dialog\n",
            "debconf: (No usable dialog-like program is installed, so the dialog based frontend cannot be used. at /usr/share/perl5/Debconf/FrontEnd/Dialog.pm line 76.)\n",
            "debconf: falling back to frontend: Readline\n",
            "Running mktexlsr. This may take some time... done.\n",
            "Running updmap-sys. This may take some time... done.\n",
            "Running mktexlsr /var/lib/texmf ... done.\n",
            "Processing triggers for man-db (2.8.3-2ubuntu0.1) ...\n",
            "--2020-03-09 22:48:02--  http://mirrors.ctan.org/macros/latex/contrib/type1cm.zip\n",
            "Resolving mirrors.ctan.org (mirrors.ctan.org)... 5.35.249.60\n",
            "Connecting to mirrors.ctan.org (mirrors.ctan.org)|5.35.249.60|:80... connected.\n",
            "HTTP request sent, awaiting response... 302 Found\n",
            "Location: http://mirrors.rit.edu/CTAN/macros/latex/contrib/type1cm.zip [following]\n",
            "--2020-03-09 22:48:02--  http://mirrors.rit.edu/CTAN/macros/latex/contrib/type1cm.zip\n",
            "Resolving mirrors.rit.edu (mirrors.rit.edu)... 129.21.171.72, 2620:8d:8000:15:225:90ff:fefd:344c\n",
            "Connecting to mirrors.rit.edu (mirrors.rit.edu)|129.21.171.72|:80... connected.\n",
            "HTTP request sent, awaiting response... 200 OK\n",
            "Length: 328566 (321K) [application/zip]\n",
            "Saving to: ‘type1cm.zip’\n",
            "\n",
            "type1cm.zip         100%[===================>] 320.87K  --.-KB/s    in 0.1s    \n",
            "\n",
            "2020-03-09 22:48:02 (2.17 MB/s) - ‘type1cm.zip’ saved [328566/328566]\n",
            "\n",
            "Archive:  type1cm.zip\n",
            "   creating: /tmp/type1cm/type1cm/\n",
            "  inflating: /tmp/type1cm/type1cm/type1cm.fdd  \n",
            "  inflating: /tmp/type1cm/type1cm/type1cm.ins  \n",
            "  inflating: /tmp/type1cm/type1cm/type1cm.txt  \n",
            "  inflating: /tmp/type1cm/type1cm/type1cm-doc.pdf  \n",
            "  inflating: /tmp/type1cm/type1cm/type1cm-doc.tex  \n",
            "This is pdfTeX, Version 3.14159265-2.6-1.40.18 (TeX Live 2017/Debian) (preloaded format=latex)\n",
            " restricted \\write18 enabled.\n",
            "entering extended mode\n",
            "(./type1cm.ins\n",
            "LaTeX2e <2017-04-15>\n",
            "Babel <3.18> and hyphenation patterns for 3 language(s) loaded.\n",
            "(/usr/share/texlive/texmf-dist/tex/latex/base/docstrip.tex\n",
            "Utility: `docstrip' 2.5e <2014/09/29>\n",
            "English documentation    <2017/03/13>\n",
            "\n",
            "**********************************************************\n",
            "* This program converts documented macro-files into fast *\n",
            "* loadable files by stripping off (nearly) all comments! *\n",
            "**********************************************************\n",
            "\n",
            "********************************************************\n",
            "* No Configuration file found, using default settings. *\n",
            "********************************************************\n",
            "\n",
            "(./type1cm.ins\n",
            "\n",
            "Generating file(s) ./type1cm.sty \n",
            "\n",
            "Processing file type1cm.fdd (package,ams) -> type1cm.sty\n",
            "Lines  processed: 410\n",
            "Comments removed: 25\n",
            "Comments  passed: 7\n",
            "Codelines passed: 263\n",
            "\n",
            ") ) )\n",
            "No pages of output.\n",
            "Transcript written on type1cm.log.\n",
            "texhash: Updating /usr/local/share/texmf/ls-R... \n",
            "texhash: Updating /var/lib/texmf/ls-R-TEXLIVEDIST... \n",
            "texhash: Updating /var/lib/texmf/ls-R-TEXMFMAIN... \n",
            "texhash: Updating /var/lib/texmf/ls-R... \n",
            "texhash: Done.\n"
          ],
          "name": "stdout"
        }
      ]
    },
    {
      "cell_type": "code",
      "metadata": {
        "id": "gb0QYMmrkYjF",
        "colab_type": "code",
        "outputId": "5d3f0234-7e3b-4d73-ecdc-9b16fe838de4",
        "colab": {
          "base_uri": "https://localhost:8080/",
          "height": 1000
        }
      },
      "source": [
        "#more code for pretty plots\n",
        "\n",
        "from matplotlib import rc\n",
        "rc('font',**{'family':'sans-serif','sans-serif':['Helvetica']})\n",
        "## for Palatino and other serif fonts use:\n",
        "#rc('font',**{'family':'serif','serif':['Computer Modern Roman']})\n",
        "rc('text', usetex=True)\n",
        "matplotlib.rcParams['text.usetex']=True\n",
        "matplotlib.rcParams['text.latex.unicode']=True\n",
        "\n",
        "from matplotlib import rcParams\n",
        "rcParams['axes.titlepad'] = 20 \n",
        "!sudo dpkg --configure -a\n",
        "!sudo apt-get install dvipng texlive-latex-extra texlive-fonts-recommended "
      ],
      "execution_count": 2,
      "outputs": [
        {
          "output_type": "stream",
          "text": [
            "/usr/local/lib/python3.6/dist-packages/ipykernel_launcher.py:8: MatplotlibDeprecationWarning: \n",
            "The text.latex.unicode rcparam was deprecated in Matplotlib 3.0 and will be removed in 3.2.\n",
            "  \n"
          ],
          "name": "stderr"
        },
        {
          "output_type": "stream",
          "text": [
            "\rReading package lists... 0%\r\rReading package lists... 0%\r\rReading package lists... 0%\r\rReading package lists... 7%\r\rReading package lists... 7%\r\rReading package lists... 7%\r\rReading package lists... 7%\r\rReading package lists... 60%\r\rReading package lists... 64%\r\rReading package lists... 64%\r\rReading package lists... 65%\r\rReading package lists... 65%\r\rReading package lists... 72%\r\rReading package lists... 72%\r\rReading package lists... 72%\r\rReading package lists... 72%\r\rReading package lists... 81%\r\rReading package lists... 81%\r\rReading package lists... 81%\r\rReading package lists... 81%\r\rReading package lists... 82%\r\rReading package lists... 82%\r\rReading package lists... 82%\r\rReading package lists... 82%\r\rReading package lists... 87%\r\rReading package lists... 87%\r\rReading package lists... 87%\r\rReading package lists... 87%\r\rReading package lists... 93%\r\rReading package lists... 93%\r\rReading package lists... 93%\r\rReading package lists... 93%\r\rReading package lists... 93%\r\rReading package lists... 93%\r\rReading package lists... 94%\r\rReading package lists... 94%\r\rReading package lists... 94%\r\rReading package lists... 94%\r\rReading package lists... 98%\r\rReading package lists... 98%\r\rReading package lists... 98%\r\rReading package lists... 98%\r\rReading package lists... Done\r\n",
            "\rBuilding dependency tree... 0%\r\rBuilding dependency tree... 0%\r\rBuilding dependency tree... 50%\r\rBuilding dependency tree... 50%\r\rBuilding dependency tree... 94%\r\rBuilding dependency tree       \r\n",
            "\rReading state information... 0%\r\rReading state information... 0%\r\rReading state information... Done\r\n",
            "dvipng is already the newest version (1.15-1).\n",
            "texlive-fonts-recommended is already the newest version (2017.20180305-1).\n",
            "The following additional packages will be installed:\n",
            "  fonts-lato libruby2.5 preview-latex-style rake ruby ruby-did-you-mean\n",
            "  ruby-minitest ruby-net-telnet ruby-power-assert ruby-test-unit ruby2.5\n",
            "  rubygems-integration texlive-pictures texlive-plain-generic\n",
            "Suggested packages:\n",
            "  ri ruby-dev bundler python-pygments icc-profiles libfile-which-perl\n",
            "  libspreadsheet-parseexcel-perl texlive-latex-extra-doc dot2tex prerex\n",
            "  ruby-tcltk | libtcltk-ruby texlive-pictures-doc vprerex\n",
            "The following NEW packages will be installed:\n",
            "  fonts-lato libruby2.5 preview-latex-style rake ruby ruby-did-you-mean\n",
            "  ruby-minitest ruby-net-telnet ruby-power-assert ruby-test-unit ruby2.5\n",
            "  rubygems-integration texlive-latex-extra texlive-pictures\n",
            "  texlive-plain-generic\n",
            "0 upgraded, 15 newly installed, 0 to remove and 25 not upgraded.\n",
            "Need to get 44.4 MB of archives.\n",
            "After this operation, 152 MB of additional disk space will be used.\n",
            "\r0% [Working]\r            \rGet:1 http://archive.ubuntu.com/ubuntu bionic/main amd64 fonts-lato all 2.0-2 [2,698 kB]\n",
            "\r0% [1 fonts-lato 0 B/2,698 kB 0%]\r1% [1 fonts-lato 537 kB/2,698 kB 20%]\r                                     \r6% [Working]\r            \rGet:2 http://archive.ubuntu.com/ubuntu bionic/main amd64 rubygems-integration all 1.11 [4,994 B]\n",
            "\r6% [2 rubygems-integration 0 B/4,994 B 0%]\r                                          \r8% [Working]\r            \rGet:3 http://archive.ubuntu.com/ubuntu bionic-updates/main amd64 ruby2.5 amd64 2.5.1-1ubuntu1.6 [48.6 kB]\n",
            "\r8% [3 ruby2.5 0 B/48.6 kB 0%]\r                             \r9% [Working]\r            \rGet:4 http://archive.ubuntu.com/ubuntu bionic/main amd64 ruby amd64 1:2.5.1 [5,712 B]\n",
            "\r9% [4 ruby 0 B/5,712 B 0%]\r                          \r10% [Working]\r             \rGet:5 http://archive.ubuntu.com/ubuntu bionic-updates/main amd64 rake all 12.3.1-1ubuntu0.1 [44.9 kB]\n",
            "\r10% [5 rake 0 B/44.9 kB 0%]\r                           \r12% [Working]\r             \rGet:6 http://archive.ubuntu.com/ubuntu bionic/main amd64 ruby-did-you-mean all 1.2.0-2 [9,700 B]\n",
            "Get:7 http://archive.ubuntu.com/ubuntu bionic/main amd64 ruby-minitest all 5.10.3-1 [38.6 kB]\n",
            "Get:8 http://archive.ubuntu.com/ubuntu bionic/main amd64 ruby-net-telnet all 0.1.1-2 [12.6 kB]\n",
            "Get:9 http://archive.ubuntu.com/ubuntu bionic/main amd64 ruby-power-assert all 0.3.0-1 [7,952 B]\n",
            "Get:10 http://archive.ubuntu.com/ubuntu bionic/main amd64 ruby-test-unit all 3.2.5-1 [61.1 kB]\n",
            "Get:11 http://archive.ubuntu.com/ubuntu bionic-updates/main amd64 libruby2.5 amd64 2.5.1-1ubuntu1.6 [3,069 kB]\n",
            "Get:12 http://archive.ubuntu.com/ubuntu bionic/main amd64 preview-latex-style all 11.91-1ubuntu1 [185 kB]\n",
            "Get:13 http://archive.ubuntu.com/ubuntu bionic/universe amd64 texlive-pictures all 2017.20180305-1 [4,026 kB]\n",
            "Get:14 http://archive.ubuntu.com/ubuntu bionic/universe amd64 texlive-latex-extra all 2017.20180305-2 [10.6 MB]\n",
            "Get:15 http://archive.ubuntu.com/ubuntu bionic/universe amd64 texlive-plain-generic all 2017.20180305-2 [23.6 MB]\n",
            "Fetched 44.4 MB in 2s (19.6 MB/s)\n",
            "debconf: unable to initialize frontend: Dialog\n",
            "debconf: (No usable dialog-like program is installed, so the dialog based frontend cannot be used. at /usr/share/perl5/Debconf/FrontEnd/Dialog.pm line 76, <> line 15.)\n",
            "debconf: falling back to frontend: Readline\n",
            "debconf: unable to initialize frontend: Readline\n",
            "debconf: (This frontend requires a controlling tty.)\n",
            "debconf: falling back to frontend: Teletype\n",
            "dpkg-preconfigure: unable to re-open stdin: \n",
            "Selecting previously unselected package fonts-lato.\n",
            "(Reading database ... 146955 files and directories currently installed.)\n",
            "Preparing to unpack .../00-fonts-lato_2.0-2_all.deb ...\n",
            "Unpacking fonts-lato (2.0-2) ...\n",
            "Selecting previously unselected package rubygems-integration.\n",
            "Preparing to unpack .../01-rubygems-integration_1.11_all.deb ...\n",
            "Unpacking rubygems-integration (1.11) ...\n",
            "Selecting previously unselected package ruby2.5.\n",
            "Preparing to unpack .../02-ruby2.5_2.5.1-1ubuntu1.6_amd64.deb ...\n",
            "Unpacking ruby2.5 (2.5.1-1ubuntu1.6) ...\n",
            "Selecting previously unselected package ruby.\n",
            "Preparing to unpack .../03-ruby_1%3a2.5.1_amd64.deb ...\n",
            "Unpacking ruby (1:2.5.1) ...\n",
            "Selecting previously unselected package rake.\n",
            "Preparing to unpack .../04-rake_12.3.1-1ubuntu0.1_all.deb ...\n",
            "Unpacking rake (12.3.1-1ubuntu0.1) ...\n",
            "Selecting previously unselected package ruby-did-you-mean.\n",
            "Preparing to unpack .../05-ruby-did-you-mean_1.2.0-2_all.deb ...\n",
            "Unpacking ruby-did-you-mean (1.2.0-2) ...\n",
            "Selecting previously unselected package ruby-minitest.\n",
            "Preparing to unpack .../06-ruby-minitest_5.10.3-1_all.deb ...\n",
            "Unpacking ruby-minitest (5.10.3-1) ...\n",
            "Selecting previously unselected package ruby-net-telnet.\n",
            "Preparing to unpack .../07-ruby-net-telnet_0.1.1-2_all.deb ...\n",
            "Unpacking ruby-net-telnet (0.1.1-2) ...\n",
            "Selecting previously unselected package ruby-power-assert.\n",
            "Preparing to unpack .../08-ruby-power-assert_0.3.0-1_all.deb ...\n",
            "Unpacking ruby-power-assert (0.3.0-1) ...\n",
            "Selecting previously unselected package ruby-test-unit.\n",
            "Preparing to unpack .../09-ruby-test-unit_3.2.5-1_all.deb ...\n",
            "Unpacking ruby-test-unit (3.2.5-1) ...\n",
            "Selecting previously unselected package libruby2.5:amd64.\n",
            "Preparing to unpack .../10-libruby2.5_2.5.1-1ubuntu1.6_amd64.deb ...\n",
            "Unpacking libruby2.5:amd64 (2.5.1-1ubuntu1.6) ...\n",
            "Selecting previously unselected package preview-latex-style.\n",
            "Preparing to unpack .../11-preview-latex-style_11.91-1ubuntu1_all.deb ...\n",
            "Unpacking preview-latex-style (11.91-1ubuntu1) ...\n",
            "Selecting previously unselected package texlive-pictures.\n",
            "Preparing to unpack .../12-texlive-pictures_2017.20180305-1_all.deb ...\n",
            "Unpacking texlive-pictures (2017.20180305-1) ...\n",
            "Selecting previously unselected package texlive-latex-extra.\n",
            "Preparing to unpack .../13-texlive-latex-extra_2017.20180305-2_all.deb ...\n",
            "Unpacking texlive-latex-extra (2017.20180305-2) ...\n",
            "Selecting previously unselected package texlive-plain-generic.\n",
            "Preparing to unpack .../14-texlive-plain-generic_2017.20180305-2_all.deb ...\n",
            "Unpacking texlive-plain-generic (2017.20180305-2) ...\n",
            "Setting up texlive-pictures (2017.20180305-1) ...\n",
            "Setting up preview-latex-style (11.91-1ubuntu1) ...\n",
            "Setting up fonts-lato (2.0-2) ...\n",
            "Setting up ruby-did-you-mean (1.2.0-2) ...\n",
            "Setting up ruby-net-telnet (0.1.1-2) ...\n",
            "Setting up rubygems-integration (1.11) ...\n",
            "Setting up texlive-plain-generic (2017.20180305-2) ...\n",
            "Setting up ruby-minitest (5.10.3-1) ...\n",
            "Setting up ruby-power-assert (0.3.0-1) ...\n",
            "Setting up texlive-latex-extra (2017.20180305-2) ...\n",
            "Setting up ruby-test-unit (3.2.5-1) ...\n",
            "Setting up libruby2.5:amd64 (2.5.1-1ubuntu1.6) ...\n",
            "Setting up ruby2.5 (2.5.1-1ubuntu1.6) ...\n",
            "Setting up ruby (1:2.5.1) ...\n",
            "Setting up rake (12.3.1-1ubuntu0.1) ...\n",
            "Processing triggers for libc-bin (2.27-3ubuntu1) ...\n",
            "/sbin/ldconfig.real: /usr/local/lib/python3.6/dist-packages/ideep4py/lib/libmkldnn.so.0 is not a symbolic link\n",
            "\n",
            "Processing triggers for man-db (2.8.3-2ubuntu0.1) ...\n",
            "Processing triggers for fontconfig (2.12.6-0ubuntu2) ...\n",
            "Processing triggers for tex-common (6.09) ...\n",
            "debconf: unable to initialize frontend: Dialog\n",
            "debconf: (No usable dialog-like program is installed, so the dialog based frontend cannot be used. at /usr/share/perl5/Debconf/FrontEnd/Dialog.pm line 76.)\n",
            "debconf: falling back to frontend: Readline\n",
            "Running mktexlsr. This may take some time... done.\n",
            "Running updmap-sys. This may take some time... done.\n",
            "Running mktexlsr /var/lib/texmf ... done.\n"
          ],
          "name": "stdout"
        }
      ]
    },
    {
      "cell_type": "markdown",
      "metadata": {
        "id": "SeCQltrqxiVd",
        "colab_type": "text"
      },
      "source": [
        "#Task 1"
      ]
    },
    {
      "cell_type": "markdown",
      "metadata": {
        "id": "6oQ5YAg2rd4U",
        "colab_type": "text"
      },
      "source": [
        "## Create 5 qubits"
      ]
    },
    {
      "cell_type": "code",
      "metadata": {
        "id": "lPjwE29ekIhM",
        "colab_type": "code",
        "outputId": "088efd3f-fbb2-4b66-a290-11539e910060",
        "colab": {
          "base_uri": "https://localhost:8080/",
          "height": 52
        }
      },
      "source": [
        "#task 1 \n",
        "\n",
        "num_q = 5\n",
        "\n",
        "circuit = cirq.Circuit()\n",
        "\n",
        "#create the 5x5 grid of qubits\n",
        "#However, on second though, let's just stick with a 1d array\n",
        "physical_qubits = [cirq.LineQubit(i) for i in range(num_q)]\n",
        "\"\"\"\n",
        "for i in range(num_q):\n",
        "  curr_q = cirq.GridQubit(i,i+1)\n",
        "  physical_qubits.append(curr_q)\n",
        "\n",
        "\"\"\"\n",
        "\n",
        "#add (0,4) qubit\n",
        "#physical_qubits.append(cirq.GridQubit(0,4))\n",
        "\n",
        "print('Physical Qubits for this assignment:')\n",
        "print(physical_qubits)"
      ],
      "execution_count": 3,
      "outputs": [
        {
          "output_type": "stream",
          "text": [
            "Physical Qubits for this assignment:\n",
            "[cirq.LineQubit(0), cirq.LineQubit(1), cirq.LineQubit(2), cirq.LineQubit(3), cirq.LineQubit(4)]\n"
          ],
          "name": "stdout"
        }
      ]
    },
    {
      "cell_type": "markdown",
      "metadata": {
        "id": "8bmYhtAmrkt6",
        "colab_type": "text"
      },
      "source": [
        "## Develop Hadamard Layer : apply Hadamard operation on every qubit"
      ]
    },
    {
      "cell_type": "code",
      "metadata": {
        "id": "RaZj-qF_kM-q",
        "colab_type": "code",
        "outputId": "d97aa816-9fc2-4018-c858-ce762cb3269b",
        "colab": {
          "base_uri": "https://localhost:8080/",
          "height": 305
        }
      },
      "source": [
        "#execute operations \n",
        "\n",
        "#this defines the hadamard layer\n",
        "\n",
        "#Apply Hadamard operation on every qubit\n",
        "def hadamard_layer(q):\n",
        "  #go through the available qubits present on the physical qubit list\n",
        "  #and operate a Hadamard get on a given qubit\n",
        "  for j in q:\n",
        "    yield cirq.H(j)\n",
        "\n",
        "#create layer on circuit\n",
        "circuit.append(hadamard_layer(physical_qubits))\n",
        "print('Circuit with the one Hadamard Layer:')\n",
        "#print(circuit)\n",
        "SVGCircuit(circuit)"
      ],
      "execution_count": 4,
      "outputs": [
        {
          "output_type": "stream",
          "text": [
            "findfont: Font family ['Arial'] not found. Falling back to DejaVu Sans.\n"
          ],
          "name": "stderr"
        },
        {
          "output_type": "stream",
          "text": [
            "Circuit with the one Hadamard Layer:\n"
          ],
          "name": "stdout"
        },
        {
          "output_type": "execute_result",
          "data": {
            "text/plain": [
              "<cirq.contrib.svg.svg.SVGCircuit at 0x7fed0e119ef0>"
            ],
            "image/svg+xml": "<svg xmlns=\"http://www.w3.org/2000/svg\" width=\"160.0\" height=\"250.0\"><line x1=\"30.0\" x2=\"130.0\" y1=\"25.0\" y2=\"25.0\" stroke=\"#1967d2\" stroke-width=\"1\" /><line x1=\"30.0\" x2=\"130.0\" y1=\"75.0\" y2=\"75.0\" stroke=\"#1967d2\" stroke-width=\"1\" /><line x1=\"30.0\" x2=\"130.0\" y1=\"125.0\" y2=\"125.0\" stroke=\"#1967d2\" stroke-width=\"1\" /><line x1=\"30.0\" x2=\"130.0\" y1=\"175.0\" y2=\"175.0\" stroke=\"#1967d2\" stroke-width=\"1\" /><line x1=\"30.0\" x2=\"130.0\" y1=\"225.0\" y2=\"225.0\" stroke=\"#1967d2\" stroke-width=\"1\" /><rect x=\"10.0\" y=\"5.0\" width=\"40\" height=\"40\" stroke=\"black\" fill=\"white\" stroke-width=\"0\" /><text x=\"30.0\" y=\"25.0\" dominant-baseline=\"middle\" text-anchor=\"middle\" font-size=\"14px\">0: </text><rect x=\"10.0\" y=\"55.0\" width=\"40\" height=\"40\" stroke=\"black\" fill=\"white\" stroke-width=\"0\" /><text x=\"30.0\" y=\"75.0\" dominant-baseline=\"middle\" text-anchor=\"middle\" font-size=\"14px\">1: </text><rect x=\"10.0\" y=\"105.0\" width=\"40\" height=\"40\" stroke=\"black\" fill=\"white\" stroke-width=\"0\" /><text x=\"30.0\" y=\"125.0\" dominant-baseline=\"middle\" text-anchor=\"middle\" font-size=\"14px\">2: </text><rect x=\"10.0\" y=\"155.0\" width=\"40\" height=\"40\" stroke=\"black\" fill=\"white\" stroke-width=\"0\" /><text x=\"30.0\" y=\"175.0\" dominant-baseline=\"middle\" text-anchor=\"middle\" font-size=\"14px\">3: </text><rect x=\"10.0\" y=\"205.0\" width=\"40\" height=\"40\" stroke=\"black\" fill=\"white\" stroke-width=\"0\" /><text x=\"30.0\" y=\"225.0\" dominant-baseline=\"middle\" text-anchor=\"middle\" font-size=\"14px\">4: </text><rect x=\"70.0\" y=\"5.0\" width=\"40\" height=\"40\" stroke=\"black\" fill=\"white\" stroke-width=\"1\" /><text x=\"90.0\" y=\"25.0\" dominant-baseline=\"middle\" text-anchor=\"middle\" font-size=\"18px\">H</text><rect x=\"70.0\" y=\"55.0\" width=\"40\" height=\"40\" stroke=\"black\" fill=\"white\" stroke-width=\"1\" /><text x=\"90.0\" y=\"75.0\" dominant-baseline=\"middle\" text-anchor=\"middle\" font-size=\"18px\">H</text><rect x=\"70.0\" y=\"105.0\" width=\"40\" height=\"40\" stroke=\"black\" fill=\"white\" stroke-width=\"1\" /><text x=\"90.0\" y=\"125.0\" dominant-baseline=\"middle\" text-anchor=\"middle\" font-size=\"18px\">H</text><rect x=\"70.0\" y=\"155.0\" width=\"40\" height=\"40\" stroke=\"black\" fill=\"white\" stroke-width=\"1\" /><text x=\"90.0\" y=\"175.0\" dominant-baseline=\"middle\" text-anchor=\"middle\" font-size=\"18px\">H</text><rect x=\"70.0\" y=\"205.0\" width=\"40\" height=\"40\" stroke=\"black\" fill=\"white\" stroke-width=\"1\" /><text x=\"90.0\" y=\"225.0\" dominant-baseline=\"middle\" text-anchor=\"middle\" font-size=\"18px\">H</text></svg>"
          },
          "metadata": {
            "tags": []
          },
          "execution_count": 4
        }
      ]
    },
    {
      "cell_type": "markdown",
      "metadata": {
        "id": "GPqkg9KLrrhb",
        "colab_type": "text"
      },
      "source": [
        "##Develop CNOT Layer: apply CNOT operation on (0, 1), (1,2), (2,3), (3,4)"
      ]
    },
    {
      "cell_type": "code",
      "metadata": {
        "id": "aPMVw1K4rsW6",
        "colab_type": "code",
        "outputId": "de82c096-e849-40bc-c3d9-2df93337c5ff",
        "colab": {
          "base_uri": "https://localhost:8080/",
          "height": 288
        }
      },
      "source": [
        "#Apply CNOT operation on (0, 1), (1,2), (2,3), (3,4)\n",
        "def cnot_layer(q, num_qubits):\n",
        "  #go through the available qubits in this circuit\n",
        "  #and operate a CNOT gate as intended by this task\n",
        "  for i in range(num_qubits-1):\n",
        "    #print(i,i+1)\n",
        "    #print(q[i], q[i+1])\n",
        "    yield cirq.CNOT(q[i],q[i+1])\n",
        "\n",
        "print('Adding CNOT Gates:')\n",
        "circuit.append(cnot_layer(physical_qubits, num_q))\n",
        "SVGCircuit(circuit)"
      ],
      "execution_count": 5,
      "outputs": [
        {
          "output_type": "stream",
          "text": [
            "Adding CNOT Gates:\n"
          ],
          "name": "stdout"
        },
        {
          "output_type": "execute_result",
          "data": {
            "text/plain": [
              "<cirq.contrib.svg.svg.SVGCircuit at 0x7fed0e11e390>"
            ],
            "image/svg+xml": "<svg xmlns=\"http://www.w3.org/2000/svg\" width=\"400.0\" height=\"250.0\"><line x1=\"30.0\" x2=\"370.0\" y1=\"25.0\" y2=\"25.0\" stroke=\"#1967d2\" stroke-width=\"1\" /><line x1=\"30.0\" x2=\"370.0\" y1=\"75.0\" y2=\"75.0\" stroke=\"#1967d2\" stroke-width=\"1\" /><line x1=\"30.0\" x2=\"370.0\" y1=\"125.0\" y2=\"125.0\" stroke=\"#1967d2\" stroke-width=\"1\" /><line x1=\"30.0\" x2=\"370.0\" y1=\"175.0\" y2=\"175.0\" stroke=\"#1967d2\" stroke-width=\"1\" /><line x1=\"30.0\" x2=\"370.0\" y1=\"225.0\" y2=\"225.0\" stroke=\"#1967d2\" stroke-width=\"1\" /><line x1=\"150.0\" x2=\"150.0\" y1=\"25.0\" y2=\"75.0\" stroke=\"black\" stroke-width=\"3\" /><line x1=\"210.0\" x2=\"210.0\" y1=\"75.0\" y2=\"125.0\" stroke=\"black\" stroke-width=\"3\" /><line x1=\"270.0\" x2=\"270.0\" y1=\"125.0\" y2=\"175.0\" stroke=\"black\" stroke-width=\"3\" /><line x1=\"330.0\" x2=\"330.0\" y1=\"175.0\" y2=\"225.0\" stroke=\"black\" stroke-width=\"3\" /><rect x=\"10.0\" y=\"5.0\" width=\"40\" height=\"40\" stroke=\"black\" fill=\"white\" stroke-width=\"0\" /><text x=\"30.0\" y=\"25.0\" dominant-baseline=\"middle\" text-anchor=\"middle\" font-size=\"14px\">0: </text><rect x=\"10.0\" y=\"55.0\" width=\"40\" height=\"40\" stroke=\"black\" fill=\"white\" stroke-width=\"0\" /><text x=\"30.0\" y=\"75.0\" dominant-baseline=\"middle\" text-anchor=\"middle\" font-size=\"14px\">1: </text><rect x=\"10.0\" y=\"105.0\" width=\"40\" height=\"40\" stroke=\"black\" fill=\"white\" stroke-width=\"0\" /><text x=\"30.0\" y=\"125.0\" dominant-baseline=\"middle\" text-anchor=\"middle\" font-size=\"14px\">2: </text><rect x=\"10.0\" y=\"155.0\" width=\"40\" height=\"40\" stroke=\"black\" fill=\"white\" stroke-width=\"0\" /><text x=\"30.0\" y=\"175.0\" dominant-baseline=\"middle\" text-anchor=\"middle\" font-size=\"14px\">3: </text><rect x=\"10.0\" y=\"205.0\" width=\"40\" height=\"40\" stroke=\"black\" fill=\"white\" stroke-width=\"0\" /><text x=\"30.0\" y=\"225.0\" dominant-baseline=\"middle\" text-anchor=\"middle\" font-size=\"14px\">4: </text><rect x=\"70.0\" y=\"5.0\" width=\"40\" height=\"40\" stroke=\"black\" fill=\"white\" stroke-width=\"1\" /><text x=\"90.0\" y=\"25.0\" dominant-baseline=\"middle\" text-anchor=\"middle\" font-size=\"18px\">H</text><rect x=\"70.0\" y=\"55.0\" width=\"40\" height=\"40\" stroke=\"black\" fill=\"white\" stroke-width=\"1\" /><text x=\"90.0\" y=\"75.0\" dominant-baseline=\"middle\" text-anchor=\"middle\" font-size=\"18px\">H</text><rect x=\"70.0\" y=\"105.0\" width=\"40\" height=\"40\" stroke=\"black\" fill=\"white\" stroke-width=\"1\" /><text x=\"90.0\" y=\"125.0\" dominant-baseline=\"middle\" text-anchor=\"middle\" font-size=\"18px\">H</text><rect x=\"70.0\" y=\"155.0\" width=\"40\" height=\"40\" stroke=\"black\" fill=\"white\" stroke-width=\"1\" /><text x=\"90.0\" y=\"175.0\" dominant-baseline=\"middle\" text-anchor=\"middle\" font-size=\"18px\">H</text><rect x=\"70.0\" y=\"205.0\" width=\"40\" height=\"40\" stroke=\"black\" fill=\"white\" stroke-width=\"1\" /><text x=\"90.0\" y=\"225.0\" dominant-baseline=\"middle\" text-anchor=\"middle\" font-size=\"18px\">H</text><circle cx=\"150.0\" cy=\"25.0\" r=\"10.0\" /><rect x=\"130.0\" y=\"55.0\" width=\"40\" height=\"40\" stroke=\"black\" fill=\"white\" stroke-width=\"1\" /><text x=\"150.0\" y=\"75.0\" dominant-baseline=\"middle\" text-anchor=\"middle\" font-size=\"18px\">X</text><circle cx=\"210.0\" cy=\"75.0\" r=\"10.0\" /><rect x=\"190.0\" y=\"105.0\" width=\"40\" height=\"40\" stroke=\"black\" fill=\"white\" stroke-width=\"1\" /><text x=\"210.0\" y=\"125.0\" dominant-baseline=\"middle\" text-anchor=\"middle\" font-size=\"18px\">X</text><circle cx=\"270.0\" cy=\"125.0\" r=\"10.0\" /><rect x=\"250.0\" y=\"155.0\" width=\"40\" height=\"40\" stroke=\"black\" fill=\"white\" stroke-width=\"1\" /><text x=\"270.0\" y=\"175.0\" dominant-baseline=\"middle\" text-anchor=\"middle\" font-size=\"18px\">X</text><circle cx=\"330.0\" cy=\"175.0\" r=\"10.0\" /><rect x=\"310.0\" y=\"205.0\" width=\"40\" height=\"40\" stroke=\"black\" fill=\"white\" stroke-width=\"1\" /><text x=\"330.0\" y=\"225.0\" dominant-baseline=\"middle\" text-anchor=\"middle\" font-size=\"18px\">X</text></svg>"
          },
          "metadata": {
            "tags": []
          },
          "execution_count": 5
        }
      ]
    },
    {
      "cell_type": "markdown",
      "metadata": {
        "id": "bE5cP_72sGhU",
        "colab_type": "text"
      },
      "source": [
        "## SWAP Operation on Qubit Pair (0, 4)"
      ]
    },
    {
      "cell_type": "code",
      "metadata": {
        "id": "yepHx8fXnjc9",
        "colab_type": "code",
        "outputId": "80fbe267-2ca0-4452-b1a5-c2566f4e3982",
        "colab": {
          "base_uri": "https://localhost:8080/",
          "height": 288
        }
      },
      "source": [
        "circuit.append(cirq.SWAP(physical_qubits[0], physical_qubits[-1]))\n",
        "print('Adding SWAP Operation:')\n",
        "SVGCircuit(circuit)"
      ],
      "execution_count": 6,
      "outputs": [
        {
          "output_type": "stream",
          "text": [
            "Adding SWAP Operation:\n"
          ],
          "name": "stdout"
        },
        {
          "output_type": "execute_result",
          "data": {
            "text/plain": [
              "<cirq.contrib.svg.svg.SVGCircuit at 0x7fed019cb780>"
            ],
            "image/svg+xml": "<svg xmlns=\"http://www.w3.org/2000/svg\" width=\"460.0\" height=\"250.0\"><line x1=\"30.0\" x2=\"430.0\" y1=\"25.0\" y2=\"25.0\" stroke=\"#1967d2\" stroke-width=\"1\" /><line x1=\"30.0\" x2=\"430.0\" y1=\"75.0\" y2=\"75.0\" stroke=\"#1967d2\" stroke-width=\"1\" /><line x1=\"30.0\" x2=\"430.0\" y1=\"125.0\" y2=\"125.0\" stroke=\"#1967d2\" stroke-width=\"1\" /><line x1=\"30.0\" x2=\"430.0\" y1=\"175.0\" y2=\"175.0\" stroke=\"#1967d2\" stroke-width=\"1\" /><line x1=\"30.0\" x2=\"430.0\" y1=\"225.0\" y2=\"225.0\" stroke=\"#1967d2\" stroke-width=\"1\" /><line x1=\"150.0\" x2=\"150.0\" y1=\"25.0\" y2=\"75.0\" stroke=\"black\" stroke-width=\"3\" /><line x1=\"210.0\" x2=\"210.0\" y1=\"75.0\" y2=\"125.0\" stroke=\"black\" stroke-width=\"3\" /><line x1=\"270.0\" x2=\"270.0\" y1=\"125.0\" y2=\"175.0\" stroke=\"black\" stroke-width=\"3\" /><line x1=\"330.0\" x2=\"330.0\" y1=\"175.0\" y2=\"225.0\" stroke=\"black\" stroke-width=\"3\" /><line x1=\"390.0\" x2=\"390.0\" y1=\"25.0\" y2=\"225.0\" stroke=\"black\" stroke-width=\"3\" /><rect x=\"10.0\" y=\"5.0\" width=\"40\" height=\"40\" stroke=\"black\" fill=\"white\" stroke-width=\"0\" /><text x=\"30.0\" y=\"25.0\" dominant-baseline=\"middle\" text-anchor=\"middle\" font-size=\"14px\">0: </text><rect x=\"10.0\" y=\"55.0\" width=\"40\" height=\"40\" stroke=\"black\" fill=\"white\" stroke-width=\"0\" /><text x=\"30.0\" y=\"75.0\" dominant-baseline=\"middle\" text-anchor=\"middle\" font-size=\"14px\">1: </text><rect x=\"10.0\" y=\"105.0\" width=\"40\" height=\"40\" stroke=\"black\" fill=\"white\" stroke-width=\"0\" /><text x=\"30.0\" y=\"125.0\" dominant-baseline=\"middle\" text-anchor=\"middle\" font-size=\"14px\">2: </text><rect x=\"10.0\" y=\"155.0\" width=\"40\" height=\"40\" stroke=\"black\" fill=\"white\" stroke-width=\"0\" /><text x=\"30.0\" y=\"175.0\" dominant-baseline=\"middle\" text-anchor=\"middle\" font-size=\"14px\">3: </text><rect x=\"10.0\" y=\"205.0\" width=\"40\" height=\"40\" stroke=\"black\" fill=\"white\" stroke-width=\"0\" /><text x=\"30.0\" y=\"225.0\" dominant-baseline=\"middle\" text-anchor=\"middle\" font-size=\"14px\">4: </text><rect x=\"70.0\" y=\"5.0\" width=\"40\" height=\"40\" stroke=\"black\" fill=\"white\" stroke-width=\"1\" /><text x=\"90.0\" y=\"25.0\" dominant-baseline=\"middle\" text-anchor=\"middle\" font-size=\"18px\">H</text><rect x=\"70.0\" y=\"55.0\" width=\"40\" height=\"40\" stroke=\"black\" fill=\"white\" stroke-width=\"1\" /><text x=\"90.0\" y=\"75.0\" dominant-baseline=\"middle\" text-anchor=\"middle\" font-size=\"18px\">H</text><rect x=\"70.0\" y=\"105.0\" width=\"40\" height=\"40\" stroke=\"black\" fill=\"white\" stroke-width=\"1\" /><text x=\"90.0\" y=\"125.0\" dominant-baseline=\"middle\" text-anchor=\"middle\" font-size=\"18px\">H</text><rect x=\"70.0\" y=\"155.0\" width=\"40\" height=\"40\" stroke=\"black\" fill=\"white\" stroke-width=\"1\" /><text x=\"90.0\" y=\"175.0\" dominant-baseline=\"middle\" text-anchor=\"middle\" font-size=\"18px\">H</text><rect x=\"70.0\" y=\"205.0\" width=\"40\" height=\"40\" stroke=\"black\" fill=\"white\" stroke-width=\"1\" /><text x=\"90.0\" y=\"225.0\" dominant-baseline=\"middle\" text-anchor=\"middle\" font-size=\"18px\">H</text><circle cx=\"150.0\" cy=\"25.0\" r=\"10.0\" /><rect x=\"130.0\" y=\"55.0\" width=\"40\" height=\"40\" stroke=\"black\" fill=\"white\" stroke-width=\"1\" /><text x=\"150.0\" y=\"75.0\" dominant-baseline=\"middle\" text-anchor=\"middle\" font-size=\"18px\">X</text><circle cx=\"210.0\" cy=\"75.0\" r=\"10.0\" /><rect x=\"190.0\" y=\"105.0\" width=\"40\" height=\"40\" stroke=\"black\" fill=\"white\" stroke-width=\"1\" /><text x=\"210.0\" y=\"125.0\" dominant-baseline=\"middle\" text-anchor=\"middle\" font-size=\"18px\">X</text><circle cx=\"270.0\" cy=\"125.0\" r=\"10.0\" /><rect x=\"250.0\" y=\"155.0\" width=\"40\" height=\"40\" stroke=\"black\" fill=\"white\" stroke-width=\"1\" /><text x=\"270.0\" y=\"175.0\" dominant-baseline=\"middle\" text-anchor=\"middle\" font-size=\"18px\">X</text><circle cx=\"330.0\" cy=\"175.0\" r=\"10.0\" /><rect x=\"310.0\" y=\"205.0\" width=\"40\" height=\"40\" stroke=\"black\" fill=\"white\" stroke-width=\"1\" /><text x=\"330.0\" y=\"225.0\" dominant-baseline=\"middle\" text-anchor=\"middle\" font-size=\"18px\">X</text><text x=\"390.0\" y=\"28.0\" dominant-baseline=\"middle\" text-anchor=\"middle\" font-size=\"40px\">×</text><text x=\"390.0\" y=\"228.0\" dominant-baseline=\"middle\" text-anchor=\"middle\" font-size=\"40px\">×</text></svg>"
          },
          "metadata": {
            "tags": []
          },
          "execution_count": 6
        }
      ]
    },
    {
      "cell_type": "markdown",
      "metadata": {
        "id": "E_4iz_HytHcy",
        "colab_type": "text"
      },
      "source": [
        "##Adding Rotation X with $\\frac{\\pi}{2}$ on gate parameter\n",
        "\n",
        "\n",
        "1.   From the part of this problem it's mentioned ``` cirq.Rx``` rather than ``` cirq.XPowGate ``` so we will stick with the former function.\n",
        "2.  We assume that it's intended to be like the hadamard operation, on all 5 qubits.  \n"
      ]
    },
    {
      "cell_type": "code",
      "metadata": {
        "id": "mY9Fz2uUtG30",
        "colab_type": "code",
        "colab": {}
      },
      "source": [
        "def x_layer(q, x_angle_rads):\n",
        "  gate = cirq.rx(rads=x_angle_rads)\n",
        "  for i in q:\n",
        "    yield gate(i)"
      ],
      "execution_count": 0,
      "outputs": []
    },
    {
      "cell_type": "markdown",
      "metadata": {
        "id": "kYcs3FJ_vXJP",
        "colab_type": "text"
      },
      "source": [
        "##Putting it all together in a circuit wrapper"
      ]
    },
    {
      "cell_type": "code",
      "metadata": {
        "id": "TyDK3qbrvVyZ",
        "colab_type": "code",
        "colab": {}
      },
      "source": [
        "def qmlhep_circuit(num_phy_qubits, xparam_angle):\n",
        "  c = cirq.Circuit()\n",
        "  q = [cirq.LineQubit(i) for i in range(num_phy_qubits)]\n",
        "\n",
        "  #hadamard operation\n",
        "  h_layer = hadamard_layer(q)\n",
        "  c.append(h_layer)\n",
        "  \n",
        "  #add cnot operation\n",
        "  cx_ops = cnot_layer(q,num_phy_qubits)\n",
        "  c.append(cx_ops)\n",
        "\n",
        "  #add swap operation on first and last qubits\n",
        "  c.append(cirq.SWAP(q[0], q[-1]))\n",
        "\n",
        "  #then add x layer \n",
        "  c.append(x_layer(q,xparam_angle), strategy=InsertStrategy.NEW_THEN_INLINE)\n",
        "  return c"
      ],
      "execution_count": 0,
      "outputs": []
    },
    {
      "cell_type": "code",
      "metadata": {
        "id": "gVZnJ7eQuv3S",
        "colab_type": "code",
        "outputId": "b9222462-3c30-48e1-a497-74a1cc9df634",
        "colab": {
          "base_uri": "https://localhost:8080/",
          "height": 288
        }
      },
      "source": [
        "print('Completed Circuit:')\n",
        "test = qmlhep_circuit(5, np.pi/2)\n",
        "SVGCircuit(test)"
      ],
      "execution_count": 9,
      "outputs": [
        {
          "output_type": "stream",
          "text": [
            "Completed Circuit:\n"
          ],
          "name": "stdout"
        },
        {
          "output_type": "execute_result",
          "data": {
            "text/plain": [
              "<cirq.contrib.svg.svg.SVGCircuit at 0x7fed019d0278>"
            ],
            "image/svg+xml": "<svg xmlns=\"http://www.w3.org/2000/svg\" width=\"547.05328125\" height=\"250.0\"><line x1=\"30.0\" x2=\"517.05328125\" y1=\"25.0\" y2=\"25.0\" stroke=\"#1967d2\" stroke-width=\"1\" /><line x1=\"30.0\" x2=\"517.05328125\" y1=\"75.0\" y2=\"75.0\" stroke=\"#1967d2\" stroke-width=\"1\" /><line x1=\"30.0\" x2=\"517.05328125\" y1=\"125.0\" y2=\"125.0\" stroke=\"#1967d2\" stroke-width=\"1\" /><line x1=\"30.0\" x2=\"517.05328125\" y1=\"175.0\" y2=\"175.0\" stroke=\"#1967d2\" stroke-width=\"1\" /><line x1=\"30.0\" x2=\"517.05328125\" y1=\"225.0\" y2=\"225.0\" stroke=\"#1967d2\" stroke-width=\"1\" /><line x1=\"150.0\" x2=\"150.0\" y1=\"25.0\" y2=\"75.0\" stroke=\"black\" stroke-width=\"3\" /><line x1=\"210.0\" x2=\"210.0\" y1=\"75.0\" y2=\"125.0\" stroke=\"black\" stroke-width=\"3\" /><line x1=\"270.0\" x2=\"270.0\" y1=\"125.0\" y2=\"175.0\" stroke=\"black\" stroke-width=\"3\" /><line x1=\"330.0\" x2=\"330.0\" y1=\"175.0\" y2=\"225.0\" stroke=\"black\" stroke-width=\"3\" /><line x1=\"390.0\" x2=\"390.0\" y1=\"25.0\" y2=\"225.0\" stroke=\"black\" stroke-width=\"3\" /><rect x=\"10.0\" y=\"5.0\" width=\"40\" height=\"40\" stroke=\"black\" fill=\"white\" stroke-width=\"0\" /><text x=\"30.0\" y=\"25.0\" dominant-baseline=\"middle\" text-anchor=\"middle\" font-size=\"14px\">0: </text><rect x=\"10.0\" y=\"55.0\" width=\"40\" height=\"40\" stroke=\"black\" fill=\"white\" stroke-width=\"0\" /><text x=\"30.0\" y=\"75.0\" dominant-baseline=\"middle\" text-anchor=\"middle\" font-size=\"14px\">1: </text><rect x=\"10.0\" y=\"105.0\" width=\"40\" height=\"40\" stroke=\"black\" fill=\"white\" stroke-width=\"0\" /><text x=\"30.0\" y=\"125.0\" dominant-baseline=\"middle\" text-anchor=\"middle\" font-size=\"14px\">2: </text><rect x=\"10.0\" y=\"155.0\" width=\"40\" height=\"40\" stroke=\"black\" fill=\"white\" stroke-width=\"0\" /><text x=\"30.0\" y=\"175.0\" dominant-baseline=\"middle\" text-anchor=\"middle\" font-size=\"14px\">3: </text><rect x=\"10.0\" y=\"205.0\" width=\"40\" height=\"40\" stroke=\"black\" fill=\"white\" stroke-width=\"0\" /><text x=\"30.0\" y=\"225.0\" dominant-baseline=\"middle\" text-anchor=\"middle\" font-size=\"14px\">4: </text><rect x=\"70.0\" y=\"5.0\" width=\"40\" height=\"40\" stroke=\"black\" fill=\"white\" stroke-width=\"1\" /><text x=\"90.0\" y=\"25.0\" dominant-baseline=\"middle\" text-anchor=\"middle\" font-size=\"18px\">H</text><rect x=\"70.0\" y=\"55.0\" width=\"40\" height=\"40\" stroke=\"black\" fill=\"white\" stroke-width=\"1\" /><text x=\"90.0\" y=\"75.0\" dominant-baseline=\"middle\" text-anchor=\"middle\" font-size=\"18px\">H</text><rect x=\"70.0\" y=\"105.0\" width=\"40\" height=\"40\" stroke=\"black\" fill=\"white\" stroke-width=\"1\" /><text x=\"90.0\" y=\"125.0\" dominant-baseline=\"middle\" text-anchor=\"middle\" font-size=\"18px\">H</text><rect x=\"70.0\" y=\"155.0\" width=\"40\" height=\"40\" stroke=\"black\" fill=\"white\" stroke-width=\"1\" /><text x=\"90.0\" y=\"175.0\" dominant-baseline=\"middle\" text-anchor=\"middle\" font-size=\"18px\">H</text><rect x=\"70.0\" y=\"205.0\" width=\"40\" height=\"40\" stroke=\"black\" fill=\"white\" stroke-width=\"1\" /><text x=\"90.0\" y=\"225.0\" dominant-baseline=\"middle\" text-anchor=\"middle\" font-size=\"18px\">H</text><circle cx=\"150.0\" cy=\"25.0\" r=\"10.0\" /><rect x=\"130.0\" y=\"55.0\" width=\"40\" height=\"40\" stroke=\"black\" fill=\"white\" stroke-width=\"1\" /><text x=\"150.0\" y=\"75.0\" dominant-baseline=\"middle\" text-anchor=\"middle\" font-size=\"18px\">X</text><circle cx=\"210.0\" cy=\"75.0\" r=\"10.0\" /><rect x=\"190.0\" y=\"105.0\" width=\"40\" height=\"40\" stroke=\"black\" fill=\"white\" stroke-width=\"1\" /><text x=\"210.0\" y=\"125.0\" dominant-baseline=\"middle\" text-anchor=\"middle\" font-size=\"18px\">X</text><circle cx=\"270.0\" cy=\"125.0\" r=\"10.0\" /><rect x=\"250.0\" y=\"155.0\" width=\"40\" height=\"40\" stroke=\"black\" fill=\"white\" stroke-width=\"1\" /><text x=\"270.0\" y=\"175.0\" dominant-baseline=\"middle\" text-anchor=\"middle\" font-size=\"18px\">X</text><circle cx=\"330.0\" cy=\"175.0\" r=\"10.0\" /><rect x=\"310.0\" y=\"205.0\" width=\"40\" height=\"40\" stroke=\"black\" fill=\"white\" stroke-width=\"1\" /><text x=\"330.0\" y=\"225.0\" dominant-baseline=\"middle\" text-anchor=\"middle\" font-size=\"18px\">X</text><text x=\"390.0\" y=\"28.0\" dominant-baseline=\"middle\" text-anchor=\"middle\" font-size=\"40px\">×</text><text x=\"390.0\" y=\"228.0\" dominant-baseline=\"middle\" text-anchor=\"middle\" font-size=\"40px\">×</text><rect x=\"430.0\" y=\"5.0\" width=\"67.05328125\" height=\"40\" stroke=\"black\" fill=\"white\" stroke-width=\"1\" /><text x=\"463.526640625\" y=\"25.0\" dominant-baseline=\"middle\" text-anchor=\"middle\" font-size=\"14px\">Rx(0.5π)</text><rect x=\"430.0\" y=\"55.0\" width=\"67.05328125\" height=\"40\" stroke=\"black\" fill=\"white\" stroke-width=\"1\" /><text x=\"463.526640625\" y=\"75.0\" dominant-baseline=\"middle\" text-anchor=\"middle\" font-size=\"14px\">Rx(0.5π)</text><rect x=\"430.0\" y=\"105.0\" width=\"67.05328125\" height=\"40\" stroke=\"black\" fill=\"white\" stroke-width=\"1\" /><text x=\"463.526640625\" y=\"125.0\" dominant-baseline=\"middle\" text-anchor=\"middle\" font-size=\"14px\">Rx(0.5π)</text><rect x=\"430.0\" y=\"155.0\" width=\"67.05328125\" height=\"40\" stroke=\"black\" fill=\"white\" stroke-width=\"1\" /><text x=\"463.526640625\" y=\"175.0\" dominant-baseline=\"middle\" text-anchor=\"middle\" font-size=\"14px\">Rx(0.5π)</text><rect x=\"430.0\" y=\"205.0\" width=\"67.05328125\" height=\"40\" stroke=\"black\" fill=\"white\" stroke-width=\"1\" /><text x=\"463.526640625\" y=\"225.0\" dominant-baseline=\"middle\" text-anchor=\"middle\" font-size=\"14px\">Rx(0.5π)</text></svg>"
          },
          "metadata": {
            "tags": []
          },
          "execution_count": 9
        }
      ]
    },
    {
      "cell_type": "markdown",
      "metadata": {
        "id": "0JnBZnV3xeLW",
        "colab_type": "text"
      },
      "source": [
        "#Task 2\n",
        "\n",
        "Create a circuit that is a series of small cirq.Rx rotations and plot the probability of measuring the state in the |0⟩ state. For example, for a qubit, at first, you can rotate 0.1 degree, you get one probability of measuring the state in the |0⟩ state; then you rotate another 0.1 degree in addition, you get another probability; then you another 0.1 degree and so on."
      ]
    },
    {
      "cell_type": "markdown",
      "metadata": {
        "id": "ShGWK0a90ESh",
        "colab_type": "text"
      },
      "source": [
        "##Example of what will happen for the one qubit example):"
      ]
    },
    {
      "cell_type": "code",
      "metadata": {
        "id": "wWX2OEXPzBYn",
        "colab_type": "code",
        "outputId": "de36ff47-37f9-47c9-db94-414430abdeb4",
        "colab": {
          "base_uri": "https://localhost:8080/",
          "height": 88
        }
      },
      "source": [
        "#let's start with a simple case, just one qubit, one X gate, and variations\n",
        "\n",
        "c2_circuit = cirq.Circuit()\n",
        "q0 = cirq.LineQubit(0)\n",
        "\n",
        "x_gate = cirq.rz(rads=2*np.pi/4)\n",
        "\n",
        "c2_circuit.append(x_gate(q0))\n",
        "\n",
        "c2_circuit.append(cirq.measure(q0, key='q0'))\n",
        "\n",
        "print('Resulting circuit:')\n",
        "SVGCircuit(c2_circuit)"
      ],
      "execution_count": 10,
      "outputs": [
        {
          "output_type": "stream",
          "text": [
            "Resulting circuit:\n"
          ],
          "name": "stdout"
        },
        {
          "output_type": "execute_result",
          "data": {
            "text/plain": [
              "<cirq.contrib.svg.svg.SVGCircuit at 0x7fed019da470>"
            ],
            "image/svg+xml": "<svg xmlns=\"http://www.w3.org/2000/svg\" width=\"262.034296875\" height=\"50.0\"><line x1=\"30.0\" x2=\"232.034296875\" y1=\"25.0\" y2=\"25.0\" stroke=\"#1967d2\" stroke-width=\"1\" /><rect x=\"10.0\" y=\"5.0\" width=\"40\" height=\"40\" stroke=\"black\" fill=\"white\" stroke-width=\"0\" /><text x=\"30.0\" y=\"25.0\" dominant-baseline=\"middle\" text-anchor=\"middle\" font-size=\"14px\">0: </text><rect x=\"70.0\" y=\"5.0\" width=\"66.1167578125\" height=\"40\" stroke=\"black\" fill=\"white\" stroke-width=\"1\" /><text x=\"103.05837890625\" y=\"25.0\" dominant-baseline=\"middle\" text-anchor=\"middle\" font-size=\"14px\">Rz(0.5π)</text><rect x=\"156.1167578125\" y=\"5.0\" width=\"55.9175390625\" height=\"40\" stroke=\"black\" fill=\"white\" stroke-width=\"1\" /><text x=\"184.07552734375\" y=\"25.0\" dominant-baseline=\"middle\" text-anchor=\"middle\" font-size=\"14px\">M('q0')</text></svg>"
          },
          "metadata": {
            "tags": []
          },
          "execution_count": 10
        }
      ]
    },
    {
      "cell_type": "code",
      "metadata": {
        "id": "COYq3qCCztJZ",
        "colab_type": "code",
        "outputId": "6134ac40-9392-40e1-c850-4fc0edbd0b1f",
        "colab": {
          "base_uri": "https://localhost:8080/",
          "height": 312
        }
      },
      "source": [
        "#let's simulate this circuit \n",
        "\n",
        "simulator = cirq.Simulator()\n",
        "\n",
        "num_reps = 1000\n",
        "\n",
        "result = simulator.run(c2_circuit,repetitions=1000)\n",
        "print('State Population Distribution')\n",
        "cirq.plot_state_histogram(result)"
      ],
      "execution_count": 11,
      "outputs": [
        {
          "output_type": "stream",
          "text": [
            "State Population Distribution\n"
          ],
          "name": "stdout"
        },
        {
          "output_type": "display_data",
          "data": {
            "image/png": "[encoded data removed]",
            "text/plain": [
              "<Figure size 432x288 with 1 Axes>"
            ]
          },
          "metadata": {
            "tags": []
          }
        },
        {
          "output_type": "execute_result",
          "data": {
            "text/plain": [
              "array([1000.,    0.])"
            ]
          },
          "metadata": {
            "tags": []
          },
          "execution_count": 11
        }
      ]
    },
    {
      "cell_type": "markdown",
      "metadata": {
        "id": "rHNXdBzQ0wlZ",
        "colab_type": "text"
      },
      "source": [
        "##Building this example into a circuit that allows for future iterations"
      ]
    },
    {
      "cell_type": "code",
      "metadata": {
        "id": "uhuQET1V0J9Z",
        "colab_type": "code",
        "colab": {}
      },
      "source": [
        "def probe_circuit(xparam):\n",
        "  #this circuit takes the given xparameter\n",
        "  #and builds a circuit with a X rotation to\n",
        "  #that parameter\n",
        "\n",
        "  c = cirq.Circuit()\n",
        "  q = cirq.LineQubit(0)\n",
        "  \n",
        "  rot = cirq.rx(rads=xparam)\n",
        "  c.append(rot(q))\n",
        "\n",
        "  #execute measurement\n",
        "  c.append(cirq.measure(q,key='q0'))\n",
        "  return(c)"
      ],
      "execution_count": 0,
      "outputs": []
    },
    {
      "cell_type": "code",
      "metadata": {
        "id": "ZWe0ukOX0nyz",
        "colab_type": "code",
        "outputId": "ae7af675-af8a-43ad-c5a4-9d6aaa9db076",
        "colab": {
          "base_uri": "https://localhost:8080/",
          "height": 70
        }
      },
      "source": [
        "#testing this code:\n",
        "\n",
        "test_probe = probe_circuit(1)\n",
        "SVGCircuit(test_probe)"
      ],
      "execution_count": 13,
      "outputs": [
        {
          "output_type": "execute_result",
          "data": {
            "text/plain": [
              "<cirq.contrib.svg.svg.SVGCircuit at 0x7fed014c98d0>"
            ],
            "image/svg+xml": "<svg xmlns=\"http://www.w3.org/2000/svg\" width=\"280.7852734375\" height=\"50.0\"><line x1=\"30.0\" x2=\"250.7852734375\" y1=\"25.0\" y2=\"25.0\" stroke=\"#1967d2\" stroke-width=\"1\" /><rect x=\"10.0\" y=\"5.0\" width=\"40\" height=\"40\" stroke=\"black\" fill=\"white\" stroke-width=\"0\" /><text x=\"30.0\" y=\"25.0\" dominant-baseline=\"middle\" text-anchor=\"middle\" font-size=\"14px\">0: </text><rect x=\"70.0\" y=\"5.0\" width=\"84.86773437500001\" height=\"40\" stroke=\"black\" fill=\"white\" stroke-width=\"1\" /><text x=\"112.4338671875\" y=\"25.0\" dominant-baseline=\"middle\" text-anchor=\"middle\" font-size=\"14px\">Rx(0.318π)</text><rect x=\"174.867734375\" y=\"5.0\" width=\"55.9175390625\" height=\"40\" stroke=\"black\" fill=\"white\" stroke-width=\"1\" /><text x=\"202.82650390625\" y=\"25.0\" dominant-baseline=\"middle\" text-anchor=\"middle\" font-size=\"14px\">M('q0')</text></svg>"
          },
          "metadata": {
            "tags": []
          },
          "execution_count": 13
        }
      ]
    },
    {
      "cell_type": "markdown",
      "metadata": {
        "id": "p0JKDytd0-Pa",
        "colab_type": "text"
      },
      "source": [
        "## Develop Code to iterate through angle values"
      ]
    },
    {
      "cell_type": "code",
      "metadata": {
        "id": "WTZufjjG09t7",
        "colab_type": "code",
        "colab": {}
      },
      "source": [
        "angle_arr = np.arange(0,2*np.pi, 0.01)\n",
        "\n",
        "def zero_state_probe(theta_arr, n_rep):\n",
        "  #to keep track of the state population probabilities as circuit\n",
        "  #is variated\n",
        "\n",
        "  prob_zero_ket = []\n",
        "  prob_one_ket = []\n",
        "\n",
        "  #go through each value in the array\n",
        "  #we want to apply as a rotation the qubit\n",
        "  \n",
        "  for theta in theta_arr:\n",
        "    #build the circuit calling probe_circuit\n",
        "    curr_circuit = probe_circuit(theta)\n",
        "    \n",
        "    #call simulator\n",
        "    curr_simulator = cirq.Simulator()\n",
        "\n",
        "    #call the number of repetitions to run on this circuit\n",
        "    curr_results = curr_simulator.run(curr_circuit, repetitions=n_rep)\n",
        "    #cirq.plot_state_histogram(curr_results)\n",
        "    \n",
        "    #this calls the histogram containing the counts for |0> and |1>\n",
        "    #it's in an list so we use index notation to extract the right values\n",
        "    \n",
        "    count_results = curr_results.histogram(key='q0')\n",
        "\n",
        "    #print(count_results)\n",
        "    \n",
        "    prob_one_ket.append(100*np.divide(count_results[1], n_rep))\n",
        "    prob_zero_ket.append(100*np.divide(count_results[0], n_rep))\n",
        "\n",
        "  return(prob_zero_ket, prob_one_ket)\n"
      ],
      "execution_count": 0,
      "outputs": []
    },
    {
      "cell_type": "markdown",
      "metadata": {
        "id": "lzyy2PnV-AaJ",
        "colab_type": "text"
      },
      "source": [
        "## Deploying Probe to Examine $| 0 \\rangle$ state"
      ]
    },
    {
      "cell_type": "code",
      "metadata": {
        "id": "v5gslF1a14m0",
        "colab_type": "code",
        "colab": {}
      },
      "source": [
        "#I made this really large to not make my plot as noisy as it would \n",
        "#be if I would use 1000 reps.\n",
        "\n",
        "num_reps = 10000\n",
        "\n",
        "test_zero_pop = zero_state_probe(angle_arr, num_reps)\n",
        "\n",
        "zero_ket_count = test_zero_pop[0]\n",
        "one_ket_count = test_zero_pop[1]"
      ],
      "execution_count": 0,
      "outputs": []
    },
    {
      "cell_type": "markdown",
      "metadata": {
        "id": "wt66E1IM-XlX",
        "colab_type": "text"
      },
      "source": [
        "## Visualization of $\\theta$ variations on circuit from 0 to $2 \\pi$"
      ]
    },
    {
      "cell_type": "code",
      "metadata": {
        "id": "Evs50rjm3uzi",
        "colab_type": "code",
        "outputId": "3ab22f28-dcdf-4ab2-afae-1a6899c7c6c0",
        "colab": {
          "base_uri": "https://localhost:8080/",
          "height": 780
        }
      },
      "source": [
        "plt.figure(342)\n",
        "\n",
        "plt.figure(figsize=(20,10))  \n",
        "\n",
        "plt.plot(angle_arr,zero_ket_count, label = r'$|0 \\rangle$', color='dodgerblue')\n",
        "plt.plot(angle_arr, one_ket_count,  label = r'$|1 \\rangle$', color='red')\n",
        "\n",
        "\n",
        "plt.legend(loc='best', fontsize=30)\n",
        "plt.tick_params(labelsize=30)\n",
        "\n",
        "plt.ylabel('State Probability \\%', fontsize=30)\n",
        "plt.xlabel(r'$\\theta$ ($\\theta$ rads)', fontsize=30)\n",
        "\n",
        "plt.legend(loc='best', fontsize=30)\n",
        "plt.tick_params(labelsize=30)\n",
        "\n",
        "\n",
        "plt.suptitle(r'Inspection of Circuit as $\\theta$ variates on $X(\\theta)$', fontsize=45)\n",
        "\n",
        "plt.tight_layout()\n",
        "plt.subplots_adjust(top=.9)"
      ],
      "execution_count": 16,
      "outputs": [
        {
          "output_type": "stream",
          "text": [
            "findfont: Font family ['sans-serif'] not found. Falling back to DejaVu Sans.\n"
          ],
          "name": "stderr"
        },
        {
          "output_type": "display_data",
          "data": {
            "text/plain": [
              "<Figure size 432x288 with 0 Axes>"
            ]
          },
          "metadata": {
            "tags": []
          }
        },
        {
          "output_type": "display_data",
          "data": {
            "image/png": "[encoded data removed]",
            "text/plain": [
              "<Figure size 1440x720 with 1 Axes>"
            ]
          },
          "metadata": {
            "tags": []
          }
        }
      ]
    },
    {
      "cell_type": "markdown",
      "metadata": {
        "id": "gJvt22CLY54_",
        "colab_type": "text"
      },
      "source": [
        "#QML on A Simple Circuit \n",
        "\n",
        "It has been shown on Farhi's paper on QNN that you use the readout from a qubit to modify the phase of the gate in question using SGQ. Below, we will illustrate this approach using the following circuit"
      ]
    },
    {
      "cell_type": "code",
      "metadata": {
        "id": "jBHxuRIWadBp",
        "colab_type": "code",
        "colab": {}
      },
      "source": [
        "def probe_circuit_hadamard(xparam):\n",
        "  \"\"\"\n",
        "  this circuit takes the given xparameter\n",
        "  and builds a circuit with a X rotation to\n",
        "  that parameter\n",
        "\n",
        "  We add Hadamard Layers in between the operation of interest\n",
        "  \"\"\"\n",
        "  c = cirq.Circuit()\n",
        "  q = cirq.LineQubit(0)\n",
        "  #c.append(cirq.H(q))\n",
        "  \n",
        "  rot = cirq.XPowGate(exponent=xparam)\n",
        "  c.append(rot(q))\n",
        "\n",
        "  #c.append(cirq.H(q))\n",
        "  #execute measurement\n",
        "  c.append(cirq.measure(q,key='q0'))\n",
        "  return(c)"
      ],
      "execution_count": 0,
      "outputs": []
    },
    {
      "cell_type": "code",
      "metadata": {
        "id": "8RsLYOyeYyUC",
        "colab_type": "code",
        "colab": {}
      },
      "source": [
        "#This is the adam implementation to find quantum label \n",
        "#I borowed this from a previous work on QML \n",
        "\n",
        "def qml_sgd(random_t_parameter, adam_toggle):\n",
        "  \n",
        "  #this list keeps a record of the evolution of phi as optimization searches for\n",
        "  #loss minimum. \n",
        "  weight_arr = []\n",
        "  \n",
        "  #this list keeps track of the loss function as it is being minimized.\n",
        "  loss_arr =[]\n",
        "  \n",
        "  grad_arr =[]\n",
        "  label_arr =[]\n",
        "  \n",
        "  zero_state_arr =[]\n",
        "  one_state_arr =[]\n",
        "  \n",
        "  delta_theta = []\n",
        "  \n",
        "  status = 'not done'\n",
        "  count = 0\n",
        "  \n",
        "  #code to implement Learning Rate Optimization\n",
        "  #We used OpenAI's Adam paper as a reference.\n",
        "  \n",
        "  gradient_moment = 0 \n",
        "  momentum_moment =0\n",
        "  beta_1 = 0.9\n",
        "  beta_2 = 0.999\n",
        "  smoothing_epsilon = 1e-8\n",
        "  learning_rate = 0.01\n",
        "  \n",
        "  while status == 'not done':\n",
        "    count += 1\n",
        "    #get results\n",
        "    #print('current count: ', count)\n",
        "    #print('current weight:', random_t_parameter)\n",
        "    \n",
        "    weight_arr.append(random_t_parameter)\n",
        "    dummy_circuit = probe_circuit_hadamard(random_t_parameter)\n",
        "    \n",
        "    results = simulator.run(dummy_circuit, repetitions=1000)\n",
        "    \n",
        "    count_results = results.histogram(key='q0')\n",
        "    \n",
        "    #normalizing state population by repetition value\n",
        "    zero_state_arr.append(100*count_results[0]/1000)\n",
        "    one_state_arr.append(100*count_results[1]/1000)\n",
        "    \n",
        "    s_k, s_v= zip(*results.measurements.items())\n",
        "  \n",
        "    current_state_values = 1 - 2*np.array(s_v).astype(np.int32)\n",
        "\n",
        "    current_predicted_label_value = np.mean(current_state_values)\n",
        "    label_arr.append(current_predicted_label_value)\n",
        "  \n",
        "    current_loss_value = 1 - np.square(current_predicted_label_value)\n",
        "    print('current loss: ', current_loss_value)\n",
        "    loss_arr.append(current_loss_value)\n",
        "    \n",
        "    current_gradient_value = 2*current_predicted_label_value\n",
        "    grad_arr.append(current_gradient_value)\n",
        "    \n",
        "    current_grad_square = np.square(current_gradient_value)\n",
        "\n",
        "    \n",
        "    if count > 5000:\n",
        "      print('count is way too much!')\n",
        "      status = 'done'\n",
        "      break\n",
        "    \n",
        "    elif np.abs(current_loss_value) < 1e-6:\n",
        "      status = 'done'\n",
        "      print('Done! Final Weight: ',weight_arr[-1])\n",
        "      cirq.plot_state_histogram(results)   \n",
        "\n",
        "    elif adam_toggle == 'on':\n",
        "      #This code updates the moment vector's parameters. \n",
        "      \n",
        "      next_gradient_moment = beta_1*gradient_moment +(1-beta_1)*current_gradient_value\n",
        "      #biased corrected first estimate \n",
        "      \n",
        "      biased_gradient_moment = next_gradient_moment / (1- beta_1**count)\n",
        "      \n",
        "      #swap the value for the next iteration\n",
        "      gradient_moment = next_gradient_moment \n",
        "      \n",
        "      next_momentum_moment = beta_2*momentum_moment + (1-beta_2)*np.square(current_gradient_value)\n",
        "      \n",
        "      #biased corrected first estimate for momentum \n",
        "      biased_momentum_moment = next_momentum_moment / (1 - beta_2**count)\n",
        "      \n",
        "      #another swap\n",
        "      momentum_moment = next_momentum_moment\n",
        "      \n",
        "      #adjust the weights to find optimal parameters \n",
        "      random_t_parameter= random_t_parameter -  learning_rate* biased_gradient_moment / (np.sqrt(biased_momentum_moment) + smoothing_epsilon)\n",
        "    else:\n",
        "      random_t_parameter -= learning_rate*current_loss_value/current_grad_square\n",
        "\n",
        "  return(weight_arr, loss_arr, grad_arr, weight_arr[-1], label_arr, zero_state_arr, one_state_arr)"
      ],
      "execution_count": 0,
      "outputs": []
    },
    {
      "cell_type": "code",
      "metadata": {
        "id": "onu3drUvY4bd",
        "colab_type": "code",
        "colab": {
          "base_uri": "https://localhost:8080/",
          "height": 884
        },
        "outputId": "6701129c-3edb-4282-900e-613b7d04c7e1"
      },
      "source": [
        "xparam = np.random.uniform(0,np.pi)\n",
        "print('parameter: ', xparam)\n",
        "test = qml_sgd(xparam, 'on')"
      ],
      "execution_count": 22,
      "outputs": [
        {
          "output_type": "stream",
          "text": [
            "parameter:  0.3703882887498537\n",
            "current loss:  0.8775000000000001\n",
            "current loss:  0.808156\n",
            "current loss:  0.816816\n",
            "current loss:  0.75\n",
            "current loss:  0.7439640000000001\n",
            "current loss:  0.6908639999999999\n",
            "current loss:  0.6495360000000001\n",
            "current loss:  0.64\n",
            "current loss:  0.637596\n",
            "current loss:  0.595504\n",
            "current loss:  0.470016\n",
            "current loss:  0.49305600000000005\n",
            "current loss:  0.507196\n",
            "current loss:  0.475824\n",
            "current loss:  0.431484\n",
            "current loss:  0.38847599999999993\n",
            "current loss:  0.3471359999999999\n",
            "current loss:  0.3695639999999999\n",
            "current loss:  0.26726400000000006\n",
            "current loss:  0.28089600000000003\n",
            "current loss:  0.26383600000000007\n",
            "current loss:  0.229116\n",
            "current loss:  0.15359999999999996\n",
            "current loss:  0.1239039999999999\n",
            "current loss:  0.15727599999999997\n",
            "current loss:  0.12015600000000015\n",
            "current loss:  0.08606400000000003\n",
            "current loss:  0.0707040000000001\n",
            "current loss:  0.043516\n",
            "current loss:  0.02385599999999999\n",
            "current loss:  0.01990000000000003\n",
            "current loss:  0.011963999999999975\n",
            "current loss:  0.0\n",
            "Done! Final Weight:  0.027382089041616032\n"
          ],
          "name": "stdout"
        },
        {
          "output_type": "display_data",
          "data": {
            "image/png": "[encoded data removed]",
            "text/plain": [
              "<Figure size 432x288 with 1 Axes>"
            ]
          },
          "metadata": {
            "tags": []
          }
        }
      ]
    },
    {
      "cell_type": "code",
      "metadata": {
        "id": "mR2xHGLgg9AU",
        "colab_type": "code",
        "colab": {
          "base_uri": "https://localhost:8080/",
          "height": 1000
        },
        "outputId": "e642c1c8-5336-498e-81fe-6f4e27774cce"
      },
      "source": [
        "test_off = qml_sgd(xparam, 'off')"
      ],
      "execution_count": 24,
      "outputs": [
        {
          "output_type": "stream",
          "text": [
            "current loss:  0.841596\n",
            "current loss:  0.811644\n",
            "current loss:  0.727516\n",
            "current loss:  0.786556\n",
            "current loss:  0.765744\n",
            "current loss:  0.723324\n",
            "current loss:  0.6636\n",
            "current loss:  0.658944\n",
            "current loss:  0.6886359999999999\n",
            "current loss:  0.677376\n",
            "current loss:  0.582684\n",
            "current loss:  0.6056159999999999\n",
            "current loss:  0.6471640000000001\n",
            "current loss:  0.5457239999999999\n",
            "current loss:  0.6155999999999999\n",
            "current loss:  0.585264\n",
            "current loss:  0.6106240000000001\n",
            "current loss:  0.548416\n",
            "current loss:  0.5564439999999999\n",
            "current loss:  0.472924\n",
            "current loss:  0.49873600000000007\n",
            "current loss:  0.5015640000000001\n",
            "current loss:  0.49873600000000007\n",
            "current loss:  0.507196\n",
            "current loss:  0.504384\n",
            "current loss:  0.5015640000000001\n",
            "current loss:  0.5239\n",
            "current loss:  0.47871600000000003\n",
            "current loss:  0.4959\n",
            "current loss:  0.46710000000000007\n",
            "current loss:  0.470016\n",
            "current loss:  0.41935599999999995\n",
            "current loss:  0.431484\n",
            "current loss:  0.4224\n",
            "current loss:  0.39159999999999995\n",
            "current loss:  0.461244\n",
            "current loss:  0.3853439999999999\n",
            "current loss:  0.434496\n",
            "current loss:  0.42846399999999996\n",
            "current loss:  0.34065599999999996\n",
            "current loss:  0.39782399999999996\n",
            "current loss:  0.3853439999999999\n",
            "current loss:  0.40401599999999993\n",
            "current loss:  0.37905599999999995\n",
            "current loss:  0.3567959999999999\n",
            "current loss:  0.30444400000000005\n",
            "current loss:  0.3567959999999999\n",
            "current loss:  0.37273599999999996\n",
            "current loss:  0.3695639999999999\n",
            "current loss:  0.3695639999999999\n",
            "current loss:  0.36638399999999993\n",
            "current loss:  0.39159999999999995\n",
            "current loss:  0.36319599999999996\n",
            "current loss:  0.3341440000000001\n",
            "current loss:  0.30110400000000004\n",
            "current loss:  0.2944000000000001\n",
            "current loss:  0.2944000000000001\n",
            "current loss:  0.3438999999999999\n",
            "current loss:  0.33087600000000006\n",
            "current loss:  0.28766400000000003\n",
            "current loss:  0.3210240000000001\n",
            "current loss:  0.28766400000000003\n",
            "current loss:  0.2944000000000001\n",
            "current loss:  0.28766400000000003\n",
            "current loss:  0.32431600000000005\n",
            "current loss:  0.25004400000000004\n",
            "current loss:  0.3276000000000001\n",
            "current loss:  0.28089600000000003\n",
            "current loss:  0.274096\n",
            "current loss:  0.30444400000000005\n",
            "current loss:  0.2944000000000001\n",
            "current loss:  0.25004400000000004\n",
            "current loss:  0.274096\n",
            "current loss:  0.2944000000000001\n",
            "current loss:  0.2604000000000001\n",
            "current loss:  0.30110400000000004\n",
            "current loss:  0.2910360000000001\n",
            "current loss:  0.26383600000000007\n",
            "current loss:  0.24309999999999998\n",
            "current loss:  0.24309999999999998\n",
            "current loss:  0.26726400000000006\n",
            "current loss:  0.229116\n",
            "current loss:  0.21500399999999997\n",
            "current loss:  0.25350400000000006\n",
            "current loss:  0.2775000000000001\n",
            "current loss:  0.21500399999999997\n",
            "current loss:  0.26383600000000007\n",
            "current loss:  0.21500399999999997\n",
            "current loss:  0.21145599999999998\n",
            "current loss:  0.2569560000000001\n",
            "current loss:  0.25004400000000004\n",
            "current loss:  0.2842840000000001\n",
            "current loss:  0.24657600000000002\n",
            "current loss:  0.25350400000000006\n",
            "current loss:  0.24309999999999998\n",
            "current loss:  0.20789999999999997\n",
            "current loss:  0.186396\n",
            "current loss:  0.20789999999999997\n",
            "current loss:  0.20076399999999994\n",
            "current loss:  0.23262400000000005\n",
            "current loss:  0.23262400000000005\n",
            "current loss:  0.20076399999999994\n",
            "current loss:  0.21500399999999997\n",
            "current loss:  0.20433599999999996\n",
            "current loss:  0.24657600000000002\n",
            "current loss:  0.21500399999999997\n",
            "current loss:  0.21145599999999998\n",
            "current loss:  0.18278399999999995\n",
            "current loss:  0.21145599999999998\n",
            "current loss:  0.193596\n",
            "current loss:  0.16460399999999997\n",
            "current loss:  0.18999999999999995\n",
            "current loss:  0.179164\n",
            "current loss:  0.16825599999999996\n",
            "current loss:  0.20433599999999996\n",
            "current loss:  0.21145599999999998\n",
            "current loss:  0.179164\n",
            "current loss:  0.17189999999999994\n",
            "current loss:  0.19718399999999991\n",
            "current loss:  0.186396\n",
            "current loss:  0.17553599999999991\n",
            "current loss:  0.15727599999999997\n",
            "current loss:  0.13137599999999994\n",
            "current loss:  0.17553599999999991\n",
            "current loss:  0.18278399999999995\n",
            "current loss:  0.16825599999999996\n",
            "current loss:  0.20789999999999997\n",
            "current loss:  0.20433599999999996\n",
            "current loss:  0.17553599999999991\n",
            "current loss:  0.16094399999999998\n",
            "current loss:  0.16460399999999997\n",
            "current loss:  0.17189999999999994\n",
            "current loss:  0.14252399999999987\n",
            "current loss:  0.17553599999999991\n",
            "current loss:  0.14252399999999987\n",
            "current loss:  0.14252399999999987\n",
            "current loss:  0.17553599999999991\n",
            "current loss:  0.193596\n",
            "current loss:  0.16094399999999998\n",
            "current loss:  0.13881599999999994\n",
            "current loss:  0.15359999999999996\n",
            "current loss:  0.17553599999999991\n",
            "current loss:  0.18999999999999995\n",
            "current loss:  0.1350999999999999\n",
            "current loss:  0.13881599999999994\n",
            "current loss:  0.16460399999999997\n",
            "current loss:  0.16460399999999997\n",
            "current loss:  0.18999999999999995\n",
            "current loss:  0.17189999999999994\n",
            "current loss:  0.12764399999999987\n",
            "current loss:  0.14991599999999994\n",
            "current loss:  0.11263600000000007\n",
            "current loss:  0.14252399999999987\n",
            "current loss:  0.14252399999999987\n",
            "current loss:  0.16094399999999998\n",
            "current loss:  0.15727599999999997\n",
            "current loss:  0.1462239999999999\n",
            "current loss:  0.13137599999999994\n",
            "current loss:  0.09750000000000003\n",
            "current loss:  0.1239039999999999\n",
            "current loss:  0.11640000000000006\n",
            "current loss:  0.13881599999999994\n",
            "current loss:  0.1239039999999999\n",
            "current loss:  0.15359999999999996\n",
            "current loss:  0.16094399999999998\n",
            "current loss:  0.13137599999999994\n",
            "current loss:  0.17553599999999991\n",
            "current loss:  0.13137599999999994\n",
            "current loss:  0.16460399999999997\n",
            "current loss:  0.10886400000000007\n",
            "current loss:  0.17189999999999994\n",
            "current loss:  0.13137599999999994\n",
            "current loss:  0.15359999999999996\n",
            "current loss:  0.15727599999999997\n",
            "current loss:  0.1239039999999999\n",
            "current loss:  0.1350999999999999\n",
            "current loss:  0.1350999999999999\n",
            "current loss:  0.09369600000000011\n",
            "current loss:  0.13137599999999994\n",
            "current loss:  0.10129600000000005\n",
            "current loss:  0.16460399999999997\n",
            "current loss:  0.1462239999999999\n",
            "current loss:  0.1462239999999999\n",
            "current loss:  0.13137599999999994\n",
            "current loss:  0.07455600000000007\n",
            "current loss:  0.10508400000000007\n",
            "current loss:  0.10886400000000007\n",
            "current loss:  0.10129600000000005\n",
            "current loss:  0.08606400000000003\n",
            "current loss:  0.10508400000000007\n",
            "current loss:  0.13881599999999994\n",
            "current loss:  0.10508400000000007\n",
            "current loss:  0.10129600000000005\n",
            "current loss:  0.15727599999999997\n",
            "current loss:  0.09369600000000011\n",
            "current loss:  0.1350999999999999\n",
            "current loss:  0.10129600000000005\n",
            "current loss:  0.12764399999999987\n",
            "current loss:  0.13137599999999994\n",
            "current loss:  0.09369600000000011\n",
            "current loss:  0.08988400000000007\n",
            "current loss:  0.08988400000000007\n",
            "current loss:  0.1239039999999999\n",
            "current loss:  0.1239039999999999\n",
            "current loss:  0.10508400000000007\n",
            "current loss:  0.10508400000000007\n",
            "current loss:  0.10508400000000007\n",
            "current loss:  0.09750000000000003\n",
            "current loss:  0.10508400000000007\n",
            "current loss:  0.12015600000000015\n",
            "current loss:  0.10508400000000007\n",
            "current loss:  0.12015600000000015\n",
            "current loss:  0.11640000000000006\n",
            "current loss:  0.10508400000000007\n",
            "current loss:  0.09750000000000003\n",
            "current loss:  0.0707040000000001\n",
            "current loss:  0.11263600000000007\n",
            "current loss:  0.10129600000000005\n",
            "current loss:  0.07455600000000007\n",
            "current loss:  0.10886400000000007\n",
            "current loss:  0.10129600000000005\n",
            "current loss:  0.10886400000000007\n",
            "current loss:  0.08988400000000007\n",
            "current loss:  0.08223600000000009\n",
            "current loss:  0.05910000000000004\n",
            "current loss:  0.08988400000000007\n",
            "current loss:  0.09750000000000003\n",
            "current loss:  0.08988400000000007\n",
            "current loss:  0.09750000000000003\n",
            "current loss:  0.10508400000000007\n",
            "current loss:  0.07455600000000007\n",
            "current loss:  0.08988400000000007\n",
            "current loss:  0.09369600000000011\n",
            "current loss:  0.12015600000000015\n",
            "current loss:  0.11640000000000006\n",
            "current loss:  0.13137599999999994\n",
            "current loss:  0.0707040000000001\n",
            "current loss:  0.12764399999999987\n",
            "current loss:  0.07840000000000003\n",
            "current loss:  0.0707040000000001\n",
            "current loss:  0.08223600000000009\n",
            "current loss:  0.09369600000000011\n",
            "current loss:  0.08988400000000007\n",
            "current loss:  0.06684400000000001\n",
            "current loss:  0.10129600000000005\n",
            "current loss:  0.10129600000000005\n",
            "current loss:  0.07840000000000003\n",
            "current loss:  0.0707040000000001\n",
            "current loss:  0.06684400000000001\n",
            "current loss:  0.08988400000000007\n",
            "current loss:  0.08223600000000009\n",
            "current loss:  0.09369600000000011\n",
            "current loss:  0.08606400000000003\n",
            "current loss:  0.08223600000000009\n",
            "current loss:  0.05910000000000004\n",
            "current loss:  0.11640000000000006\n",
            "current loss:  0.07455600000000007\n",
            "current loss:  0.10129600000000005\n",
            "current loss:  0.10129600000000005\n",
            "current loss:  0.07840000000000003\n",
            "current loss:  0.10886400000000007\n",
            "current loss:  0.05910000000000004\n",
            "current loss:  0.09750000000000003\n",
            "current loss:  0.05910000000000004\n",
            "current loss:  0.07840000000000003\n",
            "current loss:  0.0707040000000001\n",
            "current loss:  0.08606400000000003\n",
            "current loss:  0.07840000000000003\n",
            "current loss:  0.08606400000000003\n",
            "current loss:  0.11263600000000007\n",
            "current loss:  0.05910000000000004\n",
            "current loss:  0.04742400000000002\n",
            "current loss:  0.07455600000000007\n",
            "current loss:  0.06297600000000003\n",
            "current loss:  0.06297600000000003\n",
            "current loss:  0.07455600000000007\n",
            "current loss:  0.07840000000000003\n",
            "current loss:  0.0707040000000001\n",
            "current loss:  0.05910000000000004\n",
            "current loss:  0.08606400000000003\n",
            "current loss:  0.0707040000000001\n",
            "current loss:  0.07840000000000003\n",
            "current loss:  0.07840000000000003\n",
            "current loss:  0.07840000000000003\n",
            "current loss:  0.06684400000000001\n",
            "current loss:  0.06297600000000003\n",
            "current loss:  0.05910000000000004\n",
            "current loss:  0.06684400000000001\n",
            "current loss:  0.0707040000000001\n",
            "current loss:  0.05521600000000004\n",
            "current loss:  0.051324000000000036\n",
            "current loss:  0.07840000000000003\n",
            "current loss:  0.07455600000000007\n",
            "current loss:  0.06297600000000003\n",
            "current loss:  0.08988400000000007\n",
            "current loss:  0.051324000000000036\n",
            "current loss:  0.04742400000000002\n",
            "current loss:  0.08988400000000007\n",
            "current loss:  0.09369600000000011\n",
            "current loss:  0.07840000000000003\n",
            "current loss:  0.09750000000000003\n",
            "current loss:  0.051324000000000036\n",
            "current loss:  0.06297600000000003\n",
            "current loss:  0.05910000000000004\n",
            "current loss:  0.09750000000000003\n",
            "current loss:  0.11263600000000007\n",
            "current loss:  0.07455600000000007\n",
            "current loss:  0.05910000000000004\n",
            "current loss:  0.08606400000000003\n",
            "current loss:  0.06297600000000003\n",
            "current loss:  0.10129600000000005\n",
            "current loss:  0.07455600000000007\n",
            "current loss:  0.05521600000000004\n",
            "current loss:  0.051324000000000036\n",
            "current loss:  0.08606400000000003\n",
            "current loss:  0.04742400000000002\n",
            "current loss:  0.03960000000000008\n",
            "current loss:  0.06297600000000003\n",
            "current loss:  0.05521600000000004\n",
            "current loss:  0.03960000000000008\n",
            "current loss:  0.051324000000000036\n",
            "current loss:  0.08223600000000009\n",
            "current loss:  0.06297600000000003\n",
            "current loss:  0.04742400000000002\n",
            "current loss:  0.07840000000000003\n",
            "current loss:  0.051324000000000036\n",
            "current loss:  0.08223600000000009\n",
            "current loss:  0.051324000000000036\n",
            "current loss:  0.05521600000000004\n",
            "current loss:  0.03567600000000004\n",
            "current loss:  0.051324000000000036\n",
            "current loss:  0.06684400000000001\n",
            "current loss:  0.05521600000000004\n",
            "current loss:  0.051324000000000036\n",
            "current loss:  0.0707040000000001\n",
            "current loss:  0.06684400000000001\n",
            "current loss:  0.05910000000000004\n",
            "current loss:  0.06297600000000003\n",
            "current loss:  0.06297600000000003\n",
            "current loss:  0.06297600000000003\n",
            "current loss:  0.07455600000000007\n",
            "current loss:  0.07455600000000007\n",
            "current loss:  0.04742400000000002\n",
            "current loss:  0.07840000000000003\n",
            "current loss:  0.08606400000000003\n",
            "current loss:  0.04742400000000002\n",
            "current loss:  0.05521600000000004\n",
            "current loss:  0.051324000000000036\n",
            "current loss:  0.043516\n",
            "current loss:  0.05910000000000004\n",
            "current loss:  0.06297600000000003\n",
            "current loss:  0.05521600000000004\n",
            "current loss:  0.051324000000000036\n",
            "current loss:  0.05910000000000004\n",
            "current loss:  0.043516\n",
            "current loss:  0.03567600000000004\n",
            "current loss:  0.05910000000000004\n",
            "current loss:  0.031743999999999994\n",
            "current loss:  0.06297600000000003\n",
            "current loss:  0.043516\n",
            "current loss:  0.05521600000000004\n",
            "current loss:  0.05910000000000004\n",
            "current loss:  0.05521600000000004\n",
            "current loss:  0.051324000000000036\n",
            "current loss:  0.03567600000000004\n",
            "current loss:  0.09369600000000011\n",
            "current loss:  0.05910000000000004\n",
            "current loss:  0.051324000000000036\n",
            "current loss:  0.04742400000000002\n",
            "current loss:  0.05521600000000004\n",
            "current loss:  0.051324000000000036\n",
            "current loss:  0.04742400000000002\n",
            "current loss:  0.05521600000000004\n",
            "current loss:  0.08223600000000009\n",
            "current loss:  0.07455600000000007\n",
            "current loss:  0.06297600000000003\n",
            "current loss:  0.02780400000000005\n",
            "current loss:  0.08223600000000009\n",
            "current loss:  0.03960000000000008\n",
            "current loss:  0.06297600000000003\n",
            "current loss:  0.043516\n",
            "current loss:  0.03567600000000004\n",
            "current loss:  0.05521600000000004\n",
            "current loss:  0.04742400000000002\n",
            "current loss:  0.04742400000000002\n",
            "current loss:  0.03567600000000004\n",
            "current loss:  0.043516\n",
            "current loss:  0.05521600000000004\n",
            "current loss:  0.031743999999999994\n",
            "current loss:  0.08223600000000009\n",
            "current loss:  0.06297600000000003\n",
            "current loss:  0.051324000000000036\n",
            "current loss:  0.043516\n",
            "current loss:  0.06297600000000003\n",
            "current loss:  0.051324000000000036\n",
            "current loss:  0.051324000000000036\n",
            "current loss:  0.05521600000000004\n",
            "current loss:  0.031743999999999994\n",
            "current loss:  0.03960000000000008\n",
            "current loss:  0.03960000000000008\n",
            "current loss:  0.043516\n",
            "current loss:  0.051324000000000036\n",
            "current loss:  0.05910000000000004\n",
            "current loss:  0.031743999999999994\n",
            "current loss:  0.06297600000000003\n",
            "current loss:  0.031743999999999994\n",
            "current loss:  0.03960000000000008\n",
            "current loss:  0.03960000000000008\n",
            "current loss:  0.04742400000000002\n",
            "current loss:  0.051324000000000036\n",
            "current loss:  0.06684400000000001\n",
            "current loss:  0.03960000000000008\n",
            "current loss:  0.03567600000000004\n",
            "current loss:  0.04742400000000002\n",
            "current loss:  0.03960000000000008\n",
            "current loss:  0.03567600000000004\n",
            "current loss:  0.05521600000000004\n",
            "current loss:  0.03960000000000008\n",
            "current loss:  0.03567600000000004\n",
            "current loss:  0.043516\n",
            "current loss:  0.06684400000000001\n",
            "current loss:  0.051324000000000036\n",
            "current loss:  0.03567600000000004\n",
            "current loss:  0.02385599999999999\n",
            "current loss:  0.06684400000000001\n",
            "current loss:  0.02780400000000005\n",
            "current loss:  0.03960000000000008\n",
            "current loss:  0.03567600000000004\n",
            "current loss:  0.051324000000000036\n",
            "current loss:  0.02780400000000005\n",
            "current loss:  0.02780400000000005\n",
            "current loss:  0.05521600000000004\n",
            "current loss:  0.03567600000000004\n",
            "current loss:  0.043516\n",
            "current loss:  0.051324000000000036\n",
            "current loss:  0.05521600000000004\n",
            "current loss:  0.04742400000000002\n",
            "current loss:  0.04742400000000002\n",
            "current loss:  0.043516\n",
            "current loss:  0.02385599999999999\n",
            "current loss:  0.06684400000000001\n",
            "current loss:  0.02385599999999999\n",
            "current loss:  0.03960000000000008\n",
            "current loss:  0.03567600000000004\n",
            "current loss:  0.043516\n",
            "current loss:  0.051324000000000036\n",
            "current loss:  0.04742400000000002\n",
            "current loss:  0.051324000000000036\n",
            "current loss:  0.031743999999999994\n",
            "current loss:  0.04742400000000002\n",
            "current loss:  0.03960000000000008\n",
            "current loss:  0.03567600000000004\n",
            "current loss:  0.04742400000000002\n",
            "current loss:  0.043516\n",
            "current loss:  0.02780400000000005\n",
            "current loss:  0.031743999999999994\n",
            "current loss:  0.06684400000000001\n",
            "current loss:  0.031743999999999994\n",
            "current loss:  0.05910000000000004\n",
            "current loss:  0.04742400000000002\n",
            "current loss:  0.031743999999999994\n",
            "current loss:  0.04742400000000002\n",
            "current loss:  0.043516\n",
            "current loss:  0.03567600000000004\n",
            "current loss:  0.031743999999999994\n",
            "current loss:  0.01990000000000003\n",
            "current loss:  0.043516\n",
            "current loss:  0.043516\n",
            "current loss:  0.03567600000000004\n",
            "current loss:  0.03567600000000004\n",
            "current loss:  0.03567600000000004\n",
            "current loss:  0.01990000000000003\n",
            "current loss:  0.03567600000000004\n",
            "current loss:  0.043516\n",
            "current loss:  0.02780400000000005\n",
            "current loss:  0.03567600000000004\n",
            "current loss:  0.02780400000000005\n",
            "current loss:  0.02385599999999999\n",
            "current loss:  0.007983999999999991\n",
            "current loss:  0.043516\n",
            "current loss:  0.02780400000000005\n",
            "current loss:  0.01990000000000003\n",
            "current loss:  0.02385599999999999\n",
            "current loss:  0.02780400000000005\n",
            "current loss:  0.02385599999999999\n",
            "current loss:  0.03567600000000004\n",
            "current loss:  0.02780400000000005\n",
            "current loss:  0.031743999999999994\n",
            "current loss:  0.01593600000000006\n",
            "current loss:  0.05910000000000004\n",
            "current loss:  0.03960000000000008\n",
            "current loss:  0.02780400000000005\n",
            "current loss:  0.02385599999999999\n",
            "current loss:  0.043516\n",
            "current loss:  0.03960000000000008\n",
            "current loss:  0.02385599999999999\n",
            "current loss:  0.051324000000000036\n",
            "current loss:  0.04742400000000002\n",
            "current loss:  0.031743999999999994\n",
            "current loss:  0.04742400000000002\n",
            "current loss:  0.03960000000000008\n",
            "current loss:  0.02780400000000005\n",
            "current loss:  0.02385599999999999\n",
            "current loss:  0.011963999999999975\n",
            "current loss:  0.02385599999999999\n",
            "current loss:  0.043516\n",
            "current loss:  0.01593600000000006\n",
            "current loss:  0.02385599999999999\n",
            "current loss:  0.043516\n",
            "current loss:  0.03960000000000008\n",
            "current loss:  0.03960000000000008\n",
            "current loss:  0.051324000000000036\n",
            "current loss:  0.043516\n",
            "current loss:  0.031743999999999994\n",
            "current loss:  0.01990000000000003\n",
            "current loss:  0.02385599999999999\n",
            "current loss:  0.04742400000000002\n",
            "current loss:  0.031743999999999994\n",
            "current loss:  0.031743999999999994\n",
            "current loss:  0.043516\n",
            "current loss:  0.043516\n",
            "current loss:  0.03960000000000008\n",
            "current loss:  0.03567600000000004\n",
            "current loss:  0.031743999999999994\n",
            "current loss:  0.01990000000000003\n",
            "current loss:  0.011963999999999975\n",
            "current loss:  0.03567600000000004\n",
            "current loss:  0.01990000000000003\n",
            "current loss:  0.043516\n",
            "current loss:  0.031743999999999994\n",
            "current loss:  0.01990000000000003\n",
            "current loss:  0.01990000000000003\n",
            "current loss:  0.01990000000000003\n",
            "current loss:  0.01990000000000003\n",
            "current loss:  0.01593600000000006\n",
            "current loss:  0.02385599999999999\n",
            "current loss:  0.03567600000000004\n",
            "current loss:  0.043516\n",
            "current loss:  0.02385599999999999\n",
            "current loss:  0.031743999999999994\n",
            "current loss:  0.01990000000000003\n",
            "current loss:  0.03567600000000004\n",
            "current loss:  0.01990000000000003\n",
            "current loss:  0.03567600000000004\n",
            "current loss:  0.03960000000000008\n",
            "current loss:  0.01990000000000003\n",
            "current loss:  0.031743999999999994\n",
            "current loss:  0.043516\n",
            "current loss:  0.051324000000000036\n",
            "current loss:  0.02385599999999999\n",
            "current loss:  0.011963999999999975\n",
            "current loss:  0.051324000000000036\n",
            "current loss:  0.02780400000000005\n",
            "current loss:  0.011963999999999975\n",
            "current loss:  0.03960000000000008\n",
            "current loss:  0.031743999999999994\n",
            "current loss:  0.03567600000000004\n",
            "current loss:  0.031743999999999994\n",
            "current loss:  0.02780400000000005\n",
            "current loss:  0.01593600000000006\n",
            "current loss:  0.01593600000000006\n",
            "current loss:  0.02780400000000005\n",
            "current loss:  0.02385599999999999\n",
            "current loss:  0.03567600000000004\n",
            "current loss:  0.01593600000000006\n",
            "current loss:  0.01990000000000003\n",
            "current loss:  0.02385599999999999\n",
            "current loss:  0.01990000000000003\n",
            "current loss:  0.02385599999999999\n",
            "current loss:  0.02385599999999999\n",
            "current loss:  0.051324000000000036\n",
            "current loss:  0.02385599999999999\n",
            "current loss:  0.05521600000000004\n",
            "current loss:  0.03567600000000004\n",
            "current loss:  0.01990000000000003\n",
            "current loss:  0.031743999999999994\n",
            "current loss:  0.031743999999999994\n",
            "current loss:  0.01593600000000006\n",
            "current loss:  0.02780400000000005\n",
            "current loss:  0.02385599999999999\n",
            "current loss:  0.02780400000000005\n",
            "current loss:  0.01593600000000006\n",
            "current loss:  0.031743999999999994\n",
            "current loss:  0.031743999999999994\n",
            "current loss:  0.01990000000000003\n",
            "current loss:  0.02385599999999999\n",
            "current loss:  0.01990000000000003\n",
            "current loss:  0.02385599999999999\n",
            "current loss:  0.02385599999999999\n",
            "current loss:  0.02385599999999999\n",
            "current loss:  0.031743999999999994\n",
            "current loss:  0.02780400000000005\n",
            "current loss:  0.011963999999999975\n",
            "current loss:  0.01593600000000006\n",
            "current loss:  0.03567600000000004\n",
            "current loss:  0.02780400000000005\n",
            "current loss:  0.01990000000000003\n",
            "current loss:  0.02780400000000005\n",
            "current loss:  0.01990000000000003\n",
            "current loss:  0.01593600000000006\n",
            "current loss:  0.007983999999999991\n",
            "current loss:  0.01593600000000006\n",
            "current loss:  0.02780400000000005\n",
            "current loss:  0.007983999999999991\n",
            "current loss:  0.02780400000000005\n",
            "current loss:  0.02780400000000005\n",
            "current loss:  0.051324000000000036\n",
            "current loss:  0.031743999999999994\n",
            "current loss:  0.01593600000000006\n",
            "current loss:  0.007983999999999991\n",
            "current loss:  0.03567600000000004\n",
            "current loss:  0.03567600000000004\n",
            "current loss:  0.007983999999999991\n",
            "current loss:  0.01593600000000006\n",
            "current loss:  0.03960000000000008\n",
            "current loss:  0.03960000000000008\n",
            "current loss:  0.031743999999999994\n",
            "current loss:  0.04742400000000002\n",
            "current loss:  0.01990000000000003\n",
            "current loss:  0.01990000000000003\n",
            "current loss:  0.01990000000000003\n",
            "current loss:  0.02385599999999999\n",
            "current loss:  0.0\n",
            "Done! Final Weight:  0.050497868304662206\n"
          ],
          "name": "stdout"
        },
        {
          "output_type": "display_data",
          "data": {
            "image/png": "[encoded data removed]",
            "text/plain": [
              "<Figure size 432x288 with 1 Axes>"
            ]
          },
          "metadata": {
            "tags": []
          }
        }
      ]
    },
    {
      "cell_type": "code",
      "metadata": {
        "id": "Qv5anmaPaFVD",
        "colab_type": "code",
        "colab": {
          "base_uri": "https://localhost:8080/",
          "height": 373
        },
        "outputId": "085b5a40-24fb-4ac0-f6cc-2d1ec395cdf6"
      },
      "source": [
        "plot_ml = plt.figure(figsize=(17,5))\n",
        "plt.subplot(121)\n",
        "plt.tick_params(labelsize=20)\n",
        "plt.plot(test[1], color='limegreen', linestyle='-', label='Adam')\n",
        "plt.plot(test_off[1], label='SGD', color='orange')\n",
        "plt.ylabel('Loss Function', fontsize=20)\n",
        "plt.xlabel('Loop Iterations', fontsize=20)\n",
        "\n",
        "plt.legend(fontsize=15, loc='best')\n",
        "\n",
        "plt.subplot(122)\n",
        "\n",
        "plt.plot(test[5], label = r'$|0 \\rangle$ Adam', linestyle='-',color='dodgerblue') \n",
        "plt.plot( test[6], label = r'$|1 \\rangle$ Adam', linestyle='-', color='red')\n",
        "\n",
        "plt.legend(loc='best', fontsize=20)\n",
        "plt.tick_params(labelsize=20)\n",
        "\n",
        "plt.xlabel('Loop Iterations', fontsize=20)\n",
        "plt.ylabel('State Probability \\%', fontsize=20)\n",
        "\n",
        "plt.suptitle(r'Quantum Machine Learning on Circuit with Variated $X$ gate', fontsize=30)\n",
        "plt.tick_params(labelsize=20)\n",
        "\n",
        "plt.tight_layout()\n",
        "\n",
        "plt.subplots_adjust(top=.8)"
      ],
      "execution_count": 39,
      "outputs": [
        {
          "output_type": "display_data",
          "data": {
            "image/png": "[encoded data removed]",
            "text/plain": [
              "<Figure size 1224x360 with 2 Axes>"
            ]
          },
          "metadata": {
            "tags": []
          }
        }
      ]
    }
  ]
}